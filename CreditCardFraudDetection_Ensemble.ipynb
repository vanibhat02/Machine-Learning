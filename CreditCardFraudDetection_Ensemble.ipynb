{
 "cells": [
  {
   "cell_type": "markdown",
   "id": "73429713",
   "metadata": {
    "id": "73429713"
   },
   "source": [
    "### <center>    San Jose State University<br>Department of Applied Data Science</center>\n",
    "##  <center>    DATA 245 Sec 21<br>Machine Learning Technologies \n",
    "###  <center>   Group 4: Nupur Pathak, Revathi Boopathi, Sree Divya Cheerla, Vani Bhat\n",
    "\n",
    "\n"
   ]
  },
  {
   "cell_type": "markdown",
   "id": "Zmva080fIWw8",
   "metadata": {
    "id": "Zmva080fIWw8"
   },
   "source": [
    "## **Credit Card Fraud Detection**\n"
   ]
  },
  {
   "cell_type": "code",
   "execution_count": 1,
   "id": "e3c6a5a4",
   "metadata": {
    "id": "e3c6a5a4",
    "scrolled": true
   },
   "outputs": [],
   "source": [
    "# Required installations\n",
    "# !pip install imbalanced-learn\n",
    "# !pip install sklearn\n",
    "# !pip install haversine"
   ]
  },
  {
   "cell_type": "code",
   "execution_count": 2,
   "id": "1f0c5849",
   "metadata": {
    "id": "1f0c5849"
   },
   "outputs": [],
   "source": [
    "# importing the required libraries\n",
    "import pandas as pd\n",
    "import glob\n",
    "from pandas.plotting import scatter_matrix\n",
    "import statistics\n",
    "import numpy as np\n",
    "import matplotlib.pyplot as plt\n",
    "import seaborn as sns\n",
    "import math\n",
    "import re \n",
    "import os\n",
    "import datetime\n",
    "from sklearn.metrics import classification_report\n",
    "from sklearn.metrics import roc_auc_score \n",
    "from sklearn.naive_bayes import GaussianNB\n",
    "from sklearn.metrics import roc_curve, roc_auc_score\n",
    "from sklearn.metrics import accuracy_score, precision_score, recall_score, confusion_matrix\n",
    "from imblearn.over_sampling import SMOTE\n",
    "from sklearn.decomposition import PCA\n",
    "from sklearn.preprocessing import StandardScaler"
   ]
  },
  {
   "cell_type": "markdown",
   "id": "64ZwzWYAJES7",
   "metadata": {
    "id": "64ZwzWYAJES7"
   },
   "source": [
    "## I. Business Understanding"
   ]
  },
  {
   "cell_type": "markdown",
   "id": "E5Uu73A7JGPJ",
   "metadata": {
    "id": "E5Uu73A7JGPJ"
   },
   "source": [
    "* The objective of this project is to detect fraudulent credit card transactions and discuss how such frauds can be handled by employing various Machine Learning algorithms.\n",
    "* Credit card usage has increased tremendously over the decade which revolutionized the cashless payment methods, but it comes with its own set of risks.\n",
    "* To tackle this issue, we plan to employ Machine Learning models like Logistic Regression, Naive Bayes, KNN, Random Forest, XG Boost, SVM, and deep learning model. We will compare the performance of each model to identify the best fitting model which can help reduce fraudulent transactions. "
   ]
  },
  {
   "cell_type": "markdown",
   "id": "768d23f3",
   "metadata": {
    "id": "768d23f3"
   },
   "source": [
    "## II. Data Understanding"
   ]
  },
  {
   "cell_type": "markdown",
   "id": "9b6fb2c7",
   "metadata": {
    "id": "9b6fb2c7"
   },
   "source": [
    "#### II.a. Collect and Store Dataset"
   ]
  },
  {
   "cell_type": "markdown",
   "id": "6a534207",
   "metadata": {
    "id": "6a534207"
   },
   "source": [
    "- The synthetic data for credit card transactions for 1,000 customers is generated using the Sparkov_Data_Generation-master.\n",
    "- All the transactions are created for the duration January 1, 2020 to December 31, 2021.\n",
    "- The generator creates a csv file for each customer will all transactions for the given customer for the given time span.\n",
    "- We will take the union of all the transactions in these csv files and load in the dataframe for our analysis. \n",
    "- The data collected from the generator is collated and stored in 'Concat.csv' on the google drive. Refer to Data_Collection_Sparkov.pynb for data generation and collation. "
   ]
  },
  {
   "cell_type": "code",
   "execution_count": null,
   "id": "u5dE4Sngv90f",
   "metadata": {
    "colab": {
     "base_uri": "https://localhost:8080/"
    },
    "id": "u5dE4Sngv90f",
    "outputId": "c1296c45-c1bf-4f41-a9d3-b1f103241a47"
   },
   "outputs": [
    {
     "name": "stdout",
     "output_type": "stream",
     "text": [
      "Mounted at /content/gdrive/\n"
     ]
    }
   ],
   "source": [
    "# Mounting the Google drive to get access in Google Colab. This step is not required if using Jupyter Notebook\n",
    "from google.colab import drive\n",
    "\n",
    "drive.mount('/content/gdrive/', force_remount=True)"
   ]
  },
  {
   "cell_type": "code",
   "execution_count": 3,
   "id": "IPNVTfyW2UHO",
   "metadata": {
    "colab": {
     "base_uri": "https://localhost:8080/",
     "height": 344
    },
    "id": "IPNVTfyW2UHO",
    "outputId": "a3c0567e-bd65-4622-a55e-d3cc103501de"
   },
   "outputs": [
    {
     "data": {
      "text/html": [
       "<div>\n",
       "<style scoped>\n",
       "    .dataframe tbody tr th:only-of-type {\n",
       "        vertical-align: middle;\n",
       "    }\n",
       "\n",
       "    .dataframe tbody tr th {\n",
       "        vertical-align: top;\n",
       "    }\n",
       "\n",
       "    .dataframe thead th {\n",
       "        text-align: right;\n",
       "    }\n",
       "</style>\n",
       "<table border=\"1\" class=\"dataframe\">\n",
       "  <thead>\n",
       "    <tr style=\"text-align: right;\">\n",
       "      <th></th>\n",
       "      <th>ssn</th>\n",
       "      <th>cc_num</th>\n",
       "      <th>first</th>\n",
       "      <th>last</th>\n",
       "      <th>gender</th>\n",
       "      <th>street</th>\n",
       "      <th>city</th>\n",
       "      <th>state</th>\n",
       "      <th>zip</th>\n",
       "      <th>lat</th>\n",
       "      <th>...</th>\n",
       "      <th>trans_num</th>\n",
       "      <th>trans_date</th>\n",
       "      <th>trans_time</th>\n",
       "      <th>unix_time</th>\n",
       "      <th>category</th>\n",
       "      <th>amt</th>\n",
       "      <th>is_fraud</th>\n",
       "      <th>merchant</th>\n",
       "      <th>merch_lat</th>\n",
       "      <th>merch_long</th>\n",
       "    </tr>\n",
       "  </thead>\n",
       "  <tbody>\n",
       "    <tr>\n",
       "      <th>0</th>\n",
       "      <td>195-33-0728</td>\n",
       "      <td>3508835615951480</td>\n",
       "      <td>Ellen</td>\n",
       "      <td>Ortiz</td>\n",
       "      <td>F</td>\n",
       "      <td>482 Robert Light Apt. 994</td>\n",
       "      <td>Columbia Falls</td>\n",
       "      <td>ME</td>\n",
       "      <td>4623</td>\n",
       "      <td>44.6699</td>\n",
       "      <td>...</td>\n",
       "      <td>5c15602a5cf809764ed5d149a78e279a</td>\n",
       "      <td>2021-04-29</td>\n",
       "      <td>00:07:35</td>\n",
       "      <td>1.619680e+09</td>\n",
       "      <td>gas_transport</td>\n",
       "      <td>6.73</td>\n",
       "      <td>1.0</td>\n",
       "      <td>fraud_Jenkins, Hauck and Friesen</td>\n",
       "      <td>44.084527</td>\n",
       "      <td>-67.954129</td>\n",
       "    </tr>\n",
       "    <tr>\n",
       "      <th>1</th>\n",
       "      <td>195-33-0728</td>\n",
       "      <td>3508835615951480</td>\n",
       "      <td>Ellen</td>\n",
       "      <td>Ortiz</td>\n",
       "      <td>F</td>\n",
       "      <td>482 Robert Light Apt. 994</td>\n",
       "      <td>Columbia Falls</td>\n",
       "      <td>ME</td>\n",
       "      <td>4623</td>\n",
       "      <td>44.6699</td>\n",
       "      <td>...</td>\n",
       "      <td>549fffa7671e25c7a183f2952ccff999</td>\n",
       "      <td>2021-04-29</td>\n",
       "      <td>07:10:46</td>\n",
       "      <td>1.619705e+09</td>\n",
       "      <td>gas_transport</td>\n",
       "      <td>12.74</td>\n",
       "      <td>1.0</td>\n",
       "      <td>fraud_Zieme, Bode and Dooley</td>\n",
       "      <td>45.584705</td>\n",
       "      <td>-67.692301</td>\n",
       "    </tr>\n",
       "  </tbody>\n",
       "</table>\n",
       "<p>2 rows × 26 columns</p>\n",
       "</div>"
      ],
      "text/plain": [
       "           ssn            cc_num  first   last gender  \\\n",
       "0  195-33-0728  3508835615951480  Ellen  Ortiz      F   \n",
       "1  195-33-0728  3508835615951480  Ellen  Ortiz      F   \n",
       "\n",
       "                      street            city state   zip      lat  ...  \\\n",
       "0  482 Robert Light Apt. 994  Columbia Falls    ME  4623  44.6699  ...   \n",
       "1  482 Robert Light Apt. 994  Columbia Falls    ME  4623  44.6699  ...   \n",
       "\n",
       "                          trans_num  trans_date trans_time     unix_time  \\\n",
       "0  5c15602a5cf809764ed5d149a78e279a  2021-04-29   00:07:35  1.619680e+09   \n",
       "1  549fffa7671e25c7a183f2952ccff999  2021-04-29   07:10:46  1.619705e+09   \n",
       "\n",
       "        category    amt is_fraud                          merchant  merch_lat  \\\n",
       "0  gas_transport   6.73      1.0  fraud_Jenkins, Hauck and Friesen  44.084527   \n",
       "1  gas_transport  12.74      1.0      fraud_Zieme, Bode and Dooley  45.584705   \n",
       "\n",
       "   merch_long  \n",
       "0  -67.954129  \n",
       "1  -67.692301  \n",
       "\n",
       "[2 rows x 26 columns]"
      ]
     },
     "execution_count": 3,
     "metadata": {},
     "output_type": "execute_result"
    }
   ],
   "source": [
    "# Loading the dataset\n",
    "df = pd.read_csv(r\"C:\\Users\\Revathi P\\Documents\\Sem 2\\DATA_245\\Project\\dataset\\Concat\\Concat.csv\", index_col = 0)\n",
    "df.head(2)"
   ]
  },
  {
   "cell_type": "markdown",
   "id": "68dfa6ac",
   "metadata": {
    "id": "68dfa6ac"
   },
   "source": [
    "#### II.b. 3 V (Volume, Variety, Velocity) of the data"
   ]
  },
  {
   "cell_type": "code",
   "execution_count": 4,
   "id": "b3c5662b",
   "metadata": {
    "colab": {
     "base_uri": "https://localhost:8080/"
    },
    "id": "b3c5662b",
    "outputId": "8647a6f7-e1a9-4503-ec34-f43d2d52d8c7"
   },
   "outputs": [
    {
     "data": {
      "text/plain": [
       "(1752721, 26)"
      ]
     },
     "execution_count": 4,
     "metadata": {},
     "output_type": "execute_result"
    }
   ],
   "source": [
    "# Volume: To print the number of rows and columns in the dataset\n",
    "df.shape"
   ]
  },
  {
   "cell_type": "code",
   "execution_count": 5,
   "id": "49099a52",
   "metadata": {
    "colab": {
     "base_uri": "https://localhost:8080/"
    },
    "id": "49099a52",
    "outputId": "ccd85b24-e802-4bb8-a04e-4fe0802f47c7"
   },
   "outputs": [
    {
     "name": "stdout",
     "output_type": "stream",
     "text": [
      "<class 'pandas.core.frame.DataFrame'>\n",
      "Int64Index: 1752721 entries, 0 to 1752720\n",
      "Data columns (total 26 columns):\n",
      " #   Column      Dtype  \n",
      "---  ------      -----  \n",
      " 0   ssn         object \n",
      " 1   cc_num      int64  \n",
      " 2   first       object \n",
      " 3   last        object \n",
      " 4   gender      object \n",
      " 5   street      object \n",
      " 6   city        object \n",
      " 7   state       object \n",
      " 8   zip         int64  \n",
      " 9   lat         float64\n",
      " 10  long        float64\n",
      " 11  city_pop    int64  \n",
      " 12  job         object \n",
      " 13  dob         object \n",
      " 14  acct_num    int64  \n",
      " 15  profile     object \n",
      " 16  trans_num   object \n",
      " 17  trans_date  object \n",
      " 18  trans_time  object \n",
      " 19  unix_time   float64\n",
      " 20  category    object \n",
      " 21  amt         float64\n",
      " 22  is_fraud    float64\n",
      " 23  merchant    object \n",
      " 24  merch_lat   float64\n",
      " 25  merch_long  float64\n",
      "dtypes: float64(7), int64(4), object(15)\n",
      "memory usage: 361.0+ MB\n"
     ]
    }
   ],
   "source": [
    "# Variety: Printing the information in the dataframe\n",
    "df.info()"
   ]
  },
  {
   "cell_type": "code",
   "execution_count": 6,
   "id": "4629033a",
   "metadata": {
    "colab": {
     "base_uri": "https://localhost:8080/",
     "height": 300
    },
    "id": "4629033a",
    "outputId": "ff31feb0-2925-4ed6-9dc4-355ace0cc0c7"
   },
   "outputs": [
    {
     "data": {
      "text/html": [
       "<div>\n",
       "<style scoped>\n",
       "    .dataframe tbody tr th:only-of-type {\n",
       "        vertical-align: middle;\n",
       "    }\n",
       "\n",
       "    .dataframe tbody tr th {\n",
       "        vertical-align: top;\n",
       "    }\n",
       "\n",
       "    .dataframe thead th {\n",
       "        text-align: right;\n",
       "    }\n",
       "</style>\n",
       "<table border=\"1\" class=\"dataframe\">\n",
       "  <thead>\n",
       "    <tr style=\"text-align: right;\">\n",
       "      <th></th>\n",
       "      <th>cc_num</th>\n",
       "      <th>zip</th>\n",
       "      <th>lat</th>\n",
       "      <th>long</th>\n",
       "      <th>city_pop</th>\n",
       "      <th>acct_num</th>\n",
       "      <th>unix_time</th>\n",
       "      <th>amt</th>\n",
       "      <th>is_fraud</th>\n",
       "      <th>merch_lat</th>\n",
       "      <th>merch_long</th>\n",
       "    </tr>\n",
       "  </thead>\n",
       "  <tbody>\n",
       "    <tr>\n",
       "      <th>count</th>\n",
       "      <td>1.752721e+06</td>\n",
       "      <td>1.752721e+06</td>\n",
       "      <td>1.752721e+06</td>\n",
       "      <td>1.752721e+06</td>\n",
       "      <td>1.752721e+06</td>\n",
       "      <td>1.752721e+06</td>\n",
       "      <td>1.751721e+06</td>\n",
       "      <td>1.751721e+06</td>\n",
       "      <td>1.751721e+06</td>\n",
       "      <td>1.751721e+06</td>\n",
       "      <td>1.751721e+06</td>\n",
       "    </tr>\n",
       "    <tr>\n",
       "      <th>mean</th>\n",
       "      <td>3.843047e+17</td>\n",
       "      <td>5.121929e+04</td>\n",
       "      <td>3.755229e+01</td>\n",
       "      <td>-9.171316e+01</td>\n",
       "      <td>3.154471e+05</td>\n",
       "      <td>4.987205e+11</td>\n",
       "      <td>1.611112e+09</td>\n",
       "      <td>7.051059e+01</td>\n",
       "      <td>5.314773e-03</td>\n",
       "      <td>3.755235e+01</td>\n",
       "      <td>-9.171333e+01</td>\n",
       "    </tr>\n",
       "    <tr>\n",
       "      <th>std</th>\n",
       "      <td>1.257718e+18</td>\n",
       "      <td>2.977578e+04</td>\n",
       "      <td>5.158298e+00</td>\n",
       "      <td>1.640430e+01</td>\n",
       "      <td>6.226473e+05</td>\n",
       "      <td>2.859440e+11</td>\n",
       "      <td>1.822508e+07</td>\n",
       "      <td>1.666364e+02</td>\n",
       "      <td>7.270852e-02</td>\n",
       "      <td>5.190740e+00</td>\n",
       "      <td>1.641442e+01</td>\n",
       "    </tr>\n",
       "    <tr>\n",
       "      <th>min</th>\n",
       "      <td>6.040616e+10</td>\n",
       "      <td>1.040000e+03</td>\n",
       "      <td>2.132950e+01</td>\n",
       "      <td>-1.593448e+02</td>\n",
       "      <td>1.760000e+02</td>\n",
       "      <td>2.348758e+09</td>\n",
       "      <td>1.577866e+09</td>\n",
       "      <td>1.000000e+00</td>\n",
       "      <td>0.000000e+00</td>\n",
       "      <td>2.032995e+01</td>\n",
       "      <td>-1.603443e+02</td>\n",
       "    </tr>\n",
       "    <tr>\n",
       "      <th>25%</th>\n",
       "      <td>1.800159e+14</td>\n",
       "      <td>2.729200e+04</td>\n",
       "      <td>3.387960e+01</td>\n",
       "      <td>-9.862490e+01</td>\n",
       "      <td>1.924000e+04</td>\n",
       "      <td>2.720987e+11</td>\n",
       "      <td>1.595429e+09</td>\n",
       "      <td>9.020000e+00</td>\n",
       "      <td>0.000000e+00</td>\n",
       "      <td>3.383905e+01</td>\n",
       "      <td>-9.865916e+01</td>\n",
       "    </tr>\n",
       "    <tr>\n",
       "      <th>50%</th>\n",
       "      <td>3.516698e+15</td>\n",
       "      <td>4.830900e+04</td>\n",
       "      <td>3.861910e+01</td>\n",
       "      <td>-8.662130e+01</td>\n",
       "      <td>6.016300e+04</td>\n",
       "      <td>4.956758e+11</td>\n",
       "      <td>1.609552e+09</td>\n",
       "      <td>4.385000e+01</td>\n",
       "      <td>0.000000e+00</td>\n",
       "      <td>3.848595e+01</td>\n",
       "      <td>-8.652043e+01</td>\n",
       "    </tr>\n",
       "    <tr>\n",
       "      <th>75%</th>\n",
       "      <td>4.514627e+15</td>\n",
       "      <td>7.770700e+04</td>\n",
       "      <td>4.150220e+01</td>\n",
       "      <td>-7.953990e+01</td>\n",
       "      <td>2.141120e+05</td>\n",
       "      <td>7.408025e+11</td>\n",
       "      <td>1.627089e+09</td>\n",
       "      <td>8.126000e+01</td>\n",
       "      <td>0.000000e+00</td>\n",
       "      <td>4.150950e+01</td>\n",
       "      <td>-7.944400e+01</td>\n",
       "    </tr>\n",
       "    <tr>\n",
       "      <th>max</th>\n",
       "      <td>4.986227e+18</td>\n",
       "      <td>9.950700e+04</td>\n",
       "      <td>6.115350e+01</td>\n",
       "      <td>-6.775340e+01</td>\n",
       "      <td>2.906700e+06</td>\n",
       "      <td>9.993899e+11</td>\n",
       "      <td>1.641024e+09</td>\n",
       "      <td>2.205483e+04</td>\n",
       "      <td>1.000000e+00</td>\n",
       "      <td>6.215252e+01</td>\n",
       "      <td>-6.675340e+01</td>\n",
       "    </tr>\n",
       "  </tbody>\n",
       "</table>\n",
       "</div>"
      ],
      "text/plain": [
       "             cc_num           zip           lat          long      city_pop  \\\n",
       "count  1.752721e+06  1.752721e+06  1.752721e+06  1.752721e+06  1.752721e+06   \n",
       "mean   3.843047e+17  5.121929e+04  3.755229e+01 -9.171316e+01  3.154471e+05   \n",
       "std    1.257718e+18  2.977578e+04  5.158298e+00  1.640430e+01  6.226473e+05   \n",
       "min    6.040616e+10  1.040000e+03  2.132950e+01 -1.593448e+02  1.760000e+02   \n",
       "25%    1.800159e+14  2.729200e+04  3.387960e+01 -9.862490e+01  1.924000e+04   \n",
       "50%    3.516698e+15  4.830900e+04  3.861910e+01 -8.662130e+01  6.016300e+04   \n",
       "75%    4.514627e+15  7.770700e+04  4.150220e+01 -7.953990e+01  2.141120e+05   \n",
       "max    4.986227e+18  9.950700e+04  6.115350e+01 -6.775340e+01  2.906700e+06   \n",
       "\n",
       "           acct_num     unix_time           amt      is_fraud     merch_lat  \\\n",
       "count  1.752721e+06  1.751721e+06  1.751721e+06  1.751721e+06  1.751721e+06   \n",
       "mean   4.987205e+11  1.611112e+09  7.051059e+01  5.314773e-03  3.755235e+01   \n",
       "std    2.859440e+11  1.822508e+07  1.666364e+02  7.270852e-02  5.190740e+00   \n",
       "min    2.348758e+09  1.577866e+09  1.000000e+00  0.000000e+00  2.032995e+01   \n",
       "25%    2.720987e+11  1.595429e+09  9.020000e+00  0.000000e+00  3.383905e+01   \n",
       "50%    4.956758e+11  1.609552e+09  4.385000e+01  0.000000e+00  3.848595e+01   \n",
       "75%    7.408025e+11  1.627089e+09  8.126000e+01  0.000000e+00  4.150950e+01   \n",
       "max    9.993899e+11  1.641024e+09  2.205483e+04  1.000000e+00  6.215252e+01   \n",
       "\n",
       "         merch_long  \n",
       "count  1.751721e+06  \n",
       "mean  -9.171333e+01  \n",
       "std    1.641442e+01  \n",
       "min   -1.603443e+02  \n",
       "25%   -9.865916e+01  \n",
       "50%   -8.652043e+01  \n",
       "75%   -7.944400e+01  \n",
       "max   -6.675340e+01  "
      ]
     },
     "execution_count": 6,
     "metadata": {},
     "output_type": "execute_result"
    }
   ],
   "source": [
    "# Printing the descriptive statistics for the dataset\n",
    "df.describe()"
   ]
  },
  {
   "cell_type": "code",
   "execution_count": 7,
   "id": "1ipENocrNCbZ",
   "metadata": {
    "id": "1ipENocrNCbZ"
   },
   "outputs": [],
   "source": [
    "# Velocity: We have generated the synthetic data once using the Sparkov Generator. This is a static one-time generated data."
   ]
  },
  {
   "cell_type": "markdown",
   "id": "VqwFio21N_lk",
   "metadata": {
    "id": "VqwFio21N_lk"
   },
   "source": [
    "#### II.c. Creating new calculated fields required for the analysis\n",
    "\n",
    "1. Getting the area( urban/rural) from profile feature\n",
    "2. Creating a new column with age calculated from the dob feature\n",
    "3. Calculating distance between customer location and merchant location using latitude and longitude features\n",
    "4. Extracting date and time from trans_date and trans_time features\n"
   ]
  },
  {
   "cell_type": "code",
   "execution_count": 8,
   "id": "b7b87986",
   "metadata": {
    "colab": {
     "base_uri": "https://localhost:8080/",
     "height": 647
    },
    "id": "b7b87986",
    "outputId": "e536ffc5-d05b-4452-defb-d025c5fa56b8"
   },
   "outputs": [
    {
     "data": {
      "text/html": [
       "<div>\n",
       "<style scoped>\n",
       "    .dataframe tbody tr th:only-of-type {\n",
       "        vertical-align: middle;\n",
       "    }\n",
       "\n",
       "    .dataframe tbody tr th {\n",
       "        vertical-align: top;\n",
       "    }\n",
       "\n",
       "    .dataframe thead th {\n",
       "        text-align: right;\n",
       "    }\n",
       "</style>\n",
       "<table border=\"1\" class=\"dataframe\">\n",
       "  <thead>\n",
       "    <tr style=\"text-align: right;\">\n",
       "      <th></th>\n",
       "      <th>ssn</th>\n",
       "      <th>cc_num</th>\n",
       "      <th>first</th>\n",
       "      <th>last</th>\n",
       "      <th>gender</th>\n",
       "      <th>street</th>\n",
       "      <th>city</th>\n",
       "      <th>state</th>\n",
       "      <th>zip</th>\n",
       "      <th>lat</th>\n",
       "      <th>...</th>\n",
       "      <th>trans_date</th>\n",
       "      <th>trans_time</th>\n",
       "      <th>unix_time</th>\n",
       "      <th>category</th>\n",
       "      <th>amt</th>\n",
       "      <th>is_fraud</th>\n",
       "      <th>merchant</th>\n",
       "      <th>merch_lat</th>\n",
       "      <th>merch_long</th>\n",
       "      <th>area</th>\n",
       "    </tr>\n",
       "  </thead>\n",
       "  <tbody>\n",
       "    <tr>\n",
       "      <th>0</th>\n",
       "      <td>195-33-0728</td>\n",
       "      <td>3508835615951480</td>\n",
       "      <td>Ellen</td>\n",
       "      <td>Ortiz</td>\n",
       "      <td>F</td>\n",
       "      <td>482 Robert Light Apt. 994</td>\n",
       "      <td>Columbia Falls</td>\n",
       "      <td>ME</td>\n",
       "      <td>4623</td>\n",
       "      <td>44.6699</td>\n",
       "      <td>...</td>\n",
       "      <td>2021-04-29</td>\n",
       "      <td>00:07:35</td>\n",
       "      <td>1.619680e+09</td>\n",
       "      <td>gas_transport</td>\n",
       "      <td>6.73</td>\n",
       "      <td>1.0</td>\n",
       "      <td>fraud_Jenkins, Hauck and Friesen</td>\n",
       "      <td>44.084527</td>\n",
       "      <td>-67.954129</td>\n",
       "      <td>rural</td>\n",
       "    </tr>\n",
       "    <tr>\n",
       "      <th>1</th>\n",
       "      <td>195-33-0728</td>\n",
       "      <td>3508835615951480</td>\n",
       "      <td>Ellen</td>\n",
       "      <td>Ortiz</td>\n",
       "      <td>F</td>\n",
       "      <td>482 Robert Light Apt. 994</td>\n",
       "      <td>Columbia Falls</td>\n",
       "      <td>ME</td>\n",
       "      <td>4623</td>\n",
       "      <td>44.6699</td>\n",
       "      <td>...</td>\n",
       "      <td>2021-04-29</td>\n",
       "      <td>07:10:46</td>\n",
       "      <td>1.619705e+09</td>\n",
       "      <td>gas_transport</td>\n",
       "      <td>12.74</td>\n",
       "      <td>1.0</td>\n",
       "      <td>fraud_Zieme, Bode and Dooley</td>\n",
       "      <td>45.584705</td>\n",
       "      <td>-67.692301</td>\n",
       "      <td>rural</td>\n",
       "    </tr>\n",
       "    <tr>\n",
       "      <th>2</th>\n",
       "      <td>195-33-0728</td>\n",
       "      <td>3508835615951480</td>\n",
       "      <td>Ellen</td>\n",
       "      <td>Ortiz</td>\n",
       "      <td>F</td>\n",
       "      <td>482 Robert Light Apt. 994</td>\n",
       "      <td>Columbia Falls</td>\n",
       "      <td>ME</td>\n",
       "      <td>4623</td>\n",
       "      <td>44.6699</td>\n",
       "      <td>...</td>\n",
       "      <td>2021-04-29</td>\n",
       "      <td>10:09:12</td>\n",
       "      <td>1.619716e+09</td>\n",
       "      <td>gas_transport</td>\n",
       "      <td>9.53</td>\n",
       "      <td>1.0</td>\n",
       "      <td>fraud_Kling Inc</td>\n",
       "      <td>45.380492</td>\n",
       "      <td>-67.385962</td>\n",
       "      <td>rural</td>\n",
       "    </tr>\n",
       "    <tr>\n",
       "      <th>3</th>\n",
       "      <td>195-33-0728</td>\n",
       "      <td>3508835615951480</td>\n",
       "      <td>Ellen</td>\n",
       "      <td>Ortiz</td>\n",
       "      <td>F</td>\n",
       "      <td>482 Robert Light Apt. 994</td>\n",
       "      <td>Columbia Falls</td>\n",
       "      <td>ME</td>\n",
       "      <td>4623</td>\n",
       "      <td>44.6699</td>\n",
       "      <td>...</td>\n",
       "      <td>2021-04-29</td>\n",
       "      <td>09:15:39</td>\n",
       "      <td>1.619713e+09</td>\n",
       "      <td>grocery_pos</td>\n",
       "      <td>10.95</td>\n",
       "      <td>1.0</td>\n",
       "      <td>fraud_Miller-Hauck</td>\n",
       "      <td>45.350439</td>\n",
       "      <td>-67.644179</td>\n",
       "      <td>rural</td>\n",
       "    </tr>\n",
       "    <tr>\n",
       "      <th>4</th>\n",
       "      <td>195-33-0728</td>\n",
       "      <td>3508835615951480</td>\n",
       "      <td>Ellen</td>\n",
       "      <td>Ortiz</td>\n",
       "      <td>F</td>\n",
       "      <td>482 Robert Light Apt. 994</td>\n",
       "      <td>Columbia Falls</td>\n",
       "      <td>ME</td>\n",
       "      <td>4623</td>\n",
       "      <td>44.6699</td>\n",
       "      <td>...</td>\n",
       "      <td>2021-04-29</td>\n",
       "      <td>00:22:42</td>\n",
       "      <td>1.619681e+09</td>\n",
       "      <td>grocery_pos</td>\n",
       "      <td>353.18</td>\n",
       "      <td>1.0</td>\n",
       "      <td>fraud_McDermott-Weimann</td>\n",
       "      <td>45.424536</td>\n",
       "      <td>-67.852445</td>\n",
       "      <td>rural</td>\n",
       "    </tr>\n",
       "  </tbody>\n",
       "</table>\n",
       "<p>5 rows × 27 columns</p>\n",
       "</div>"
      ],
      "text/plain": [
       "           ssn            cc_num  first   last gender  \\\n",
       "0  195-33-0728  3508835615951480  Ellen  Ortiz      F   \n",
       "1  195-33-0728  3508835615951480  Ellen  Ortiz      F   \n",
       "2  195-33-0728  3508835615951480  Ellen  Ortiz      F   \n",
       "3  195-33-0728  3508835615951480  Ellen  Ortiz      F   \n",
       "4  195-33-0728  3508835615951480  Ellen  Ortiz      F   \n",
       "\n",
       "                      street            city state   zip      lat  ...  \\\n",
       "0  482 Robert Light Apt. 994  Columbia Falls    ME  4623  44.6699  ...   \n",
       "1  482 Robert Light Apt. 994  Columbia Falls    ME  4623  44.6699  ...   \n",
       "2  482 Robert Light Apt. 994  Columbia Falls    ME  4623  44.6699  ...   \n",
       "3  482 Robert Light Apt. 994  Columbia Falls    ME  4623  44.6699  ...   \n",
       "4  482 Robert Light Apt. 994  Columbia Falls    ME  4623  44.6699  ...   \n",
       "\n",
       "   trans_date  trans_time     unix_time       category     amt is_fraud  \\\n",
       "0  2021-04-29    00:07:35  1.619680e+09  gas_transport    6.73      1.0   \n",
       "1  2021-04-29    07:10:46  1.619705e+09  gas_transport   12.74      1.0   \n",
       "2  2021-04-29    10:09:12  1.619716e+09  gas_transport    9.53      1.0   \n",
       "3  2021-04-29    09:15:39  1.619713e+09    grocery_pos   10.95      1.0   \n",
       "4  2021-04-29    00:22:42  1.619681e+09    grocery_pos  353.18      1.0   \n",
       "\n",
       "                           merchant  merch_lat merch_long   area  \n",
       "0  fraud_Jenkins, Hauck and Friesen  44.084527 -67.954129  rural  \n",
       "1      fraud_Zieme, Bode and Dooley  45.584705 -67.692301  rural  \n",
       "2                   fraud_Kling Inc  45.380492 -67.385962  rural  \n",
       "3                fraud_Miller-Hauck  45.350439 -67.644179  rural  \n",
       "4           fraud_McDermott-Weimann  45.424536 -67.852445  rural  \n",
       "\n",
       "[5 rows x 27 columns]"
      ]
     },
     "execution_count": 8,
     "metadata": {},
     "output_type": "execute_result"
    }
   ],
   "source": [
    "# 1. Getting the area( urban/rural) from profile\n",
    "df['area'] = df['profile'].str[-10 : -5]\n",
    "df.head()"
   ]
  },
  {
   "cell_type": "code",
   "execution_count": 9,
   "id": "ab07ddf1",
   "metadata": {
    "id": "ab07ddf1"
   },
   "outputs": [],
   "source": [
    "# 2. Creating a new column with age calculated from the dob\n",
    "now = datetime.datetime.now()\n",
    "df['age'] = df.dob.apply(lambda x: now.year - datetime.datetime.strptime(x,'%Y-%m-%d').year )"
   ]
  },
  {
   "cell_type": "code",
   "execution_count": 10,
   "id": "d3fa786a",
   "metadata": {
    "id": "d3fa786a"
   },
   "outputs": [],
   "source": [
    "# 3. Calculating distance between customer location and merchant location\n",
    "lon1 = df[\"long\"].astype(float)\n",
    "lat1 = df[\"lat\"].astype(float)\n",
    "lon2 = df[\"merch_long\"].astype(float)\n",
    "lat2 = df[\"merch_lat\"].astype(float)"
   ]
  },
  {
   "cell_type": "code",
   "execution_count": 11,
   "id": "43ddd22c",
   "metadata": {
    "id": "43ddd22c"
   },
   "outputs": [],
   "source": [
    "# Defining the haversine_array function\n",
    "def haversine_array(lon1, lat1, lon2, lat2):\n",
    "    lon1, lat1, lon2, lat2 = map(np.radians, [lon1, lat1, lon2, lat2])\n",
    "\n",
    "    newlon = lon2 - lon1\n",
    "    newlat = lat2 - lat1\n",
    "\n",
    "    haver_formula = np.sin(newlat/2.0)**2 + np.cos(lat1) * np.cos(lat2) * np.sin(newlon/2.0)**2\n",
    "\n",
    "    dist = 2 * np.arcsin(np.sqrt(haver_formula ))\n",
    "    miles = round((3958 * dist),3) #6367 for distance in KM for miles use 3958\n",
    "    return miles\n",
    "\n",
    "df['distance'] = haversine_array(df['lat'], df['long'],df['merch_lat'], df['merch_long'])"
   ]
  },
  {
   "cell_type": "code",
   "execution_count": 12,
   "id": "c5c4eeb1",
   "metadata": {
    "id": "c5c4eeb1"
   },
   "outputs": [],
   "source": [
    "# 4. Extracting date and time from trans_date, trans_time\n",
    "df['trans_date'] = pd.to_datetime(df['trans_date'])\n",
    "df['trans_time'] = pd.to_datetime(df['trans_time'],format='%H:%M:%S')\n",
    "df['month'] = df['trans_date'].dt.month.astype('Int64')\n",
    "df['is_weekend'] = df.trans_date.dt.day_of_week.apply(lambda x: 1 if (x in [5,6]) else 0)\n",
    "df['hour'] = df['trans_time'].dt.hour.astype('Int64')"
   ]
  },
  {
   "cell_type": "code",
   "execution_count": 14,
   "id": "4KocDaPAASZ4",
   "metadata": {
    "id": "4KocDaPAASZ4"
   },
   "outputs": [],
   "source": [
    "# 5. Identifying the holiday months (November, December)\n",
    "def month_categ(x):\n",
    "    try:\n",
    "        if (x==11) or (x==12):\n",
    "          return 1\n",
    "        else: return 2\n",
    "    except Exception as err: pass"
   ]
  },
  {
   "cell_type": "code",
   "execution_count": 15,
   "id": "4dN89c9ZAWS_",
   "metadata": {
    "id": "4dN89c9ZAWS_"
   },
   "outputs": [],
   "source": [
    "df['hol_month']=df['month'].apply(month_categ)"
   ]
  },
  {
   "cell_type": "code",
   "execution_count": 16,
   "id": "LJVc9Q37CInd",
   "metadata": {
    "id": "LJVc9Q37CInd"
   },
   "outputs": [],
   "source": [
    "# 6. Fetching the shopping frequency\n",
    "df.sort_values(by=['ssn','trans_date'],inplace=True,ascending=[True,False])\n",
    "df['recent_shop']=df.groupby(['ssn'])['trans_date'].shift()\n",
    "df['recent_shop_gap']=df['trans_date']-df['recent_shop']\n",
    "df['recent_shop_gap']=df['recent_shop_gap'].astype('str')\n",
    "# Getting customers who have recently shopped\n",
    "def shop_category(x):\n",
    "    if x =='0 days':\n",
    "        return 'recent'\n",
    "    else: \n",
    "        return 'past'\n",
    "df['recent_shopper']=df['recent_shop_gap'].apply(shop_category)\n"
   ]
  },
  {
   "cell_type": "code",
   "execution_count": 17,
   "id": "2FMLh3zBCIVK",
   "metadata": {
    "id": "2FMLh3zBCIVK"
   },
   "outputs": [],
   "source": [
    "# 7. Identifying locations which are suspicious to fraud \n",
    "# Flagging latitude based on how suspicious they are\n",
    "def lat_long_category(x):\n",
    "    if x <=8:\n",
    "        return 1 #non-suspicious\n",
    "    elif x <= 12:\n",
    "        return 2 #mod-suspicious\n",
    "    else: \n",
    "        return 3 #suspicious\n",
    "\n",
    "df['lat_long']=df['lat']+df['long']\n",
    "df_inter=df.groupby(['lat_long'])['is_fraud'].sum().reset_index().sort_values(by='is_fraud',ascending=False)\n",
    "df_inter['lat_long_type']=df_inter['is_fraud'].apply(lat_long_category)\n",
    "df=pd.merge(df,df_inter[['lat_long','lat_long_type']],how='inner',on='lat_long')"
   ]
  },
  {
   "cell_type": "code",
   "execution_count": 18,
   "id": "Bv_-6m8NCHvH",
   "metadata": {
    "id": "Bv_-6m8NCHvH"
   },
   "outputs": [],
   "source": [
    "# 8. Identifying the categories with high prevalance of fradulent incidents \n",
    "def genuine_categ(x):\n",
    "    if x <=186:\n",
    "        return 1\n",
    "    elif x <= 1008:\n",
    "        return 2\n",
    "    else:\n",
    "        return 3\n",
    "\n",
    "df_categ_inter=df.groupby(['category'])['is_fraud'].sum().reset_index(name='category_fraud').sort_values(by='category_fraud',ascending=False)\n",
    "df_categ_inter['categ_type']=df_categ_inter['category_fraud'].apply(genuine_categ)\n",
    "df=pd.merge(df,df_categ_inter[['category','categ_type']],how='inner',on='category')"
   ]
  },
  {
   "cell_type": "code",
   "execution_count": 19,
   "id": "BzYz5eIfFhFY",
   "metadata": {
    "id": "BzYz5eIfFhFY"
   },
   "outputs": [],
   "source": [
    "# 9. Clubbing times of the day\n",
    "def hour_categ(x):\n",
    "    if (x==22) or (x==23) or ((x>=0) and (x<=3)):\n",
    "        return 'midnight'\n",
    "    else:\n",
    "        return 'daylight'\n",
    "df['hour_type']=df['hour'].apply(hour_categ)"
   ]
  },
  {
   "cell_type": "code",
   "execution_count": 20,
   "id": "2ba1cb5a",
   "metadata": {
    "colab": {
     "base_uri": "https://localhost:8080/",
     "height": 344
    },
    "id": "2ba1cb5a",
    "outputId": "d9e46f2d-aa16-4b65-f54e-32ea91425d0c"
   },
   "outputs": [
    {
     "data": {
      "text/html": [
       "<div>\n",
       "<style scoped>\n",
       "    .dataframe tbody tr th:only-of-type {\n",
       "        vertical-align: middle;\n",
       "    }\n",
       "\n",
       "    .dataframe tbody tr th {\n",
       "        vertical-align: top;\n",
       "    }\n",
       "\n",
       "    .dataframe thead th {\n",
       "        text-align: right;\n",
       "    }\n",
       "</style>\n",
       "<table border=\"1\" class=\"dataframe\">\n",
       "  <thead>\n",
       "    <tr style=\"text-align: right;\">\n",
       "      <th></th>\n",
       "      <th>ssn</th>\n",
       "      <th>cc_num</th>\n",
       "      <th>first</th>\n",
       "      <th>last</th>\n",
       "      <th>gender</th>\n",
       "      <th>street</th>\n",
       "      <th>city</th>\n",
       "      <th>state</th>\n",
       "      <th>zip</th>\n",
       "      <th>lat</th>\n",
       "      <th>...</th>\n",
       "      <th>is_weekend</th>\n",
       "      <th>hour</th>\n",
       "      <th>hol_month</th>\n",
       "      <th>recent_shop</th>\n",
       "      <th>recent_shop_gap</th>\n",
       "      <th>recent_shopper</th>\n",
       "      <th>lat_long</th>\n",
       "      <th>lat_long_type</th>\n",
       "      <th>categ_type</th>\n",
       "      <th>hour_type</th>\n",
       "    </tr>\n",
       "  </thead>\n",
       "  <tbody>\n",
       "    <tr>\n",
       "      <th>0</th>\n",
       "      <td>001-28-0753</td>\n",
       "      <td>4661995305641840</td>\n",
       "      <td>Pamela</td>\n",
       "      <td>Lee</td>\n",
       "      <td>F</td>\n",
       "      <td>467 Wayne Neck Apt. 187</td>\n",
       "      <td>Beverly</td>\n",
       "      <td>MA</td>\n",
       "      <td>1915</td>\n",
       "      <td>42.5608</td>\n",
       "      <td>...</td>\n",
       "      <td>0</td>\n",
       "      <td>23</td>\n",
       "      <td>1.0</td>\n",
       "      <td>NaT</td>\n",
       "      <td>NaT</td>\n",
       "      <td>past</td>\n",
       "      <td>-28.3151</td>\n",
       "      <td>1</td>\n",
       "      <td>3</td>\n",
       "      <td>midnight</td>\n",
       "    </tr>\n",
       "    <tr>\n",
       "      <th>1</th>\n",
       "      <td>001-28-0753</td>\n",
       "      <td>4661995305641840</td>\n",
       "      <td>Pamela</td>\n",
       "      <td>Lee</td>\n",
       "      <td>F</td>\n",
       "      <td>467 Wayne Neck Apt. 187</td>\n",
       "      <td>Beverly</td>\n",
       "      <td>MA</td>\n",
       "      <td>1915</td>\n",
       "      <td>42.5608</td>\n",
       "      <td>...</td>\n",
       "      <td>0</td>\n",
       "      <td>12</td>\n",
       "      <td>1.0</td>\n",
       "      <td>2021-11-16</td>\n",
       "      <td>0 days</td>\n",
       "      <td>recent</td>\n",
       "      <td>-28.3151</td>\n",
       "      <td>1</td>\n",
       "      <td>3</td>\n",
       "      <td>daylight</td>\n",
       "    </tr>\n",
       "  </tbody>\n",
       "</table>\n",
       "<p>2 rows × 40 columns</p>\n",
       "</div>"
      ],
      "text/plain": [
       "           ssn            cc_num   first last gender                   street  \\\n",
       "0  001-28-0753  4661995305641840  Pamela  Lee      F  467 Wayne Neck Apt. 187   \n",
       "1  001-28-0753  4661995305641840  Pamela  Lee      F  467 Wayne Neck Apt. 187   \n",
       "\n",
       "      city state   zip      lat  ...  is_weekend  hour hol_month recent_shop  \\\n",
       "0  Beverly    MA  1915  42.5608  ...           0    23       1.0         NaT   \n",
       "1  Beverly    MA  1915  42.5608  ...           0    12       1.0  2021-11-16   \n",
       "\n",
       "   recent_shop_gap recent_shopper lat_long lat_long_type categ_type  hour_type  \n",
       "0              NaT           past -28.3151             1          3   midnight  \n",
       "1           0 days         recent -28.3151             1          3   daylight  \n",
       "\n",
       "[2 rows x 40 columns]"
      ]
     },
     "execution_count": 20,
     "metadata": {},
     "output_type": "execute_result"
    }
   ],
   "source": [
    "# Verifying the newly created features\n",
    "df.head(2)"
   ]
  },
  {
   "cell_type": "code",
   "execution_count": 21,
   "id": "WVM5PG_yEddJ",
   "metadata": {
    "colab": {
     "base_uri": "https://localhost:8080/"
    },
    "id": "WVM5PG_yEddJ",
    "outputId": "35a6fa1c-0080-462c-f04b-6fc2b29112fb"
   },
   "outputs": [
    {
     "data": {
      "text/plain": [
       "Index(['ssn', 'cc_num', 'first', 'last', 'gender', 'street', 'city', 'state',\n",
       "       'zip', 'lat', 'long', 'city_pop', 'job', 'dob', 'acct_num', 'profile',\n",
       "       'trans_num', 'trans_date', 'trans_time', 'unix_time', 'category', 'amt',\n",
       "       'is_fraud', 'merchant', 'merch_lat', 'merch_long', 'area', 'age',\n",
       "       'distance', 'month', 'is_weekend', 'hour', 'hol_month', 'recent_shop',\n",
       "       'recent_shop_gap', 'recent_shopper', 'lat_long', 'lat_long_type',\n",
       "       'categ_type', 'hour_type'],\n",
       "      dtype='object')"
      ]
     },
     "execution_count": 21,
     "metadata": {},
     "output_type": "execute_result"
    }
   ],
   "source": [
    "# df_org = df.copy()\n",
    "df.columns"
   ]
  },
  {
   "cell_type": "markdown",
   "id": "ykjvce3tQSLV",
   "metadata": {
    "id": "ykjvce3tQSLV"
   },
   "source": [
    "#### II.d. Exploratory Data Analysis (EDA)"
   ]
  },
  {
   "cell_type": "code",
   "execution_count": 22,
   "id": "0b2ff854",
   "metadata": {
    "colab": {
     "base_uri": "https://localhost:8080/"
    },
    "id": "0b2ff854",
    "outputId": "e2d59c59-c137-4009-a1db-833f9ec9293d"
   },
   "outputs": [
    {
     "name": "stdout",
     "output_type": "stream",
     "text": [
      "ssn: False\n",
      "cc_num: False\n",
      "first: False\n",
      "last: False\n",
      "gender: False\n",
      "street: False\n",
      "city: False\n",
      "state: False\n",
      "zip: False\n",
      "lat: False\n",
      "long: False\n",
      "city_pop: False\n",
      "job: False\n",
      "dob: False\n",
      "acct_num: False\n",
      "profile: False\n",
      "trans_num: False\n",
      "trans_date: False\n",
      "trans_time: False\n",
      "unix_time: False\n",
      "category: False\n",
      "amt: False\n",
      "is_fraud: False\n",
      "merchant: False\n",
      "merch_lat: False\n",
      "merch_long: False\n",
      "area: False\n",
      "age: False\n",
      "distance: False\n",
      "month: False\n",
      "is_weekend: False\n",
      "hour: False\n",
      "hol_month: False\n",
      "recent_shop: True\n",
      "recent_shop_gap: False\n",
      "recent_shopper: False\n",
      "lat_long: False\n",
      "lat_long_type: False\n",
      "categ_type: False\n",
      "hour_type: False\n"
     ]
    }
   ],
   "source": [
    "# Checking for missing values in the dataset\n",
    "for col in df.columns:\n",
    "    null = df[col].isnull().values.any()\n",
    "    print(f\"{col}: {df[col].isna().values.any()}\")"
   ]
  },
  {
   "cell_type": "markdown",
   "id": "5cceef34",
   "metadata": {
    "id": "5cceef34"
   },
   "source": [
    "- We see that there are multiple columns with missing values in the dataset. We will handle these in the data preparation stage\n",
    "- We see that there are 9,310 instances of fraudulent transactions"
   ]
  },
  {
   "cell_type": "code",
   "execution_count": 23,
   "id": "ToAN4vcsQzNf",
   "metadata": {
    "colab": {
     "base_uri": "https://localhost:8080/",
     "height": 428
    },
    "id": "ToAN4vcsQzNf",
    "outputId": "5d716a7f-8dfa-4b74-98a6-d4a91a8ecccc"
   },
   "outputs": [
    {
     "name": "stdout",
     "output_type": "stream",
     "text": [
      "0.0    1742411\n",
      "1.0       9310\n",
      "Name: is_fraud, dtype: int64\n",
      "\n"
     ]
    },
    {
     "data": {
      "image/png": "[encoded data removed]",
      "text/plain": [
       "<Figure size 360x360 with 1 Axes>"
      ]
     },
     "metadata": {
      "needs_background": "light"
     },
     "output_type": "display_data"
    }
   ],
   "source": [
    "# Printing the target feature distribution in the dataset\n",
    "print(df.is_fraud.value_counts())\n",
    "print()\n",
    "plt.figure(figsize = (5,5))\n",
    "plt.title(\"Count of Instances by Is Fraud\", y=1.02)\n",
    "sns.countplot(x=df.is_fraud, data = df,hue = df.is_fraud)\n",
    "plt.show()"
   ]
  },
  {
   "cell_type": "markdown",
   "id": "SPxm63xkROas",
   "metadata": {
    "id": "SPxm63xkROas"
   },
   "source": [
    "- We see that the number of non-fraudulent transactions(99.5%) is higher as compared to the fradulent transactions(0.5%). Therefore, this is an imbalanced dataset. We will perform various sampling methods on our dataset in the following sections."
   ]
  },
  {
   "cell_type": "code",
   "execution_count": 24,
   "id": "42db892b",
   "metadata": {
    "colab": {
     "base_uri": "https://localhost:8080/"
    },
    "id": "42db892b",
    "outputId": "5d65849b-8458-4ad1-f362-5a34e6722855"
   },
   "outputs": [
    {
     "data": {
      "text/plain": [
       "Index(['ssn', 'cc_num', 'first', 'last', 'gender', 'street', 'city', 'state',\n",
       "       'zip', 'lat', 'long', 'city_pop', 'job', 'dob', 'acct_num', 'profile',\n",
       "       'trans_num', 'trans_date', 'trans_time', 'unix_time', 'category', 'amt',\n",
       "       'is_fraud', 'merchant', 'merch_lat', 'merch_long', 'area', 'age',\n",
       "       'distance', 'month', 'is_weekend', 'hour', 'hol_month', 'recent_shop',\n",
       "       'recent_shop_gap', 'recent_shopper', 'lat_long', 'lat_long_type',\n",
       "       'categ_type', 'hour_type'],\n",
       "      dtype='object')"
      ]
     },
     "execution_count": 24,
     "metadata": {},
     "output_type": "execute_result"
    }
   ],
   "source": [
    "# df = df_org\n",
    "df.columns"
   ]
  },
  {
   "cell_type": "code",
   "execution_count": 25,
   "id": "c444a729",
   "metadata": {
    "id": "c444a729"
   },
   "outputs": [],
   "source": [
    "# Drop the columns that are not necessary for the model development\n",
    "df=df[['gender','city_pop','amt','is_fraud','area','age','distance','hol_month','is_weekend','hour_type','recent_shopper',\\\n",
    "   'lat_long_type','categ_type']]"
   ]
  },
  {
   "cell_type": "code",
   "execution_count": 26,
   "id": "a1d6528b",
   "metadata": {
    "colab": {
     "base_uri": "https://localhost:8080/"
    },
    "id": "a1d6528b",
    "outputId": "be8ab050-bd99-488b-d369-87805581aa67"
   },
   "outputs": [
    {
     "data": {
      "text/plain": [
       "Index(['gender', 'city_pop', 'amt', 'is_fraud', 'area', 'age', 'distance',\n",
       "       'hol_month', 'is_weekend', 'hour_type', 'recent_shopper',\n",
       "       'lat_long_type', 'categ_type'],\n",
       "      dtype='object')"
      ]
     },
     "execution_count": 26,
     "metadata": {},
     "output_type": "execute_result"
    }
   ],
   "source": [
    "# Printing the columns used in modeling\n",
    "df.columns"
   ]
  },
  {
   "cell_type": "markdown",
   "id": "41884915",
   "metadata": {
    "id": "41884915"
   },
   "source": [
    "### Data Quality Report for Continuous Features"
   ]
  },
  {
   "cell_type": "code",
   "execution_count": 27,
   "id": "2d0da59c",
   "metadata": {
    "colab": {
     "base_uri": "https://localhost:8080/",
     "height": 206
    },
    "id": "2d0da59c",
    "outputId": "ee82605a-ba99-4ebc-d8c3-2a400f9a1572"
   },
   "outputs": [
    {
     "data": {
      "text/html": [
       "<div>\n",
       "<style scoped>\n",
       "    .dataframe tbody tr th:only-of-type {\n",
       "        vertical-align: middle;\n",
       "    }\n",
       "\n",
       "    .dataframe tbody tr th {\n",
       "        vertical-align: top;\n",
       "    }\n",
       "\n",
       "    .dataframe thead th {\n",
       "        text-align: right;\n",
       "    }\n",
       "</style>\n",
       "<table border=\"1\" class=\"dataframe\">\n",
       "  <thead>\n",
       "    <tr style=\"text-align: right;\">\n",
       "      <th></th>\n",
       "      <th>city_pop</th>\n",
       "      <th>amt</th>\n",
       "      <th>age</th>\n",
       "      <th>distance</th>\n",
       "    </tr>\n",
       "  </thead>\n",
       "  <tbody>\n",
       "    <tr>\n",
       "      <th>0</th>\n",
       "      <td>39502</td>\n",
       "      <td>317.35</td>\n",
       "      <td>95</td>\n",
       "      <td>25.136</td>\n",
       "    </tr>\n",
       "    <tr>\n",
       "      <th>1</th>\n",
       "      <td>39502</td>\n",
       "      <td>880.85</td>\n",
       "      <td>95</td>\n",
       "      <td>7.231</td>\n",
       "    </tr>\n",
       "    <tr>\n",
       "      <th>2</th>\n",
       "      <td>39502</td>\n",
       "      <td>962.98</td>\n",
       "      <td>95</td>\n",
       "      <td>14.856</td>\n",
       "    </tr>\n",
       "    <tr>\n",
       "      <th>3</th>\n",
       "      <td>8399</td>\n",
       "      <td>816.18</td>\n",
       "      <td>57</td>\n",
       "      <td>35.963</td>\n",
       "    </tr>\n",
       "    <tr>\n",
       "      <th>4</th>\n",
       "      <td>8399</td>\n",
       "      <td>1034.97</td>\n",
       "      <td>57</td>\n",
       "      <td>45.031</td>\n",
       "    </tr>\n",
       "  </tbody>\n",
       "</table>\n",
       "</div>"
      ],
      "text/plain": [
       "   city_pop      amt  age  distance\n",
       "0     39502   317.35   95    25.136\n",
       "1     39502   880.85   95     7.231\n",
       "2     39502   962.98   95    14.856\n",
       "3      8399   816.18   57    35.963\n",
       "4      8399  1034.97   57    45.031"
      ]
     },
     "execution_count": 27,
     "metadata": {},
     "output_type": "execute_result"
    }
   ],
   "source": [
    "# Creating a dataframe with continuous attributes in the data table\n",
    "df_cont = df[['city_pop','amt', 'age', 'distance']].copy()\n",
    "df_cont.head()"
   ]
  },
  {
   "cell_type": "code",
   "execution_count": 28,
   "id": "35718595",
   "metadata": {
    "colab": {
     "base_uri": "https://localhost:8080/"
    },
    "id": "35718595",
    "outputId": "707c2999-1af7-4246-9628-3ceb4ef2e4f0"
   },
   "outputs": [
    {
     "data": {
      "text/plain": [
       "city_pop      int64\n",
       "amt         float64\n",
       "age           int64\n",
       "distance    float64\n",
       "dtype: object"
      ]
     },
     "execution_count": 28,
     "metadata": {},
     "output_type": "execute_result"
    }
   ],
   "source": [
    "# Datatypes of continuous features\n",
    "df_cont.dtypes"
   ]
  },
  {
   "cell_type": "code",
   "execution_count": 29,
   "id": "fab01d52",
   "metadata": {
    "id": "fab01d52"
   },
   "outputs": [],
   "source": [
    "# Converting the data type of 'city_pop' feature to float\n",
    "df_cont.city_pop = df_cont['city_pop'].astype(float)"
   ]
  },
  {
   "cell_type": "code",
   "execution_count": 30,
   "id": "6d9d3015",
   "metadata": {
    "id": "6d9d3015"
   },
   "outputs": [],
   "source": [
    "# Computing the fields for the Data Quality Report\n",
    "data_types = pd.DataFrame(df_cont.dtypes,\n",
    "                          columns=['Data Type'])\n",
    "\n",
    "total_count = pd.DataFrame(df_cont.count(),\n",
    "                                   columns=['Count'])\n",
    "\n",
    "percentage_missing = pd.DataFrame(df_cont.isnull().sum()/len(df)*100,\n",
    "                                   columns=['%Miss'])\n",
    "\n",
    "cardinality = pd.DataFrame(columns=['Cardinality'])\n",
    "for v in list(df_cont.columns.values):\n",
    "    cardinality.loc[v] = [df_cont[v].nunique()]\n",
    "    \n",
    "minimum = pd.DataFrame(columns=['Min'])\n",
    "for v in list(df_cont.columns.values):\n",
    "    minimum.loc[v] = [df_cont[v].min()]\n",
    "    \n",
    "first_quartile = pd.DataFrame(columns=['1st Qrt'])\n",
    "for v in list(df_cont.columns.values):\n",
    "    first_quartile.loc[v] = [df_cont[v].quantile(0.25)]\n",
    "    \n",
    "mean = pd.DataFrame(columns=['Mean'])\n",
    "for v in list(df_cont.columns.values):\n",
    "    mean.loc[v] = [df_cont[v].mean()]\n",
    "    \n",
    "median = pd.DataFrame(columns=['Median'])\n",
    "for v in list(df_cont.columns.values):\n",
    "    median.loc[v] = [df_cont[v].median()]\n",
    "    \n",
    "third_quartile = pd.DataFrame(columns=['3rd Qrt'])\n",
    "for v in list(df_cont.columns.values):\n",
    "    third_quartile.loc[v] = [df_cont[v].quantile(0.75)]\n",
    "    \n",
    "maximum = pd.DataFrame(columns=['Max'])\n",
    "for v in list(df_cont.columns.values):\n",
    "    maximum.loc[v] = [df_cont[v].max()]\n",
    "    \n",
    "stddev = pd.DataFrame(columns=['Std_Dev'])\n",
    "for v in list(df_cont.columns.values):\n",
    "    stddev.loc[v] = [df_cont[v].std()]"
   ]
  },
  {
   "cell_type": "code",
   "execution_count": 31,
   "id": "c0f4c636",
   "metadata": {
    "colab": {
     "base_uri": "https://localhost:8080/",
     "height": 229
    },
    "id": "c0f4c636",
    "outputId": "fc0ab60c-4330-435c-95b3-a1eda1e66eb1"
   },
   "outputs": [
    {
     "name": "stdout",
     "output_type": "stream",
     "text": [
      "\n",
      "Data Quality Report\n",
      "Total records: 4\n"
     ]
    },
    {
     "data": {
      "text/html": [
       "<div>\n",
       "<style scoped>\n",
       "    .dataframe tbody tr th:only-of-type {\n",
       "        vertical-align: middle;\n",
       "    }\n",
       "\n",
       "    .dataframe tbody tr th {\n",
       "        vertical-align: top;\n",
       "    }\n",
       "\n",
       "    .dataframe thead th {\n",
       "        text-align: right;\n",
       "    }\n",
       "</style>\n",
       "<table border=\"1\" class=\"dataframe\">\n",
       "  <thead>\n",
       "    <tr style=\"text-align: right;\">\n",
       "      <th></th>\n",
       "      <th>Data Type</th>\n",
       "      <th>Count</th>\n",
       "      <th>%Miss</th>\n",
       "      <th>Cardinality</th>\n",
       "      <th>Min</th>\n",
       "      <th>1st Qrt</th>\n",
       "      <th>Mean</th>\n",
       "      <th>Median</th>\n",
       "      <th>3rd Qrt</th>\n",
       "      <th>Max</th>\n",
       "      <th>Std_Dev</th>\n",
       "    </tr>\n",
       "  </thead>\n",
       "  <tbody>\n",
       "    <tr>\n",
       "      <th>city_pop</th>\n",
       "      <td>float64</td>\n",
       "      <td>1751721</td>\n",
       "      <td>0.0</td>\n",
       "      <td>798</td>\n",
       "      <td>176.00</td>\n",
       "      <td>19240.00</td>\n",
       "      <td>315454.76</td>\n",
       "      <td>60163.00</td>\n",
       "      <td>214112.00</td>\n",
       "      <td>2906700.00</td>\n",
       "      <td>622657.87</td>\n",
       "    </tr>\n",
       "    <tr>\n",
       "      <th>amt</th>\n",
       "      <td>float64</td>\n",
       "      <td>1751721</td>\n",
       "      <td>0.0</td>\n",
       "      <td>60327</td>\n",
       "      <td>1.00</td>\n",
       "      <td>9.02</td>\n",
       "      <td>70.51</td>\n",
       "      <td>43.85</td>\n",
       "      <td>81.26</td>\n",
       "      <td>22054.83</td>\n",
       "      <td>166.64</td>\n",
       "    </tr>\n",
       "    <tr>\n",
       "      <th>age</th>\n",
       "      <td>int64</td>\n",
       "      <td>1751721</td>\n",
       "      <td>0.0</td>\n",
       "      <td>81</td>\n",
       "      <td>15.00</td>\n",
       "      <td>31.00</td>\n",
       "      <td>44.66</td>\n",
       "      <td>43.00</td>\n",
       "      <td>56.00</td>\n",
       "      <td>96.00</td>\n",
       "      <td>17.43</td>\n",
       "    </tr>\n",
       "    <tr>\n",
       "      <th>distance</th>\n",
       "      <td>float64</td>\n",
       "      <td>1751721</td>\n",
       "      <td>0.0</td>\n",
       "      <td>75368</td>\n",
       "      <td>0.02</td>\n",
       "      <td>20.53</td>\n",
       "      <td>36.69</td>\n",
       "      <td>36.44</td>\n",
       "      <td>53.03</td>\n",
       "      <td>92.98</td>\n",
       "      <td>19.08</td>\n",
       "    </tr>\n",
       "  </tbody>\n",
       "</table>\n",
       "</div>"
      ],
      "text/plain": [
       "         Data Type    Count  %Miss Cardinality     Min   1st Qrt       Mean  \\\n",
       "city_pop   float64  1751721    0.0         798  176.00  19240.00  315454.76   \n",
       "amt        float64  1751721    0.0       60327    1.00      9.02      70.51   \n",
       "age          int64  1751721    0.0          81   15.00     31.00      44.66   \n",
       "distance   float64  1751721    0.0       75368    0.02     20.53      36.69   \n",
       "\n",
       "            Median    3rd Qrt         Max    Std_Dev  \n",
       "city_pop  60163.00  214112.00  2906700.00  622657.87  \n",
       "amt          43.85      81.26    22054.83     166.64  \n",
       "age          43.00      56.00       96.00      17.43  \n",
       "distance     36.44      53.03       92.98      19.08  "
      ]
     },
     "execution_count": 31,
     "metadata": {},
     "output_type": "execute_result"
    }
   ],
   "source": [
    "# Concatinating the fields for the Data Quality Report\n",
    "data_quality_report = data_types.join(total_count).join(percentage_missing).join(cardinality).join(minimum).join(first_quartile).join(mean).join(median).join(third_quartile).join(maximum).join(stddev)\n",
    "print(\"\\nData Quality Report\")\n",
    "print(\"Total records: {}\".format(len(data_quality_report.index)))\n",
    "data_quality_report.round(2)"
   ]
  },
  {
   "cell_type": "code",
   "execution_count": 32,
   "id": "7eab46da",
   "metadata": {
    "colab": {
     "base_uri": "https://localhost:8080/",
     "height": 331
    },
    "id": "7eab46da",
    "outputId": "31ea27fd-559b-44fe-893c-a6657da717c6"
   },
   "outputs": [
    {
     "data": {
      "text/html": [
       "<div>\n",
       "<style scoped>\n",
       "    .dataframe tbody tr th:only-of-type {\n",
       "        vertical-align: middle;\n",
       "    }\n",
       "\n",
       "    .dataframe tbody tr th {\n",
       "        vertical-align: top;\n",
       "    }\n",
       "\n",
       "    .dataframe thead th {\n",
       "        text-align: right;\n",
       "    }\n",
       "</style>\n",
       "<table border=\"1\" class=\"dataframe\">\n",
       "  <thead>\n",
       "    <tr style=\"text-align: right;\">\n",
       "      <th></th>\n",
       "      <th>city_pop</th>\n",
       "      <th>amt</th>\n",
       "      <th>is_fraud</th>\n",
       "      <th>age</th>\n",
       "      <th>distance</th>\n",
       "      <th>hol_month</th>\n",
       "      <th>is_weekend</th>\n",
       "      <th>lat_long_type</th>\n",
       "      <th>categ_type</th>\n",
       "    </tr>\n",
       "  </thead>\n",
       "  <tbody>\n",
       "    <tr>\n",
       "      <th>city_pop</th>\n",
       "      <td>1.000000</td>\n",
       "      <td>-0.000740</td>\n",
       "      <td>-0.001707</td>\n",
       "      <td>0.023788</td>\n",
       "      <td>-0.004023</td>\n",
       "      <td>-0.000164</td>\n",
       "      <td>-0.002783</td>\n",
       "      <td>-0.005458</td>\n",
       "      <td>-0.001210</td>\n",
       "    </tr>\n",
       "    <tr>\n",
       "      <th>amt</th>\n",
       "      <td>-0.000740</td>\n",
       "      <td>1.000000</td>\n",
       "      <td>0.207886</td>\n",
       "      <td>0.006935</td>\n",
       "      <td>-0.000236</td>\n",
       "      <td>0.013112</td>\n",
       "      <td>-0.003336</td>\n",
       "      <td>-0.006448</td>\n",
       "      <td>0.024179</td>\n",
       "    </tr>\n",
       "    <tr>\n",
       "      <th>is_fraud</th>\n",
       "      <td>-0.001707</td>\n",
       "      <td>0.207886</td>\n",
       "      <td>1.000000</td>\n",
       "      <td>0.021538</td>\n",
       "      <td>-0.000451</td>\n",
       "      <td>0.009501</td>\n",
       "      <td>-0.014363</td>\n",
       "      <td>0.015112</td>\n",
       "      <td>0.057179</td>\n",
       "    </tr>\n",
       "    <tr>\n",
       "      <th>age</th>\n",
       "      <td>0.023788</td>\n",
       "      <td>0.006935</td>\n",
       "      <td>0.021538</td>\n",
       "      <td>1.000000</td>\n",
       "      <td>-0.001763</td>\n",
       "      <td>-0.000371</td>\n",
       "      <td>-0.017083</td>\n",
       "      <td>-0.085162</td>\n",
       "      <td>0.006088</td>\n",
       "    </tr>\n",
       "    <tr>\n",
       "      <th>distance</th>\n",
       "      <td>-0.004023</td>\n",
       "      <td>-0.000236</td>\n",
       "      <td>-0.000451</td>\n",
       "      <td>-0.001763</td>\n",
       "      <td>1.000000</td>\n",
       "      <td>0.000613</td>\n",
       "      <td>-0.001359</td>\n",
       "      <td>-0.002281</td>\n",
       "      <td>0.000553</td>\n",
       "    </tr>\n",
       "    <tr>\n",
       "      <th>hol_month</th>\n",
       "      <td>-0.000164</td>\n",
       "      <td>0.013112</td>\n",
       "      <td>0.009501</td>\n",
       "      <td>-0.000371</td>\n",
       "      <td>0.000613</td>\n",
       "      <td>1.000000</td>\n",
       "      <td>0.024383</td>\n",
       "      <td>0.000905</td>\n",
       "      <td>-0.160897</td>\n",
       "    </tr>\n",
       "    <tr>\n",
       "      <th>is_weekend</th>\n",
       "      <td>-0.002783</td>\n",
       "      <td>-0.003336</td>\n",
       "      <td>-0.014363</td>\n",
       "      <td>-0.017083</td>\n",
       "      <td>-0.001359</td>\n",
       "      <td>0.024383</td>\n",
       "      <td>1.000000</td>\n",
       "      <td>0.011089</td>\n",
       "      <td>-0.001180</td>\n",
       "    </tr>\n",
       "    <tr>\n",
       "      <th>lat_long_type</th>\n",
       "      <td>-0.005458</td>\n",
       "      <td>-0.006448</td>\n",
       "      <td>0.015112</td>\n",
       "      <td>-0.085162</td>\n",
       "      <td>-0.002281</td>\n",
       "      <td>0.000905</td>\n",
       "      <td>0.011089</td>\n",
       "      <td>1.000000</td>\n",
       "      <td>-0.003017</td>\n",
       "    </tr>\n",
       "    <tr>\n",
       "      <th>categ_type</th>\n",
       "      <td>-0.001210</td>\n",
       "      <td>0.024179</td>\n",
       "      <td>0.057179</td>\n",
       "      <td>0.006088</td>\n",
       "      <td>0.000553</td>\n",
       "      <td>-0.160897</td>\n",
       "      <td>-0.001180</td>\n",
       "      <td>-0.003017</td>\n",
       "      <td>1.000000</td>\n",
       "    </tr>\n",
       "  </tbody>\n",
       "</table>\n",
       "</div>"
      ],
      "text/plain": [
       "               city_pop       amt  is_fraud       age  distance  hol_month  \\\n",
       "city_pop       1.000000 -0.000740 -0.001707  0.023788 -0.004023  -0.000164   \n",
       "amt           -0.000740  1.000000  0.207886  0.006935 -0.000236   0.013112   \n",
       "is_fraud      -0.001707  0.207886  1.000000  0.021538 -0.000451   0.009501   \n",
       "age            0.023788  0.006935  0.021538  1.000000 -0.001763  -0.000371   \n",
       "distance      -0.004023 -0.000236 -0.000451 -0.001763  1.000000   0.000613   \n",
       "hol_month     -0.000164  0.013112  0.009501 -0.000371  0.000613   1.000000   \n",
       "is_weekend    -0.002783 -0.003336 -0.014363 -0.017083 -0.001359   0.024383   \n",
       "lat_long_type -0.005458 -0.006448  0.015112 -0.085162 -0.002281   0.000905   \n",
       "categ_type    -0.001210  0.024179  0.057179  0.006088  0.000553  -0.160897   \n",
       "\n",
       "               is_weekend  lat_long_type  categ_type  \n",
       "city_pop        -0.002783      -0.005458   -0.001210  \n",
       "amt             -0.003336      -0.006448    0.024179  \n",
       "is_fraud        -0.014363       0.015112    0.057179  \n",
       "age             -0.017083      -0.085162    0.006088  \n",
       "distance        -0.001359      -0.002281    0.000553  \n",
       "hol_month        0.024383       0.000905   -0.160897  \n",
       "is_weekend       1.000000       0.011089   -0.001180  \n",
       "lat_long_type    0.011089       1.000000   -0.003017  \n",
       "categ_type      -0.001180      -0.003017    1.000000  "
      ]
     },
     "execution_count": 32,
     "metadata": {},
     "output_type": "execute_result"
    }
   ],
   "source": [
    "# Plotting the correlation matrix for the continuous features in the dataset\n",
    "df_correlation = df.corr(method = 'pearson')\n",
    "df_correlation"
   ]
  },
  {
   "cell_type": "code",
   "execution_count": 33,
   "id": "95eb020c",
   "metadata": {
    "colab": {
     "base_uri": "https://localhost:8080/",
     "height": 397
    },
    "id": "95eb020c",
    "outputId": "f6561acc-7d13-4ca0-cba7-ae200a67bc2d"
   },
   "outputs": [
    {
     "data": {
      "text/plain": [
       "<AxesSubplot:>"
      ]
     },
     "execution_count": 33,
     "metadata": {},
     "output_type": "execute_result"
    },
    {
     "data": {
      "image/png": "[encoded data removed]",
      "text/plain": [
       "<Figure size 1008x432 with 2 Axes>"
      ]
     },
     "metadata": {
      "needs_background": "light"
     },
     "output_type": "display_data"
    }
   ],
   "source": [
    "import seaborn as sns\n",
    "%matplotlib inline\n",
    "# Plotting the correlation matrix for the continuous features in the dataset\n",
    "# plot the heatmap\n",
    "fig, ax = plt.subplots(figsize=(14,6)) \n",
    "sns.heatmap(df_correlation,annot=True, \n",
    "        xticklabels=df_correlation.columns,\n",
    "        yticklabels=df_correlation.columns)"
   ]
  },
  {
   "cell_type": "code",
   "execution_count": 34,
   "id": "22a99549",
   "metadata": {
    "colab": {
     "base_uri": "https://localhost:8080/",
     "height": 390
    },
    "id": "22a99549",
    "outputId": "0ae03b2c-d1a2-4e60-857d-bfcc8f24250b"
   },
   "outputs": [
    {
     "data": {
      "image/png": "[encoded data removed]",
      "text/plain": [
       "<Figure size 576x432 with 4 Axes>"
      ]
     },
     "metadata": {
      "needs_background": "light"
     },
     "output_type": "display_data"
    }
   ],
   "source": [
    "# Plotting the histograms for the continuous attributes in the dataset \n",
    "%matplotlib inline \n",
    "\n",
    "df_cont.hist(bins=20, figsize = (8,6))\n",
    "plt.show()\n"
   ]
  },
  {
   "cell_type": "code",
   "execution_count": 35,
   "id": "oCU9-kT-UBvG",
   "metadata": {
    "colab": {
     "base_uri": "https://localhost:8080/",
     "height": 294
    },
    "id": "oCU9-kT-UBvG",
    "outputId": "28a1621a-4598-4af4-c686-8f8ec82bc963"
   },
   "outputs": [
    {
     "data": {
      "text/plain": [
       "<AxesSubplot:>"
      ]
     },
     "execution_count": 35,
     "metadata": {},
     "output_type": "execute_result"
    },
    {
     "data": {
      "image/png": "[encoded data removed]",
      "text/plain": [
       "<Figure size 432x288 with 1 Axes>"
      ]
     },
     "metadata": {
      "needs_background": "light"
     },
     "output_type": "display_data"
    }
   ],
   "source": [
    "sns.boxplot(data = df_cont['city_pop'])"
   ]
  },
  {
   "cell_type": "code",
   "execution_count": 36,
   "id": "TyLxmfe3UYjs",
   "metadata": {
    "colab": {
     "base_uri": "https://localhost:8080/",
     "height": 283
    },
    "id": "TyLxmfe3UYjs",
    "outputId": "54c3734e-26f5-4238-c513-39f1cd92381d"
   },
   "outputs": [
    {
     "data": {
      "text/plain": [
       "<AxesSubplot:>"
      ]
     },
     "execution_count": 36,
     "metadata": {},
     "output_type": "execute_result"
    },
    {
     "data": {
      "image/png": "[encoded data removed]",
      "text/plain": [
       "<Figure size 432x288 with 1 Axes>"
      ]
     },
     "metadata": {
      "needs_background": "light"
     },
     "output_type": "display_data"
    }
   ],
   "source": [
    "sns.boxplot(data = df_cont['amt'])"
   ]
  },
  {
   "cell_type": "code",
   "execution_count": 37,
   "id": "Y2-UyKsFUZSh",
   "metadata": {
    "colab": {
     "base_uri": "https://localhost:8080/",
     "height": 283
    },
    "id": "Y2-UyKsFUZSh",
    "outputId": "80c77f58-8d72-41f7-f424-a280dfc2fa48"
   },
   "outputs": [
    {
     "data": {
      "text/plain": [
       "<AxesSubplot:>"
      ]
     },
     "execution_count": 37,
     "metadata": {},
     "output_type": "execute_result"
    },
    {
     "data": {
      "image/png": "[encoded data removed]",
      "text/plain": [
       "<Figure size 432x288 with 1 Axes>"
      ]
     },
     "metadata": {
      "needs_background": "light"
     },
     "output_type": "display_data"
    }
   ],
   "source": [
    "sns.boxplot(data = df_cont['distance'])"
   ]
  },
  {
   "cell_type": "code",
   "execution_count": 38,
   "id": "o-3Q3oSHGrWO",
   "metadata": {
    "colab": {
     "base_uri": "https://localhost:8080/",
     "height": 287
    },
    "id": "o-3Q3oSHGrWO",
    "outputId": "14205bb5-a285-402c-ba4c-dda88e23f9d6"
   },
   "outputs": [
    {
     "data": {
      "text/plain": [
       "<AxesSubplot:>"
      ]
     },
     "execution_count": 38,
     "metadata": {},
     "output_type": "execute_result"
    },
    {
     "data": {
      "image/png": "[encoded data removed]",
      "text/plain": [
       "<Figure size 432x288 with 1 Axes>"
      ]
     },
     "metadata": {
      "needs_background": "light"
     },
     "output_type": "display_data"
    }
   ],
   "source": [
    "sns.boxplot(data = df_cont['age'])"
   ]
  },
  {
   "cell_type": "markdown",
   "id": "80f4cf1f",
   "metadata": {
    "id": "80f4cf1f"
   },
   "source": [
    "### Data Quality Report for Categorical Features"
   ]
  },
  {
   "cell_type": "code",
   "execution_count": 39,
   "id": "87022fec",
   "metadata": {
    "colab": {
     "base_uri": "https://localhost:8080/",
     "height": 206
    },
    "id": "87022fec",
    "outputId": "d309a8a4-c94c-48f3-ec0a-27fccac17060"
   },
   "outputs": [
    {
     "data": {
      "text/html": [
       "<div>\n",
       "<style scoped>\n",
       "    .dataframe tbody tr th:only-of-type {\n",
       "        vertical-align: middle;\n",
       "    }\n",
       "\n",
       "    .dataframe tbody tr th {\n",
       "        vertical-align: top;\n",
       "    }\n",
       "\n",
       "    .dataframe thead th {\n",
       "        text-align: right;\n",
       "    }\n",
       "</style>\n",
       "<table border=\"1\" class=\"dataframe\">\n",
       "  <thead>\n",
       "    <tr style=\"text-align: right;\">\n",
       "      <th></th>\n",
       "      <th>gender</th>\n",
       "      <th>is_fraud</th>\n",
       "      <th>area</th>\n",
       "      <th>hol_month</th>\n",
       "      <th>is_weekend</th>\n",
       "      <th>hour_type</th>\n",
       "      <th>recent_shopper</th>\n",
       "      <th>lat_long_type</th>\n",
       "      <th>categ_type</th>\n",
       "    </tr>\n",
       "  </thead>\n",
       "  <tbody>\n",
       "    <tr>\n",
       "      <th>0</th>\n",
       "      <td>F</td>\n",
       "      <td>1.0</td>\n",
       "      <td>urban</td>\n",
       "      <td>1.0</td>\n",
       "      <td>0</td>\n",
       "      <td>midnight</td>\n",
       "      <td>past</td>\n",
       "      <td>1</td>\n",
       "      <td>3</td>\n",
       "    </tr>\n",
       "    <tr>\n",
       "      <th>1</th>\n",
       "      <td>F</td>\n",
       "      <td>1.0</td>\n",
       "      <td>urban</td>\n",
       "      <td>1.0</td>\n",
       "      <td>0</td>\n",
       "      <td>daylight</td>\n",
       "      <td>recent</td>\n",
       "      <td>1</td>\n",
       "      <td>3</td>\n",
       "    </tr>\n",
       "    <tr>\n",
       "      <th>2</th>\n",
       "      <td>F</td>\n",
       "      <td>1.0</td>\n",
       "      <td>urban</td>\n",
       "      <td>1.0</td>\n",
       "      <td>0</td>\n",
       "      <td>midnight</td>\n",
       "      <td>recent</td>\n",
       "      <td>1</td>\n",
       "      <td>3</td>\n",
       "    </tr>\n",
       "    <tr>\n",
       "      <th>3</th>\n",
       "      <td>F</td>\n",
       "      <td>1.0</td>\n",
       "      <td>urban</td>\n",
       "      <td>2.0</td>\n",
       "      <td>0</td>\n",
       "      <td>midnight</td>\n",
       "      <td>recent</td>\n",
       "      <td>2</td>\n",
       "      <td>3</td>\n",
       "    </tr>\n",
       "    <tr>\n",
       "      <th>4</th>\n",
       "      <td>F</td>\n",
       "      <td>1.0</td>\n",
       "      <td>urban</td>\n",
       "      <td>2.0</td>\n",
       "      <td>0</td>\n",
       "      <td>daylight</td>\n",
       "      <td>recent</td>\n",
       "      <td>2</td>\n",
       "      <td>3</td>\n",
       "    </tr>\n",
       "  </tbody>\n",
       "</table>\n",
       "</div>"
      ],
      "text/plain": [
       "  gender  is_fraud   area  hol_month  is_weekend hour_type recent_shopper  \\\n",
       "0      F       1.0  urban        1.0           0  midnight           past   \n",
       "1      F       1.0  urban        1.0           0  daylight         recent   \n",
       "2      F       1.0  urban        1.0           0  midnight         recent   \n",
       "3      F       1.0  urban        2.0           0  midnight         recent   \n",
       "4      F       1.0  urban        2.0           0  daylight         recent   \n",
       "\n",
       "   lat_long_type  categ_type  \n",
       "0              1           3  \n",
       "1              1           3  \n",
       "2              1           3  \n",
       "3              2           3  \n",
       "4              2           3  "
      ]
     },
     "execution_count": 39,
     "metadata": {},
     "output_type": "execute_result"
    }
   ],
   "source": [
    "# Creating a dataframe with categorical features in the data table\n",
    "df_categ = df[['gender', 'is_fraud', 'area', 'hol_month', 'is_weekend', 'hour_type', 'recent_shopper', 'lat_long_type', 'categ_type']].copy()\n",
    "df_categ.head()"
   ]
  },
  {
   "cell_type": "code",
   "execution_count": 40,
   "id": "c342349b",
   "metadata": {
    "colab": {
     "base_uri": "https://localhost:8080/"
    },
    "id": "c342349b",
    "outputId": "6e1e8599-e181-4eca-eedf-d3491a766f67"
   },
   "outputs": [
    {
     "name": "stdout",
     "output_type": "stream",
     "text": [
      "<class 'pandas.core.frame.DataFrame'>\n",
      "Int64Index: 1751721 entries, 0 to 1751720\n",
      "Data columns (total 9 columns):\n",
      " #   Column          Dtype  \n",
      "---  ------          -----  \n",
      " 0   gender          object \n",
      " 1   is_fraud        float64\n",
      " 2   area            object \n",
      " 3   hol_month       float64\n",
      " 4   is_weekend      int64  \n",
      " 5   hour_type       object \n",
      " 6   recent_shopper  object \n",
      " 7   lat_long_type   int64  \n",
      " 8   categ_type      int64  \n",
      "dtypes: float64(2), int64(3), object(4)\n",
      "memory usage: 133.6+ MB\n"
     ]
    }
   ],
   "source": [
    "# Printing the information of the categorical features\n",
    "df_categ.info()"
   ]
  },
  {
   "cell_type": "code",
   "execution_count": 41,
   "id": "a8f9dc88",
   "metadata": {
    "id": "a8f9dc88"
   },
   "outputs": [],
   "source": [
    "# Converting the data type of the features to string\n",
    "df_categ = df_categ.astype(str)"
   ]
  },
  {
   "cell_type": "code",
   "execution_count": 42,
   "id": "958bed13",
   "metadata": {
    "id": "958bed13"
   },
   "outputs": [],
   "source": [
    "# Computing the fields for the Data Quality Report\n",
    "data_types = pd.DataFrame(df_categ.dtypes,\n",
    "                          columns=['Data Type'])\n",
    "\n",
    "total_count = pd.DataFrame(df_categ.count(),\n",
    "                                   columns=['Count'])\n",
    "\n",
    "percentage_missing = pd.DataFrame(df_categ.isnull().sum()/len(df)*100,\n",
    "                                   columns=['%Miss'])\n",
    "\n",
    "cardinality = pd.DataFrame(columns=['Cardinality'])\n",
    "for v in list(df_categ.columns.values):\n",
    "    cardinality.loc[v] = [df_categ[v].nunique()]\n",
    "    \n",
    "mode = pd.DataFrame(columns=['Mode'])\n",
    "for v in list(df_categ.columns.values):\n",
    "    mode.loc[v] = [df_categ[v].value_counts().index.tolist()[0]]\n",
    "    \n",
    "mode_freq = pd.DataFrame(columns=['Mode Freq'])\n",
    "for v in list(df_categ.columns.values):\n",
    "    mode_freq.loc[v] = [df_categ[v].value_counts()[0]]\n",
    "\n",
    "mode_perc = pd.DataFrame(columns=['Mode Perc'])\n",
    "for v in list(df_categ.columns.values):\n",
    "    mode_perc.loc[v] = [df_categ[v].value_counts()[0]/len(df_categ['gender'])*100]    \n",
    "    \n",
    "smode = pd.DataFrame(columns=['Second Mode'])\n",
    "for v in list(df_categ.columns.values):\n",
    "    smode.loc[v] = [df_categ[v].value_counts().index.tolist()[1]]\n",
    "    \n",
    "smode_freq = pd.DataFrame(columns=['Second Mode Freq'])\n",
    "for v in list(df_categ.columns.values):\n",
    "    smode_freq.loc[v] = [df_categ[v].value_counts()[1]]\n",
    "\n",
    "smode_perc = pd.DataFrame(columns=['Second Mode Perc'])\n",
    "for v in list(df_categ.columns.values):\n",
    "    smode_perc.loc[v] = [df_categ[v].value_counts()[1]/len(df_categ['gender'])*100]  "
   ]
  },
  {
   "cell_type": "code",
   "execution_count": 43,
   "id": "9441b775",
   "metadata": {
    "colab": {
     "base_uri": "https://localhost:8080/",
     "height": 386
    },
    "id": "9441b775",
    "outputId": "f84f6169-998c-4f14-f083-1724328a6111"
   },
   "outputs": [
    {
     "name": "stdout",
     "output_type": "stream",
     "text": [
      "\n",
      "Data Quality Report - Categorical Features\n",
      "Total records: 9\n"
     ]
    },
    {
     "data": {
      "text/html": [
       "<div>\n",
       "<style scoped>\n",
       "    .dataframe tbody tr th:only-of-type {\n",
       "        vertical-align: middle;\n",
       "    }\n",
       "\n",
       "    .dataframe tbody tr th {\n",
       "        vertical-align: top;\n",
       "    }\n",
       "\n",
       "    .dataframe thead th {\n",
       "        text-align: right;\n",
       "    }\n",
       "</style>\n",
       "<table border=\"1\" class=\"dataframe\">\n",
       "  <thead>\n",
       "    <tr style=\"text-align: right;\">\n",
       "      <th></th>\n",
       "      <th>Data Type</th>\n",
       "      <th>Count</th>\n",
       "      <th>%Miss</th>\n",
       "      <th>Cardinality</th>\n",
       "      <th>Mode</th>\n",
       "      <th>Mode Freq</th>\n",
       "      <th>Mode Perc</th>\n",
       "      <th>Second Mode</th>\n",
       "      <th>Second Mode Freq</th>\n",
       "      <th>Second Mode Perc</th>\n",
       "    </tr>\n",
       "  </thead>\n",
       "  <tbody>\n",
       "    <tr>\n",
       "      <th>gender</th>\n",
       "      <td>object</td>\n",
       "      <td>1751721</td>\n",
       "      <td>0.0</td>\n",
       "      <td>2</td>\n",
       "      <td>M</td>\n",
       "      <td>895503</td>\n",
       "      <td>51.121326</td>\n",
       "      <td>F</td>\n",
       "      <td>856218</td>\n",
       "      <td>48.878674</td>\n",
       "    </tr>\n",
       "    <tr>\n",
       "      <th>is_fraud</th>\n",
       "      <td>object</td>\n",
       "      <td>1751721</td>\n",
       "      <td>0.0</td>\n",
       "      <td>2</td>\n",
       "      <td>0.0</td>\n",
       "      <td>1742411</td>\n",
       "      <td>99.468523</td>\n",
       "      <td>1.0</td>\n",
       "      <td>9310</td>\n",
       "      <td>0.531477</td>\n",
       "    </tr>\n",
       "    <tr>\n",
       "      <th>area</th>\n",
       "      <td>object</td>\n",
       "      <td>1751721</td>\n",
       "      <td>0.0</td>\n",
       "      <td>2</td>\n",
       "      <td>urban</td>\n",
       "      <td>1680714</td>\n",
       "      <td>95.946444</td>\n",
       "      <td>rural</td>\n",
       "      <td>71007</td>\n",
       "      <td>4.053556</td>\n",
       "    </tr>\n",
       "    <tr>\n",
       "      <th>hol_month</th>\n",
       "      <td>object</td>\n",
       "      <td>1751721</td>\n",
       "      <td>0.0</td>\n",
       "      <td>2</td>\n",
       "      <td>2.0</td>\n",
       "      <td>1358082</td>\n",
       "      <td>77.528442</td>\n",
       "      <td>1.0</td>\n",
       "      <td>393639</td>\n",
       "      <td>22.471558</td>\n",
       "    </tr>\n",
       "    <tr>\n",
       "      <th>is_weekend</th>\n",
       "      <td>object</td>\n",
       "      <td>1751721</td>\n",
       "      <td>0.0</td>\n",
       "      <td>2</td>\n",
       "      <td>0</td>\n",
       "      <td>1055304</td>\n",
       "      <td>60.243840</td>\n",
       "      <td>1</td>\n",
       "      <td>696417</td>\n",
       "      <td>39.756160</td>\n",
       "    </tr>\n",
       "    <tr>\n",
       "      <th>hour_type</th>\n",
       "      <td>object</td>\n",
       "      <td>1751721</td>\n",
       "      <td>0.0</td>\n",
       "      <td>2</td>\n",
       "      <td>daylight</td>\n",
       "      <td>1342626</td>\n",
       "      <td>76.646110</td>\n",
       "      <td>midnight</td>\n",
       "      <td>409095</td>\n",
       "      <td>23.353890</td>\n",
       "    </tr>\n",
       "    <tr>\n",
       "      <th>recent_shopper</th>\n",
       "      <td>object</td>\n",
       "      <td>1751721</td>\n",
       "      <td>0.0</td>\n",
       "      <td>2</td>\n",
       "      <td>recent</td>\n",
       "      <td>1218395</td>\n",
       "      <td>69.554170</td>\n",
       "      <td>past</td>\n",
       "      <td>533326</td>\n",
       "      <td>30.445830</td>\n",
       "    </tr>\n",
       "    <tr>\n",
       "      <th>lat_long_type</th>\n",
       "      <td>object</td>\n",
       "      <td>1751721</td>\n",
       "      <td>0.0</td>\n",
       "      <td>3</td>\n",
       "      <td>2</td>\n",
       "      <td>810978</td>\n",
       "      <td>46.296071</td>\n",
       "      <td>1</td>\n",
       "      <td>637355</td>\n",
       "      <td>36.384504</td>\n",
       "    </tr>\n",
       "    <tr>\n",
       "      <th>categ_type</th>\n",
       "      <td>object</td>\n",
       "      <td>1751721</td>\n",
       "      <td>0.0</td>\n",
       "      <td>3</td>\n",
       "      <td>2</td>\n",
       "      <td>833343</td>\n",
       "      <td>47.572816</td>\n",
       "      <td>3</td>\n",
       "      <td>546081</td>\n",
       "      <td>31.173971</td>\n",
       "    </tr>\n",
       "  </tbody>\n",
       "</table>\n",
       "</div>"
      ],
      "text/plain": [
       "               Data Type    Count  %Miss Cardinality      Mode Mode Freq  \\\n",
       "gender            object  1751721    0.0           2         M    895503   \n",
       "is_fraud          object  1751721    0.0           2       0.0   1742411   \n",
       "area              object  1751721    0.0           2     urban   1680714   \n",
       "hol_month         object  1751721    0.0           2       2.0   1358082   \n",
       "is_weekend        object  1751721    0.0           2         0   1055304   \n",
       "hour_type         object  1751721    0.0           2  daylight   1342626   \n",
       "recent_shopper    object  1751721    0.0           2    recent   1218395   \n",
       "lat_long_type     object  1751721    0.0           3         2    810978   \n",
       "categ_type        object  1751721    0.0           3         2    833343   \n",
       "\n",
       "                Mode Perc Second Mode Second Mode Freq  Second Mode Perc  \n",
       "gender          51.121326           F           856218         48.878674  \n",
       "is_fraud        99.468523         1.0             9310          0.531477  \n",
       "area            95.946444       rural            71007          4.053556  \n",
       "hol_month       77.528442         1.0           393639         22.471558  \n",
       "is_weekend      60.243840           1           696417         39.756160  \n",
       "hour_type       76.646110    midnight           409095         23.353890  \n",
       "recent_shopper  69.554170        past           533326         30.445830  \n",
       "lat_long_type   46.296071           1           637355         36.384504  \n",
       "categ_type      47.572816           3           546081         31.173971  "
      ]
     },
     "execution_count": 43,
     "metadata": {},
     "output_type": "execute_result"
    }
   ],
   "source": [
    "# Concatinating the fields in the Data Quality Report\n",
    "data_quality_report2 = data_types.join(total_count).join(percentage_missing).join(cardinality).join(mode).join(mode_freq).join(mode_perc).join(smode).join(smode_freq).join(smode_perc)\n",
    "print(\"\\nData Quality Report - Categorical Features\")\n",
    "print(\"Total records: {}\".format(len(data_quality_report2.index)))\n",
    "data_quality_report2"
   ]
  },
  {
   "cell_type": "code",
   "execution_count": 44,
   "id": "822660cf",
   "metadata": {
    "colab": {
     "base_uri": "https://localhost:8080/",
     "height": 308
    },
    "id": "822660cf",
    "outputId": "a1138875-f4b9-467c-a651-0687bf0ff137"
   },
   "outputs": [
    {
     "data": {
      "image/png": "[encoded data removed]",
      "text/plain": [
       "<Figure size 432x288 with 1 Axes>"
      ]
     },
     "metadata": {
      "needs_background": "light"
     },
     "output_type": "display_data"
    }
   ],
   "source": [
    "df.gender.value_counts().plot(kind=\"bar\")\n",
    "plt.xlabel(\"Count of Transactions\", labelpad=14)\n",
    "plt.ylabel(\"Gender\", labelpad=14)\n",
    "plt.title(\"Count of Transactions by Gender\", y=1.02);"
   ]
  },
  {
   "cell_type": "code",
   "execution_count": 45,
   "id": "b17f0872",
   "metadata": {
    "colab": {
     "base_uri": "https://localhost:8080/",
     "height": 283
    },
    "id": "b17f0872",
    "outputId": "e6d274e0-1d4d-4ec3-f209-cb9f703fe133"
   },
   "outputs": [
    {
     "data": {
      "text/plain": [
       "<AxesSubplot:>"
      ]
     },
     "execution_count": 45,
     "metadata": {},
     "output_type": "execute_result"
    },
    {
     "data": {
      "image/png": "[encoded data removed]",
      "text/plain": [
       "<Figure size 432x288 with 3 Axes>"
      ]
     },
     "metadata": {
      "needs_background": "light"
     },
     "output_type": "display_data"
    }
   ],
   "source": [
    "f, (ax1, ax2, ax3) = plt.subplots(1, 3, sharey=True)\n",
    "df.gender.value_counts().plot(kind=\"barh\", ax = ax1)\n",
    "df[df.is_fraud == 0].gender.value_counts().plot(kind=\"barh\", ax = ax2)\n",
    "df[df.is_fraud == 1].gender.value_counts().plot(kind=\"barh\", ax = ax3)"
   ]
  },
  {
   "cell_type": "code",
   "execution_count": 46,
   "id": "854a0688",
   "metadata": {
    "colab": {
     "base_uri": "https://localhost:8080/",
     "height": 296
    },
    "id": "854a0688",
    "outputId": "8565bfdf-a5af-415b-d1ed-81428065d5ae"
   },
   "outputs": [
    {
     "data": {
      "text/plain": [
       "<AxesSubplot:>"
      ]
     },
     "execution_count": 46,
     "metadata": {},
     "output_type": "execute_result"
    },
    {
     "data": {
      "image/png": "[encoded data removed]",
      "text/plain": [
       "<Figure size 432x288 with 3 Axes>"
      ]
     },
     "metadata": {
      "needs_background": "light"
     },
     "output_type": "display_data"
    }
   ],
   "source": [
    "f, (ax1, ax2, ax3) = plt.subplots(1, 3, sharey=True)\n",
    "df.area.value_counts().plot(kind=\"barh\", ax = ax1)\n",
    "df[df.is_fraud == 0].area.value_counts().plot(kind=\"barh\", ax = ax2)\n",
    "df[df.is_fraud == 1].area.value_counts().plot(kind=\"barh\", ax = ax3)"
   ]
  },
  {
   "cell_type": "code",
   "execution_count": 47,
   "id": "7293f4dc",
   "metadata": {
    "colab": {
     "base_uri": "https://localhost:8080/",
     "height": 296
    },
    "id": "7293f4dc",
    "outputId": "7277b553-35f5-46dc-ae7d-238f5950c99d"
   },
   "outputs": [
    {
     "data": {
      "text/plain": [
       "<AxesSubplot:>"
      ]
     },
     "execution_count": 47,
     "metadata": {},
     "output_type": "execute_result"
    },
    {
     "data": {
      "image/png": "[encoded data removed]",
      "text/plain": [
       "<Figure size 432x288 with 3 Axes>"
      ]
     },
     "metadata": {
      "needs_background": "light"
     },
     "output_type": "display_data"
    }
   ],
   "source": [
    "f, (ax1, ax2, ax3) = plt.subplots(1, 3, sharey=True)\n",
    "df.is_weekend.value_counts().plot(kind=\"barh\", ax = ax1)\n",
    "df[df.is_fraud == 0].is_weekend.value_counts().plot(kind=\"barh\", ax = ax2)\n",
    "df[df.is_fraud == 1].is_weekend.value_counts().plot(kind=\"barh\", ax = ax3)"
   ]
  },
  {
   "cell_type": "markdown",
   "id": "f089cc70",
   "metadata": {
    "id": "f089cc70"
   },
   "source": [
    "## III. Data Preparation"
   ]
  },
  {
   "cell_type": "markdown",
   "id": "2f35342f",
   "metadata": {
    "id": "2f35342f"
   },
   "source": [
    "### III.a. Data Cleaning"
   ]
  },
  {
   "cell_type": "code",
   "execution_count": 48,
   "id": "6c0fd243",
   "metadata": {
    "colab": {
     "base_uri": "https://localhost:8080/"
    },
    "id": "6c0fd243",
    "outputId": "95cf917e-c9ed-4d98-dd88-9f8c72862197"
   },
   "outputs": [
    {
     "name": "stdout",
     "output_type": "stream",
     "text": [
      "gender: False\n",
      "city_pop: False\n",
      "amt: False\n",
      "is_fraud: False\n",
      "area: False\n",
      "age: False\n",
      "distance: False\n",
      "hol_month: False\n",
      "is_weekend: False\n",
      "hour_type: False\n",
      "recent_shopper: False\n",
      "lat_long_type: False\n",
      "categ_type: False\n"
     ]
    }
   ],
   "source": [
    "# Checking for missing values in the dataset\n",
    "for col in df.columns:\n",
    "    null = df[col].isnull().values.any()\n",
    "    print(f\"{col}: {df[col].isna().values.any()}\")"
   ]
  },
  {
   "cell_type": "code",
   "execution_count": 49,
   "id": "e41afb08",
   "metadata": {
    "colab": {
     "base_uri": "https://localhost:8080/"
    },
    "id": "e41afb08",
    "outputId": "5a6a6e15-ebc7-4cf4-8330-7df0f843b2f7"
   },
   "outputs": [
    {
     "name": "stdout",
     "output_type": "stream",
     "text": [
      "gender: False\n",
      "city_pop: False\n",
      "amt: False\n",
      "is_fraud: False\n",
      "area: False\n",
      "age: False\n",
      "distance: False\n",
      "hol_month: False\n",
      "is_weekend: False\n",
      "hour_type: False\n",
      "recent_shopper: False\n",
      "lat_long_type: False\n",
      "categ_type: False\n"
     ]
    }
   ],
   "source": [
    "# Drop the instances have all null values present in the dataset\n",
    "df.dropna(axis = 0, how='all', inplace = True)\n",
    "\n",
    "# Checking for missing values in the dataset\n",
    "for col in df.columns:\n",
    "    null = df[col].isnull().values.any()\n",
    "    print(f\"{col}: {df[col].isna().values.any()}\")"
   ]
  },
  {
   "cell_type": "code",
   "execution_count": 50,
   "id": "a9b56242",
   "metadata": {
    "id": "a9b56242"
   },
   "outputs": [],
   "source": [
    "# Removing the entries where the target feature is not available as this is required for our modeling\n",
    "df.dropna(axis = 0, how='any', inplace = True) # Considered for all instances having null values in either features"
   ]
  },
  {
   "cell_type": "code",
   "execution_count": 51,
   "id": "76c04616",
   "metadata": {
    "colab": {
     "base_uri": "https://localhost:8080/"
    },
    "id": "76c04616",
    "outputId": "4fd831bf-83df-43c9-f317-539d4c2e0fa1"
   },
   "outputs": [
    {
     "name": "stdout",
     "output_type": "stream",
     "text": [
      "gender: False\n",
      "city_pop: False\n",
      "amt: False\n",
      "is_fraud: False\n",
      "area: False\n",
      "age: False\n",
      "distance: False\n",
      "hol_month: False\n",
      "is_weekend: False\n",
      "hour_type: False\n",
      "recent_shopper: False\n",
      "lat_long_type: False\n",
      "categ_type: False\n"
     ]
    }
   ],
   "source": [
    "# Checking for missing values in the dataset\n",
    "for col in df.columns:\n",
    "    null = df[col].isnull().values.any()\n",
    "    print(f\"{col}: {df[col].isna().values.any()}\")"
   ]
  },
  {
   "cell_type": "markdown",
   "id": "tnhv7MoJXPOr",
   "metadata": {
    "id": "tnhv7MoJXPOr"
   },
   "source": [
    "- All the missing value fields are eliminated from the dataframe"
   ]
  },
  {
   "cell_type": "code",
   "execution_count": 52,
   "id": "d7361873",
   "metadata": {
    "colab": {
     "base_uri": "https://localhost:8080/"
    },
    "id": "d7361873",
    "outputId": "70cef5e7-77d2-43b2-b880-394a2d15f51d"
   },
   "outputs": [
    {
     "data": {
      "text/plain": [
       "False    1751721\n",
       "dtype: int64"
      ]
     },
     "execution_count": 52,
     "metadata": {},
     "output_type": "execute_result"
    }
   ],
   "source": [
    "# Check for duplicates\n",
    "df.duplicated().value_counts()"
   ]
  },
  {
   "cell_type": "markdown",
   "id": "28273703",
   "metadata": {
    "id": "28273703"
   },
   "source": [
    "- Here we see there are no duplicate instances in the dataset"
   ]
  },
  {
   "cell_type": "markdown",
   "id": "b4c59432",
   "metadata": {
    "id": "b4c59432"
   },
   "source": [
    "#### III.c. Feature Engineering"
   ]
  },
  {
   "cell_type": "markdown",
   "id": "d5c1ba10",
   "metadata": {
    "id": "d5c1ba10"
   },
   "source": [
    "- The dataset consists of many categorical features. However, many of the machine learning models usually require numerical values as the input. Hence, necessary transformatin of data from categorical to numerical is must.In this section, we take multiple measures to convert data to make it suitable for modelling."
   ]
  },
  {
   "cell_type": "code",
   "execution_count": 53,
   "id": "b9ffd70d",
   "metadata": {
    "colab": {
     "base_uri": "https://localhost:8080/"
    },
    "id": "b9ffd70d",
    "outputId": "f9c5d686-9209-4f34-a8b4-f07bb444817f"
   },
   "outputs": [
    {
     "data": {
      "text/plain": [
       "Index(['gender', 'city_pop', 'amt', 'is_fraud', 'area', 'age', 'distance',\n",
       "       'hol_month', 'is_weekend', 'hour_type', 'recent_shopper',\n",
       "       'lat_long_type', 'categ_type'],\n",
       "      dtype='object')"
      ]
     },
     "execution_count": 53,
     "metadata": {},
     "output_type": "execute_result"
    }
   ],
   "source": [
    "#Below are the different features in the dataset\n",
    "df.columns"
   ]
  },
  {
   "cell_type": "code",
   "execution_count": 54,
   "id": "3c528e64",
   "metadata": {
    "colab": {
     "base_uri": "https://localhost:8080/",
     "height": 206
    },
    "id": "3c528e64",
    "outputId": "9f6c3e01-eac5-4e73-ba27-0343e3cf6e33"
   },
   "outputs": [
    {
     "data": {
      "text/html": [
       "<div>\n",
       "<style scoped>\n",
       "    .dataframe tbody tr th:only-of-type {\n",
       "        vertical-align: middle;\n",
       "    }\n",
       "\n",
       "    .dataframe tbody tr th {\n",
       "        vertical-align: top;\n",
       "    }\n",
       "\n",
       "    .dataframe thead th {\n",
       "        text-align: right;\n",
       "    }\n",
       "</style>\n",
       "<table border=\"1\" class=\"dataframe\">\n",
       "  <thead>\n",
       "    <tr style=\"text-align: right;\">\n",
       "      <th></th>\n",
       "      <th>gender</th>\n",
       "      <th>city_pop</th>\n",
       "      <th>amt</th>\n",
       "      <th>is_fraud</th>\n",
       "      <th>area</th>\n",
       "      <th>age</th>\n",
       "      <th>distance</th>\n",
       "      <th>hol_month</th>\n",
       "      <th>is_weekend</th>\n",
       "      <th>hour_type</th>\n",
       "      <th>recent_shopper</th>\n",
       "      <th>lat_long_type</th>\n",
       "      <th>categ_type</th>\n",
       "    </tr>\n",
       "  </thead>\n",
       "  <tbody>\n",
       "    <tr>\n",
       "      <th>0</th>\n",
       "      <td>F</td>\n",
       "      <td>39502</td>\n",
       "      <td>317.35</td>\n",
       "      <td>1.0</td>\n",
       "      <td>urban</td>\n",
       "      <td>95</td>\n",
       "      <td>25.136</td>\n",
       "      <td>1.0</td>\n",
       "      <td>0</td>\n",
       "      <td>midnight</td>\n",
       "      <td>past</td>\n",
       "      <td>1</td>\n",
       "      <td>3</td>\n",
       "    </tr>\n",
       "    <tr>\n",
       "      <th>1</th>\n",
       "      <td>F</td>\n",
       "      <td>39502</td>\n",
       "      <td>880.85</td>\n",
       "      <td>1.0</td>\n",
       "      <td>urban</td>\n",
       "      <td>95</td>\n",
       "      <td>7.231</td>\n",
       "      <td>1.0</td>\n",
       "      <td>0</td>\n",
       "      <td>daylight</td>\n",
       "      <td>recent</td>\n",
       "      <td>1</td>\n",
       "      <td>3</td>\n",
       "    </tr>\n",
       "    <tr>\n",
       "      <th>2</th>\n",
       "      <td>F</td>\n",
       "      <td>39502</td>\n",
       "      <td>962.98</td>\n",
       "      <td>1.0</td>\n",
       "      <td>urban</td>\n",
       "      <td>95</td>\n",
       "      <td>14.856</td>\n",
       "      <td>1.0</td>\n",
       "      <td>0</td>\n",
       "      <td>midnight</td>\n",
       "      <td>recent</td>\n",
       "      <td>1</td>\n",
       "      <td>3</td>\n",
       "    </tr>\n",
       "    <tr>\n",
       "      <th>3</th>\n",
       "      <td>F</td>\n",
       "      <td>8399</td>\n",
       "      <td>816.18</td>\n",
       "      <td>1.0</td>\n",
       "      <td>urban</td>\n",
       "      <td>57</td>\n",
       "      <td>35.963</td>\n",
       "      <td>2.0</td>\n",
       "      <td>0</td>\n",
       "      <td>midnight</td>\n",
       "      <td>recent</td>\n",
       "      <td>2</td>\n",
       "      <td>3</td>\n",
       "    </tr>\n",
       "    <tr>\n",
       "      <th>4</th>\n",
       "      <td>F</td>\n",
       "      <td>8399</td>\n",
       "      <td>1034.97</td>\n",
       "      <td>1.0</td>\n",
       "      <td>urban</td>\n",
       "      <td>57</td>\n",
       "      <td>45.031</td>\n",
       "      <td>2.0</td>\n",
       "      <td>0</td>\n",
       "      <td>daylight</td>\n",
       "      <td>recent</td>\n",
       "      <td>2</td>\n",
       "      <td>3</td>\n",
       "    </tr>\n",
       "  </tbody>\n",
       "</table>\n",
       "</div>"
      ],
      "text/plain": [
       "  gender  city_pop      amt  is_fraud   area  age  distance  hol_month  \\\n",
       "0      F     39502   317.35       1.0  urban   95    25.136        1.0   \n",
       "1      F     39502   880.85       1.0  urban   95     7.231        1.0   \n",
       "2      F     39502   962.98       1.0  urban   95    14.856        1.0   \n",
       "3      F      8399   816.18       1.0  urban   57    35.963        2.0   \n",
       "4      F      8399  1034.97       1.0  urban   57    45.031        2.0   \n",
       "\n",
       "   is_weekend hour_type recent_shopper  lat_long_type  categ_type  \n",
       "0           0  midnight           past              1           3  \n",
       "1           0  daylight         recent              1           3  \n",
       "2           0  midnight         recent              1           3  \n",
       "3           0  midnight         recent              2           3  \n",
       "4           0  daylight         recent              2           3  "
      ]
     },
     "execution_count": 54,
     "metadata": {},
     "output_type": "execute_result"
    }
   ],
   "source": [
    "# sample dataframe after dropping unnecessary columns\n",
    "df.head()"
   ]
  },
  {
   "cell_type": "code",
   "execution_count": 55,
   "id": "i6XFsyocH-5Z",
   "metadata": {
    "colab": {
     "base_uri": "https://localhost:8080/"
    },
    "id": "i6XFsyocH-5Z",
    "outputId": "ffded559-c192-492a-a223-84569a7839a2"
   },
   "outputs": [],
   "source": [
    "# Label Encoding\n",
    "from sklearn import preprocessing\n",
    "label_encoder=preprocessing.LabelEncoder()\n",
    "\n",
    "df['categ_type']=label_encoder.fit_transform(df['categ_type'])\n",
    "df['lat_long_type']=label_encoder.fit_transform(df['lat_long_type'])"
   ]
  },
  {
   "cell_type": "code",
   "execution_count": 56,
   "id": "hWtRDcnKIyiM",
   "metadata": {
    "colab": {
     "base_uri": "https://localhost:8080/"
    },
    "id": "hWtRDcnKIyiM",
    "outputId": "0a4fd9fb-4faa-4bce-e3d9-07c50402be25"
   },
   "outputs": [
    {
     "data": {
      "text/plain": [
       "Index(['gender', 'city_pop', 'amt', 'is_fraud', 'area', 'age', 'distance',\n",
       "       'hol_month', 'is_weekend', 'hour_type', 'recent_shopper',\n",
       "       'lat_long_type', 'categ_type'],\n",
       "      dtype='object')"
      ]
     },
     "execution_count": 56,
     "metadata": {},
     "output_type": "execute_result"
    }
   ],
   "source": [
    "df.columns"
   ]
  },
  {
   "cell_type": "code",
   "execution_count": 57,
   "id": "FVxXU1SMJAz6",
   "metadata": {
    "id": "FVxXU1SMJAz6"
   },
   "outputs": [
    {
     "name": "stdout",
     "output_type": "stream",
     "text": [
      "gender 0.011816646789754925 True\n",
      "area 0.9952116981974969 False\n",
      "hol_month 3.384267476615273e-36 True\n",
      "is_weekend 1.711962979716311e-80 True\n",
      "hour_type 0.0 True\n",
      "recent_shopper 1.9626976385969158e-90 True\n",
      "lat_long_type 4.8147231182969436e-111 True\n",
      "categ_type 0.0 True\n"
     ]
    }
   ],
   "source": [
    "# Finding dependency with the target variable using chi-squared test statistics\n",
    "cols=['gender','area','hol_month','is_weekend','hour_type','recent_shopper','lat_long_type','categ_type']\n",
    "for i in df[cols]:\n",
    "    data_interim=df[[i, 'is_fraud']]\n",
    "\n",
    "    data_cont=pd.crosstab(data_interim[i],data_interim['is_fraud'])\n",
    "\n",
    "    from scipy.stats import chi2_contingency\n",
    "    stat, p, dof, expected = chi2_contingency(data_cont)\n",
    "\n",
    "    #-----------interpret p-value\n",
    "    alpha = 0.05\n",
    "    print(i,p,p<alpha)"
   ]
  },
  {
   "cell_type": "code",
   "execution_count": 58,
   "id": "e92fa879",
   "metadata": {
    "id": "e92fa879"
   },
   "outputs": [],
   "source": [
    "# One-hot Encoding \n",
    "df = pd.get_dummies(df, columns = ['gender', 'area','hour_type','recent_shopper'])"
   ]
  },
  {
   "cell_type": "code",
   "execution_count": 59,
   "id": "6h47u_qTIdYZ",
   "metadata": {
    "id": "6h47u_qTIdYZ"
   },
   "outputs": [],
   "source": [
    "# Selecting only the valuable fields\n",
    "df.drop(['gender_F','area_urban','hour_type_daylight','recent_shopper_past','area_urban','area_rural'],axis=1,inplace=True)"
   ]
  },
  {
   "cell_type": "code",
   "execution_count": 60,
   "id": "dd17e740",
   "metadata": {
    "colab": {
     "base_uri": "https://localhost:8080/",
     "height": 206
    },
    "id": "dd17e740",
    "outputId": "4c176af0-94fd-41d8-aaf1-f9c7e2589e38"
   },
   "outputs": [
    {
     "data": {
      "text/html": [
       "<div>\n",
       "<style scoped>\n",
       "    .dataframe tbody tr th:only-of-type {\n",
       "        vertical-align: middle;\n",
       "    }\n",
       "\n",
       "    .dataframe tbody tr th {\n",
       "        vertical-align: top;\n",
       "    }\n",
       "\n",
       "    .dataframe thead th {\n",
       "        text-align: right;\n",
       "    }\n",
       "</style>\n",
       "<table border=\"1\" class=\"dataframe\">\n",
       "  <thead>\n",
       "    <tr style=\"text-align: right;\">\n",
       "      <th></th>\n",
       "      <th>city_pop</th>\n",
       "      <th>amt</th>\n",
       "      <th>is_fraud</th>\n",
       "      <th>age</th>\n",
       "      <th>distance</th>\n",
       "      <th>hol_month</th>\n",
       "      <th>is_weekend</th>\n",
       "      <th>lat_long_type</th>\n",
       "      <th>categ_type</th>\n",
       "      <th>gender_M</th>\n",
       "      <th>hour_type_midnight</th>\n",
       "      <th>recent_shopper_recent</th>\n",
       "    </tr>\n",
       "  </thead>\n",
       "  <tbody>\n",
       "    <tr>\n",
       "      <th>0</th>\n",
       "      <td>39502</td>\n",
       "      <td>317.35</td>\n",
       "      <td>1.0</td>\n",
       "      <td>95</td>\n",
       "      <td>25.136</td>\n",
       "      <td>1.0</td>\n",
       "      <td>0</td>\n",
       "      <td>0</td>\n",
       "      <td>2</td>\n",
       "      <td>0</td>\n",
       "      <td>1</td>\n",
       "      <td>0</td>\n",
       "    </tr>\n",
       "    <tr>\n",
       "      <th>1</th>\n",
       "      <td>39502</td>\n",
       "      <td>880.85</td>\n",
       "      <td>1.0</td>\n",
       "      <td>95</td>\n",
       "      <td>7.231</td>\n",
       "      <td>1.0</td>\n",
       "      <td>0</td>\n",
       "      <td>0</td>\n",
       "      <td>2</td>\n",
       "      <td>0</td>\n",
       "      <td>0</td>\n",
       "      <td>1</td>\n",
       "    </tr>\n",
       "    <tr>\n",
       "      <th>2</th>\n",
       "      <td>39502</td>\n",
       "      <td>962.98</td>\n",
       "      <td>1.0</td>\n",
       "      <td>95</td>\n",
       "      <td>14.856</td>\n",
       "      <td>1.0</td>\n",
       "      <td>0</td>\n",
       "      <td>0</td>\n",
       "      <td>2</td>\n",
       "      <td>0</td>\n",
       "      <td>1</td>\n",
       "      <td>1</td>\n",
       "    </tr>\n",
       "    <tr>\n",
       "      <th>3</th>\n",
       "      <td>8399</td>\n",
       "      <td>816.18</td>\n",
       "      <td>1.0</td>\n",
       "      <td>57</td>\n",
       "      <td>35.963</td>\n",
       "      <td>2.0</td>\n",
       "      <td>0</td>\n",
       "      <td>1</td>\n",
       "      <td>2</td>\n",
       "      <td>0</td>\n",
       "      <td>1</td>\n",
       "      <td>1</td>\n",
       "    </tr>\n",
       "    <tr>\n",
       "      <th>4</th>\n",
       "      <td>8399</td>\n",
       "      <td>1034.97</td>\n",
       "      <td>1.0</td>\n",
       "      <td>57</td>\n",
       "      <td>45.031</td>\n",
       "      <td>2.0</td>\n",
       "      <td>0</td>\n",
       "      <td>1</td>\n",
       "      <td>2</td>\n",
       "      <td>0</td>\n",
       "      <td>0</td>\n",
       "      <td>1</td>\n",
       "    </tr>\n",
       "  </tbody>\n",
       "</table>\n",
       "</div>"
      ],
      "text/plain": [
       "   city_pop      amt  is_fraud  age  distance  hol_month  is_weekend  \\\n",
       "0     39502   317.35       1.0   95    25.136        1.0           0   \n",
       "1     39502   880.85       1.0   95     7.231        1.0           0   \n",
       "2     39502   962.98       1.0   95    14.856        1.0           0   \n",
       "3      8399   816.18       1.0   57    35.963        2.0           0   \n",
       "4      8399  1034.97       1.0   57    45.031        2.0           0   \n",
       "\n",
       "   lat_long_type  categ_type  gender_M  hour_type_midnight  \\\n",
       "0              0           2         0                   1   \n",
       "1              0           2         0                   0   \n",
       "2              0           2         0                   1   \n",
       "3              1           2         0                   1   \n",
       "4              1           2         0                   0   \n",
       "\n",
       "   recent_shopper_recent  \n",
       "0                      0  \n",
       "1                      1  \n",
       "2                      1  \n",
       "3                      1  \n",
       "4                      1  "
      ]
     },
     "execution_count": 60,
     "metadata": {},
     "output_type": "execute_result"
    }
   ],
   "source": [
    "# sample dataframe after one hot encoding of gender and category variable\n",
    "df.head(5)"
   ]
  },
  {
   "cell_type": "code",
   "execution_count": 61,
   "id": "30258554",
   "metadata": {
    "colab": {
     "base_uri": "https://localhost:8080/",
     "height": 716
    },
    "id": "30258554",
    "outputId": "f0df7b15-7b48-4833-b0b7-3778c29f7708"
   },
   "outputs": [
    {
     "data": {
      "image/png": "[encoded data removed]",
      "text/plain": [
       "<Figure size 1440x864 with 12 Axes>"
      ]
     },
     "metadata": {
      "needs_background": "light"
     },
     "output_type": "display_data"
    }
   ],
   "source": [
    "# Plotting the histograms for the continuous attributes in the dataset \n",
    "%matplotlib inline \n",
    "\n",
    "df.hist(bins=20, figsize = (20,12))\n",
    "plt.show()"
   ]
  },
  {
   "cell_type": "markdown",
   "id": "zb7zyOFZYO65",
   "metadata": {
    "id": "zb7zyOFZYO65"
   },
   "source": [
    "- From the above histogram, we can see that most of the distributions do not follow normal distribution"
   ]
  },
  {
   "cell_type": "markdown",
   "id": "b5635a4f",
   "metadata": {
    "id": "b5635a4f"
   },
   "source": [
    "#### III.c  Data Scaling: Normalization"
   ]
  },
  {
   "cell_type": "code",
   "execution_count": 62,
   "id": "c2c04fde",
   "metadata": {
    "id": "c2c04fde"
   },
   "outputs": [],
   "source": [
    " ## We are doing range normalisation only for the fields which includes wide variety of values.\n",
    "\n",
    "for col in df.columns:\n",
    "    x = df[col].unique()"
   ]
  },
  {
   "cell_type": "code",
   "execution_count": 63,
   "id": "ffbc8a05",
   "metadata": {
    "colab": {
     "base_uri": "https://localhost:8080/",
     "height": 206
    },
    "id": "ffbc8a05",
    "outputId": "5df82ea5-a211-474d-e952-350656a4cb6b"
   },
   "outputs": [
    {
     "data": {
      "text/html": [
       "<div>\n",
       "<style scoped>\n",
       "    .dataframe tbody tr th:only-of-type {\n",
       "        vertical-align: middle;\n",
       "    }\n",
       "\n",
       "    .dataframe tbody tr th {\n",
       "        vertical-align: top;\n",
       "    }\n",
       "\n",
       "    .dataframe thead th {\n",
       "        text-align: right;\n",
       "    }\n",
       "</style>\n",
       "<table border=\"1\" class=\"dataframe\">\n",
       "  <thead>\n",
       "    <tr style=\"text-align: right;\">\n",
       "      <th></th>\n",
       "      <th>city_pop</th>\n",
       "      <th>amt</th>\n",
       "      <th>is_fraud</th>\n",
       "      <th>age</th>\n",
       "      <th>distance</th>\n",
       "      <th>hol_month</th>\n",
       "      <th>is_weekend</th>\n",
       "      <th>lat_long_type</th>\n",
       "      <th>categ_type</th>\n",
       "      <th>gender_M</th>\n",
       "      <th>hour_type_midnight</th>\n",
       "      <th>recent_shopper_recent</th>\n",
       "    </tr>\n",
       "  </thead>\n",
       "  <tbody>\n",
       "    <tr>\n",
       "      <th>0</th>\n",
       "      <td>0.013530</td>\n",
       "      <td>0.014344</td>\n",
       "      <td>1.0</td>\n",
       "      <td>0.987654</td>\n",
       "      <td>0.270223</td>\n",
       "      <td>0.0</td>\n",
       "      <td>0.0</td>\n",
       "      <td>0.0</td>\n",
       "      <td>1.0</td>\n",
       "      <td>0.0</td>\n",
       "      <td>1.0</td>\n",
       "      <td>0.0</td>\n",
       "    </tr>\n",
       "    <tr>\n",
       "      <th>1</th>\n",
       "      <td>0.013530</td>\n",
       "      <td>0.039896</td>\n",
       "      <td>1.0</td>\n",
       "      <td>0.987654</td>\n",
       "      <td>0.077621</td>\n",
       "      <td>0.0</td>\n",
       "      <td>0.0</td>\n",
       "      <td>0.0</td>\n",
       "      <td>1.0</td>\n",
       "      <td>0.0</td>\n",
       "      <td>0.0</td>\n",
       "      <td>1.0</td>\n",
       "    </tr>\n",
       "    <tr>\n",
       "      <th>2</th>\n",
       "      <td>0.013530</td>\n",
       "      <td>0.043620</td>\n",
       "      <td>1.0</td>\n",
       "      <td>0.987654</td>\n",
       "      <td>0.159642</td>\n",
       "      <td>0.0</td>\n",
       "      <td>0.0</td>\n",
       "      <td>0.0</td>\n",
       "      <td>1.0</td>\n",
       "      <td>0.0</td>\n",
       "      <td>1.0</td>\n",
       "      <td>1.0</td>\n",
       "    </tr>\n",
       "    <tr>\n",
       "      <th>3</th>\n",
       "      <td>0.002829</td>\n",
       "      <td>0.036963</td>\n",
       "      <td>1.0</td>\n",
       "      <td>0.518519</td>\n",
       "      <td>0.386687</td>\n",
       "      <td>1.0</td>\n",
       "      <td>0.0</td>\n",
       "      <td>0.5</td>\n",
       "      <td>1.0</td>\n",
       "      <td>0.0</td>\n",
       "      <td>1.0</td>\n",
       "      <td>1.0</td>\n",
       "    </tr>\n",
       "    <tr>\n",
       "      <th>4</th>\n",
       "      <td>0.002829</td>\n",
       "      <td>0.046884</td>\n",
       "      <td>1.0</td>\n",
       "      <td>0.518519</td>\n",
       "      <td>0.484230</td>\n",
       "      <td>1.0</td>\n",
       "      <td>0.0</td>\n",
       "      <td>0.5</td>\n",
       "      <td>1.0</td>\n",
       "      <td>0.0</td>\n",
       "      <td>0.0</td>\n",
       "      <td>1.0</td>\n",
       "    </tr>\n",
       "  </tbody>\n",
       "</table>\n",
       "</div>"
      ],
      "text/plain": [
       "   city_pop       amt  is_fraud       age  distance  hol_month  is_weekend  \\\n",
       "0  0.013530  0.014344       1.0  0.987654  0.270223        0.0         0.0   \n",
       "1  0.013530  0.039896       1.0  0.987654  0.077621        0.0         0.0   \n",
       "2  0.013530  0.043620       1.0  0.987654  0.159642        0.0         0.0   \n",
       "3  0.002829  0.036963       1.0  0.518519  0.386687        1.0         0.0   \n",
       "4  0.002829  0.046884       1.0  0.518519  0.484230        1.0         0.0   \n",
       "\n",
       "   lat_long_type  categ_type  gender_M  hour_type_midnight  \\\n",
       "0            0.0         1.0       0.0                 1.0   \n",
       "1            0.0         1.0       0.0                 0.0   \n",
       "2            0.0         1.0       0.0                 1.0   \n",
       "3            0.5         1.0       0.0                 1.0   \n",
       "4            0.5         1.0       0.0                 0.0   \n",
       "\n",
       "   recent_shopper_recent  \n",
       "0                    0.0  \n",
       "1                    1.0  \n",
       "2                    1.0  \n",
       "3                    1.0  \n",
       "4                    1.0  "
      ]
     },
     "execution_count": 63,
     "metadata": {},
     "output_type": "execute_result"
    }
   ],
   "source": [
    "# Range normalisation\n",
    "\n",
    "# apply normalization techniques\n",
    "for column in df.columns:\n",
    "    df[column] = (df[column] - df[column].min()) / (df[column].max() - df[column].min())\n",
    "\n",
    "# view normalized data\n",
    "df.head()"
   ]
  },
  {
   "cell_type": "code",
   "execution_count": 64,
   "id": "f1a489c3",
   "metadata": {},
   "outputs": [],
   "source": [
    "df=pd.read_csv(r\"C:\\Users\\Revathi P\\Documents\\Sem 2\\DATA_245\\Project\\dataset\\Normalized_updated_features.csv\")"
   ]
  },
  {
   "cell_type": "code",
   "execution_count": 65,
   "id": "c8de08c7",
   "metadata": {},
   "outputs": [],
   "source": [
    "df.drop(['Unnamed: 0'],axis=1,inplace=True)"
   ]
  },
  {
   "cell_type": "code",
   "execution_count": 66,
   "id": "1246059d",
   "metadata": {},
   "outputs": [
    {
     "data": {
      "text/html": [
       "<div>\n",
       "<style scoped>\n",
       "    .dataframe tbody tr th:only-of-type {\n",
       "        vertical-align: middle;\n",
       "    }\n",
       "\n",
       "    .dataframe tbody tr th {\n",
       "        vertical-align: top;\n",
       "    }\n",
       "\n",
       "    .dataframe thead th {\n",
       "        text-align: right;\n",
       "    }\n",
       "</style>\n",
       "<table border=\"1\" class=\"dataframe\">\n",
       "  <thead>\n",
       "    <tr style=\"text-align: right;\">\n",
       "      <th></th>\n",
       "      <th>city_pop</th>\n",
       "      <th>amt</th>\n",
       "      <th>is_fraud</th>\n",
       "      <th>age</th>\n",
       "      <th>distance</th>\n",
       "      <th>hol_month</th>\n",
       "      <th>is_weekend</th>\n",
       "      <th>lat_long_type</th>\n",
       "      <th>categ_type</th>\n",
       "      <th>gender_M</th>\n",
       "      <th>hour_type_midnight</th>\n",
       "      <th>recent_shopper_recent</th>\n",
       "    </tr>\n",
       "  </thead>\n",
       "  <tbody>\n",
       "    <tr>\n",
       "      <th>0</th>\n",
       "      <td>0.01353</td>\n",
       "      <td>0.014344</td>\n",
       "      <td>1.0</td>\n",
       "      <td>0.987654</td>\n",
       "      <td>0.270223</td>\n",
       "      <td>0.0</td>\n",
       "      <td>0.0</td>\n",
       "      <td>0.0</td>\n",
       "      <td>1.0</td>\n",
       "      <td>0.0</td>\n",
       "      <td>1.0</td>\n",
       "      <td>0.0</td>\n",
       "    </tr>\n",
       "    <tr>\n",
       "      <th>1</th>\n",
       "      <td>0.01353</td>\n",
       "      <td>0.039896</td>\n",
       "      <td>1.0</td>\n",
       "      <td>0.987654</td>\n",
       "      <td>0.077621</td>\n",
       "      <td>0.0</td>\n",
       "      <td>0.0</td>\n",
       "      <td>0.0</td>\n",
       "      <td>1.0</td>\n",
       "      <td>0.0</td>\n",
       "      <td>0.0</td>\n",
       "      <td>1.0</td>\n",
       "    </tr>\n",
       "  </tbody>\n",
       "</table>\n",
       "</div>"
      ],
      "text/plain": [
       "   city_pop       amt  is_fraud       age  distance  hol_month  is_weekend  \\\n",
       "0   0.01353  0.014344       1.0  0.987654  0.270223        0.0         0.0   \n",
       "1   0.01353  0.039896       1.0  0.987654  0.077621        0.0         0.0   \n",
       "\n",
       "   lat_long_type  categ_type  gender_M  hour_type_midnight  \\\n",
       "0            0.0         1.0       0.0                 1.0   \n",
       "1            0.0         1.0       0.0                 0.0   \n",
       "\n",
       "   recent_shopper_recent  \n",
       "0                    0.0  \n",
       "1                    1.0  "
      ]
     },
     "execution_count": 66,
     "metadata": {},
     "output_type": "execute_result"
    }
   ],
   "source": [
    "df.head(2)"
   ]
  },
  {
   "cell_type": "markdown",
   "id": "db0d8690",
   "metadata": {
    "id": "db0d8690"
   },
   "source": [
    "#### III.d. Sampling\n",
    "\n",
    "- As our data is imbalanced, we will be experimenting upsampling, downsampling, updownsampling, and SMOTE methods."
   ]
  },
  {
   "cell_type": "code",
   "execution_count": 67,
   "id": "PvWc6UlkhhKS",
   "metadata": {
    "id": "PvWc6UlkhhKS"
   },
   "outputs": [],
   "source": [
    "#separating fraud and non-fraud transaction\n",
    "FraudDataset = df.loc[df['is_fraud'] == 1]\n",
    "ValidDataset = df.loc[df['is_fraud'] == 0]"
   ]
  },
  {
   "cell_type": "code",
   "execution_count": 68,
   "id": "MWckidPRZrFh",
   "metadata": {
    "colab": {
     "base_uri": "https://localhost:8080/"
    },
    "id": "MWckidPRZrFh",
    "outputId": "6c9fa413-3aec-4eb1-8920-064eba5c8ed7"
   },
   "outputs": [
    {
     "name": "stdout",
     "output_type": "stream",
     "text": [
      "Count of fraudulent transations: 9310\n",
      "Count of non-fraudulent transations: 1742411\n"
     ]
    }
   ],
   "source": [
    "print('Count of fraudulent transations:', len(FraudDataset))\n",
    "print('Count of non-fraudulent transations:', len(ValidDataset))"
   ]
  },
  {
   "cell_type": "code",
   "execution_count": 69,
   "id": "f5535a64",
   "metadata": {
    "colab": {
     "base_uri": "https://localhost:8080/"
    },
    "id": "f5535a64",
    "outputId": "d63624b8-0bf2-4cc7-cda3-82dd01569861"
   },
   "outputs": [
    {
     "name": "stdout",
     "output_type": "stream",
     "text": [
      "(9310, 12)\n"
     ]
    }
   ],
   "source": [
    "#1) downsampling valid dataset to 9310 , total 18,620 records\n",
    "#downsampling\n",
    "from sklearn.utils import resample\n",
    "valid_downsample = resample(ValidDataset,\n",
    "             replace=True,\n",
    "             n_samples= len(FraudDataset),\n",
    "             random_state=42)\n",
    "\n",
    "print(valid_downsample.shape)"
   ]
  },
  {
   "cell_type": "code",
   "execution_count": 70,
   "id": "0EIHLpxWhAkg",
   "metadata": {
    "colab": {
     "base_uri": "https://localhost:8080/"
    },
    "id": "0EIHLpxWhAkg",
    "outputId": "2a2ace85-3793-4fb7-90cd-6cad827814c9"
   },
   "outputs": [
    {
     "name": "stdout",
     "output_type": "stream",
     "text": [
      "0.0    9310\n",
      "1.0    9310\n",
      "Name: is_fraud, dtype: int64\n"
     ]
    }
   ],
   "source": [
    "#combining 2 datasets \n",
    "df2 = pd.concat([valid_downsample, FraudDataset])\n",
    "print(df2['is_fraud'].value_counts())"
   ]
  },
  {
   "cell_type": "code",
   "execution_count": 71,
   "id": "YxQHna1OhAnK",
   "metadata": {
    "colab": {
     "base_uri": "https://localhost:8080/",
     "height": 266
    },
    "id": "YxQHna1OhAnK",
    "outputId": "b730612b-2508-4034-fc76-1d2ed0a462a4"
   },
   "outputs": [
    {
     "data": {
      "text/plain": [
       "<AxesSubplot:ylabel='Type'>"
      ]
     },
     "execution_count": 71,
     "metadata": {},
     "output_type": "execute_result"
    },
    {
     "data": {
      "image/png": "[encoded data removed]",
      "text/plain": [
       "<Figure size 432x288 with 1 Axes>"
      ]
     },
     "metadata": {},
     "output_type": "display_data"
    }
   ],
   "source": [
    "#plotting piechart after resampling\n",
    "df2.groupby('is_fraud').size().plot(kind='pie',\n",
    "                                       y = 'is_fraud',\n",
    "                                       label = \"Type\",\n",
    "                                       autopct='%1.1f%%')"
   ]
  },
  {
   "cell_type": "code",
   "execution_count": 72,
   "id": "ih_X1D7_hAp0",
   "metadata": {
    "colab": {
     "base_uri": "https://localhost:8080/"
    },
    "id": "ih_X1D7_hAp0",
    "outputId": "ff1616ed-e9fe-4c67-ae97-1f9861eefa67"
   },
   "outputs": [
    {
     "data": {
      "text/plain": [
       "((18620, 11), (18620,))"
      ]
     },
     "execution_count": 72,
     "metadata": {},
     "output_type": "execute_result"
    }
   ],
   "source": [
    "X = df2.drop(labels='is_fraud', axis=1)\n",
    "y = df2['is_fraud']\n",
    "X.shape, y.shape"
   ]
  },
  {
   "cell_type": "code",
   "execution_count": 73,
   "id": "bs4j4FfYhAvO",
   "metadata": {
    "id": "bs4j4FfYhAvO"
   },
   "outputs": [],
   "source": [
    "#2)Upsampling fraud dataset to  17,42411 , total 3484822 records\n",
    "# #upsampling\n",
    "# from sklearn.utils import resample\n",
    "# fraud_upsample = resample(FraudDataset,\n",
    "#              replace=True,\n",
    "#              n_samples=len(ValidDataset),\n",
    "#              random_state=42)\n",
    "\n",
    "# print(fraud_upsample.shape)"
   ]
  },
  {
   "cell_type": "code",
   "execution_count": 74,
   "id": "26d8a638",
   "metadata": {
    "id": "26d8a638"
   },
   "outputs": [],
   "source": [
    "# #combining 2 datasets \n",
    "# df2 = pd.concat([fraud_upsample, ValidDataset])\n",
    "# print(df2['is_fraud'].value_counts())"
   ]
  },
  {
   "cell_type": "code",
   "execution_count": 75,
   "id": "09aecddc",
   "metadata": {
    "id": "09aecddc"
   },
   "outputs": [],
   "source": [
    "# #plotting piechart after resampling\n",
    "# df2.groupby('is_fraud').size().plot(kind='pie',\n",
    "#                                        y = 'is_fraud',\n",
    "#                                        label = \"Type\",\n",
    "#                                        autopct='%1.1f%%')"
   ]
  },
  {
   "cell_type": "code",
   "execution_count": 76,
   "id": "dd087dbf",
   "metadata": {
    "id": "dd087dbf"
   },
   "outputs": [],
   "source": [
    "#3) upsampling and downsamplimg to some threhold  value say 50000\n",
    "# #downsampling\n",
    "# from sklearn.utils import resample\n",
    "# valid_downsample = resample(ValidDataset,\n",
    "#              replace=True,\n",
    "#              n_samples= 50000,\n",
    "#              random_state=42)\n",
    "\n",
    "# print(valid_downsample.shape)"
   ]
  },
  {
   "cell_type": "code",
   "execution_count": 77,
   "id": "8d1c8b05",
   "metadata": {
    "id": "8d1c8b05"
   },
   "outputs": [],
   "source": [
    "# #upsampling\n",
    "# from sklearn.utils import resample\n",
    "# fraud_upsample = resample(FraudDataset,\n",
    "#              replace=True,\n",
    "#              n_samples=len(valid_downsample),\n",
    "#              random_state=42)\n",
    "\n",
    "# print(fraud_upsample.shape)"
   ]
  },
  {
   "cell_type": "code",
   "execution_count": 78,
   "id": "b735259d",
   "metadata": {
    "id": "b735259d"
   },
   "outputs": [],
   "source": [
    "# #combining 2 datasets \n",
    "# df2 = pd.concat([fraud_upsample, valid_downsample])\n",
    "# print(df2['is_fraud'].value_counts())"
   ]
  },
  {
   "cell_type": "code",
   "execution_count": 79,
   "id": "4d65c7dd",
   "metadata": {
    "id": "4d65c7dd"
   },
   "outputs": [],
   "source": [
    "# #plotting piechart after resampling\n",
    "# df2.groupby('is_fraud').size().plot(kind='pie',\n",
    "#                                        y = 'is_fraud',\n",
    "#                                        label = \"Type\",\n",
    "#                                        autopct='%1.1f%%')"
   ]
  },
  {
   "cell_type": "code",
   "execution_count": 80,
   "id": "fc5c8adf",
   "metadata": {
    "id": "fc5c8adf"
   },
   "outputs": [],
   "source": [
    "#4) SMOTE - upsampling fraud dataset to 17,42411  - it might create noisy data by over sampling\n",
    "# X = df.drop(labels='is_fraud', axis=1)\n",
    "# y = df[['is_fraud']]"
   ]
  },
  {
   "cell_type": "code",
   "execution_count": 81,
   "id": "df2d3802",
   "metadata": {
    "id": "df2d3802"
   },
   "outputs": [],
   "source": [
    "# su = SMOTE(random_state=42)"
   ]
  },
  {
   "cell_type": "code",
   "execution_count": 82,
   "id": "2fc19b44",
   "metadata": {
    "id": "2fc19b44"
   },
   "outputs": [],
   "source": [
    "# su.fit_resample(X,y)"
   ]
  },
  {
   "cell_type": "code",
   "execution_count": 83,
   "id": "062a0614",
   "metadata": {
    "id": "062a0614"
   },
   "outputs": [],
   "source": [
    "# X_su, y_su = su.fit_resample(X, y)"
   ]
  },
  {
   "cell_type": "code",
   "execution_count": 84,
   "id": "5c837567",
   "metadata": {
    "id": "5c837567"
   },
   "outputs": [],
   "source": [
    "# #combining 2 datasets \n",
    "# df2 = pd.concat([X_su, y_su])\n",
    "# print(df2['is_fraud'].value_counts())"
   ]
  },
  {
   "cell_type": "code",
   "execution_count": 85,
   "id": "fa1f7e3d",
   "metadata": {
    "id": "fa1f7e3d"
   },
   "outputs": [],
   "source": [
    "# #plotting piechart after resampling\n",
    "# y_su.groupby('is_fraud').size().plot(kind='pie',\n",
    "#                                        y = 'is_fraud',\n",
    "#                                        label = \"Type\",\n",
    "#                                        autopct='%1.1f%%')"
   ]
  },
  {
   "cell_type": "markdown",
   "id": "bd3348e4",
   "metadata": {
    "id": "bd3348e4"
   },
   "source": [
    "#### III.e. Split data into Training and Testing"
   ]
  },
  {
   "cell_type": "code",
   "execution_count": 86,
   "id": "1fc3703c",
   "metadata": {
    "colab": {
     "base_uri": "https://localhost:8080/",
     "height": 176
    },
    "id": "1fc3703c",
    "outputId": "e6e30e1b-1809-4c4f-d832-1908ec9861f6"
   },
   "outputs": [],
   "source": [
    "# df = df.iloc[: , 1:]\n",
    "# df.head(2)"
   ]
  },
  {
   "cell_type": "code",
   "execution_count": 87,
   "id": "1e8a336f",
   "metadata": {
    "id": "1e8a336f"
   },
   "outputs": [],
   "source": [
    "# # assigning features to X and target to y\n",
    "\n",
    "# X = df[['city', 'city_pop', 'job', 'category', 'amt', 'merchant',\n",
    "#        'distance', 'year', 'month', 'day_of_month', 'is_weekend', 'hour',\n",
    "#        'gender_F', 'gender_M', 'age_category_adult', 'age_category_senior',\n",
    "#        'age_category_young', 'area_rural', 'area_urban']]\n",
    "\n",
    "# y = df.is_fraud"
   ]
  },
  {
   "cell_type": "code",
   "execution_count": 88,
   "id": "b08b1258",
   "metadata": {
    "colab": {
     "base_uri": "https://localhost:8080/"
    },
    "id": "b08b1258",
    "outputId": "2ea20b00-49a0-4a9b-ef7c-ffecc238a199"
   },
   "outputs": [
    {
     "name": "stdout",
     "output_type": "stream",
     "text": [
      "Training dataset : (14896, 11) (14896,)\n",
      "Testing dataset : (3724, 11), (3724,)\n"
     ]
    }
   ],
   "source": [
    "# splitting the dataset into training and testing set\n",
    "\n",
    "from sklearn.model_selection import train_test_split\n",
    "\n",
    "xtrain, xtest, ytrain, ytest = train_test_split(X, y, stratify=y,train_size=.80,shuffle = True, random_state= 42)\n",
    "\n",
    "print(f'Training dataset : {xtrain.shape} {ytrain.shape}') # dimension of train set\n",
    "print(f'Testing dataset : {xtest.shape}, {ytest.shape}') # dimension of test set"
   ]
  },
  {
   "cell_type": "markdown",
   "id": "8623eefe",
   "metadata": {
    "id": "8623eefe"
   },
   "source": [
    "#### Dimentionality Reduction using PCA"
   ]
  },
  {
   "cell_type": "code",
   "execution_count": 89,
   "id": "027dcbad",
   "metadata": {
    "id": "027dcbad"
   },
   "outputs": [],
   "source": [
    "# # Plotting scree plot to decide the number of principle components required\n",
    "# # Experiment on whether standardization or normalization for PCA (mostly they use both, but need to read more)\n",
    "\n",
    "# pca = PCA(n_components=10)\n",
    "\n",
    "# #fit PCA model to data\n",
    "# pca_fit = pca.fit(xtrain)\n",
    "\n",
    "# PC_values = np.arange(pca.n_components_) + 1\n",
    "# plt.plot(PC_values, pca.explained_variance_ratio_, 'o-', linewidth=2, color='blue')\n",
    "# plt.title('Scree Plot')\n",
    "# plt.xlabel('Principal Component')\n",
    "# plt.ylabel('Variance Explained')\n",
    "# plt.show()"
   ]
  },
  {
   "cell_type": "code",
   "execution_count": 90,
   "id": "d770a8ff",
   "metadata": {
    "id": "d770a8ff"
   },
   "outputs": [],
   "source": [
    "# # 4 components are selected based on observation from screeplot\n",
    "# # This will consider 4 principle components from the dataframe which can further be used for modelling\n",
    "# pca = PCA(n_components=4)\n",
    "# X_train = pca.fit_transform(xtrain)\n",
    "# X_test = pca.transform(xtest)"
   ]
  },
  {
   "cell_type": "markdown",
   "id": "069450d8",
   "metadata": {
    "id": "069450d8"
   },
   "source": [
    "## IV. Modeling"
   ]
  },
  {
   "cell_type": "code",
   "execution_count": 91,
   "id": "6654f33f",
   "metadata": {},
   "outputs": [],
   "source": [
    "# Random Forest"
   ]
  },
  {
   "cell_type": "code",
   "execution_count": null,
   "id": "44c11e72",
   "metadata": {},
   "outputs": [],
   "source": [
    "# Normal"
   ]
  },
  {
   "cell_type": "code",
   "execution_count": 65,
   "id": "f9d31f69",
   "metadata": {},
   "outputs": [],
   "source": [
    "#Import Random Forest Model\n",
    "from sklearn.ensemble import RandomForestClassifier\n",
    "\n",
    "#Create a Gaussian Classifier\n",
    "clf=RandomForestClassifier(n_estimators=100)\n",
    "\n",
    "#Train the model using the training sets y_pred=clf.predict(X_test)\n",
    "clf.fit(xtrain,ytrain)\n",
    "\n",
    "y_pred=clf.predict(xtest)"
   ]
  },
  {
   "cell_type": "code",
   "execution_count": 66,
   "id": "98606e7a",
   "metadata": {},
   "outputs": [
    {
     "name": "stdout",
     "output_type": "stream",
     "text": [
      "              precision    recall  f1-score   support\n",
      "\n",
      "   non fraud       0.94      0.95      0.95      1862\n",
      "       fraud       0.95      0.94      0.95      1862\n",
      "\n",
      "    accuracy                           0.95      3724\n",
      "   macro avg       0.95      0.95      0.95      3724\n",
      "weighted avg       0.95      0.95      0.95      3724\n",
      "\n"
     ]
    }
   ],
   "source": [
    "# Classification Report\n",
    "from sklearn.metrics import classification_report\n",
    "\n",
    "print(classification_report(ytest, y_pred, target_names=['non fraud','fraud']))"
   ]
  },
  {
   "cell_type": "code",
   "execution_count": 67,
   "id": "3d082f0c",
   "metadata": {},
   "outputs": [
    {
     "data": {
      "image/png": "[encoded data removed]",
      "text/plain": [
       "<Figure size 576x432 with 1 Axes>"
      ]
     },
     "metadata": {
      "needs_background": "light"
     },
     "output_type": "display_data"
    }
   ],
   "source": [
    "# Importing the required metrics\n",
    "from sklearn.metrics import roc_curve, roc_auc_score\n",
    "from sklearn.metrics import accuracy_score, precision_score, recall_score, confusion_matrix, f1_score\n",
    "\n",
    "#defining roc curve\n",
    "def plot_roc_curve(fpr, tpr, label=None):\n",
    "    plt.figure(figsize=(8, 6))\n",
    "    plt.title('ROC Curve', fontsize=15)\n",
    "    plt.plot([0, 1], [0, 1], 'k--')\n",
    "    plt.plot(fpr, tpr, linewidth=2, label=label,color='orange')\n",
    "    plt.xticks(np.arange(0, 1, 0.05), rotation=90)\n",
    "    plt.xlabel('False Positive Rates', fontsize=15)\n",
    "    plt.ylabel('True Positive Rates', fontsize=15)\n",
    "    plt.legend(loc='best')\n",
    "    \n",
    "    plt.show()\n",
    "\n",
    "#plotting ROC curve\n",
    "fpr, tpr, threshold = roc_curve(ytest, y_pred)\n",
    "knn_auc = roc_auc_score(ytest, y_pred)\n",
    "plot_roc_curve(fpr, tpr, 'AUC = %.3f' % knn_auc)\n"
   ]
  },
  {
   "cell_type": "code",
   "execution_count": 68,
   "id": "059fd72b",
   "metadata": {},
   "outputs": [],
   "source": [
    "# Hyperparameter Tuning"
   ]
  },
  {
   "cell_type": "code",
   "execution_count": 86,
   "id": "3ea09aa2",
   "metadata": {},
   "outputs": [],
   "source": [
    "# Using GridsearchCV\n",
    "from sklearn.model_selection import StratifiedShuffleSplit\n",
    "from sklearn.model_selection import GridSearchCV\n",
    "\n",
    "clf=RandomForestClassifier(n_estimators=100)\n",
    "ss = StratifiedShuffleSplit(n_splits=3, test_size=0.5, random_state=0)\n",
    "params = [{'criterion':[\"gini\",\"entropy\"],\"max_depth\":[5,6,7,8,9,10,11,12],\"class_weight\":[\"balanced\"],\"random_state\":[18]\\\n",
    "          ,\"max_features\":['sqrt','log2']}]\n",
    "GSCV = GridSearchCV(clf,params,scoring=\"roc_auc\",cv=ss)\n",
    "GSCV.fit(xtrain,ytrain)\n",
    "GSCV.best_params_\n",
    "best_model = GSCV.best_estimator_"
   ]
  },
  {
   "cell_type": "code",
   "execution_count": 87,
   "id": "144421c7",
   "metadata": {},
   "outputs": [
    {
     "data": {
      "text/plain": [
       "{'class_weight': 'balanced',\n",
       " 'criterion': 'entropy',\n",
       " 'max_depth': 12,\n",
       " 'max_features': 'sqrt',\n",
       " 'random_state': 18}"
      ]
     },
     "execution_count": 87,
     "metadata": {},
     "output_type": "execute_result"
    }
   ],
   "source": [
    "GSCV.best_params_"
   ]
  },
  {
   "cell_type": "code",
   "execution_count": 88,
   "id": "e3aaa4cc",
   "metadata": {},
   "outputs": [],
   "source": [
    "from sklearn.metrics import roc_curve\n",
    "\n",
    "preds = best_model.predict_proba(xtrain)[:,1]\n",
    "\n",
    "fpr, tpr, thresholds = roc_curve(ytrain, preds)\n",
    "optimal_idx = np.argmax(tpr - fpr)\n",
    "optimal_threshold = thresholds[optimal_idx]\n",
    "y_pred = (GSCV.predict_proba(xtest)[:,1] >= optimal_threshold).astype(bool)"
   ]
  },
  {
   "cell_type": "code",
   "execution_count": 89,
   "id": "de2bfcf2",
   "metadata": {},
   "outputs": [
    {
     "data": {
      "text/plain": [
       "0.5787892259366217"
      ]
     },
     "execution_count": 89,
     "metadata": {},
     "output_type": "execute_result"
    }
   ],
   "source": [
    "optimal_threshold"
   ]
  },
  {
   "cell_type": "code",
   "execution_count": 90,
   "id": "9353a98f",
   "metadata": {},
   "outputs": [
    {
     "name": "stdout",
     "output_type": "stream",
     "text": [
      "              precision    recall  f1-score   support\n",
      "\n",
      "   non fraud       0.93      0.96      0.94      1862\n",
      "       fraud       0.96      0.92      0.94      1862\n",
      "\n",
      "    accuracy                           0.94      3724\n",
      "   macro avg       0.94      0.94      0.94      3724\n",
      "weighted avg       0.94      0.94      0.94      3724\n",
      "\n"
     ]
    }
   ],
   "source": [
    "# Classification Report\n",
    "from sklearn.metrics import classification_report\n",
    "\n",
    "print(classification_report(ytest, y_pred, target_names=['non fraud','fraud']))"
   ]
  },
  {
   "cell_type": "code",
   "execution_count": 74,
   "id": "61bb1dbc",
   "metadata": {},
   "outputs": [
    {
     "data": {
      "image/png": "[encoded data removed]",
      "text/plain": [
       "<Figure size 576x432 with 1 Axes>"
      ]
     },
     "metadata": {
      "needs_background": "light"
     },
     "output_type": "display_data"
    }
   ],
   "source": [
    "# Importing the required metrics\n",
    "from sklearn.metrics import roc_curve, roc_auc_score\n",
    "from sklearn.metrics import accuracy_score, precision_score, recall_score, confusion_matrix, f1_score\n",
    "\n",
    "#defining roc curve\n",
    "def plot_roc_curve(fpr, tpr, label=None):\n",
    "    plt.figure(figsize=(8, 6))\n",
    "    plt.title('ROC Curve', fontsize=15)\n",
    "    plt.plot([0, 1], [0, 1], 'k--')\n",
    "    plt.plot(fpr, tpr, linewidth=2, label=label,color='orange')\n",
    "    plt.xticks(np.arange(0, 1, 0.05), rotation=90)\n",
    "    plt.xlabel('False Positive Rates', fontsize=15)\n",
    "    plt.ylabel('True Positive Rates', fontsize=15)\n",
    "    plt.legend(loc='best')\n",
    "    \n",
    "    plt.show()\n",
    "\n",
    "#plotting ROC curve\n",
    "fpr, tpr, threshold = roc_curve(ytest, y_pred)\n",
    "knn_auc = roc_auc_score(ytest, y_pred)\n",
    "plot_roc_curve(fpr, tpr, 'AUC = %.3f' % knn_auc)\n"
   ]
  },
  {
   "cell_type": "code",
   "execution_count": 91,
   "id": "11e85137",
   "metadata": {},
   "outputs": [],
   "source": [
    "combined_df = pd.concat([xtest, ytest], axis=1) \n",
    "combined_df['ypred_best'] = y_pred.tolist()\n",
    "combined_df.head()\n",
    "combined_df.to_csv('rf_pred.csv')"
   ]
  },
  {
   "cell_type": "code",
   "execution_count": 75,
   "id": "93806088",
   "metadata": {},
   "outputs": [],
   "source": [
    "# XGBoost\n",
    "from xgboost import XGBClassifier\n",
    "clf = XGBClassifier(booster='gbtree',n_estimators=100,random_state=0)\n",
    "clf.fit(xtrain, ytrain)\n",
    "y_pred=clf.predict(xtest)"
   ]
  },
  {
   "cell_type": "code",
   "execution_count": 76,
   "id": "b4906f1e",
   "metadata": {},
   "outputs": [
    {
     "name": "stdout",
     "output_type": "stream",
     "text": [
      "              precision    recall  f1-score   support\n",
      "\n",
      "   non fraud       0.95      0.95      0.95      1862\n",
      "       fraud       0.95      0.95      0.95      1862\n",
      "\n",
      "    accuracy                           0.95      3724\n",
      "   macro avg       0.95      0.95      0.95      3724\n",
      "weighted avg       0.95      0.95      0.95      3724\n",
      "\n"
     ]
    }
   ],
   "source": [
    "# Classification Report\n",
    "from sklearn.metrics import classification_report\n",
    "\n",
    "print(classification_report(ytest, y_pred, target_names=['non fraud','fraud']))"
   ]
  },
  {
   "cell_type": "code",
   "execution_count": 77,
   "id": "ff9001a7",
   "metadata": {},
   "outputs": [
    {
     "data": {
      "image/png": "[encoded data removed]",
      "text/plain": [
       "<Figure size 576x432 with 1 Axes>"
      ]
     },
     "metadata": {
      "needs_background": "light"
     },
     "output_type": "display_data"
    }
   ],
   "source": [
    "# Importing the required metrics\n",
    "from sklearn.metrics import roc_curve, roc_auc_score\n",
    "from sklearn.metrics import accuracy_score, precision_score, recall_score, confusion_matrix, f1_score\n",
    "\n",
    "#defining roc curve\n",
    "def plot_roc_curve(fpr, tpr, label=None):\n",
    "    plt.figure(figsize=(8, 6))\n",
    "    plt.title('ROC Curve', fontsize=15)\n",
    "    plt.plot([0, 1], [0, 1], 'k--')\n",
    "    plt.plot(fpr, tpr, linewidth=2, label=label,color='orange')\n",
    "    plt.xticks(np.arange(0, 1, 0.05), rotation=90)\n",
    "    plt.xlabel('False Positive Rates', fontsize=15)\n",
    "    plt.ylabel('True Positive Rates', fontsize=15)\n",
    "    plt.legend(loc='best')\n",
    "    \n",
    "    plt.show()\n",
    "\n",
    "#plotting ROC curve\n",
    "fpr, tpr, threshold = roc_curve(ytest, y_pred)\n",
    "knn_auc = roc_auc_score(ytest, y_pred)\n",
    "plot_roc_curve(fpr, tpr, 'AUC = %.3f' % knn_auc)"
   ]
  },
  {
   "cell_type": "code",
   "execution_count": 92,
   "id": "fcd74e60",
   "metadata": {},
   "outputs": [],
   "source": [
    "# Using GridsearchCV\n",
    "from sklearn.model_selection import StratifiedShuffleSplit\n",
    "from sklearn.model_selection import GridSearchCV\n",
    "\n",
    "ss = StratifiedShuffleSplit(n_splits=3, test_size=0.5, random_state=0)\n",
    "clf = XGBClassifier(booster='gbtree',n_estimators=100,random_state=0)\n",
    "params = {\n",
    "    'max_depth': range (2, 10, 1),\n",
    "    'n_estimators': range(60, 220, 40),\n",
    "    'learning_rate': [0.1, 0.01, 0.05]\n",
    "}\n",
    "GSCV = GridSearchCV(clf,params,scoring=\"roc_auc\",cv=ss)\n",
    "GSCV.fit(xtrain,ytrain)\n",
    "GSCV.best_params_\n",
    "best_model = GSCV.best_estimator_"
   ]
  },
  {
   "cell_type": "code",
   "execution_count": 93,
   "id": "bf10c110",
   "metadata": {},
   "outputs": [
    {
     "data": {
      "text/plain": [
       "{'learning_rate': 0.1, 'max_depth': 5, 'n_estimators': 100}"
      ]
     },
     "execution_count": 93,
     "metadata": {},
     "output_type": "execute_result"
    }
   ],
   "source": [
    "GSCV.best_params_"
   ]
  },
  {
   "cell_type": "code",
   "execution_count": 95,
   "id": "8b683b04",
   "metadata": {},
   "outputs": [],
   "source": [
    "from sklearn.metrics import roc_curve\n",
    "\n",
    "preds = best_model.predict_proba(xtrain)[:,1]\n",
    "\n",
    "fpr, tpr, thresholds = roc_curve(ytrain, preds)\n",
    "optimal_idx = np.argmax(tpr - fpr)\n",
    "optimal_threshold = thresholds[optimal_idx]\n",
    "y_pred = (GSCV.predict_proba(xtest)[:,1] >= optimal_threshold).astype(bool)"
   ]
  },
  {
   "cell_type": "code",
   "execution_count": 96,
   "id": "a11c0e7b",
   "metadata": {},
   "outputs": [
    {
     "data": {
      "text/plain": [
       "0.47471753"
      ]
     },
     "execution_count": 96,
     "metadata": {},
     "output_type": "execute_result"
    }
   ],
   "source": [
    "optimal_threshold"
   ]
  },
  {
   "cell_type": "code",
   "execution_count": 97,
   "id": "a25931c8",
   "metadata": {},
   "outputs": [
    {
     "name": "stdout",
     "output_type": "stream",
     "text": [
      "              precision    recall  f1-score   support\n",
      "\n",
      "   non fraud       0.95      0.94      0.95      1862\n",
      "       fraud       0.94      0.95      0.95      1862\n",
      "\n",
      "    accuracy                           0.95      3724\n",
      "   macro avg       0.95      0.95      0.95      3724\n",
      "weighted avg       0.95      0.95      0.95      3724\n",
      "\n"
     ]
    }
   ],
   "source": [
    "# Classification Report\n",
    "from sklearn.metrics import classification_report\n",
    "\n",
    "print(classification_report(ytest, y_pred, target_names=['non fraud','fraud']))"
   ]
  },
  {
   "cell_type": "code",
   "execution_count": 85,
   "id": "6fdd247b",
   "metadata": {},
   "outputs": [
    {
     "data": {
      "image/png": "[encoded data removed]",
      "text/plain": [
       "<Figure size 576x432 with 1 Axes>"
      ]
     },
     "metadata": {
      "needs_background": "light"
     },
     "output_type": "display_data"
    }
   ],
   "source": [
    "# Importing the required metrics\n",
    "from sklearn.metrics import roc_curve, roc_auc_score\n",
    "from sklearn.metrics import accuracy_score, precision_score, recall_score, confusion_matrix, f1_score\n",
    "\n",
    "#defining roc curve\n",
    "def plot_roc_curve(fpr, tpr, label=None):\n",
    "    plt.figure(figsize=(8, 6))\n",
    "    plt.title('ROC Curve', fontsize=15)\n",
    "    plt.plot([0, 1], [0, 1], 'k--')\n",
    "    plt.plot(fpr, tpr, linewidth=2, label=label,color='orange')\n",
    "    plt.xticks(np.arange(0, 1, 0.05), rotation=90)\n",
    "    plt.xlabel('False Positive Rates', fontsize=15)\n",
    "    plt.ylabel('True Positive Rates', fontsize=15)\n",
    "    plt.legend(loc='best')\n",
    "    \n",
    "    plt.show()\n",
    "\n",
    "#plotting ROC curve\n",
    "fpr, tpr, threshold = roc_curve(ytest, y_pred)\n",
    "knn_auc = roc_auc_score(ytest, y_pred)\n",
    "plot_roc_curve(fpr, tpr, 'AUC = %.3f' % knn_auc)"
   ]
  },
  {
   "cell_type": "code",
   "execution_count": 130,
   "id": "846b3c51",
   "metadata": {},
   "outputs": [
    {
     "data": {
      "text/html": [
       "<div>\n",
       "<style scoped>\n",
       "    .dataframe tbody tr th:only-of-type {\n",
       "        vertical-align: middle;\n",
       "    }\n",
       "\n",
       "    .dataframe tbody tr th {\n",
       "        vertical-align: top;\n",
       "    }\n",
       "\n",
       "    .dataframe thead th {\n",
       "        text-align: right;\n",
       "    }\n",
       "</style>\n",
       "<table border=\"1\" class=\"dataframe\">\n",
       "  <thead>\n",
       "    <tr style=\"text-align: right;\">\n",
       "      <th></th>\n",
       "      <th>city_pop</th>\n",
       "      <th>amt</th>\n",
       "      <th>age</th>\n",
       "      <th>distance</th>\n",
       "      <th>hol_month</th>\n",
       "      <th>is_weekend</th>\n",
       "      <th>lat_long_type</th>\n",
       "      <th>categ_type</th>\n",
       "      <th>gender_M</th>\n",
       "      <th>hour_type_midnight</th>\n",
       "      <th>recent_shopper_recent</th>\n",
       "      <th>is_fraud</th>\n",
       "      <th>ypred_best</th>\n",
       "    </tr>\n",
       "  </thead>\n",
       "  <tbody>\n",
       "    <tr>\n",
       "      <th>436323</th>\n",
       "      <td>0.313079</td>\n",
       "      <td>0.000296</td>\n",
       "      <td>0.580247</td>\n",
       "      <td>0.552687</td>\n",
       "      <td>1.0</td>\n",
       "      <td>0.0</td>\n",
       "      <td>0.5</td>\n",
       "      <td>1.0</td>\n",
       "      <td>1.0</td>\n",
       "      <td>1.0</td>\n",
       "      <td>1.0</td>\n",
       "      <td>0.0</td>\n",
       "      <td>True</td>\n",
       "    </tr>\n",
       "    <tr>\n",
       "      <th>398140</th>\n",
       "      <td>0.011839</td>\n",
       "      <td>0.000248</td>\n",
       "      <td>0.074074</td>\n",
       "      <td>0.444634</td>\n",
       "      <td>1.0</td>\n",
       "      <td>1.0</td>\n",
       "      <td>0.5</td>\n",
       "      <td>1.0</td>\n",
       "      <td>1.0</td>\n",
       "      <td>0.0</td>\n",
       "      <td>1.0</td>\n",
       "      <td>0.0</td>\n",
       "      <td>False</td>\n",
       "    </tr>\n",
       "    <tr>\n",
       "      <th>821750</th>\n",
       "      <td>0.014608</td>\n",
       "      <td>0.000020</td>\n",
       "      <td>0.493827</td>\n",
       "      <td>0.659567</td>\n",
       "      <td>1.0</td>\n",
       "      <td>0.0</td>\n",
       "      <td>0.5</td>\n",
       "      <td>0.5</td>\n",
       "      <td>0.0</td>\n",
       "      <td>0.0</td>\n",
       "      <td>0.0</td>\n",
       "      <td>0.0</td>\n",
       "      <td>False</td>\n",
       "    </tr>\n",
       "    <tr>\n",
       "      <th>1580062</th>\n",
       "      <td>0.187499</td>\n",
       "      <td>0.000345</td>\n",
       "      <td>0.444444</td>\n",
       "      <td>0.397509</td>\n",
       "      <td>1.0</td>\n",
       "      <td>0.0</td>\n",
       "      <td>0.5</td>\n",
       "      <td>0.5</td>\n",
       "      <td>1.0</td>\n",
       "      <td>1.0</td>\n",
       "      <td>1.0</td>\n",
       "      <td>0.0</td>\n",
       "      <td>True</td>\n",
       "    </tr>\n",
       "    <tr>\n",
       "      <th>1486509</th>\n",
       "      <td>0.073075</td>\n",
       "      <td>0.008427</td>\n",
       "      <td>0.382716</td>\n",
       "      <td>0.329880</td>\n",
       "      <td>1.0</td>\n",
       "      <td>0.0</td>\n",
       "      <td>1.0</td>\n",
       "      <td>0.5</td>\n",
       "      <td>0.0</td>\n",
       "      <td>0.0</td>\n",
       "      <td>1.0</td>\n",
       "      <td>0.0</td>\n",
       "      <td>False</td>\n",
       "    </tr>\n",
       "    <tr>\n",
       "      <th>...</th>\n",
       "      <td>...</td>\n",
       "      <td>...</td>\n",
       "      <td>...</td>\n",
       "      <td>...</td>\n",
       "      <td>...</td>\n",
       "      <td>...</td>\n",
       "      <td>...</td>\n",
       "      <td>...</td>\n",
       "      <td>...</td>\n",
       "      <td>...</td>\n",
       "      <td>...</td>\n",
       "      <td>...</td>\n",
       "      <td>...</td>\n",
       "    </tr>\n",
       "    <tr>\n",
       "      <th>262276</th>\n",
       "      <td>0.005496</td>\n",
       "      <td>0.003979</td>\n",
       "      <td>0.283951</td>\n",
       "      <td>0.407018</td>\n",
       "      <td>0.0</td>\n",
       "      <td>1.0</td>\n",
       "      <td>0.5</td>\n",
       "      <td>1.0</td>\n",
       "      <td>0.0</td>\n",
       "      <td>1.0</td>\n",
       "      <td>1.0</td>\n",
       "      <td>0.0</td>\n",
       "      <td>False</td>\n",
       "    </tr>\n",
       "    <tr>\n",
       "      <th>74872</th>\n",
       "      <td>0.055897</td>\n",
       "      <td>0.007195</td>\n",
       "      <td>0.271605</td>\n",
       "      <td>0.155770</td>\n",
       "      <td>1.0</td>\n",
       "      <td>1.0</td>\n",
       "      <td>0.0</td>\n",
       "      <td>1.0</td>\n",
       "      <td>0.0</td>\n",
       "      <td>0.0</td>\n",
       "      <td>1.0</td>\n",
       "      <td>0.0</td>\n",
       "      <td>False</td>\n",
       "    </tr>\n",
       "    <tr>\n",
       "      <th>481781</th>\n",
       "      <td>0.031022</td>\n",
       "      <td>0.013299</td>\n",
       "      <td>0.185185</td>\n",
       "      <td>0.420851</td>\n",
       "      <td>1.0</td>\n",
       "      <td>0.0</td>\n",
       "      <td>0.5</td>\n",
       "      <td>1.0</td>\n",
       "      <td>1.0</td>\n",
       "      <td>1.0</td>\n",
       "      <td>1.0</td>\n",
       "      <td>1.0</td>\n",
       "      <td>True</td>\n",
       "    </tr>\n",
       "    <tr>\n",
       "      <th>1087920</th>\n",
       "      <td>0.002478</td>\n",
       "      <td>0.001151</td>\n",
       "      <td>0.259259</td>\n",
       "      <td>0.728938</td>\n",
       "      <td>1.0</td>\n",
       "      <td>1.0</td>\n",
       "      <td>0.0</td>\n",
       "      <td>0.0</td>\n",
       "      <td>1.0</td>\n",
       "      <td>1.0</td>\n",
       "      <td>1.0</td>\n",
       "      <td>0.0</td>\n",
       "      <td>False</td>\n",
       "    </tr>\n",
       "    <tr>\n",
       "      <th>410663</th>\n",
       "      <td>0.072592</td>\n",
       "      <td>0.014453</td>\n",
       "      <td>0.864198</td>\n",
       "      <td>0.257218</td>\n",
       "      <td>1.0</td>\n",
       "      <td>0.0</td>\n",
       "      <td>0.0</td>\n",
       "      <td>1.0</td>\n",
       "      <td>0.0</td>\n",
       "      <td>1.0</td>\n",
       "      <td>1.0</td>\n",
       "      <td>1.0</td>\n",
       "      <td>True</td>\n",
       "    </tr>\n",
       "  </tbody>\n",
       "</table>\n",
       "<p>3724 rows × 13 columns</p>\n",
       "</div>"
      ],
      "text/plain": [
       "         city_pop       amt       age  distance  hol_month  is_weekend  \\\n",
       "436323   0.313079  0.000296  0.580247  0.552687        1.0         0.0   \n",
       "398140   0.011839  0.000248  0.074074  0.444634        1.0         1.0   \n",
       "821750   0.014608  0.000020  0.493827  0.659567        1.0         0.0   \n",
       "1580062  0.187499  0.000345  0.444444  0.397509        1.0         0.0   \n",
       "1486509  0.073075  0.008427  0.382716  0.329880        1.0         0.0   \n",
       "...           ...       ...       ...       ...        ...         ...   \n",
       "262276   0.005496  0.003979  0.283951  0.407018        0.0         1.0   \n",
       "74872    0.055897  0.007195  0.271605  0.155770        1.0         1.0   \n",
       "481781   0.031022  0.013299  0.185185  0.420851        1.0         0.0   \n",
       "1087920  0.002478  0.001151  0.259259  0.728938        1.0         1.0   \n",
       "410663   0.072592  0.014453  0.864198  0.257218        1.0         0.0   \n",
       "\n",
       "         lat_long_type  categ_type  gender_M  hour_type_midnight  \\\n",
       "436323             0.5         1.0       1.0                 1.0   \n",
       "398140             0.5         1.0       1.0                 0.0   \n",
       "821750             0.5         0.5       0.0                 0.0   \n",
       "1580062            0.5         0.5       1.0                 1.0   \n",
       "1486509            1.0         0.5       0.0                 0.0   \n",
       "...                ...         ...       ...                 ...   \n",
       "262276             0.5         1.0       0.0                 1.0   \n",
       "74872              0.0         1.0       0.0                 0.0   \n",
       "481781             0.5         1.0       1.0                 1.0   \n",
       "1087920            0.0         0.0       1.0                 1.0   \n",
       "410663             0.0         1.0       0.0                 1.0   \n",
       "\n",
       "         recent_shopper_recent  is_fraud  ypred_best  \n",
       "436323                     1.0       0.0        True  \n",
       "398140                     1.0       0.0       False  \n",
       "821750                     0.0       0.0       False  \n",
       "1580062                    1.0       0.0        True  \n",
       "1486509                    1.0       0.0       False  \n",
       "...                        ...       ...         ...  \n",
       "262276                     1.0       0.0       False  \n",
       "74872                      1.0       0.0       False  \n",
       "481781                     1.0       1.0        True  \n",
       "1087920                    1.0       0.0       False  \n",
       "410663                     1.0       1.0        True  \n",
       "\n",
       "[3724 rows x 13 columns]"
      ]
     },
     "execution_count": 130,
     "metadata": {},
     "output_type": "execute_result"
    }
   ],
   "source": [
    "combined_df"
   ]
  },
  {
   "cell_type": "code",
   "execution_count": null,
   "id": "64a4b915",
   "metadata": {},
   "outputs": [],
   "source": []
  }
 ],
 "metadata": {
  "colab": {
   "provenance": []
  },
  "kernelspec": {
   "display_name": "Python 3 (ipykernel)",
   "language": "python",
   "name": "python3"
  },
  "language_info": {
   "codemirror_mode": {
    "name": "ipython",
    "version": 3
   },
   "file_extension": ".py",
   "mimetype": "text/x-python",
   "name": "python",
   "nbconvert_exporter": "python",
   "pygments_lexer": "ipython3",
   "version": "3.9.7"
  }
 },
 "nbformat": 4,
 "nbformat_minor": 5
}
