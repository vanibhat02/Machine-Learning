{
 "cells": [
  {
   "cell_type": "markdown",
   "id": "73429713",
   "metadata": {
    "id": "73429713"
   },
   "source": [
    "### <center>    San Jose State University<br>Department of Applied Data Science</center>\n",
    "##  <center>    DATA 245 Sec 21<br>Machine Learning Technologies \n",
    "###  <center>   Group 4: Nupur Pathak, Revathi Boopathi, Sree Divya Cheerla, Vani Bhat\n",
    "\n",
    "\n"
   ]
  },
  {
   "cell_type": "markdown",
   "id": "Zmva080fIWw8",
   "metadata": {
    "id": "Zmva080fIWw8"
   },
   "source": [
    "## **Credit Card Fraud Detection**\n"
   ]
  },
  {
   "cell_type": "code",
   "execution_count": 540,
   "id": "e3c6a5a4",
   "metadata": {
    "id": "e3c6a5a4",
    "scrolled": true
   },
   "outputs": [],
   "source": [
    "# Required installations\n",
    "# !pip install imbalanced-learn\n",
    "# !pip install sklearn\n",
    "# !pip install haversine"
   ]
  },
  {
   "cell_type": "code",
   "execution_count": 541,
   "id": "1f0c5849",
   "metadata": {
    "id": "1f0c5849"
   },
   "outputs": [],
   "source": [
    "# importing the required libraries\n",
    "import pandas as pd\n",
    "import glob\n",
    "from pandas.plotting import scatter_matrix\n",
    "import statistics\n",
    "import numpy as np\n",
    "import matplotlib.pyplot as plt\n",
    "import seaborn as sns\n",
    "import math\n",
    "import re \n",
    "import os\n",
    "import datetime\n",
    "from sklearn.metrics import classification_report\n",
    "from sklearn.metrics import roc_auc_score \n",
    "from sklearn.naive_bayes import GaussianNB\n",
    "from sklearn.metrics import roc_curve, roc_auc_score\n",
    "from sklearn.metrics import accuracy_score, precision_score, recall_score, confusion_matrix\n",
    "from imblearn.over_sampling import SMOTE\n",
    "from sklearn.decomposition import PCA\n",
    "from sklearn.preprocessing import StandardScaler"
   ]
  },
  {
   "cell_type": "markdown",
   "id": "64ZwzWYAJES7",
   "metadata": {
    "id": "64ZwzWYAJES7"
   },
   "source": [
    "## I. Business Understanding"
   ]
  },
  {
   "cell_type": "markdown",
   "id": "E5Uu73A7JGPJ",
   "metadata": {
    "id": "E5Uu73A7JGPJ"
   },
   "source": [
    "* The objective of this project is to detect fraudulent credit card transactions and discuss how such frauds can be handled by employing various Machine Learning algorithms.\n",
    "* Credit card usage has increased tremendously over the decade which revolutionized the cashless payment methods, but it comes with its own set of risks.\n",
    "* To tackle this issue, we plan to employ Machine Learning models like Logistic Regression, Naive Bayes, KNN, Random Forest, XG Boost, SVM, and deep learning model. We will compare the performance of each model to identify the best fitting model which can help reduce fraudulent transactions. "
   ]
  },
  {
   "cell_type": "markdown",
   "id": "768d23f3",
   "metadata": {
    "id": "768d23f3"
   },
   "source": [
    "## II. Data Understanding"
   ]
  },
  {
   "cell_type": "markdown",
   "id": "9b6fb2c7",
   "metadata": {
    "id": "9b6fb2c7"
   },
   "source": [
    "#### II.a. Collect and Store Dataset"
   ]
  },
  {
   "cell_type": "markdown",
   "id": "6a534207",
   "metadata": {
    "id": "6a534207"
   },
   "source": [
    "- The synthetic data for credit card transactions for 1,000 customers is generated using the Sparkov_Data_Generation-master.\n",
    "- All the transactions are created for the duration January 1, 2020 to December 31, 2021.\n",
    "- The generator creates a csv file for each customer will all transactions for the given customer for the given time span.\n",
    "- We will take the union of all the transactions in these csv files and load in the dataframe for our analysis. \n",
    "- The data collected from the generator is collated and stored in 'Concat.csv' on the google drive. Refer to Data_Collection_Sparkov.pynb for data generation and collation. "
   ]
  },
  {
   "cell_type": "code",
   "execution_count": 542,
   "id": "u5dE4Sngv90f",
   "metadata": {
    "colab": {
     "base_uri": "https://localhost:8080/"
    },
    "id": "u5dE4Sngv90f",
    "outputId": "c1296c45-c1bf-4f41-a9d3-b1f103241a47"
   },
   "outputs": [],
   "source": [
    "# Mounting the Google drive to get access in Google Colab. This step is not required if using Jupyter Notebook\n",
    "# from google.colab import drive\n",
    "\n",
    "# drive.mount('/content/gdrive/', force_remount=True)"
   ]
  },
  {
   "cell_type": "code",
   "execution_count": 543,
   "id": "IPNVTfyW2UHO",
   "metadata": {
    "colab": {
     "base_uri": "https://localhost:8080/",
     "height": 344
    },
    "id": "IPNVTfyW2UHO",
    "outputId": "a3c0567e-bd65-4622-a55e-d3cc103501de"
   },
   "outputs": [
    {
     "data": {
      "text/html": [
       "<div>\n",
       "<style scoped>\n",
       "    .dataframe tbody tr th:only-of-type {\n",
       "        vertical-align: middle;\n",
       "    }\n",
       "\n",
       "    .dataframe tbody tr th {\n",
       "        vertical-align: top;\n",
       "    }\n",
       "\n",
       "    .dataframe thead th {\n",
       "        text-align: right;\n",
       "    }\n",
       "</style>\n",
       "<table border=\"1\" class=\"dataframe\">\n",
       "  <thead>\n",
       "    <tr style=\"text-align: right;\">\n",
       "      <th></th>\n",
       "      <th>ssn</th>\n",
       "      <th>cc_num</th>\n",
       "      <th>first</th>\n",
       "      <th>last</th>\n",
       "      <th>gender</th>\n",
       "      <th>street</th>\n",
       "      <th>city</th>\n",
       "      <th>state</th>\n",
       "      <th>zip</th>\n",
       "      <th>lat</th>\n",
       "      <th>...</th>\n",
       "      <th>trans_num</th>\n",
       "      <th>trans_date</th>\n",
       "      <th>trans_time</th>\n",
       "      <th>unix_time</th>\n",
       "      <th>category</th>\n",
       "      <th>amt</th>\n",
       "      <th>is_fraud</th>\n",
       "      <th>merchant</th>\n",
       "      <th>merch_lat</th>\n",
       "      <th>merch_long</th>\n",
       "    </tr>\n",
       "  </thead>\n",
       "  <tbody>\n",
       "    <tr>\n",
       "      <th>0</th>\n",
       "      <td>195-33-0728</td>\n",
       "      <td>3508835615951480</td>\n",
       "      <td>Ellen</td>\n",
       "      <td>Ortiz</td>\n",
       "      <td>F</td>\n",
       "      <td>482 Robert Light Apt. 994</td>\n",
       "      <td>Columbia Falls</td>\n",
       "      <td>ME</td>\n",
       "      <td>4623</td>\n",
       "      <td>44.6699</td>\n",
       "      <td>...</td>\n",
       "      <td>5c15602a5cf809764ed5d149a78e279a</td>\n",
       "      <td>2021-04-29</td>\n",
       "      <td>00:07:35</td>\n",
       "      <td>1.619680e+09</td>\n",
       "      <td>gas_transport</td>\n",
       "      <td>6.73</td>\n",
       "      <td>1.0</td>\n",
       "      <td>fraud_Jenkins, Hauck and Friesen</td>\n",
       "      <td>44.084527</td>\n",
       "      <td>-67.954129</td>\n",
       "    </tr>\n",
       "    <tr>\n",
       "      <th>1</th>\n",
       "      <td>195-33-0728</td>\n",
       "      <td>3508835615951480</td>\n",
       "      <td>Ellen</td>\n",
       "      <td>Ortiz</td>\n",
       "      <td>F</td>\n",
       "      <td>482 Robert Light Apt. 994</td>\n",
       "      <td>Columbia Falls</td>\n",
       "      <td>ME</td>\n",
       "      <td>4623</td>\n",
       "      <td>44.6699</td>\n",
       "      <td>...</td>\n",
       "      <td>549fffa7671e25c7a183f2952ccff999</td>\n",
       "      <td>2021-04-29</td>\n",
       "      <td>07:10:46</td>\n",
       "      <td>1.619705e+09</td>\n",
       "      <td>gas_transport</td>\n",
       "      <td>12.74</td>\n",
       "      <td>1.0</td>\n",
       "      <td>fraud_Zieme, Bode and Dooley</td>\n",
       "      <td>45.584705</td>\n",
       "      <td>-67.692301</td>\n",
       "    </tr>\n",
       "  </tbody>\n",
       "</table>\n",
       "<p>2 rows × 26 columns</p>\n",
       "</div>"
      ],
      "text/plain": [
       "           ssn            cc_num  first   last gender  \\\n",
       "0  195-33-0728  3508835615951480  Ellen  Ortiz      F   \n",
       "1  195-33-0728  3508835615951480  Ellen  Ortiz      F   \n",
       "\n",
       "                      street            city state   zip      lat  ...  \\\n",
       "0  482 Robert Light Apt. 994  Columbia Falls    ME  4623  44.6699  ...   \n",
       "1  482 Robert Light Apt. 994  Columbia Falls    ME  4623  44.6699  ...   \n",
       "\n",
       "                          trans_num  trans_date trans_time     unix_time  \\\n",
       "0  5c15602a5cf809764ed5d149a78e279a  2021-04-29   00:07:35  1.619680e+09   \n",
       "1  549fffa7671e25c7a183f2952ccff999  2021-04-29   07:10:46  1.619705e+09   \n",
       "\n",
       "        category    amt is_fraud                          merchant  merch_lat  \\\n",
       "0  gas_transport   6.73      1.0  fraud_Jenkins, Hauck and Friesen  44.084527   \n",
       "1  gas_transport  12.74      1.0      fraud_Zieme, Bode and Dooley  45.584705   \n",
       "\n",
       "   merch_long  \n",
       "0  -67.954129  \n",
       "1  -67.692301  \n",
       "\n",
       "[2 rows x 26 columns]"
      ]
     },
     "execution_count": 543,
     "metadata": {},
     "output_type": "execute_result"
    }
   ],
   "source": [
    "# Loading the dataset\n",
    "df = pd.read_csv('/Users/vanibhat/Documents/SJSU-Spring2022/DATA245-MachineLearning/Project/Concat.csv', index_col = 0)\n",
    "df.head(2)"
   ]
  },
  {
   "cell_type": "markdown",
   "id": "68dfa6ac",
   "metadata": {
    "id": "68dfa6ac"
   },
   "source": [
    "#### II.b. 3 V (Volume, Variety, Velocity) of the data"
   ]
  },
  {
   "cell_type": "code",
   "execution_count": 544,
   "id": "b3c5662b",
   "metadata": {
    "colab": {
     "base_uri": "https://localhost:8080/"
    },
    "id": "b3c5662b",
    "outputId": "8647a6f7-e1a9-4503-ec34-f43d2d52d8c7"
   },
   "outputs": [
    {
     "data": {
      "text/plain": [
       "(1752721, 26)"
      ]
     },
     "execution_count": 544,
     "metadata": {},
     "output_type": "execute_result"
    }
   ],
   "source": [
    "# Volume: To print the number of rows and columns in the dataset\n",
    "df.shape"
   ]
  },
  {
   "cell_type": "code",
   "execution_count": 545,
   "id": "49099a52",
   "metadata": {
    "colab": {
     "base_uri": "https://localhost:8080/"
    },
    "id": "49099a52",
    "outputId": "ccd85b24-e802-4bb8-a04e-4fe0802f47c7"
   },
   "outputs": [
    {
     "name": "stdout",
     "output_type": "stream",
     "text": [
      "<class 'pandas.core.frame.DataFrame'>\n",
      "Int64Index: 1752721 entries, 0 to 1752720\n",
      "Data columns (total 26 columns):\n",
      " #   Column      Dtype  \n",
      "---  ------      -----  \n",
      " 0   ssn         object \n",
      " 1   cc_num      int64  \n",
      " 2   first       object \n",
      " 3   last        object \n",
      " 4   gender      object \n",
      " 5   street      object \n",
      " 6   city        object \n",
      " 7   state       object \n",
      " 8   zip         int64  \n",
      " 9   lat         float64\n",
      " 10  long        float64\n",
      " 11  city_pop    int64  \n",
      " 12  job         object \n",
      " 13  dob         object \n",
      " 14  acct_num    int64  \n",
      " 15  profile     object \n",
      " 16  trans_num   object \n",
      " 17  trans_date  object \n",
      " 18  trans_time  object \n",
      " 19  unix_time   float64\n",
      " 20  category    object \n",
      " 21  amt         float64\n",
      " 22  is_fraud    float64\n",
      " 23  merchant    object \n",
      " 24  merch_lat   float64\n",
      " 25  merch_long  float64\n",
      "dtypes: float64(7), int64(4), object(15)\n",
      "memory usage: 361.0+ MB\n"
     ]
    }
   ],
   "source": [
    "# Variety: Printing the information in the dataframe\n",
    "df.info()"
   ]
  },
  {
   "cell_type": "code",
   "execution_count": 546,
   "id": "4629033a",
   "metadata": {
    "colab": {
     "base_uri": "https://localhost:8080/",
     "height": 300
    },
    "id": "4629033a",
    "outputId": "ff31feb0-2925-4ed6-9dc4-355ace0cc0c7"
   },
   "outputs": [
    {
     "data": {
      "text/html": [
       "<div>\n",
       "<style scoped>\n",
       "    .dataframe tbody tr th:only-of-type {\n",
       "        vertical-align: middle;\n",
       "    }\n",
       "\n",
       "    .dataframe tbody tr th {\n",
       "        vertical-align: top;\n",
       "    }\n",
       "\n",
       "    .dataframe thead th {\n",
       "        text-align: right;\n",
       "    }\n",
       "</style>\n",
       "<table border=\"1\" class=\"dataframe\">\n",
       "  <thead>\n",
       "    <tr style=\"text-align: right;\">\n",
       "      <th></th>\n",
       "      <th>cc_num</th>\n",
       "      <th>zip</th>\n",
       "      <th>lat</th>\n",
       "      <th>long</th>\n",
       "      <th>city_pop</th>\n",
       "      <th>acct_num</th>\n",
       "      <th>unix_time</th>\n",
       "      <th>amt</th>\n",
       "      <th>is_fraud</th>\n",
       "      <th>merch_lat</th>\n",
       "      <th>merch_long</th>\n",
       "    </tr>\n",
       "  </thead>\n",
       "  <tbody>\n",
       "    <tr>\n",
       "      <th>count</th>\n",
       "      <td>1.752721e+06</td>\n",
       "      <td>1.752721e+06</td>\n",
       "      <td>1.752721e+06</td>\n",
       "      <td>1.752721e+06</td>\n",
       "      <td>1.752721e+06</td>\n",
       "      <td>1.752721e+06</td>\n",
       "      <td>1.751721e+06</td>\n",
       "      <td>1.751721e+06</td>\n",
       "      <td>1.751721e+06</td>\n",
       "      <td>1.751721e+06</td>\n",
       "      <td>1.751721e+06</td>\n",
       "    </tr>\n",
       "    <tr>\n",
       "      <th>mean</th>\n",
       "      <td>3.843047e+17</td>\n",
       "      <td>5.121929e+04</td>\n",
       "      <td>3.755229e+01</td>\n",
       "      <td>-9.171316e+01</td>\n",
       "      <td>3.154471e+05</td>\n",
       "      <td>4.987205e+11</td>\n",
       "      <td>1.611112e+09</td>\n",
       "      <td>7.051059e+01</td>\n",
       "      <td>5.314773e-03</td>\n",
       "      <td>3.755235e+01</td>\n",
       "      <td>-9.171333e+01</td>\n",
       "    </tr>\n",
       "    <tr>\n",
       "      <th>std</th>\n",
       "      <td>1.257718e+18</td>\n",
       "      <td>2.977578e+04</td>\n",
       "      <td>5.158298e+00</td>\n",
       "      <td>1.640430e+01</td>\n",
       "      <td>6.226473e+05</td>\n",
       "      <td>2.859440e+11</td>\n",
       "      <td>1.822508e+07</td>\n",
       "      <td>1.666364e+02</td>\n",
       "      <td>7.270852e-02</td>\n",
       "      <td>5.190740e+00</td>\n",
       "      <td>1.641442e+01</td>\n",
       "    </tr>\n",
       "    <tr>\n",
       "      <th>min</th>\n",
       "      <td>6.040616e+10</td>\n",
       "      <td>1.040000e+03</td>\n",
       "      <td>2.132950e+01</td>\n",
       "      <td>-1.593448e+02</td>\n",
       "      <td>1.760000e+02</td>\n",
       "      <td>2.348758e+09</td>\n",
       "      <td>1.577866e+09</td>\n",
       "      <td>1.000000e+00</td>\n",
       "      <td>0.000000e+00</td>\n",
       "      <td>2.032995e+01</td>\n",
       "      <td>-1.603443e+02</td>\n",
       "    </tr>\n",
       "    <tr>\n",
       "      <th>25%</th>\n",
       "      <td>1.800159e+14</td>\n",
       "      <td>2.729200e+04</td>\n",
       "      <td>3.387960e+01</td>\n",
       "      <td>-9.862490e+01</td>\n",
       "      <td>1.924000e+04</td>\n",
       "      <td>2.720987e+11</td>\n",
       "      <td>1.595429e+09</td>\n",
       "      <td>9.020000e+00</td>\n",
       "      <td>0.000000e+00</td>\n",
       "      <td>3.383905e+01</td>\n",
       "      <td>-9.865916e+01</td>\n",
       "    </tr>\n",
       "    <tr>\n",
       "      <th>50%</th>\n",
       "      <td>3.516698e+15</td>\n",
       "      <td>4.830900e+04</td>\n",
       "      <td>3.861910e+01</td>\n",
       "      <td>-8.662130e+01</td>\n",
       "      <td>6.016300e+04</td>\n",
       "      <td>4.956758e+11</td>\n",
       "      <td>1.609552e+09</td>\n",
       "      <td>4.385000e+01</td>\n",
       "      <td>0.000000e+00</td>\n",
       "      <td>3.848595e+01</td>\n",
       "      <td>-8.652043e+01</td>\n",
       "    </tr>\n",
       "    <tr>\n",
       "      <th>75%</th>\n",
       "      <td>4.514627e+15</td>\n",
       "      <td>7.770700e+04</td>\n",
       "      <td>4.150220e+01</td>\n",
       "      <td>-7.953990e+01</td>\n",
       "      <td>2.141120e+05</td>\n",
       "      <td>7.408025e+11</td>\n",
       "      <td>1.627089e+09</td>\n",
       "      <td>8.126000e+01</td>\n",
       "      <td>0.000000e+00</td>\n",
       "      <td>4.150950e+01</td>\n",
       "      <td>-7.944400e+01</td>\n",
       "    </tr>\n",
       "    <tr>\n",
       "      <th>max</th>\n",
       "      <td>4.986227e+18</td>\n",
       "      <td>9.950700e+04</td>\n",
       "      <td>6.115350e+01</td>\n",
       "      <td>-6.775340e+01</td>\n",
       "      <td>2.906700e+06</td>\n",
       "      <td>9.993899e+11</td>\n",
       "      <td>1.641024e+09</td>\n",
       "      <td>2.205483e+04</td>\n",
       "      <td>1.000000e+00</td>\n",
       "      <td>6.215252e+01</td>\n",
       "      <td>-6.675340e+01</td>\n",
       "    </tr>\n",
       "  </tbody>\n",
       "</table>\n",
       "</div>"
      ],
      "text/plain": [
       "             cc_num           zip           lat          long      city_pop  \\\n",
       "count  1.752721e+06  1.752721e+06  1.752721e+06  1.752721e+06  1.752721e+06   \n",
       "mean   3.843047e+17  5.121929e+04  3.755229e+01 -9.171316e+01  3.154471e+05   \n",
       "std    1.257718e+18  2.977578e+04  5.158298e+00  1.640430e+01  6.226473e+05   \n",
       "min    6.040616e+10  1.040000e+03  2.132950e+01 -1.593448e+02  1.760000e+02   \n",
       "25%    1.800159e+14  2.729200e+04  3.387960e+01 -9.862490e+01  1.924000e+04   \n",
       "50%    3.516698e+15  4.830900e+04  3.861910e+01 -8.662130e+01  6.016300e+04   \n",
       "75%    4.514627e+15  7.770700e+04  4.150220e+01 -7.953990e+01  2.141120e+05   \n",
       "max    4.986227e+18  9.950700e+04  6.115350e+01 -6.775340e+01  2.906700e+06   \n",
       "\n",
       "           acct_num     unix_time           amt      is_fraud     merch_lat  \\\n",
       "count  1.752721e+06  1.751721e+06  1.751721e+06  1.751721e+06  1.751721e+06   \n",
       "mean   4.987205e+11  1.611112e+09  7.051059e+01  5.314773e-03  3.755235e+01   \n",
       "std    2.859440e+11  1.822508e+07  1.666364e+02  7.270852e-02  5.190740e+00   \n",
       "min    2.348758e+09  1.577866e+09  1.000000e+00  0.000000e+00  2.032995e+01   \n",
       "25%    2.720987e+11  1.595429e+09  9.020000e+00  0.000000e+00  3.383905e+01   \n",
       "50%    4.956758e+11  1.609552e+09  4.385000e+01  0.000000e+00  3.848595e+01   \n",
       "75%    7.408025e+11  1.627089e+09  8.126000e+01  0.000000e+00  4.150950e+01   \n",
       "max    9.993899e+11  1.641024e+09  2.205483e+04  1.000000e+00  6.215252e+01   \n",
       "\n",
       "         merch_long  \n",
       "count  1.751721e+06  \n",
       "mean  -9.171333e+01  \n",
       "std    1.641442e+01  \n",
       "min   -1.603443e+02  \n",
       "25%   -9.865916e+01  \n",
       "50%   -8.652043e+01  \n",
       "75%   -7.944400e+01  \n",
       "max   -6.675340e+01  "
      ]
     },
     "execution_count": 546,
     "metadata": {},
     "output_type": "execute_result"
    }
   ],
   "source": [
    "# Printing the descriptive statistics for the dataset\n",
    "df.describe()"
   ]
  },
  {
   "cell_type": "code",
   "execution_count": 547,
   "id": "1ipENocrNCbZ",
   "metadata": {
    "id": "1ipENocrNCbZ"
   },
   "outputs": [],
   "source": [
    "# Velocity: We have generated the synthetic data once using the Sparkov Generator. This is a static one-time generated data."
   ]
  },
  {
   "cell_type": "markdown",
   "id": "VqwFio21N_lk",
   "metadata": {
    "id": "VqwFio21N_lk"
   },
   "source": [
    "#### II.c. Creating new calculated fields required for the analysis\n",
    "\n",
    "1. Getting the area( urban/rural) from profile feature\n",
    "2. Creating a new column with age calculated from the dob feature\n",
    "3. Calculating distance between customer location and merchant location using latitude and longitude features\n",
    "4. Extracting date and time from trans_date and trans_time features\n"
   ]
  },
  {
   "cell_type": "code",
   "execution_count": 548,
   "id": "b7b87986",
   "metadata": {
    "colab": {
     "base_uri": "https://localhost:8080/",
     "height": 647
    },
    "id": "b7b87986",
    "outputId": "e536ffc5-d05b-4452-defb-d025c5fa56b8"
   },
   "outputs": [
    {
     "data": {
      "text/html": [
       "<div>\n",
       "<style scoped>\n",
       "    .dataframe tbody tr th:only-of-type {\n",
       "        vertical-align: middle;\n",
       "    }\n",
       "\n",
       "    .dataframe tbody tr th {\n",
       "        vertical-align: top;\n",
       "    }\n",
       "\n",
       "    .dataframe thead th {\n",
       "        text-align: right;\n",
       "    }\n",
       "</style>\n",
       "<table border=\"1\" class=\"dataframe\">\n",
       "  <thead>\n",
       "    <tr style=\"text-align: right;\">\n",
       "      <th></th>\n",
       "      <th>ssn</th>\n",
       "      <th>cc_num</th>\n",
       "      <th>first</th>\n",
       "      <th>last</th>\n",
       "      <th>gender</th>\n",
       "      <th>street</th>\n",
       "      <th>city</th>\n",
       "      <th>state</th>\n",
       "      <th>zip</th>\n",
       "      <th>lat</th>\n",
       "      <th>...</th>\n",
       "      <th>trans_date</th>\n",
       "      <th>trans_time</th>\n",
       "      <th>unix_time</th>\n",
       "      <th>category</th>\n",
       "      <th>amt</th>\n",
       "      <th>is_fraud</th>\n",
       "      <th>merchant</th>\n",
       "      <th>merch_lat</th>\n",
       "      <th>merch_long</th>\n",
       "      <th>area</th>\n",
       "    </tr>\n",
       "  </thead>\n",
       "  <tbody>\n",
       "    <tr>\n",
       "      <th>0</th>\n",
       "      <td>195-33-0728</td>\n",
       "      <td>3508835615951480</td>\n",
       "      <td>Ellen</td>\n",
       "      <td>Ortiz</td>\n",
       "      <td>F</td>\n",
       "      <td>482 Robert Light Apt. 994</td>\n",
       "      <td>Columbia Falls</td>\n",
       "      <td>ME</td>\n",
       "      <td>4623</td>\n",
       "      <td>44.6699</td>\n",
       "      <td>...</td>\n",
       "      <td>2021-04-29</td>\n",
       "      <td>00:07:35</td>\n",
       "      <td>1.619680e+09</td>\n",
       "      <td>gas_transport</td>\n",
       "      <td>6.73</td>\n",
       "      <td>1.0</td>\n",
       "      <td>fraud_Jenkins, Hauck and Friesen</td>\n",
       "      <td>44.084527</td>\n",
       "      <td>-67.954129</td>\n",
       "      <td>rural</td>\n",
       "    </tr>\n",
       "    <tr>\n",
       "      <th>1</th>\n",
       "      <td>195-33-0728</td>\n",
       "      <td>3508835615951480</td>\n",
       "      <td>Ellen</td>\n",
       "      <td>Ortiz</td>\n",
       "      <td>F</td>\n",
       "      <td>482 Robert Light Apt. 994</td>\n",
       "      <td>Columbia Falls</td>\n",
       "      <td>ME</td>\n",
       "      <td>4623</td>\n",
       "      <td>44.6699</td>\n",
       "      <td>...</td>\n",
       "      <td>2021-04-29</td>\n",
       "      <td>07:10:46</td>\n",
       "      <td>1.619705e+09</td>\n",
       "      <td>gas_transport</td>\n",
       "      <td>12.74</td>\n",
       "      <td>1.0</td>\n",
       "      <td>fraud_Zieme, Bode and Dooley</td>\n",
       "      <td>45.584705</td>\n",
       "      <td>-67.692301</td>\n",
       "      <td>rural</td>\n",
       "    </tr>\n",
       "    <tr>\n",
       "      <th>2</th>\n",
       "      <td>195-33-0728</td>\n",
       "      <td>3508835615951480</td>\n",
       "      <td>Ellen</td>\n",
       "      <td>Ortiz</td>\n",
       "      <td>F</td>\n",
       "      <td>482 Robert Light Apt. 994</td>\n",
       "      <td>Columbia Falls</td>\n",
       "      <td>ME</td>\n",
       "      <td>4623</td>\n",
       "      <td>44.6699</td>\n",
       "      <td>...</td>\n",
       "      <td>2021-04-29</td>\n",
       "      <td>10:09:12</td>\n",
       "      <td>1.619716e+09</td>\n",
       "      <td>gas_transport</td>\n",
       "      <td>9.53</td>\n",
       "      <td>1.0</td>\n",
       "      <td>fraud_Kling Inc</td>\n",
       "      <td>45.380492</td>\n",
       "      <td>-67.385962</td>\n",
       "      <td>rural</td>\n",
       "    </tr>\n",
       "    <tr>\n",
       "      <th>3</th>\n",
       "      <td>195-33-0728</td>\n",
       "      <td>3508835615951480</td>\n",
       "      <td>Ellen</td>\n",
       "      <td>Ortiz</td>\n",
       "      <td>F</td>\n",
       "      <td>482 Robert Light Apt. 994</td>\n",
       "      <td>Columbia Falls</td>\n",
       "      <td>ME</td>\n",
       "      <td>4623</td>\n",
       "      <td>44.6699</td>\n",
       "      <td>...</td>\n",
       "      <td>2021-04-29</td>\n",
       "      <td>09:15:39</td>\n",
       "      <td>1.619713e+09</td>\n",
       "      <td>grocery_pos</td>\n",
       "      <td>10.95</td>\n",
       "      <td>1.0</td>\n",
       "      <td>fraud_Miller-Hauck</td>\n",
       "      <td>45.350439</td>\n",
       "      <td>-67.644179</td>\n",
       "      <td>rural</td>\n",
       "    </tr>\n",
       "    <tr>\n",
       "      <th>4</th>\n",
       "      <td>195-33-0728</td>\n",
       "      <td>3508835615951480</td>\n",
       "      <td>Ellen</td>\n",
       "      <td>Ortiz</td>\n",
       "      <td>F</td>\n",
       "      <td>482 Robert Light Apt. 994</td>\n",
       "      <td>Columbia Falls</td>\n",
       "      <td>ME</td>\n",
       "      <td>4623</td>\n",
       "      <td>44.6699</td>\n",
       "      <td>...</td>\n",
       "      <td>2021-04-29</td>\n",
       "      <td>00:22:42</td>\n",
       "      <td>1.619681e+09</td>\n",
       "      <td>grocery_pos</td>\n",
       "      <td>353.18</td>\n",
       "      <td>1.0</td>\n",
       "      <td>fraud_McDermott-Weimann</td>\n",
       "      <td>45.424536</td>\n",
       "      <td>-67.852445</td>\n",
       "      <td>rural</td>\n",
       "    </tr>\n",
       "  </tbody>\n",
       "</table>\n",
       "<p>5 rows × 27 columns</p>\n",
       "</div>"
      ],
      "text/plain": [
       "           ssn            cc_num  first   last gender  \\\n",
       "0  195-33-0728  3508835615951480  Ellen  Ortiz      F   \n",
       "1  195-33-0728  3508835615951480  Ellen  Ortiz      F   \n",
       "2  195-33-0728  3508835615951480  Ellen  Ortiz      F   \n",
       "3  195-33-0728  3508835615951480  Ellen  Ortiz      F   \n",
       "4  195-33-0728  3508835615951480  Ellen  Ortiz      F   \n",
       "\n",
       "                      street            city state   zip      lat  ...  \\\n",
       "0  482 Robert Light Apt. 994  Columbia Falls    ME  4623  44.6699  ...   \n",
       "1  482 Robert Light Apt. 994  Columbia Falls    ME  4623  44.6699  ...   \n",
       "2  482 Robert Light Apt. 994  Columbia Falls    ME  4623  44.6699  ...   \n",
       "3  482 Robert Light Apt. 994  Columbia Falls    ME  4623  44.6699  ...   \n",
       "4  482 Robert Light Apt. 994  Columbia Falls    ME  4623  44.6699  ...   \n",
       "\n",
       "   trans_date  trans_time     unix_time       category     amt is_fraud  \\\n",
       "0  2021-04-29    00:07:35  1.619680e+09  gas_transport    6.73      1.0   \n",
       "1  2021-04-29    07:10:46  1.619705e+09  gas_transport   12.74      1.0   \n",
       "2  2021-04-29    10:09:12  1.619716e+09  gas_transport    9.53      1.0   \n",
       "3  2021-04-29    09:15:39  1.619713e+09    grocery_pos   10.95      1.0   \n",
       "4  2021-04-29    00:22:42  1.619681e+09    grocery_pos  353.18      1.0   \n",
       "\n",
       "                           merchant  merch_lat merch_long   area  \n",
       "0  fraud_Jenkins, Hauck and Friesen  44.084527 -67.954129  rural  \n",
       "1      fraud_Zieme, Bode and Dooley  45.584705 -67.692301  rural  \n",
       "2                   fraud_Kling Inc  45.380492 -67.385962  rural  \n",
       "3                fraud_Miller-Hauck  45.350439 -67.644179  rural  \n",
       "4           fraud_McDermott-Weimann  45.424536 -67.852445  rural  \n",
       "\n",
       "[5 rows x 27 columns]"
      ]
     },
     "execution_count": 548,
     "metadata": {},
     "output_type": "execute_result"
    }
   ],
   "source": [
    "# 1. Getting the area( urban/rural) from profile\n",
    "df['area'] = df['profile'].str[-10 : -5]\n",
    "df.head()"
   ]
  },
  {
   "cell_type": "code",
   "execution_count": 549,
   "id": "ab07ddf1",
   "metadata": {
    "id": "ab07ddf1"
   },
   "outputs": [],
   "source": [
    "# 2. Creating a new column with age calculated from the dob\n",
    "now = datetime.datetime.now()\n",
    "df['age'] = df.dob.apply(lambda x: now.year - datetime.datetime.strptime(x,'%Y-%m-%d').year )"
   ]
  },
  {
   "cell_type": "code",
   "execution_count": 550,
   "id": "d3fa786a",
   "metadata": {
    "id": "d3fa786a"
   },
   "outputs": [],
   "source": [
    "# 3. Calculating distance between customer location and merchant location\n",
    "lon1 = df[\"long\"].astype(float)\n",
    "lat1 = df[\"lat\"].astype(float)\n",
    "lon2 = df[\"merch_long\"].astype(float)\n",
    "lat2 = df[\"merch_lat\"].astype(float)"
   ]
  },
  {
   "cell_type": "code",
   "execution_count": 551,
   "id": "43ddd22c",
   "metadata": {
    "id": "43ddd22c"
   },
   "outputs": [],
   "source": [
    "# Defining the haversine_array function\n",
    "def haversine_array(lon1, lat1, lon2, lat2):\n",
    "    lon1, lat1, lon2, lat2 = map(np.radians, [lon1, lat1, lon2, lat2])\n",
    "\n",
    "    newlon = lon2 - lon1\n",
    "    newlat = lat2 - lat1\n",
    "\n",
    "    haver_formula = np.sin(newlat/2.0)**2 + np.cos(lat1) * np.cos(lat2) * np.sin(newlon/2.0)**2\n",
    "\n",
    "    dist = 2 * np.arcsin(np.sqrt(haver_formula ))\n",
    "    miles = round((3958 * dist),3) #6367 for distance in KM for miles use 3958\n",
    "    return miles\n",
    "\n",
    "df['distance'] = haversine_array(df['lat'], df['long'],df['merch_lat'], df['merch_long'])"
   ]
  },
  {
   "cell_type": "code",
   "execution_count": 552,
   "id": "c5c4eeb1",
   "metadata": {
    "id": "c5c4eeb1"
   },
   "outputs": [],
   "source": [
    "# 4. Extracting date and time from trans_date, trans_time\n",
    "df['trans_date'] = pd.to_datetime(df['trans_date'])\n",
    "df['trans_time'] = pd.to_datetime(df['trans_time'],format='%H:%M:%S')\n",
    "df['month'] = df['trans_date'].dt.month.astype('Int64')\n",
    "df['is_weekend'] = df.trans_date.dt.day_of_week.apply(lambda x: 1 if (x in [5,6]) else 0)\n",
    "df['hour'] = df['trans_time'].dt.hour.astype('Int64')"
   ]
  },
  {
   "cell_type": "code",
   "execution_count": 553,
   "id": "4KocDaPAASZ4",
   "metadata": {
    "id": "4KocDaPAASZ4"
   },
   "outputs": [],
   "source": [
    "# 5. Identifying the holiday months (November, December)\n",
    "def month_categ(x):\n",
    "    try:\n",
    "        if (x==11) or (x==12):\n",
    "          return 1\n",
    "        else: return 2\n",
    "    except Exception as err: pass"
   ]
  },
  {
   "cell_type": "code",
   "execution_count": 554,
   "id": "4dN89c9ZAWS_",
   "metadata": {
    "id": "4dN89c9ZAWS_"
   },
   "outputs": [],
   "source": [
    "df['hol_month']=df['month'].apply(month_categ)"
   ]
  },
  {
   "cell_type": "code",
   "execution_count": 555,
   "id": "LJVc9Q37CInd",
   "metadata": {
    "id": "LJVc9Q37CInd"
   },
   "outputs": [],
   "source": [
    "# 6. Fetching the shopping frequency\n",
    "df.sort_values(by=['ssn','trans_date'],inplace=True,ascending=[True,False])\n",
    "df['recent_shop']=df.groupby(['ssn'])['trans_date'].shift()\n",
    "df['recent_shop_gap']=df['trans_date']-df['recent_shop']\n",
    "df['recent_shop_gap']=df['recent_shop_gap'].astype('str')\n",
    "# Getting customers who have recently shopped\n",
    "def shop_category(x):\n",
    "    if x =='0 days':\n",
    "        return 'recent'\n",
    "    else: \n",
    "        return 'past'\n",
    "df['recent_shopper']=df['recent_shop_gap'].apply(shop_category)\n"
   ]
  },
  {
   "cell_type": "code",
   "execution_count": 556,
   "id": "2FMLh3zBCIVK",
   "metadata": {
    "id": "2FMLh3zBCIVK"
   },
   "outputs": [],
   "source": [
    "# 7. Identifying locations which are suspicious to fraud \n",
    "# Flagging latitude based on how suspicious they are\n",
    "def lat_long_category(x):\n",
    "    if x <=8:\n",
    "        return 1 #non-suspicious\n",
    "    elif x <= 12:\n",
    "        return 2 #mod-suspicious\n",
    "    else: \n",
    "        return 3 #suspicious\n",
    "\n",
    "df['lat_long']=df['lat']+df['long']\n",
    "df_inter=df.groupby(['lat_long'])['is_fraud'].sum().reset_index().sort_values(by='is_fraud',ascending=False)\n",
    "df_inter['lat_long_type']=df_inter['is_fraud'].apply(lat_long_category)\n",
    "df=pd.merge(df,df_inter[['lat_long','lat_long_type']],how='inner',on='lat_long')"
   ]
  },
  {
   "cell_type": "code",
   "execution_count": 557,
   "id": "Bv_-6m8NCHvH",
   "metadata": {
    "id": "Bv_-6m8NCHvH"
   },
   "outputs": [],
   "source": [
    "# 8. Identifying the categories with high prevalance of fradulent incidents \n",
    "def genuine_categ(x):\n",
    "    if x <=186:\n",
    "        return 1\n",
    "    elif x <= 1008:\n",
    "        return 2\n",
    "    else:\n",
    "        return 3\n",
    "\n",
    "df_categ_inter=df.groupby(['category'])['is_fraud'].sum().reset_index(name='category_fraud').sort_values(by='category_fraud',ascending=False)\n",
    "df_categ_inter['categ_type']=df_categ_inter['category_fraud'].apply(genuine_categ)\n",
    "df=pd.merge(df,df_categ_inter[['category','categ_type']],how='inner',on='category')"
   ]
  },
  {
   "cell_type": "code",
   "execution_count": 558,
   "id": "BzYz5eIfFhFY",
   "metadata": {
    "id": "BzYz5eIfFhFY"
   },
   "outputs": [],
   "source": [
    "# 9. Clubbing times of the day\n",
    "def hour_categ(x):\n",
    "    if (x==22) or (x==23) or ((x>=0) and (x<=3)):\n",
    "        return 'midnight'\n",
    "    else:\n",
    "        return 'daylight'\n",
    "df['hour_type']=df['hour'].apply(hour_categ)"
   ]
  },
  {
   "cell_type": "code",
   "execution_count": 559,
   "id": "2ba1cb5a",
   "metadata": {
    "colab": {
     "base_uri": "https://localhost:8080/",
     "height": 344
    },
    "id": "2ba1cb5a",
    "outputId": "d9e46f2d-aa16-4b65-f54e-32ea91425d0c"
   },
   "outputs": [
    {
     "data": {
      "text/html": [
       "<div>\n",
       "<style scoped>\n",
       "    .dataframe tbody tr th:only-of-type {\n",
       "        vertical-align: middle;\n",
       "    }\n",
       "\n",
       "    .dataframe tbody tr th {\n",
       "        vertical-align: top;\n",
       "    }\n",
       "\n",
       "    .dataframe thead th {\n",
       "        text-align: right;\n",
       "    }\n",
       "</style>\n",
       "<table border=\"1\" class=\"dataframe\">\n",
       "  <thead>\n",
       "    <tr style=\"text-align: right;\">\n",
       "      <th></th>\n",
       "      <th>ssn</th>\n",
       "      <th>cc_num</th>\n",
       "      <th>first</th>\n",
       "      <th>last</th>\n",
       "      <th>gender</th>\n",
       "      <th>street</th>\n",
       "      <th>city</th>\n",
       "      <th>state</th>\n",
       "      <th>zip</th>\n",
       "      <th>lat</th>\n",
       "      <th>...</th>\n",
       "      <th>is_weekend</th>\n",
       "      <th>hour</th>\n",
       "      <th>hol_month</th>\n",
       "      <th>recent_shop</th>\n",
       "      <th>recent_shop_gap</th>\n",
       "      <th>recent_shopper</th>\n",
       "      <th>lat_long</th>\n",
       "      <th>lat_long_type</th>\n",
       "      <th>categ_type</th>\n",
       "      <th>hour_type</th>\n",
       "    </tr>\n",
       "  </thead>\n",
       "  <tbody>\n",
       "    <tr>\n",
       "      <th>0</th>\n",
       "      <td>001-28-0753</td>\n",
       "      <td>4661995305641840</td>\n",
       "      <td>Pamela</td>\n",
       "      <td>Lee</td>\n",
       "      <td>F</td>\n",
       "      <td>467 Wayne Neck Apt. 187</td>\n",
       "      <td>Beverly</td>\n",
       "      <td>MA</td>\n",
       "      <td>1915</td>\n",
       "      <td>42.5608</td>\n",
       "      <td>...</td>\n",
       "      <td>0</td>\n",
       "      <td>23</td>\n",
       "      <td>1.0</td>\n",
       "      <td>NaT</td>\n",
       "      <td>NaT</td>\n",
       "      <td>past</td>\n",
       "      <td>-28.3151</td>\n",
       "      <td>1</td>\n",
       "      <td>3</td>\n",
       "      <td>midnight</td>\n",
       "    </tr>\n",
       "    <tr>\n",
       "      <th>1</th>\n",
       "      <td>001-28-0753</td>\n",
       "      <td>4661995305641840</td>\n",
       "      <td>Pamela</td>\n",
       "      <td>Lee</td>\n",
       "      <td>F</td>\n",
       "      <td>467 Wayne Neck Apt. 187</td>\n",
       "      <td>Beverly</td>\n",
       "      <td>MA</td>\n",
       "      <td>1915</td>\n",
       "      <td>42.5608</td>\n",
       "      <td>...</td>\n",
       "      <td>0</td>\n",
       "      <td>12</td>\n",
       "      <td>1.0</td>\n",
       "      <td>2021-11-16</td>\n",
       "      <td>0 days</td>\n",
       "      <td>recent</td>\n",
       "      <td>-28.3151</td>\n",
       "      <td>1</td>\n",
       "      <td>3</td>\n",
       "      <td>daylight</td>\n",
       "    </tr>\n",
       "  </tbody>\n",
       "</table>\n",
       "<p>2 rows × 40 columns</p>\n",
       "</div>"
      ],
      "text/plain": [
       "           ssn            cc_num   first last gender                   street  \\\n",
       "0  001-28-0753  4661995305641840  Pamela  Lee      F  467 Wayne Neck Apt. 187   \n",
       "1  001-28-0753  4661995305641840  Pamela  Lee      F  467 Wayne Neck Apt. 187   \n",
       "\n",
       "      city state   zip      lat  ...  is_weekend  hour hol_month recent_shop  \\\n",
       "0  Beverly    MA  1915  42.5608  ...           0    23       1.0         NaT   \n",
       "1  Beverly    MA  1915  42.5608  ...           0    12       1.0  2021-11-16   \n",
       "\n",
       "   recent_shop_gap recent_shopper lat_long lat_long_type categ_type  hour_type  \n",
       "0              NaT           past -28.3151             1          3   midnight  \n",
       "1           0 days         recent -28.3151             1          3   daylight  \n",
       "\n",
       "[2 rows x 40 columns]"
      ]
     },
     "execution_count": 559,
     "metadata": {},
     "output_type": "execute_result"
    }
   ],
   "source": [
    "# Verifying the newly created features\n",
    "df.head(2)"
   ]
  },
  {
   "cell_type": "code",
   "execution_count": 560,
   "id": "WVM5PG_yEddJ",
   "metadata": {
    "colab": {
     "base_uri": "https://localhost:8080/"
    },
    "id": "WVM5PG_yEddJ",
    "outputId": "35a6fa1c-0080-462c-f04b-6fc2b29112fb"
   },
   "outputs": [
    {
     "data": {
      "text/plain": [
       "Index(['ssn', 'cc_num', 'first', 'last', 'gender', 'street', 'city', 'state',\n",
       "       'zip', 'lat', 'long', 'city_pop', 'job', 'dob', 'acct_num', 'profile',\n",
       "       'trans_num', 'trans_date', 'trans_time', 'unix_time', 'category', 'amt',\n",
       "       'is_fraud', 'merchant', 'merch_lat', 'merch_long', 'area', 'age',\n",
       "       'distance', 'month', 'is_weekend', 'hour', 'hol_month', 'recent_shop',\n",
       "       'recent_shop_gap', 'recent_shopper', 'lat_long', 'lat_long_type',\n",
       "       'categ_type', 'hour_type'],\n",
       "      dtype='object')"
      ]
     },
     "execution_count": 560,
     "metadata": {},
     "output_type": "execute_result"
    }
   ],
   "source": [
    "# df_org = df.copy()\n",
    "df.columns"
   ]
  },
  {
   "cell_type": "markdown",
   "id": "ykjvce3tQSLV",
   "metadata": {
    "id": "ykjvce3tQSLV"
   },
   "source": [
    "#### II.d. Exploratory Data Analysis (EDA)"
   ]
  },
  {
   "cell_type": "code",
   "execution_count": 561,
   "id": "0b2ff854",
   "metadata": {
    "colab": {
     "base_uri": "https://localhost:8080/"
    },
    "id": "0b2ff854",
    "outputId": "e2d59c59-c137-4009-a1db-833f9ec9293d"
   },
   "outputs": [
    {
     "name": "stdout",
     "output_type": "stream",
     "text": [
      "ssn: False\n",
      "cc_num: False\n",
      "first: False\n",
      "last: False\n",
      "gender: False\n",
      "street: False\n",
      "city: False\n",
      "state: False\n",
      "zip: False\n",
      "lat: False\n",
      "long: False\n",
      "city_pop: False\n",
      "job: False\n",
      "dob: False\n",
      "acct_num: False\n",
      "profile: False\n",
      "trans_num: False\n",
      "trans_date: False\n",
      "trans_time: False\n",
      "unix_time: False\n",
      "category: False\n",
      "amt: False\n",
      "is_fraud: False\n",
      "merchant: False\n",
      "merch_lat: False\n",
      "merch_long: False\n",
      "area: False\n",
      "age: False\n",
      "distance: False\n",
      "month: False\n",
      "is_weekend: False\n",
      "hour: False\n",
      "hol_month: False\n",
      "recent_shop: True\n",
      "recent_shop_gap: False\n",
      "recent_shopper: False\n",
      "lat_long: False\n",
      "lat_long_type: False\n",
      "categ_type: False\n",
      "hour_type: False\n"
     ]
    }
   ],
   "source": [
    "# Checking for missing values in the dataset\n",
    "for col in df.columns:\n",
    "    null = df[col].isnull().values.any()\n",
    "    print(f\"{col}: {df[col].isna().values.any()}\")"
   ]
  },
  {
   "cell_type": "markdown",
   "id": "5cceef34",
   "metadata": {
    "id": "5cceef34"
   },
   "source": [
    "- We see that there are multiple columns with missing values in the dataset. We will handle these in the data preparation stage\n",
    "- We see that there are 9,310 instances of fraudulent transactions"
   ]
  },
  {
   "cell_type": "code",
   "execution_count": 562,
   "id": "ToAN4vcsQzNf",
   "metadata": {
    "colab": {
     "base_uri": "https://localhost:8080/",
     "height": 428
    },
    "id": "ToAN4vcsQzNf",
    "outputId": "5d716a7f-8dfa-4b74-98a6-d4a91a8ecccc"
   },
   "outputs": [
    {
     "name": "stdout",
     "output_type": "stream",
     "text": [
      "0.0    1742411\n",
      "1.0       9310\n",
      "Name: is_fraud, dtype: int64\n",
      "\n"
     ]
    },
    {
     "data": {
      "image/png": "[encoded data removed]",
      "text/plain": [
       "<Figure size 500x500 with 1 Axes>"
      ]
     },
     "metadata": {},
     "output_type": "display_data"
    }
   ],
   "source": [
    "# Printing the target feature distribution in the dataset\n",
    "print(df.is_fraud.value_counts())\n",
    "print()\n",
    "plt.figure(figsize = (5,5))\n",
    "plt.title(\"Count of Instances by Is Fraud\", y=1.02)\n",
    "sns.countplot(x=df.is_fraud, data = df,hue = df.is_fraud)\n",
    "plt.show()"
   ]
  },
  {
   "cell_type": "markdown",
   "id": "SPxm63xkROas",
   "metadata": {
    "id": "SPxm63xkROas"
   },
   "source": [
    "- We see that the number of non-fraudulent transactions(99.5%) is higher as compared to the fradulent transactions(0.5%). Therefore, this is an imbalanced dataset. We will perform various sampling methods on our dataset in the following sections."
   ]
  },
  {
   "cell_type": "code",
   "execution_count": 563,
   "id": "42db892b",
   "metadata": {
    "colab": {
     "base_uri": "https://localhost:8080/"
    },
    "id": "42db892b",
    "outputId": "5d65849b-8458-4ad1-f362-5a34e6722855"
   },
   "outputs": [
    {
     "data": {
      "text/plain": [
       "Index(['ssn', 'cc_num', 'first', 'last', 'gender', 'street', 'city', 'state',\n",
       "       'zip', 'lat', 'long', 'city_pop', 'job', 'dob', 'acct_num', 'profile',\n",
       "       'trans_num', 'trans_date', 'trans_time', 'unix_time', 'category', 'amt',\n",
       "       'is_fraud', 'merchant', 'merch_lat', 'merch_long', 'area', 'age',\n",
       "       'distance', 'month', 'is_weekend', 'hour', 'hol_month', 'recent_shop',\n",
       "       'recent_shop_gap', 'recent_shopper', 'lat_long', 'lat_long_type',\n",
       "       'categ_type', 'hour_type'],\n",
       "      dtype='object')"
      ]
     },
     "execution_count": 563,
     "metadata": {},
     "output_type": "execute_result"
    }
   ],
   "source": [
    "# df = df_org\n",
    "df.columns"
   ]
  },
  {
   "cell_type": "code",
   "execution_count": 564,
   "id": "c444a729",
   "metadata": {
    "id": "c444a729"
   },
   "outputs": [],
   "source": [
    "# Drop the columns that are not necessary for the model development\n",
    "df=df[['gender','city_pop','amt','is_fraud','area','age','distance','hol_month','is_weekend','hour_type','recent_shopper',\\\n",
    "   'lat_long_type','categ_type']]"
   ]
  },
  {
   "cell_type": "code",
   "execution_count": 565,
   "id": "a1d6528b",
   "metadata": {
    "colab": {
     "base_uri": "https://localhost:8080/"
    },
    "id": "a1d6528b",
    "outputId": "be8ab050-bd99-488b-d369-87805581aa67"
   },
   "outputs": [
    {
     "data": {
      "text/plain": [
       "Index(['gender', 'city_pop', 'amt', 'is_fraud', 'area', 'age', 'distance',\n",
       "       'hol_month', 'is_weekend', 'hour_type', 'recent_shopper',\n",
       "       'lat_long_type', 'categ_type'],\n",
       "      dtype='object')"
      ]
     },
     "execution_count": 565,
     "metadata": {},
     "output_type": "execute_result"
    }
   ],
   "source": [
    "# Printing the columns used in modeling\n",
    "df.columns"
   ]
  },
  {
   "cell_type": "markdown",
   "id": "41884915",
   "metadata": {
    "id": "41884915"
   },
   "source": [
    "### Data Quality Report for Continuous Features"
   ]
  },
  {
   "cell_type": "code",
   "execution_count": 566,
   "id": "2d0da59c",
   "metadata": {
    "colab": {
     "base_uri": "https://localhost:8080/",
     "height": 206
    },
    "id": "2d0da59c",
    "outputId": "ee82605a-ba99-4ebc-d8c3-2a400f9a1572"
   },
   "outputs": [
    {
     "data": {
      "text/html": [
       "<div>\n",
       "<style scoped>\n",
       "    .dataframe tbody tr th:only-of-type {\n",
       "        vertical-align: middle;\n",
       "    }\n",
       "\n",
       "    .dataframe tbody tr th {\n",
       "        vertical-align: top;\n",
       "    }\n",
       "\n",
       "    .dataframe thead th {\n",
       "        text-align: right;\n",
       "    }\n",
       "</style>\n",
       "<table border=\"1\" class=\"dataframe\">\n",
       "  <thead>\n",
       "    <tr style=\"text-align: right;\">\n",
       "      <th></th>\n",
       "      <th>city_pop</th>\n",
       "      <th>amt</th>\n",
       "      <th>age</th>\n",
       "      <th>distance</th>\n",
       "    </tr>\n",
       "  </thead>\n",
       "  <tbody>\n",
       "    <tr>\n",
       "      <th>0</th>\n",
       "      <td>39502</td>\n",
       "      <td>317.35</td>\n",
       "      <td>95</td>\n",
       "      <td>25.136</td>\n",
       "    </tr>\n",
       "    <tr>\n",
       "      <th>1</th>\n",
       "      <td>39502</td>\n",
       "      <td>880.85</td>\n",
       "      <td>95</td>\n",
       "      <td>7.231</td>\n",
       "    </tr>\n",
       "    <tr>\n",
       "      <th>2</th>\n",
       "      <td>39502</td>\n",
       "      <td>962.98</td>\n",
       "      <td>95</td>\n",
       "      <td>14.856</td>\n",
       "    </tr>\n",
       "    <tr>\n",
       "      <th>3</th>\n",
       "      <td>8399</td>\n",
       "      <td>816.18</td>\n",
       "      <td>57</td>\n",
       "      <td>35.963</td>\n",
       "    </tr>\n",
       "    <tr>\n",
       "      <th>4</th>\n",
       "      <td>8399</td>\n",
       "      <td>1034.97</td>\n",
       "      <td>57</td>\n",
       "      <td>45.031</td>\n",
       "    </tr>\n",
       "  </tbody>\n",
       "</table>\n",
       "</div>"
      ],
      "text/plain": [
       "   city_pop      amt  age  distance\n",
       "0     39502   317.35   95    25.136\n",
       "1     39502   880.85   95     7.231\n",
       "2     39502   962.98   95    14.856\n",
       "3      8399   816.18   57    35.963\n",
       "4      8399  1034.97   57    45.031"
      ]
     },
     "execution_count": 566,
     "metadata": {},
     "output_type": "execute_result"
    }
   ],
   "source": [
    "# Creating a dataframe with continuous attributes in the data table\n",
    "df_cont = df[['city_pop','amt', 'age', 'distance']].copy()\n",
    "df_cont.head()"
   ]
  },
  {
   "cell_type": "code",
   "execution_count": 567,
   "id": "35718595",
   "metadata": {
    "colab": {
     "base_uri": "https://localhost:8080/"
    },
    "id": "35718595",
    "outputId": "707c2999-1af7-4246-9628-3ceb4ef2e4f0"
   },
   "outputs": [
    {
     "data": {
      "text/plain": [
       "city_pop      int64\n",
       "amt         float64\n",
       "age           int64\n",
       "distance    float64\n",
       "dtype: object"
      ]
     },
     "execution_count": 567,
     "metadata": {},
     "output_type": "execute_result"
    }
   ],
   "source": [
    "# Datatypes of continuous features\n",
    "df_cont.dtypes"
   ]
  },
  {
   "cell_type": "code",
   "execution_count": 568,
   "id": "fab01d52",
   "metadata": {
    "id": "fab01d52"
   },
   "outputs": [],
   "source": [
    "# Converting the data type of 'city_pop' feature to float\n",
    "df_cont.city_pop = df_cont['city_pop'].astype(float)"
   ]
  },
  {
   "cell_type": "code",
   "execution_count": 569,
   "id": "6d9d3015",
   "metadata": {
    "id": "6d9d3015"
   },
   "outputs": [],
   "source": [
    "# Computing the fields for the Data Quality Report\n",
    "data_types = pd.DataFrame(df_cont.dtypes,\n",
    "                          columns=['Data Type'])\n",
    "\n",
    "total_count = pd.DataFrame(df_cont.count(),\n",
    "                                   columns=['Count'])\n",
    "\n",
    "percentage_missing = pd.DataFrame(df_cont.isnull().sum()/len(df)*100,\n",
    "                                   columns=['%Miss'])\n",
    "\n",
    "cardinality = pd.DataFrame(columns=['Cardinality'])\n",
    "for v in list(df_cont.columns.values):\n",
    "    cardinality.loc[v] = [df_cont[v].nunique()]\n",
    "    \n",
    "minimum = pd.DataFrame(columns=['Min'])\n",
    "for v in list(df_cont.columns.values):\n",
    "    minimum.loc[v] = [df_cont[v].min()]\n",
    "    \n",
    "first_quartile = pd.DataFrame(columns=['1st Qrt'])\n",
    "for v in list(df_cont.columns.values):\n",
    "    first_quartile.loc[v] = [df_cont[v].quantile(0.25)]\n",
    "    \n",
    "mean = pd.DataFrame(columns=['Mean'])\n",
    "for v in list(df_cont.columns.values):\n",
    "    mean.loc[v] = [df_cont[v].mean()]\n",
    "    \n",
    "median = pd.DataFrame(columns=['Median'])\n",
    "for v in list(df_cont.columns.values):\n",
    "    median.loc[v] = [df_cont[v].median()]\n",
    "    \n",
    "third_quartile = pd.DataFrame(columns=['3rd Qrt'])\n",
    "for v in list(df_cont.columns.values):\n",
    "    third_quartile.loc[v] = [df_cont[v].quantile(0.75)]\n",
    "    \n",
    "maximum = pd.DataFrame(columns=['Max'])\n",
    "for v in list(df_cont.columns.values):\n",
    "    maximum.loc[v] = [df_cont[v].max()]\n",
    "    \n",
    "stddev = pd.DataFrame(columns=['Std_Dev'])\n",
    "for v in list(df_cont.columns.values):\n",
    "    stddev.loc[v] = [df_cont[v].std()]"
   ]
  },
  {
   "cell_type": "code",
   "execution_count": 570,
   "id": "c0f4c636",
   "metadata": {
    "colab": {
     "base_uri": "https://localhost:8080/",
     "height": 229
    },
    "id": "c0f4c636",
    "outputId": "fc0ab60c-4330-435c-95b3-a1eda1e66eb1"
   },
   "outputs": [
    {
     "name": "stdout",
     "output_type": "stream",
     "text": [
      "\n",
      "Data Quality Report\n",
      "Total records: 4\n"
     ]
    },
    {
     "data": {
      "text/html": [
       "<div>\n",
       "<style scoped>\n",
       "    .dataframe tbody tr th:only-of-type {\n",
       "        vertical-align: middle;\n",
       "    }\n",
       "\n",
       "    .dataframe tbody tr th {\n",
       "        vertical-align: top;\n",
       "    }\n",
       "\n",
       "    .dataframe thead th {\n",
       "        text-align: right;\n",
       "    }\n",
       "</style>\n",
       "<table border=\"1\" class=\"dataframe\">\n",
       "  <thead>\n",
       "    <tr style=\"text-align: right;\">\n",
       "      <th></th>\n",
       "      <th>Data Type</th>\n",
       "      <th>Count</th>\n",
       "      <th>%Miss</th>\n",
       "      <th>Cardinality</th>\n",
       "      <th>Min</th>\n",
       "      <th>1st Qrt</th>\n",
       "      <th>Mean</th>\n",
       "      <th>Median</th>\n",
       "      <th>3rd Qrt</th>\n",
       "      <th>Max</th>\n",
       "      <th>Std_Dev</th>\n",
       "    </tr>\n",
       "  </thead>\n",
       "  <tbody>\n",
       "    <tr>\n",
       "      <th>city_pop</th>\n",
       "      <td>float64</td>\n",
       "      <td>1751721</td>\n",
       "      <td>0.0</td>\n",
       "      <td>798</td>\n",
       "      <td>176.00</td>\n",
       "      <td>19240.00</td>\n",
       "      <td>315454.76</td>\n",
       "      <td>60163.00</td>\n",
       "      <td>214112.00</td>\n",
       "      <td>2906700.00</td>\n",
       "      <td>622657.87</td>\n",
       "    </tr>\n",
       "    <tr>\n",
       "      <th>amt</th>\n",
       "      <td>float64</td>\n",
       "      <td>1751721</td>\n",
       "      <td>0.0</td>\n",
       "      <td>60327</td>\n",
       "      <td>1.00</td>\n",
       "      <td>9.02</td>\n",
       "      <td>70.51</td>\n",
       "      <td>43.85</td>\n",
       "      <td>81.26</td>\n",
       "      <td>22054.83</td>\n",
       "      <td>166.64</td>\n",
       "    </tr>\n",
       "    <tr>\n",
       "      <th>age</th>\n",
       "      <td>int64</td>\n",
       "      <td>1751721</td>\n",
       "      <td>0.0</td>\n",
       "      <td>81</td>\n",
       "      <td>15.00</td>\n",
       "      <td>31.00</td>\n",
       "      <td>44.66</td>\n",
       "      <td>43.00</td>\n",
       "      <td>56.00</td>\n",
       "      <td>96.00</td>\n",
       "      <td>17.43</td>\n",
       "    </tr>\n",
       "    <tr>\n",
       "      <th>distance</th>\n",
       "      <td>float64</td>\n",
       "      <td>1751721</td>\n",
       "      <td>0.0</td>\n",
       "      <td>75368</td>\n",
       "      <td>0.02</td>\n",
       "      <td>20.53</td>\n",
       "      <td>36.69</td>\n",
       "      <td>36.44</td>\n",
       "      <td>53.03</td>\n",
       "      <td>92.98</td>\n",
       "      <td>19.08</td>\n",
       "    </tr>\n",
       "  </tbody>\n",
       "</table>\n",
       "</div>"
      ],
      "text/plain": [
       "         Data Type    Count  %Miss  Cardinality     Min   1st Qrt       Mean  \\\n",
       "city_pop   float64  1751721    0.0          798  176.00  19240.00  315454.76   \n",
       "amt        float64  1751721    0.0        60327    1.00      9.02      70.51   \n",
       "age          int64  1751721    0.0           81   15.00     31.00      44.66   \n",
       "distance   float64  1751721    0.0        75368    0.02     20.53      36.69   \n",
       "\n",
       "            Median    3rd Qrt         Max    Std_Dev  \n",
       "city_pop  60163.00  214112.00  2906700.00  622657.87  \n",
       "amt          43.85      81.26    22054.83     166.64  \n",
       "age          43.00      56.00       96.00      17.43  \n",
       "distance     36.44      53.03       92.98      19.08  "
      ]
     },
     "execution_count": 570,
     "metadata": {},
     "output_type": "execute_result"
    }
   ],
   "source": [
    "# Concatinating the fields for the Data Quality Report\n",
    "data_quality_report = data_types.join(total_count).join(percentage_missing).join(cardinality).join(minimum).join(first_quartile).join(mean).join(median).join(third_quartile).join(maximum).join(stddev)\n",
    "print(\"\\nData Quality Report\")\n",
    "print(\"Total records: {}\".format(len(data_quality_report.index)))\n",
    "data_quality_report.round(2)"
   ]
  },
  {
   "cell_type": "code",
   "execution_count": 571,
   "id": "7eab46da",
   "metadata": {
    "colab": {
     "base_uri": "https://localhost:8080/",
     "height": 331
    },
    "id": "7eab46da",
    "outputId": "31ea27fd-559b-44fe-893c-a6657da717c6"
   },
   "outputs": [
    {
     "data": {
      "text/html": [
       "<div>\n",
       "<style scoped>\n",
       "    .dataframe tbody tr th:only-of-type {\n",
       "        vertical-align: middle;\n",
       "    }\n",
       "\n",
       "    .dataframe tbody tr th {\n",
       "        vertical-align: top;\n",
       "    }\n",
       "\n",
       "    .dataframe thead th {\n",
       "        text-align: right;\n",
       "    }\n",
       "</style>\n",
       "<table border=\"1\" class=\"dataframe\">\n",
       "  <thead>\n",
       "    <tr style=\"text-align: right;\">\n",
       "      <th></th>\n",
       "      <th>city_pop</th>\n",
       "      <th>amt</th>\n",
       "      <th>is_fraud</th>\n",
       "      <th>age</th>\n",
       "      <th>distance</th>\n",
       "      <th>hol_month</th>\n",
       "      <th>is_weekend</th>\n",
       "      <th>lat_long_type</th>\n",
       "      <th>categ_type</th>\n",
       "    </tr>\n",
       "  </thead>\n",
       "  <tbody>\n",
       "    <tr>\n",
       "      <th>city_pop</th>\n",
       "      <td>1.000000</td>\n",
       "      <td>-0.000740</td>\n",
       "      <td>-0.001707</td>\n",
       "      <td>0.023788</td>\n",
       "      <td>-0.004023</td>\n",
       "      <td>-0.000164</td>\n",
       "      <td>-0.002783</td>\n",
       "      <td>-0.005458</td>\n",
       "      <td>-0.001210</td>\n",
       "    </tr>\n",
       "    <tr>\n",
       "      <th>amt</th>\n",
       "      <td>-0.000740</td>\n",
       "      <td>1.000000</td>\n",
       "      <td>0.207886</td>\n",
       "      <td>0.006935</td>\n",
       "      <td>-0.000236</td>\n",
       "      <td>0.013112</td>\n",
       "      <td>-0.003336</td>\n",
       "      <td>-0.006448</td>\n",
       "      <td>0.024179</td>\n",
       "    </tr>\n",
       "    <tr>\n",
       "      <th>is_fraud</th>\n",
       "      <td>-0.001707</td>\n",
       "      <td>0.207886</td>\n",
       "      <td>1.000000</td>\n",
       "      <td>0.021538</td>\n",
       "      <td>-0.000451</td>\n",
       "      <td>0.009501</td>\n",
       "      <td>-0.014363</td>\n",
       "      <td>0.015112</td>\n",
       "      <td>0.057179</td>\n",
       "    </tr>\n",
       "    <tr>\n",
       "      <th>age</th>\n",
       "      <td>0.023788</td>\n",
       "      <td>0.006935</td>\n",
       "      <td>0.021538</td>\n",
       "      <td>1.000000</td>\n",
       "      <td>-0.001763</td>\n",
       "      <td>-0.000371</td>\n",
       "      <td>-0.017083</td>\n",
       "      <td>-0.085162</td>\n",
       "      <td>0.006088</td>\n",
       "    </tr>\n",
       "    <tr>\n",
       "      <th>distance</th>\n",
       "      <td>-0.004023</td>\n",
       "      <td>-0.000236</td>\n",
       "      <td>-0.000451</td>\n",
       "      <td>-0.001763</td>\n",
       "      <td>1.000000</td>\n",
       "      <td>0.000613</td>\n",
       "      <td>-0.001359</td>\n",
       "      <td>-0.002281</td>\n",
       "      <td>0.000553</td>\n",
       "    </tr>\n",
       "    <tr>\n",
       "      <th>hol_month</th>\n",
       "      <td>-0.000164</td>\n",
       "      <td>0.013112</td>\n",
       "      <td>0.009501</td>\n",
       "      <td>-0.000371</td>\n",
       "      <td>0.000613</td>\n",
       "      <td>1.000000</td>\n",
       "      <td>0.024383</td>\n",
       "      <td>0.000905</td>\n",
       "      <td>-0.160897</td>\n",
       "    </tr>\n",
       "    <tr>\n",
       "      <th>is_weekend</th>\n",
       "      <td>-0.002783</td>\n",
       "      <td>-0.003336</td>\n",
       "      <td>-0.014363</td>\n",
       "      <td>-0.017083</td>\n",
       "      <td>-0.001359</td>\n",
       "      <td>0.024383</td>\n",
       "      <td>1.000000</td>\n",
       "      <td>0.011089</td>\n",
       "      <td>-0.001180</td>\n",
       "    </tr>\n",
       "    <tr>\n",
       "      <th>lat_long_type</th>\n",
       "      <td>-0.005458</td>\n",
       "      <td>-0.006448</td>\n",
       "      <td>0.015112</td>\n",
       "      <td>-0.085162</td>\n",
       "      <td>-0.002281</td>\n",
       "      <td>0.000905</td>\n",
       "      <td>0.011089</td>\n",
       "      <td>1.000000</td>\n",
       "      <td>-0.003017</td>\n",
       "    </tr>\n",
       "    <tr>\n",
       "      <th>categ_type</th>\n",
       "      <td>-0.001210</td>\n",
       "      <td>0.024179</td>\n",
       "      <td>0.057179</td>\n",
       "      <td>0.006088</td>\n",
       "      <td>0.000553</td>\n",
       "      <td>-0.160897</td>\n",
       "      <td>-0.001180</td>\n",
       "      <td>-0.003017</td>\n",
       "      <td>1.000000</td>\n",
       "    </tr>\n",
       "  </tbody>\n",
       "</table>\n",
       "</div>"
      ],
      "text/plain": [
       "               city_pop       amt  is_fraud       age  distance  hol_month  \\\n",
       "city_pop       1.000000 -0.000740 -0.001707  0.023788 -0.004023  -0.000164   \n",
       "amt           -0.000740  1.000000  0.207886  0.006935 -0.000236   0.013112   \n",
       "is_fraud      -0.001707  0.207886  1.000000  0.021538 -0.000451   0.009501   \n",
       "age            0.023788  0.006935  0.021538  1.000000 -0.001763  -0.000371   \n",
       "distance      -0.004023 -0.000236 -0.000451 -0.001763  1.000000   0.000613   \n",
       "hol_month     -0.000164  0.013112  0.009501 -0.000371  0.000613   1.000000   \n",
       "is_weekend    -0.002783 -0.003336 -0.014363 -0.017083 -0.001359   0.024383   \n",
       "lat_long_type -0.005458 -0.006448  0.015112 -0.085162 -0.002281   0.000905   \n",
       "categ_type    -0.001210  0.024179  0.057179  0.006088  0.000553  -0.160897   \n",
       "\n",
       "               is_weekend  lat_long_type  categ_type  \n",
       "city_pop        -0.002783      -0.005458   -0.001210  \n",
       "amt             -0.003336      -0.006448    0.024179  \n",
       "is_fraud        -0.014363       0.015112    0.057179  \n",
       "age             -0.017083      -0.085162    0.006088  \n",
       "distance        -0.001359      -0.002281    0.000553  \n",
       "hol_month        0.024383       0.000905   -0.160897  \n",
       "is_weekend       1.000000       0.011089   -0.001180  \n",
       "lat_long_type    0.011089       1.000000   -0.003017  \n",
       "categ_type      -0.001180      -0.003017    1.000000  "
      ]
     },
     "execution_count": 571,
     "metadata": {},
     "output_type": "execute_result"
    }
   ],
   "source": [
    "# Plotting the correlation matrix for the continuous features in the dataset\n",
    "df_correlation = df.corr(method = 'pearson')\n",
    "df_correlation"
   ]
  },
  {
   "cell_type": "code",
   "execution_count": 572,
   "id": "95eb020c",
   "metadata": {
    "colab": {
     "base_uri": "https://localhost:8080/",
     "height": 397
    },
    "id": "95eb020c",
    "outputId": "f6561acc-7d13-4ca0-cba7-ae200a67bc2d"
   },
   "outputs": [
    {
     "data": {
      "text/plain": [
       "<AxesSubplot:>"
      ]
     },
     "execution_count": 572,
     "metadata": {},
     "output_type": "execute_result"
    },
    {
     "data": {
      "image/png": "[encoded data removed]",
      "text/plain": [
       "<Figure size 1400x600 with 2 Axes>"
      ]
     },
     "metadata": {},
     "output_type": "display_data"
    }
   ],
   "source": [
    "import seaborn as sns\n",
    "%matplotlib inline\n",
    "# Plotting the correlation matrix for the continuous features in the dataset\n",
    "# plot the heatmap\n",
    "fig, ax = plt.subplots(figsize=(14,6)) \n",
    "sns.heatmap(df_correlation,annot=True, \n",
    "        xticklabels=df_correlation.columns,\n",
    "        yticklabels=df_correlation.columns)"
   ]
  },
  {
   "cell_type": "code",
   "execution_count": 573,
   "id": "22a99549",
   "metadata": {
    "colab": {
     "base_uri": "https://localhost:8080/",
     "height": 390
    },
    "id": "22a99549",
    "outputId": "0ae03b2c-d1a2-4e60-857d-bfcc8f24250b"
   },
   "outputs": [
    {
     "data": {
      "image/png": "[encoded data removed]",
      "text/plain": [
       "<Figure size 800x600 with 4 Axes>"
      ]
     },
     "metadata": {},
     "output_type": "display_data"
    }
   ],
   "source": [
    "# Plotting the histograms for the continuous attributes in the dataset \n",
    "%matplotlib inline \n",
    "\n",
    "df_cont.hist(bins=20, figsize = (8,6))\n",
    "plt.show()\n"
   ]
  },
  {
   "cell_type": "code",
   "execution_count": 574,
   "id": "oCU9-kT-UBvG",
   "metadata": {
    "colab": {
     "base_uri": "https://localhost:8080/",
     "height": 294
    },
    "id": "oCU9-kT-UBvG",
    "outputId": "28a1621a-4598-4af4-c686-8f8ec82bc963"
   },
   "outputs": [
    {
     "data": {
      "text/plain": [
       "<AxesSubplot:>"
      ]
     },
     "execution_count": 574,
     "metadata": {},
     "output_type": "execute_result"
    },
    {
     "data": {
      "image/png": "[encoded data removed]",
      "text/plain": [
       "<Figure size 640x480 with 1 Axes>"
      ]
     },
     "metadata": {},
     "output_type": "display_data"
    }
   ],
   "source": [
    "sns.boxplot(data = df_cont['city_pop'])"
   ]
  },
  {
   "cell_type": "code",
   "execution_count": 575,
   "id": "TyLxmfe3UYjs",
   "metadata": {
    "colab": {
     "base_uri": "https://localhost:8080/",
     "height": 283
    },
    "id": "TyLxmfe3UYjs",
    "outputId": "54c3734e-26f5-4238-c513-39f1cd92381d"
   },
   "outputs": [
    {
     "data": {
      "text/plain": [
       "<AxesSubplot:>"
      ]
     },
     "execution_count": 575,
     "metadata": {},
     "output_type": "execute_result"
    },
    {
     "data": {
      "image/png": "[encoded data removed]",
      "text/plain": [
       "<Figure size 640x480 with 1 Axes>"
      ]
     },
     "metadata": {},
     "output_type": "display_data"
    }
   ],
   "source": [
    "sns.boxplot(data = df_cont['amt'])"
   ]
  },
  {
   "cell_type": "code",
   "execution_count": 576,
   "id": "Y2-UyKsFUZSh",
   "metadata": {
    "colab": {
     "base_uri": "https://localhost:8080/",
     "height": 283
    },
    "id": "Y2-UyKsFUZSh",
    "outputId": "80c77f58-8d72-41f7-f424-a280dfc2fa48"
   },
   "outputs": [
    {
     "data": {
      "text/plain": [
       "<AxesSubplot:>"
      ]
     },
     "execution_count": 576,
     "metadata": {},
     "output_type": "execute_result"
    },
    {
     "data": {
      "image/png": "[encoded data removed]",
      "text/plain": [
       "<Figure size 640x480 with 1 Axes>"
      ]
     },
     "metadata": {},
     "output_type": "display_data"
    }
   ],
   "source": [
    "sns.boxplot(data = df_cont['distance'])"
   ]
  },
  {
   "cell_type": "code",
   "execution_count": 577,
   "id": "o-3Q3oSHGrWO",
   "metadata": {
    "colab": {
     "base_uri": "https://localhost:8080/",
     "height": 287
    },
    "id": "o-3Q3oSHGrWO",
    "outputId": "14205bb5-a285-402c-ba4c-dda88e23f9d6"
   },
   "outputs": [
    {
     "data": {
      "text/plain": [
       "<AxesSubplot:>"
      ]
     },
     "execution_count": 577,
     "metadata": {},
     "output_type": "execute_result"
    },
    {
     "data": {
      "image/png": "[encoded data removed]",
      "text/plain": [
       "<Figure size 640x480 with 1 Axes>"
      ]
     },
     "metadata": {},
     "output_type": "display_data"
    }
   ],
   "source": [
    "sns.boxplot(data = df_cont['age'])"
   ]
  },
  {
   "cell_type": "markdown",
   "id": "80f4cf1f",
   "metadata": {
    "id": "80f4cf1f"
   },
   "source": [
    "### Data Quality Report for Categorical Features"
   ]
  },
  {
   "cell_type": "code",
   "execution_count": 578,
   "id": "87022fec",
   "metadata": {
    "colab": {
     "base_uri": "https://localhost:8080/",
     "height": 206
    },
    "id": "87022fec",
    "outputId": "d309a8a4-c94c-48f3-ec0a-27fccac17060"
   },
   "outputs": [
    {
     "data": {
      "text/html": [
       "<div>\n",
       "<style scoped>\n",
       "    .dataframe tbody tr th:only-of-type {\n",
       "        vertical-align: middle;\n",
       "    }\n",
       "\n",
       "    .dataframe tbody tr th {\n",
       "        vertical-align: top;\n",
       "    }\n",
       "\n",
       "    .dataframe thead th {\n",
       "        text-align: right;\n",
       "    }\n",
       "</style>\n",
       "<table border=\"1\" class=\"dataframe\">\n",
       "  <thead>\n",
       "    <tr style=\"text-align: right;\">\n",
       "      <th></th>\n",
       "      <th>gender</th>\n",
       "      <th>is_fraud</th>\n",
       "      <th>area</th>\n",
       "      <th>hol_month</th>\n",
       "      <th>is_weekend</th>\n",
       "      <th>hour_type</th>\n",
       "      <th>recent_shopper</th>\n",
       "      <th>lat_long_type</th>\n",
       "      <th>categ_type</th>\n",
       "    </tr>\n",
       "  </thead>\n",
       "  <tbody>\n",
       "    <tr>\n",
       "      <th>0</th>\n",
       "      <td>F</td>\n",
       "      <td>1.0</td>\n",
       "      <td>urban</td>\n",
       "      <td>1.0</td>\n",
       "      <td>0</td>\n",
       "      <td>midnight</td>\n",
       "      <td>past</td>\n",
       "      <td>1</td>\n",
       "      <td>3</td>\n",
       "    </tr>\n",
       "    <tr>\n",
       "      <th>1</th>\n",
       "      <td>F</td>\n",
       "      <td>1.0</td>\n",
       "      <td>urban</td>\n",
       "      <td>1.0</td>\n",
       "      <td>0</td>\n",
       "      <td>daylight</td>\n",
       "      <td>recent</td>\n",
       "      <td>1</td>\n",
       "      <td>3</td>\n",
       "    </tr>\n",
       "    <tr>\n",
       "      <th>2</th>\n",
       "      <td>F</td>\n",
       "      <td>1.0</td>\n",
       "      <td>urban</td>\n",
       "      <td>1.0</td>\n",
       "      <td>0</td>\n",
       "      <td>midnight</td>\n",
       "      <td>recent</td>\n",
       "      <td>1</td>\n",
       "      <td>3</td>\n",
       "    </tr>\n",
       "    <tr>\n",
       "      <th>3</th>\n",
       "      <td>F</td>\n",
       "      <td>1.0</td>\n",
       "      <td>urban</td>\n",
       "      <td>2.0</td>\n",
       "      <td>0</td>\n",
       "      <td>midnight</td>\n",
       "      <td>recent</td>\n",
       "      <td>2</td>\n",
       "      <td>3</td>\n",
       "    </tr>\n",
       "    <tr>\n",
       "      <th>4</th>\n",
       "      <td>F</td>\n",
       "      <td>1.0</td>\n",
       "      <td>urban</td>\n",
       "      <td>2.0</td>\n",
       "      <td>0</td>\n",
       "      <td>daylight</td>\n",
       "      <td>recent</td>\n",
       "      <td>2</td>\n",
       "      <td>3</td>\n",
       "    </tr>\n",
       "  </tbody>\n",
       "</table>\n",
       "</div>"
      ],
      "text/plain": [
       "  gender  is_fraud   area  hol_month  is_weekend hour_type recent_shopper  \\\n",
       "0      F       1.0  urban        1.0           0  midnight           past   \n",
       "1      F       1.0  urban        1.0           0  daylight         recent   \n",
       "2      F       1.0  urban        1.0           0  midnight         recent   \n",
       "3      F       1.0  urban        2.0           0  midnight         recent   \n",
       "4      F       1.0  urban        2.0           0  daylight         recent   \n",
       "\n",
       "   lat_long_type  categ_type  \n",
       "0              1           3  \n",
       "1              1           3  \n",
       "2              1           3  \n",
       "3              2           3  \n",
       "4              2           3  "
      ]
     },
     "execution_count": 578,
     "metadata": {},
     "output_type": "execute_result"
    }
   ],
   "source": [
    "# Creating a dataframe with categorical features in the data table\n",
    "df_categ = df[['gender', 'is_fraud', 'area', 'hol_month', 'is_weekend', 'hour_type', 'recent_shopper', 'lat_long_type', 'categ_type']].copy()\n",
    "df_categ.head()"
   ]
  },
  {
   "cell_type": "code",
   "execution_count": 579,
   "id": "c342349b",
   "metadata": {
    "colab": {
     "base_uri": "https://localhost:8080/"
    },
    "id": "c342349b",
    "outputId": "6e1e8599-e181-4eca-eedf-d3491a766f67"
   },
   "outputs": [
    {
     "name": "stdout",
     "output_type": "stream",
     "text": [
      "<class 'pandas.core.frame.DataFrame'>\n",
      "Int64Index: 1751721 entries, 0 to 1751720\n",
      "Data columns (total 9 columns):\n",
      " #   Column          Dtype  \n",
      "---  ------          -----  \n",
      " 0   gender          object \n",
      " 1   is_fraud        float64\n",
      " 2   area            object \n",
      " 3   hol_month       float64\n",
      " 4   is_weekend      int64  \n",
      " 5   hour_type       object \n",
      " 6   recent_shopper  object \n",
      " 7   lat_long_type   int64  \n",
      " 8   categ_type      int64  \n",
      "dtypes: float64(2), int64(3), object(4)\n",
      "memory usage: 133.6+ MB\n"
     ]
    }
   ],
   "source": [
    "# Printing the information of the categorical features\n",
    "df_categ.info()"
   ]
  },
  {
   "cell_type": "code",
   "execution_count": 580,
   "id": "a8f9dc88",
   "metadata": {
    "id": "a8f9dc88"
   },
   "outputs": [],
   "source": [
    "# Converting the data type of the features to string\n",
    "df_categ = df_categ.astype(str)"
   ]
  },
  {
   "cell_type": "code",
   "execution_count": 581,
   "id": "958bed13",
   "metadata": {
    "id": "958bed13"
   },
   "outputs": [],
   "source": [
    "# Computing the fields for the Data Quality Report\n",
    "data_types = pd.DataFrame(df_categ.dtypes,\n",
    "                          columns=['Data Type'])\n",
    "\n",
    "total_count = pd.DataFrame(df_categ.count(),\n",
    "                                   columns=['Count'])\n",
    "\n",
    "percentage_missing = pd.DataFrame(df_categ.isnull().sum()/len(df)*100,\n",
    "                                   columns=['%Miss'])\n",
    "\n",
    "cardinality = pd.DataFrame(columns=['Cardinality'])\n",
    "for v in list(df_categ.columns.values):\n",
    "    cardinality.loc[v] = [df_categ[v].nunique()]\n",
    "    \n",
    "mode = pd.DataFrame(columns=['Mode'])\n",
    "for v in list(df_categ.columns.values):\n",
    "    mode.loc[v] = [df_categ[v].value_counts().index.tolist()[0]]\n",
    "    \n",
    "mode_freq = pd.DataFrame(columns=['Mode Freq'])\n",
    "for v in list(df_categ.columns.values):\n",
    "    mode_freq.loc[v] = [df_categ[v].value_counts()[0]]\n",
    "\n",
    "mode_perc = pd.DataFrame(columns=['Mode Perc'])\n",
    "for v in list(df_categ.columns.values):\n",
    "    mode_perc.loc[v] = [df_categ[v].value_counts()[0]/len(df_categ['gender'])*100]    \n",
    "    \n",
    "smode = pd.DataFrame(columns=['Second Mode'])\n",
    "for v in list(df_categ.columns.values):\n",
    "    smode.loc[v] = [df_categ[v].value_counts().index.tolist()[1]]\n",
    "    \n",
    "smode_freq = pd.DataFrame(columns=['Second Mode Freq'])\n",
    "for v in list(df_categ.columns.values):\n",
    "    smode_freq.loc[v] = [df_categ[v].value_counts()[1]]\n",
    "\n",
    "smode_perc = pd.DataFrame(columns=['Second Mode Perc'])\n",
    "for v in list(df_categ.columns.values):\n",
    "    smode_perc.loc[v] = [df_categ[v].value_counts()[1]/len(df_categ['gender'])*100]  "
   ]
  },
  {
   "cell_type": "code",
   "execution_count": 582,
   "id": "9441b775",
   "metadata": {
    "colab": {
     "base_uri": "https://localhost:8080/",
     "height": 386
    },
    "id": "9441b775",
    "outputId": "f84f6169-998c-4f14-f083-1724328a6111"
   },
   "outputs": [
    {
     "name": "stdout",
     "output_type": "stream",
     "text": [
      "\n",
      "Data Quality Report - Categorical Features\n",
      "Total records: 9\n"
     ]
    },
    {
     "data": {
      "text/html": [
       "<div>\n",
       "<style scoped>\n",
       "    .dataframe tbody tr th:only-of-type {\n",
       "        vertical-align: middle;\n",
       "    }\n",
       "\n",
       "    .dataframe tbody tr th {\n",
       "        vertical-align: top;\n",
       "    }\n",
       "\n",
       "    .dataframe thead th {\n",
       "        text-align: right;\n",
       "    }\n",
       "</style>\n",
       "<table border=\"1\" class=\"dataframe\">\n",
       "  <thead>\n",
       "    <tr style=\"text-align: right;\">\n",
       "      <th></th>\n",
       "      <th>Data Type</th>\n",
       "      <th>Count</th>\n",
       "      <th>%Miss</th>\n",
       "      <th>Cardinality</th>\n",
       "      <th>Mode</th>\n",
       "      <th>Mode Freq</th>\n",
       "      <th>Mode Perc</th>\n",
       "      <th>Second Mode</th>\n",
       "      <th>Second Mode Freq</th>\n",
       "      <th>Second Mode Perc</th>\n",
       "    </tr>\n",
       "  </thead>\n",
       "  <tbody>\n",
       "    <tr>\n",
       "      <th>gender</th>\n",
       "      <td>object</td>\n",
       "      <td>1751721</td>\n",
       "      <td>0.0</td>\n",
       "      <td>2</td>\n",
       "      <td>M</td>\n",
       "      <td>895503</td>\n",
       "      <td>51.121326</td>\n",
       "      <td>F</td>\n",
       "      <td>856218</td>\n",
       "      <td>48.878674</td>\n",
       "    </tr>\n",
       "    <tr>\n",
       "      <th>is_fraud</th>\n",
       "      <td>object</td>\n",
       "      <td>1751721</td>\n",
       "      <td>0.0</td>\n",
       "      <td>2</td>\n",
       "      <td>0.0</td>\n",
       "      <td>1742411</td>\n",
       "      <td>99.468523</td>\n",
       "      <td>1.0</td>\n",
       "      <td>9310</td>\n",
       "      <td>0.531477</td>\n",
       "    </tr>\n",
       "    <tr>\n",
       "      <th>area</th>\n",
       "      <td>object</td>\n",
       "      <td>1751721</td>\n",
       "      <td>0.0</td>\n",
       "      <td>2</td>\n",
       "      <td>urban</td>\n",
       "      <td>1680714</td>\n",
       "      <td>95.946444</td>\n",
       "      <td>rural</td>\n",
       "      <td>71007</td>\n",
       "      <td>4.053556</td>\n",
       "    </tr>\n",
       "    <tr>\n",
       "      <th>hol_month</th>\n",
       "      <td>object</td>\n",
       "      <td>1751721</td>\n",
       "      <td>0.0</td>\n",
       "      <td>2</td>\n",
       "      <td>2.0</td>\n",
       "      <td>1358082</td>\n",
       "      <td>77.528442</td>\n",
       "      <td>1.0</td>\n",
       "      <td>393639</td>\n",
       "      <td>22.471558</td>\n",
       "    </tr>\n",
       "    <tr>\n",
       "      <th>is_weekend</th>\n",
       "      <td>object</td>\n",
       "      <td>1751721</td>\n",
       "      <td>0.0</td>\n",
       "      <td>2</td>\n",
       "      <td>0</td>\n",
       "      <td>1055304</td>\n",
       "      <td>60.243840</td>\n",
       "      <td>1</td>\n",
       "      <td>696417</td>\n",
       "      <td>39.756160</td>\n",
       "    </tr>\n",
       "    <tr>\n",
       "      <th>hour_type</th>\n",
       "      <td>object</td>\n",
       "      <td>1751721</td>\n",
       "      <td>0.0</td>\n",
       "      <td>2</td>\n",
       "      <td>daylight</td>\n",
       "      <td>1342626</td>\n",
       "      <td>76.646110</td>\n",
       "      <td>midnight</td>\n",
       "      <td>409095</td>\n",
       "      <td>23.353890</td>\n",
       "    </tr>\n",
       "    <tr>\n",
       "      <th>recent_shopper</th>\n",
       "      <td>object</td>\n",
       "      <td>1751721</td>\n",
       "      <td>0.0</td>\n",
       "      <td>2</td>\n",
       "      <td>recent</td>\n",
       "      <td>1218395</td>\n",
       "      <td>69.554170</td>\n",
       "      <td>past</td>\n",
       "      <td>533326</td>\n",
       "      <td>30.445830</td>\n",
       "    </tr>\n",
       "    <tr>\n",
       "      <th>lat_long_type</th>\n",
       "      <td>object</td>\n",
       "      <td>1751721</td>\n",
       "      <td>0.0</td>\n",
       "      <td>3</td>\n",
       "      <td>2</td>\n",
       "      <td>810978</td>\n",
       "      <td>46.296071</td>\n",
       "      <td>1</td>\n",
       "      <td>637355</td>\n",
       "      <td>36.384504</td>\n",
       "    </tr>\n",
       "    <tr>\n",
       "      <th>categ_type</th>\n",
       "      <td>object</td>\n",
       "      <td>1751721</td>\n",
       "      <td>0.0</td>\n",
       "      <td>3</td>\n",
       "      <td>2</td>\n",
       "      <td>833343</td>\n",
       "      <td>47.572816</td>\n",
       "      <td>3</td>\n",
       "      <td>546081</td>\n",
       "      <td>31.173971</td>\n",
       "    </tr>\n",
       "  </tbody>\n",
       "</table>\n",
       "</div>"
      ],
      "text/plain": [
       "               Data Type    Count  %Miss  Cardinality      Mode  Mode Freq  \\\n",
       "gender            object  1751721    0.0            2         M     895503   \n",
       "is_fraud          object  1751721    0.0            2       0.0    1742411   \n",
       "area              object  1751721    0.0            2     urban    1680714   \n",
       "hol_month         object  1751721    0.0            2       2.0    1358082   \n",
       "is_weekend        object  1751721    0.0            2         0    1055304   \n",
       "hour_type         object  1751721    0.0            2  daylight    1342626   \n",
       "recent_shopper    object  1751721    0.0            2    recent    1218395   \n",
       "lat_long_type     object  1751721    0.0            3         2     810978   \n",
       "categ_type        object  1751721    0.0            3         2     833343   \n",
       "\n",
       "                Mode Perc Second Mode  Second Mode Freq  Second Mode Perc  \n",
       "gender          51.121326           F            856218         48.878674  \n",
       "is_fraud        99.468523         1.0              9310          0.531477  \n",
       "area            95.946444       rural             71007          4.053556  \n",
       "hol_month       77.528442         1.0            393639         22.471558  \n",
       "is_weekend      60.243840           1            696417         39.756160  \n",
       "hour_type       76.646110    midnight            409095         23.353890  \n",
       "recent_shopper  69.554170        past            533326         30.445830  \n",
       "lat_long_type   46.296071           1            637355         36.384504  \n",
       "categ_type      47.572816           3            546081         31.173971  "
      ]
     },
     "execution_count": 582,
     "metadata": {},
     "output_type": "execute_result"
    }
   ],
   "source": [
    "# Concatinating the fields in the Data Quality Report\n",
    "data_quality_report2 = data_types.join(total_count).join(percentage_missing).join(cardinality).join(mode).join(mode_freq).join(mode_perc).join(smode).join(smode_freq).join(smode_perc)\n",
    "print(\"\\nData Quality Report - Categorical Features\")\n",
    "print(\"Total records: {}\".format(len(data_quality_report2.index)))\n",
    "data_quality_report2"
   ]
  },
  {
   "cell_type": "code",
   "execution_count": 583,
   "id": "822660cf",
   "metadata": {
    "colab": {
     "base_uri": "https://localhost:8080/",
     "height": 308
    },
    "id": "822660cf",
    "outputId": "a1138875-f4b9-467c-a651-0687bf0ff137"
   },
   "outputs": [
    {
     "data": {
      "image/png": "[encoded data removed]",
      "text/plain": [
       "<Figure size 640x480 with 1 Axes>"
      ]
     },
     "metadata": {},
     "output_type": "display_data"
    }
   ],
   "source": [
    "df.gender.value_counts().plot(kind=\"bar\")\n",
    "plt.xlabel(\"Count of Transactions\", labelpad=14)\n",
    "plt.ylabel(\"Gender\", labelpad=14)\n",
    "plt.title(\"Count of Transactions by Gender\", y=1.02);"
   ]
  },
  {
   "cell_type": "code",
   "execution_count": 584,
   "id": "b17f0872",
   "metadata": {
    "colab": {
     "base_uri": "https://localhost:8080/",
     "height": 283
    },
    "id": "b17f0872",
    "outputId": "e6d274e0-1d4d-4ec3-f209-cb9f703fe133"
   },
   "outputs": [
    {
     "data": {
      "text/plain": [
       "<AxesSubplot:>"
      ]
     },
     "execution_count": 584,
     "metadata": {},
     "output_type": "execute_result"
    },
    {
     "data": {
      "image/png": "[encoded data removed]",
      "text/plain": [
       "<Figure size 640x480 with 3 Axes>"
      ]
     },
     "metadata": {},
     "output_type": "display_data"
    }
   ],
   "source": [
    "f, (ax1, ax2, ax3) = plt.subplots(1, 3, sharey=True)\n",
    "df.gender.value_counts().plot(kind=\"barh\", ax = ax1)\n",
    "df[df.is_fraud == 0].gender.value_counts().plot(kind=\"barh\", ax = ax2)\n",
    "df[df.is_fraud == 1].gender.value_counts().plot(kind=\"barh\", ax = ax3)"
   ]
  },
  {
   "cell_type": "code",
   "execution_count": 585,
   "id": "854a0688",
   "metadata": {
    "colab": {
     "base_uri": "https://localhost:8080/",
     "height": 296
    },
    "id": "854a0688",
    "outputId": "8565bfdf-a5af-415b-d1ed-81428065d5ae"
   },
   "outputs": [
    {
     "data": {
      "text/plain": [
       "<AxesSubplot:>"
      ]
     },
     "execution_count": 585,
     "metadata": {},
     "output_type": "execute_result"
    },
    {
     "data": {
      "image/png": "[encoded data removed]",
      "text/plain": [
       "<Figure size 640x480 with 3 Axes>"
      ]
     },
     "metadata": {},
     "output_type": "display_data"
    }
   ],
   "source": [
    "f, (ax1, ax2, ax3) = plt.subplots(1, 3, sharey=True)\n",
    "df.area.value_counts().plot(kind=\"barh\", ax = ax1)\n",
    "df[df.is_fraud == 0].area.value_counts().plot(kind=\"barh\", ax = ax2)\n",
    "df[df.is_fraud == 1].area.value_counts().plot(kind=\"barh\", ax = ax3)"
   ]
  },
  {
   "cell_type": "code",
   "execution_count": 586,
   "id": "7293f4dc",
   "metadata": {
    "colab": {
     "base_uri": "https://localhost:8080/",
     "height": 296
    },
    "id": "7293f4dc",
    "outputId": "7277b553-35f5-46dc-ae7d-238f5950c99d"
   },
   "outputs": [
    {
     "data": {
      "text/plain": [
       "<AxesSubplot:>"
      ]
     },
     "execution_count": 586,
     "metadata": {},
     "output_type": "execute_result"
    },
    {
     "data": {
      "image/png": "[encoded data removed]",
      "text/plain": [
       "<Figure size 640x480 with 3 Axes>"
      ]
     },
     "metadata": {},
     "output_type": "display_data"
    }
   ],
   "source": [
    "f, (ax1, ax2, ax3) = plt.subplots(1, 3, sharey=True)\n",
    "df.is_weekend.value_counts().plot(kind=\"barh\", ax = ax1)\n",
    "df[df.is_fraud == 0].is_weekend.value_counts().plot(kind=\"barh\", ax = ax2)\n",
    "df[df.is_fraud == 1].is_weekend.value_counts().plot(kind=\"barh\", ax = ax3)"
   ]
  },
  {
   "cell_type": "markdown",
   "id": "f089cc70",
   "metadata": {
    "id": "f089cc70"
   },
   "source": [
    "## III. Data Preparation"
   ]
  },
  {
   "cell_type": "markdown",
   "id": "2f35342f",
   "metadata": {
    "id": "2f35342f"
   },
   "source": [
    "### III.a. Data Cleaning"
   ]
  },
  {
   "cell_type": "code",
   "execution_count": 587,
   "id": "6c0fd243",
   "metadata": {
    "colab": {
     "base_uri": "https://localhost:8080/"
    },
    "id": "6c0fd243",
    "outputId": "95cf917e-c9ed-4d98-dd88-9f8c72862197"
   },
   "outputs": [
    {
     "name": "stdout",
     "output_type": "stream",
     "text": [
      "gender: False\n",
      "city_pop: False\n",
      "amt: False\n",
      "is_fraud: False\n",
      "area: False\n",
      "age: False\n",
      "distance: False\n",
      "hol_month: False\n",
      "is_weekend: False\n",
      "hour_type: False\n",
      "recent_shopper: False\n",
      "lat_long_type: False\n",
      "categ_type: False\n"
     ]
    }
   ],
   "source": [
    "# Checking for missing values in the dataset\n",
    "for col in df.columns:\n",
    "    null = df[col].isnull().values.any()\n",
    "    print(f\"{col}: {df[col].isna().values.any()}\")"
   ]
  },
  {
   "cell_type": "code",
   "execution_count": 588,
   "id": "e41afb08",
   "metadata": {
    "colab": {
     "base_uri": "https://localhost:8080/"
    },
    "id": "e41afb08",
    "outputId": "5a6a6e15-ebc7-4cf4-8330-7df0f843b2f7"
   },
   "outputs": [
    {
     "name": "stdout",
     "output_type": "stream",
     "text": [
      "gender: False\n",
      "city_pop: False\n",
      "amt: False\n",
      "is_fraud: False\n",
      "area: False\n",
      "age: False\n",
      "distance: False\n",
      "hol_month: False\n",
      "is_weekend: False\n",
      "hour_type: False\n",
      "recent_shopper: False\n",
      "lat_long_type: False\n",
      "categ_type: False\n"
     ]
    }
   ],
   "source": [
    "# Drop the instances have all null values present in the dataset\n",
    "df.dropna(axis = 0, how='all', inplace = True)\n",
    "\n",
    "# Checking for missing values in the dataset\n",
    "for col in df.columns:\n",
    "    null = df[col].isnull().values.any()\n",
    "    print(f\"{col}: {df[col].isna().values.any()}\")"
   ]
  },
  {
   "cell_type": "code",
   "execution_count": 589,
   "id": "a9b56242",
   "metadata": {
    "id": "a9b56242"
   },
   "outputs": [],
   "source": [
    "# Removing the entries where the target feature is not available as this is required for our modeling\n",
    "df.dropna(axis = 0, how='any', inplace = True) # Considered for all instances having null values in either features"
   ]
  },
  {
   "cell_type": "code",
   "execution_count": 590,
   "id": "76c04616",
   "metadata": {
    "colab": {
     "base_uri": "https://localhost:8080/"
    },
    "id": "76c04616",
    "outputId": "4fd831bf-83df-43c9-f317-539d4c2e0fa1"
   },
   "outputs": [
    {
     "name": "stdout",
     "output_type": "stream",
     "text": [
      "gender: False\n",
      "city_pop: False\n",
      "amt: False\n",
      "is_fraud: False\n",
      "area: False\n",
      "age: False\n",
      "distance: False\n",
      "hol_month: False\n",
      "is_weekend: False\n",
      "hour_type: False\n",
      "recent_shopper: False\n",
      "lat_long_type: False\n",
      "categ_type: False\n"
     ]
    }
   ],
   "source": [
    "# Checking for missing values in the dataset\n",
    "for col in df.columns:\n",
    "    null = df[col].isnull().values.any()\n",
    "    print(f\"{col}: {df[col].isna().values.any()}\")"
   ]
  },
  {
   "cell_type": "markdown",
   "id": "tnhv7MoJXPOr",
   "metadata": {
    "id": "tnhv7MoJXPOr"
   },
   "source": [
    "- All the missing value fields are eliminated from the dataframe"
   ]
  },
  {
   "cell_type": "code",
   "execution_count": 591,
   "id": "d7361873",
   "metadata": {
    "colab": {
     "base_uri": "https://localhost:8080/"
    },
    "id": "d7361873",
    "outputId": "70cef5e7-77d2-43b2-b880-394a2d15f51d"
   },
   "outputs": [
    {
     "data": {
      "text/plain": [
       "False    1751721\n",
       "dtype: int64"
      ]
     },
     "execution_count": 591,
     "metadata": {},
     "output_type": "execute_result"
    }
   ],
   "source": [
    "# Check for duplicates\n",
    "df.duplicated().value_counts()"
   ]
  },
  {
   "cell_type": "markdown",
   "id": "28273703",
   "metadata": {
    "id": "28273703"
   },
   "source": [
    "- Here we see there are no duplicate instances in the dataset"
   ]
  },
  {
   "cell_type": "markdown",
   "id": "b4c59432",
   "metadata": {
    "id": "b4c59432"
   },
   "source": [
    "#### IV.a. Data Transformation (Feature Engineering)"
   ]
  },
  {
   "cell_type": "markdown",
   "id": "d5c1ba10",
   "metadata": {
    "id": "d5c1ba10"
   },
   "source": [
    "- The dataset consists of many categorical features. However, many of the machine learning models usually require numerical values as the input. Hence, necessary transformatin of data from categorical to numerical is must.In this section, we take multiple measures to convert data to make it suitable for modelling."
   ]
  },
  {
   "cell_type": "code",
   "execution_count": 592,
   "id": "b9ffd70d",
   "metadata": {
    "colab": {
     "base_uri": "https://localhost:8080/"
    },
    "id": "b9ffd70d",
    "outputId": "f9c5d686-9209-4f34-a8b4-f07bb444817f"
   },
   "outputs": [
    {
     "data": {
      "text/plain": [
       "Index(['gender', 'city_pop', 'amt', 'is_fraud', 'area', 'age', 'distance',\n",
       "       'hol_month', 'is_weekend', 'hour_type', 'recent_shopper',\n",
       "       'lat_long_type', 'categ_type'],\n",
       "      dtype='object')"
      ]
     },
     "execution_count": 592,
     "metadata": {},
     "output_type": "execute_result"
    }
   ],
   "source": [
    "#Below are the different features in the dataset\n",
    "df.columns"
   ]
  },
  {
   "cell_type": "code",
   "execution_count": 593,
   "id": "3c528e64",
   "metadata": {
    "colab": {
     "base_uri": "https://localhost:8080/",
     "height": 206
    },
    "id": "3c528e64",
    "outputId": "9f6c3e01-eac5-4e73-ba27-0343e3cf6e33"
   },
   "outputs": [
    {
     "data": {
      "text/html": [
       "<div>\n",
       "<style scoped>\n",
       "    .dataframe tbody tr th:only-of-type {\n",
       "        vertical-align: middle;\n",
       "    }\n",
       "\n",
       "    .dataframe tbody tr th {\n",
       "        vertical-align: top;\n",
       "    }\n",
       "\n",
       "    .dataframe thead th {\n",
       "        text-align: right;\n",
       "    }\n",
       "</style>\n",
       "<table border=\"1\" class=\"dataframe\">\n",
       "  <thead>\n",
       "    <tr style=\"text-align: right;\">\n",
       "      <th></th>\n",
       "      <th>gender</th>\n",
       "      <th>city_pop</th>\n",
       "      <th>amt</th>\n",
       "      <th>is_fraud</th>\n",
       "      <th>area</th>\n",
       "      <th>age</th>\n",
       "      <th>distance</th>\n",
       "      <th>hol_month</th>\n",
       "      <th>is_weekend</th>\n",
       "      <th>hour_type</th>\n",
       "      <th>recent_shopper</th>\n",
       "      <th>lat_long_type</th>\n",
       "      <th>categ_type</th>\n",
       "    </tr>\n",
       "  </thead>\n",
       "  <tbody>\n",
       "    <tr>\n",
       "      <th>0</th>\n",
       "      <td>F</td>\n",
       "      <td>39502</td>\n",
       "      <td>317.35</td>\n",
       "      <td>1.0</td>\n",
       "      <td>urban</td>\n",
       "      <td>95</td>\n",
       "      <td>25.136</td>\n",
       "      <td>1.0</td>\n",
       "      <td>0</td>\n",
       "      <td>midnight</td>\n",
       "      <td>past</td>\n",
       "      <td>1</td>\n",
       "      <td>3</td>\n",
       "    </tr>\n",
       "    <tr>\n",
       "      <th>1</th>\n",
       "      <td>F</td>\n",
       "      <td>39502</td>\n",
       "      <td>880.85</td>\n",
       "      <td>1.0</td>\n",
       "      <td>urban</td>\n",
       "      <td>95</td>\n",
       "      <td>7.231</td>\n",
       "      <td>1.0</td>\n",
       "      <td>0</td>\n",
       "      <td>daylight</td>\n",
       "      <td>recent</td>\n",
       "      <td>1</td>\n",
       "      <td>3</td>\n",
       "    </tr>\n",
       "    <tr>\n",
       "      <th>2</th>\n",
       "      <td>F</td>\n",
       "      <td>39502</td>\n",
       "      <td>962.98</td>\n",
       "      <td>1.0</td>\n",
       "      <td>urban</td>\n",
       "      <td>95</td>\n",
       "      <td>14.856</td>\n",
       "      <td>1.0</td>\n",
       "      <td>0</td>\n",
       "      <td>midnight</td>\n",
       "      <td>recent</td>\n",
       "      <td>1</td>\n",
       "      <td>3</td>\n",
       "    </tr>\n",
       "    <tr>\n",
       "      <th>3</th>\n",
       "      <td>F</td>\n",
       "      <td>8399</td>\n",
       "      <td>816.18</td>\n",
       "      <td>1.0</td>\n",
       "      <td>urban</td>\n",
       "      <td>57</td>\n",
       "      <td>35.963</td>\n",
       "      <td>2.0</td>\n",
       "      <td>0</td>\n",
       "      <td>midnight</td>\n",
       "      <td>recent</td>\n",
       "      <td>2</td>\n",
       "      <td>3</td>\n",
       "    </tr>\n",
       "    <tr>\n",
       "      <th>4</th>\n",
       "      <td>F</td>\n",
       "      <td>8399</td>\n",
       "      <td>1034.97</td>\n",
       "      <td>1.0</td>\n",
       "      <td>urban</td>\n",
       "      <td>57</td>\n",
       "      <td>45.031</td>\n",
       "      <td>2.0</td>\n",
       "      <td>0</td>\n",
       "      <td>daylight</td>\n",
       "      <td>recent</td>\n",
       "      <td>2</td>\n",
       "      <td>3</td>\n",
       "    </tr>\n",
       "  </tbody>\n",
       "</table>\n",
       "</div>"
      ],
      "text/plain": [
       "  gender  city_pop      amt  is_fraud   area  age  distance  hol_month  \\\n",
       "0      F     39502   317.35       1.0  urban   95    25.136        1.0   \n",
       "1      F     39502   880.85       1.0  urban   95     7.231        1.0   \n",
       "2      F     39502   962.98       1.0  urban   95    14.856        1.0   \n",
       "3      F      8399   816.18       1.0  urban   57    35.963        2.0   \n",
       "4      F      8399  1034.97       1.0  urban   57    45.031        2.0   \n",
       "\n",
       "   is_weekend hour_type recent_shopper  lat_long_type  categ_type  \n",
       "0           0  midnight           past              1           3  \n",
       "1           0  daylight         recent              1           3  \n",
       "2           0  midnight         recent              1           3  \n",
       "3           0  midnight         recent              2           3  \n",
       "4           0  daylight         recent              2           3  "
      ]
     },
     "execution_count": 593,
     "metadata": {},
     "output_type": "execute_result"
    }
   ],
   "source": [
    "# sample dataframe after dropping unnecessary columns\n",
    "df.head()"
   ]
  },
  {
   "cell_type": "markdown",
   "id": "152d7487",
   "metadata": {
    "id": "152d7487"
   },
   "source": [
    "#### IV.b. Data Transformation"
   ]
  },
  {
   "cell_type": "code",
   "execution_count": 594,
   "id": "i6XFsyocH-5Z",
   "metadata": {
    "colab": {
     "base_uri": "https://localhost:8080/"
    },
    "id": "i6XFsyocH-5Z",
    "outputId": "ffded559-c192-492a-a223-84569a7839a2"
   },
   "outputs": [],
   "source": [
    "# Label Encoding\n",
    "from sklearn import preprocessing\n",
    "label_encoder=preprocessing.LabelEncoder()\n",
    "\n",
    "df['categ_type']=label_encoder.fit_transform(df['categ_type'])\n",
    "df['lat_long_type']=label_encoder.fit_transform(df['lat_long_type'])"
   ]
  },
  {
   "cell_type": "code",
   "execution_count": 595,
   "id": "hWtRDcnKIyiM",
   "metadata": {
    "colab": {
     "base_uri": "https://localhost:8080/"
    },
    "id": "hWtRDcnKIyiM",
    "outputId": "0a4fd9fb-4faa-4bce-e3d9-07c50402be25"
   },
   "outputs": [
    {
     "data": {
      "text/plain": [
       "Index(['gender', 'city_pop', 'amt', 'is_fraud', 'area', 'age', 'distance',\n",
       "       'hol_month', 'is_weekend', 'hour_type', 'recent_shopper',\n",
       "       'lat_long_type', 'categ_type'],\n",
       "      dtype='object')"
      ]
     },
     "execution_count": 595,
     "metadata": {},
     "output_type": "execute_result"
    }
   ],
   "source": [
    "df.columns"
   ]
  },
  {
   "cell_type": "code",
   "execution_count": 596,
   "id": "FVxXU1SMJAz6",
   "metadata": {
    "id": "FVxXU1SMJAz6"
   },
   "outputs": [
    {
     "name": "stdout",
     "output_type": "stream",
     "text": [
      "gender 0.011816646789754925 True\n",
      "area 0.9952116981974969 False\n",
      "hol_month 3.384267476615273e-36 True\n",
      "is_weekend 1.711962979716311e-80 True\n",
      "hour_type 0.0 True\n",
      "recent_shopper 1.9626976385969158e-90 True\n",
      "lat_long_type 4.8147231182969436e-111 True\n",
      "categ_type 0.0 True\n"
     ]
    }
   ],
   "source": [
    "# Finding dependency with the target variable using chi-squared test statistics\n",
    "cols=['gender','area','hol_month','is_weekend','hour_type','recent_shopper','lat_long_type','categ_type']\n",
    "for i in df[cols]:\n",
    "    data_interim=df[[i, 'is_fraud']]\n",
    "\n",
    "    data_cont=pd.crosstab(data_interim[i],data_interim['is_fraud'])\n",
    "\n",
    "    from scipy.stats import chi2_contingency\n",
    "    stat, p, dof, expected = chi2_contingency(data_cont)\n",
    "\n",
    "    #-----------interpret p-value\n",
    "    alpha = 0.05\n",
    "    print(i,p,p<alpha)"
   ]
  },
  {
   "cell_type": "code",
   "execution_count": 597,
   "id": "e92fa879",
   "metadata": {
    "id": "e92fa879"
   },
   "outputs": [],
   "source": [
    "# One-hot Encoding \n",
    "df = pd.get_dummies(df, columns = ['gender', 'area','hour_type','recent_shopper'])"
   ]
  },
  {
   "cell_type": "code",
   "execution_count": 598,
   "id": "6h47u_qTIdYZ",
   "metadata": {
    "id": "6h47u_qTIdYZ"
   },
   "outputs": [],
   "source": [
    "# Selecting only the valuable fields\n",
    "df.drop(['gender_F','area_urban','hour_type_daylight','recent_shopper_past','area_urban','area_rural'],axis=1,inplace=True)"
   ]
  },
  {
   "cell_type": "code",
   "execution_count": 599,
   "id": "dd17e740",
   "metadata": {
    "colab": {
     "base_uri": "https://localhost:8080/",
     "height": 206
    },
    "id": "dd17e740",
    "outputId": "4c176af0-94fd-41d8-aaf1-f9c7e2589e38"
   },
   "outputs": [
    {
     "data": {
      "text/html": [
       "<div>\n",
       "<style scoped>\n",
       "    .dataframe tbody tr th:only-of-type {\n",
       "        vertical-align: middle;\n",
       "    }\n",
       "\n",
       "    .dataframe tbody tr th {\n",
       "        vertical-align: top;\n",
       "    }\n",
       "\n",
       "    .dataframe thead th {\n",
       "        text-align: right;\n",
       "    }\n",
       "</style>\n",
       "<table border=\"1\" class=\"dataframe\">\n",
       "  <thead>\n",
       "    <tr style=\"text-align: right;\">\n",
       "      <th></th>\n",
       "      <th>city_pop</th>\n",
       "      <th>amt</th>\n",
       "      <th>is_fraud</th>\n",
       "      <th>age</th>\n",
       "      <th>distance</th>\n",
       "      <th>hol_month</th>\n",
       "      <th>is_weekend</th>\n",
       "      <th>lat_long_type</th>\n",
       "      <th>categ_type</th>\n",
       "      <th>gender_M</th>\n",
       "      <th>hour_type_midnight</th>\n",
       "      <th>recent_shopper_recent</th>\n",
       "    </tr>\n",
       "  </thead>\n",
       "  <tbody>\n",
       "    <tr>\n",
       "      <th>0</th>\n",
       "      <td>39502</td>\n",
       "      <td>317.35</td>\n",
       "      <td>1.0</td>\n",
       "      <td>95</td>\n",
       "      <td>25.136</td>\n",
       "      <td>1.0</td>\n",
       "      <td>0</td>\n",
       "      <td>0</td>\n",
       "      <td>2</td>\n",
       "      <td>0</td>\n",
       "      <td>1</td>\n",
       "      <td>0</td>\n",
       "    </tr>\n",
       "    <tr>\n",
       "      <th>1</th>\n",
       "      <td>39502</td>\n",
       "      <td>880.85</td>\n",
       "      <td>1.0</td>\n",
       "      <td>95</td>\n",
       "      <td>7.231</td>\n",
       "      <td>1.0</td>\n",
       "      <td>0</td>\n",
       "      <td>0</td>\n",
       "      <td>2</td>\n",
       "      <td>0</td>\n",
       "      <td>0</td>\n",
       "      <td>1</td>\n",
       "    </tr>\n",
       "    <tr>\n",
       "      <th>2</th>\n",
       "      <td>39502</td>\n",
       "      <td>962.98</td>\n",
       "      <td>1.0</td>\n",
       "      <td>95</td>\n",
       "      <td>14.856</td>\n",
       "      <td>1.0</td>\n",
       "      <td>0</td>\n",
       "      <td>0</td>\n",
       "      <td>2</td>\n",
       "      <td>0</td>\n",
       "      <td>1</td>\n",
       "      <td>1</td>\n",
       "    </tr>\n",
       "    <tr>\n",
       "      <th>3</th>\n",
       "      <td>8399</td>\n",
       "      <td>816.18</td>\n",
       "      <td>1.0</td>\n",
       "      <td>57</td>\n",
       "      <td>35.963</td>\n",
       "      <td>2.0</td>\n",
       "      <td>0</td>\n",
       "      <td>1</td>\n",
       "      <td>2</td>\n",
       "      <td>0</td>\n",
       "      <td>1</td>\n",
       "      <td>1</td>\n",
       "    </tr>\n",
       "    <tr>\n",
       "      <th>4</th>\n",
       "      <td>8399</td>\n",
       "      <td>1034.97</td>\n",
       "      <td>1.0</td>\n",
       "      <td>57</td>\n",
       "      <td>45.031</td>\n",
       "      <td>2.0</td>\n",
       "      <td>0</td>\n",
       "      <td>1</td>\n",
       "      <td>2</td>\n",
       "      <td>0</td>\n",
       "      <td>0</td>\n",
       "      <td>1</td>\n",
       "    </tr>\n",
       "  </tbody>\n",
       "</table>\n",
       "</div>"
      ],
      "text/plain": [
       "   city_pop      amt  is_fraud  age  distance  hol_month  is_weekend  \\\n",
       "0     39502   317.35       1.0   95    25.136        1.0           0   \n",
       "1     39502   880.85       1.0   95     7.231        1.0           0   \n",
       "2     39502   962.98       1.0   95    14.856        1.0           0   \n",
       "3      8399   816.18       1.0   57    35.963        2.0           0   \n",
       "4      8399  1034.97       1.0   57    45.031        2.0           0   \n",
       "\n",
       "   lat_long_type  categ_type  gender_M  hour_type_midnight  \\\n",
       "0              0           2         0                   1   \n",
       "1              0           2         0                   0   \n",
       "2              0           2         0                   1   \n",
       "3              1           2         0                   1   \n",
       "4              1           2         0                   0   \n",
       "\n",
       "   recent_shopper_recent  \n",
       "0                      0  \n",
       "1                      1  \n",
       "2                      1  \n",
       "3                      1  \n",
       "4                      1  "
      ]
     },
     "execution_count": 599,
     "metadata": {},
     "output_type": "execute_result"
    }
   ],
   "source": [
    "# sample dataframe after one hot encoding of gender and category variable\n",
    "df.head(5)"
   ]
  },
  {
   "cell_type": "code",
   "execution_count": 600,
   "id": "30258554",
   "metadata": {
    "colab": {
     "base_uri": "https://localhost:8080/",
     "height": 716
    },
    "id": "30258554",
    "outputId": "f0df7b15-7b48-4833-b0b7-3778c29f7708"
   },
   "outputs": [
    {
     "data": {
      "image/png": "[encoded data removed]",
      "text/plain": [
       "<Figure size 2000x1200 with 12 Axes>"
      ]
     },
     "metadata": {},
     "output_type": "display_data"
    }
   ],
   "source": [
    "# Plotting the histograms for the continuous attributes in the dataset \n",
    "%matplotlib inline \n",
    "\n",
    "df.hist(bins=20, figsize = (20,12))\n",
    "plt.show()"
   ]
  },
  {
   "cell_type": "markdown",
   "id": "zb7zyOFZYO65",
   "metadata": {
    "id": "zb7zyOFZYO65"
   },
   "source": [
    "- From the above histogram, we can see that most of the distributions do not follow normal distribution"
   ]
  },
  {
   "cell_type": "markdown",
   "id": "b5635a4f",
   "metadata": {
    "id": "b5635a4f"
   },
   "source": [
    "#### Data Scaling: Normalization"
   ]
  },
  {
   "cell_type": "markdown",
   "id": "87aab988",
   "metadata": {},
   "source": [
    "#### As the data here has not followed gaussian distribution, the standardisation has not been done. Instead Normalisation is done"
   ]
  },
  {
   "cell_type": "code",
   "execution_count": 601,
   "id": "c2c04fde",
   "metadata": {
    "id": "c2c04fde"
   },
   "outputs": [],
   "source": [
    " ## We are doing range normalisation only for the fields which includes wide variety of values.\n",
    "\n",
    "for col in df.columns:\n",
    "    x = df[col].unique()"
   ]
  },
  {
   "cell_type": "code",
   "execution_count": 602,
   "id": "ffbc8a05",
   "metadata": {
    "colab": {
     "base_uri": "https://localhost:8080/",
     "height": 206
    },
    "id": "ffbc8a05",
    "outputId": "5df82ea5-a211-474d-e952-350656a4cb6b"
   },
   "outputs": [
    {
     "data": {
      "text/html": [
       "<div>\n",
       "<style scoped>\n",
       "    .dataframe tbody tr th:only-of-type {\n",
       "        vertical-align: middle;\n",
       "    }\n",
       "\n",
       "    .dataframe tbody tr th {\n",
       "        vertical-align: top;\n",
       "    }\n",
       "\n",
       "    .dataframe thead th {\n",
       "        text-align: right;\n",
       "    }\n",
       "</style>\n",
       "<table border=\"1\" class=\"dataframe\">\n",
       "  <thead>\n",
       "    <tr style=\"text-align: right;\">\n",
       "      <th></th>\n",
       "      <th>city_pop</th>\n",
       "      <th>amt</th>\n",
       "      <th>is_fraud</th>\n",
       "      <th>age</th>\n",
       "      <th>distance</th>\n",
       "      <th>hol_month</th>\n",
       "      <th>is_weekend</th>\n",
       "      <th>lat_long_type</th>\n",
       "      <th>categ_type</th>\n",
       "      <th>gender_M</th>\n",
       "      <th>hour_type_midnight</th>\n",
       "      <th>recent_shopper_recent</th>\n",
       "    </tr>\n",
       "  </thead>\n",
       "  <tbody>\n",
       "    <tr>\n",
       "      <th>0</th>\n",
       "      <td>0.013530</td>\n",
       "      <td>0.014344</td>\n",
       "      <td>1.0</td>\n",
       "      <td>0.987654</td>\n",
       "      <td>0.270223</td>\n",
       "      <td>0.0</td>\n",
       "      <td>0.0</td>\n",
       "      <td>0.0</td>\n",
       "      <td>1.0</td>\n",
       "      <td>0.0</td>\n",
       "      <td>1.0</td>\n",
       "      <td>0.0</td>\n",
       "    </tr>\n",
       "    <tr>\n",
       "      <th>1</th>\n",
       "      <td>0.013530</td>\n",
       "      <td>0.039896</td>\n",
       "      <td>1.0</td>\n",
       "      <td>0.987654</td>\n",
       "      <td>0.077621</td>\n",
       "      <td>0.0</td>\n",
       "      <td>0.0</td>\n",
       "      <td>0.0</td>\n",
       "      <td>1.0</td>\n",
       "      <td>0.0</td>\n",
       "      <td>0.0</td>\n",
       "      <td>1.0</td>\n",
       "    </tr>\n",
       "    <tr>\n",
       "      <th>2</th>\n",
       "      <td>0.013530</td>\n",
       "      <td>0.043620</td>\n",
       "      <td>1.0</td>\n",
       "      <td>0.987654</td>\n",
       "      <td>0.159642</td>\n",
       "      <td>0.0</td>\n",
       "      <td>0.0</td>\n",
       "      <td>0.0</td>\n",
       "      <td>1.0</td>\n",
       "      <td>0.0</td>\n",
       "      <td>1.0</td>\n",
       "      <td>1.0</td>\n",
       "    </tr>\n",
       "    <tr>\n",
       "      <th>3</th>\n",
       "      <td>0.002829</td>\n",
       "      <td>0.036963</td>\n",
       "      <td>1.0</td>\n",
       "      <td>0.518519</td>\n",
       "      <td>0.386687</td>\n",
       "      <td>1.0</td>\n",
       "      <td>0.0</td>\n",
       "      <td>0.5</td>\n",
       "      <td>1.0</td>\n",
       "      <td>0.0</td>\n",
       "      <td>1.0</td>\n",
       "      <td>1.0</td>\n",
       "    </tr>\n",
       "    <tr>\n",
       "      <th>4</th>\n",
       "      <td>0.002829</td>\n",
       "      <td>0.046884</td>\n",
       "      <td>1.0</td>\n",
       "      <td>0.518519</td>\n",
       "      <td>0.484230</td>\n",
       "      <td>1.0</td>\n",
       "      <td>0.0</td>\n",
       "      <td>0.5</td>\n",
       "      <td>1.0</td>\n",
       "      <td>0.0</td>\n",
       "      <td>0.0</td>\n",
       "      <td>1.0</td>\n",
       "    </tr>\n",
       "  </tbody>\n",
       "</table>\n",
       "</div>"
      ],
      "text/plain": [
       "   city_pop       amt  is_fraud       age  distance  hol_month  is_weekend  \\\n",
       "0  0.013530  0.014344       1.0  0.987654  0.270223        0.0         0.0   \n",
       "1  0.013530  0.039896       1.0  0.987654  0.077621        0.0         0.0   \n",
       "2  0.013530  0.043620       1.0  0.987654  0.159642        0.0         0.0   \n",
       "3  0.002829  0.036963       1.0  0.518519  0.386687        1.0         0.0   \n",
       "4  0.002829  0.046884       1.0  0.518519  0.484230        1.0         0.0   \n",
       "\n",
       "   lat_long_type  categ_type  gender_M  hour_type_midnight  \\\n",
       "0            0.0         1.0       0.0                 1.0   \n",
       "1            0.0         1.0       0.0                 0.0   \n",
       "2            0.0         1.0       0.0                 1.0   \n",
       "3            0.5         1.0       0.0                 1.0   \n",
       "4            0.5         1.0       0.0                 0.0   \n",
       "\n",
       "   recent_shopper_recent  \n",
       "0                    0.0  \n",
       "1                    1.0  \n",
       "2                    1.0  \n",
       "3                    1.0  \n",
       "4                    1.0  "
      ]
     },
     "execution_count": 602,
     "metadata": {},
     "output_type": "execute_result"
    }
   ],
   "source": [
    "# Range normalisation\n",
    "\n",
    "# apply normalization techniques\n",
    "for column in df.columns:\n",
    "    df[column] = (df[column] - df[column].min()) / (df[column].max() - df[column].min())\n",
    "\n",
    "# view normalized data\n",
    "df.head()"
   ]
  },
  {
   "cell_type": "markdown",
   "id": "db0d8690",
   "metadata": {
    "id": "db0d8690"
   },
   "source": [
    "#### IV.c. Sampling\n",
    "\n",
    "- As our data is imbalanced, we will be experimenting upsampling, downsampling, updownsampling, and SMOTE methods."
   ]
  },
  {
   "cell_type": "code",
   "execution_count": 603,
   "id": "PvWc6UlkhhKS",
   "metadata": {
    "id": "PvWc6UlkhhKS"
   },
   "outputs": [],
   "source": [
    "#separating fraud and non-fraud transaction\n",
    "FraudDataset = df.loc[df['is_fraud'] == 1]\n",
    "ValidDataset = df.loc[df['is_fraud'] == 0]"
   ]
  },
  {
   "cell_type": "code",
   "execution_count": 604,
   "id": "MWckidPRZrFh",
   "metadata": {
    "colab": {
     "base_uri": "https://localhost:8080/"
    },
    "id": "MWckidPRZrFh",
    "outputId": "6c9fa413-3aec-4eb1-8920-064eba5c8ed7"
   },
   "outputs": [
    {
     "name": "stdout",
     "output_type": "stream",
     "text": [
      "Count of fraudulent transations: 9310\n",
      "Count of non-fraudulent transations: 1742411\n"
     ]
    }
   ],
   "source": [
    "print('Count of fraudulent transations:', len(FraudDataset))\n",
    "print('Count of non-fraudulent transations:', len(ValidDataset))"
   ]
  },
  {
   "cell_type": "code",
   "execution_count": 605,
   "id": "f5535a64",
   "metadata": {
    "colab": {
     "base_uri": "https://localhost:8080/"
    },
    "id": "f5535a64",
    "outputId": "d63624b8-0bf2-4cc7-cda3-82dd01569861"
   },
   "outputs": [
    {
     "name": "stdout",
     "output_type": "stream",
     "text": [
      "(9310, 12)\n"
     ]
    }
   ],
   "source": [
    "#1) downsampling valid dataset to 9310 , total 18,620 records\n",
    "#downsampling\n",
    "from sklearn.utils import resample\n",
    "valid_downsample = resample(ValidDataset,\n",
    "             replace=True,\n",
    "             n_samples= len(FraudDataset),\n",
    "             random_state=42)\n",
    "\n",
    "print(valid_downsample.shape)"
   ]
  },
  {
   "cell_type": "code",
   "execution_count": 606,
   "id": "0EIHLpxWhAkg",
   "metadata": {
    "colab": {
     "base_uri": "https://localhost:8080/"
    },
    "id": "0EIHLpxWhAkg",
    "outputId": "2a2ace85-3793-4fb7-90cd-6cad827814c9"
   },
   "outputs": [
    {
     "name": "stdout",
     "output_type": "stream",
     "text": [
      "0.0    9310\n",
      "1.0    9310\n",
      "Name: is_fraud, dtype: int64\n"
     ]
    }
   ],
   "source": [
    "#combining 2 datasets \n",
    "df2 = pd.concat([valid_downsample, FraudDataset])\n",
    "print(df2['is_fraud'].value_counts())"
   ]
  },
  {
   "cell_type": "code",
   "execution_count": 607,
   "id": "YxQHna1OhAnK",
   "metadata": {
    "colab": {
     "base_uri": "https://localhost:8080/",
     "height": 266
    },
    "id": "YxQHna1OhAnK",
    "outputId": "b730612b-2508-4034-fc76-1d2ed0a462a4"
   },
   "outputs": [
    {
     "data": {
      "text/plain": [
       "<AxesSubplot:ylabel='Type'>"
      ]
     },
     "execution_count": 607,
     "metadata": {},
     "output_type": "execute_result"
    },
    {
     "data": {
      "image/png": "[encoded data removed]",
      "text/plain": [
       "<Figure size 640x480 with 1 Axes>"
      ]
     },
     "metadata": {},
     "output_type": "display_data"
    }
   ],
   "source": [
    "#plotting piechart after resampling\n",
    "df2.groupby('is_fraud').size().plot(kind='pie',\n",
    "                                       y = 'is_fraud',\n",
    "                                       label = \"Type\",\n",
    "                                       autopct='%1.1f%%')"
   ]
  },
  {
   "cell_type": "code",
   "execution_count": 608,
   "id": "ih_X1D7_hAp0",
   "metadata": {
    "colab": {
     "base_uri": "https://localhost:8080/"
    },
    "id": "ih_X1D7_hAp0",
    "outputId": "ff1616ed-e9fe-4c67-ae97-1f9861eefa67"
   },
   "outputs": [
    {
     "data": {
      "text/plain": [
       "((18620, 11), (18620,))"
      ]
     },
     "execution_count": 608,
     "metadata": {},
     "output_type": "execute_result"
    }
   ],
   "source": [
    "X = df2.drop(labels='is_fraud', axis=1)\n",
    "y = df2['is_fraud']\n",
    "X.shape, y.shape"
   ]
  },
  {
   "cell_type": "code",
   "execution_count": 609,
   "id": "bs4j4FfYhAvO",
   "metadata": {
    "id": "bs4j4FfYhAvO"
   },
   "outputs": [],
   "source": [
    "#2)Upsampling fraud dataset to  17,42411 , total 3484822 records\n",
    "# #upsampling\n",
    "# from sklearn.utils import resample\n",
    "# fraud_upsample = resample(FraudDataset,\n",
    "#              replace=True,\n",
    "#              n_samples=len(ValidDataset),\n",
    "#              random_state=42)\n",
    "\n",
    "# print(fraud_upsample.shape)"
   ]
  },
  {
   "cell_type": "code",
   "execution_count": 610,
   "id": "26d8a638",
   "metadata": {
    "id": "26d8a638"
   },
   "outputs": [],
   "source": [
    "# #combining 2 datasets \n",
    "# df2 = pd.concat([fraud_upsample, ValidDataset])\n",
    "# print(df2['is_fraud'].value_counts())"
   ]
  },
  {
   "cell_type": "code",
   "execution_count": 611,
   "id": "09aecddc",
   "metadata": {
    "id": "09aecddc"
   },
   "outputs": [],
   "source": [
    "# #plotting piechart after resampling\n",
    "# df2.groupby('is_fraud').size().plot(kind='pie',\n",
    "#                                        y = 'is_fraud',\n",
    "#                                        label = \"Type\",\n",
    "#                                        autopct='%1.1f%%')"
   ]
  },
  {
   "cell_type": "code",
   "execution_count": 612,
   "id": "dd087dbf",
   "metadata": {
    "id": "dd087dbf"
   },
   "outputs": [],
   "source": [
    "#3) upsampling and downsamplimg to some threhold  value say 50000\n",
    "# #downsampling\n",
    "# from sklearn.utils import resample\n",
    "# valid_downsample = resample(ValidDataset,\n",
    "#              replace=True,\n",
    "#              n_samples= 50000,\n",
    "#              random_state=42)\n",
    "\n",
    "# print(valid_downsample.shape)"
   ]
  },
  {
   "cell_type": "code",
   "execution_count": 613,
   "id": "8d1c8b05",
   "metadata": {
    "id": "8d1c8b05"
   },
   "outputs": [],
   "source": [
    "# #upsampling\n",
    "# from sklearn.utils import resample\n",
    "# fraud_upsample = resample(FraudDataset,\n",
    "#              replace=True,\n",
    "#              n_samples=len(valid_downsample),\n",
    "#              random_state=42)\n",
    "\n",
    "# print(fraud_upsample.shape)"
   ]
  },
  {
   "cell_type": "code",
   "execution_count": 614,
   "id": "b735259d",
   "metadata": {
    "id": "b735259d"
   },
   "outputs": [],
   "source": [
    "# #combining 2 datasets \n",
    "# df2 = pd.concat([fraud_upsample, valid_downsample])\n",
    "# print(df2['is_fraud'].value_counts())"
   ]
  },
  {
   "cell_type": "code",
   "execution_count": 615,
   "id": "4d65c7dd",
   "metadata": {
    "id": "4d65c7dd"
   },
   "outputs": [],
   "source": [
    "# #plotting piechart after resampling\n",
    "# df2.groupby('is_fraud').size().plot(kind='pie',\n",
    "#                                        y = 'is_fraud',\n",
    "#                                        label = \"Type\",\n",
    "#                                        autopct='%1.1f%%')"
   ]
  },
  {
   "cell_type": "code",
   "execution_count": 616,
   "id": "fc5c8adf",
   "metadata": {
    "id": "fc5c8adf"
   },
   "outputs": [],
   "source": [
    "#4) SMOTE - upsampling fraud dataset to 17,42411  - it might create noisy data by over sampling\n",
    "# X = df.drop(labels='is_fraud', axis=1)\n",
    "# y = df[['is_fraud']]"
   ]
  },
  {
   "cell_type": "code",
   "execution_count": 617,
   "id": "df2d3802",
   "metadata": {
    "id": "df2d3802"
   },
   "outputs": [],
   "source": [
    "# su = SMOTE(random_state=42)"
   ]
  },
  {
   "cell_type": "code",
   "execution_count": 618,
   "id": "2fc19b44",
   "metadata": {
    "id": "2fc19b44"
   },
   "outputs": [],
   "source": [
    "# su.fit_resample(X,y)"
   ]
  },
  {
   "cell_type": "code",
   "execution_count": 619,
   "id": "062a0614",
   "metadata": {
    "id": "062a0614"
   },
   "outputs": [],
   "source": [
    "# X_su, y_su = su.fit_resample(X, y)"
   ]
  },
  {
   "cell_type": "code",
   "execution_count": 620,
   "id": "5c837567",
   "metadata": {
    "id": "5c837567"
   },
   "outputs": [],
   "source": [
    "# #combining 2 datasets \n",
    "# df2 = pd.concat([X_su, y_su])\n",
    "# print(df2['is_fraud'].value_counts())"
   ]
  },
  {
   "cell_type": "code",
   "execution_count": 621,
   "id": "fa1f7e3d",
   "metadata": {
    "id": "fa1f7e3d"
   },
   "outputs": [],
   "source": [
    "# #plotting piechart after resampling\n",
    "# y_su.groupby('is_fraud').size().plot(kind='pie',\n",
    "#                                        y = 'is_fraud',\n",
    "#                                        label = \"Type\",\n",
    "#                                        autopct='%1.1f%%')"
   ]
  },
  {
   "cell_type": "markdown",
   "id": "bd3348e4",
   "metadata": {
    "id": "bd3348e4"
   },
   "source": [
    "#### IV.d. Split data into Training and Testing"
   ]
  },
  {
   "cell_type": "code",
   "execution_count": 622,
   "id": "1fc3703c",
   "metadata": {
    "colab": {
     "base_uri": "https://localhost:8080/",
     "height": 176
    },
    "id": "1fc3703c",
    "outputId": "e6e30e1b-1809-4c4f-d832-1908ec9861f6"
   },
   "outputs": [
    {
     "data": {
      "text/html": [
       "<div>\n",
       "<style scoped>\n",
       "    .dataframe tbody tr th:only-of-type {\n",
       "        vertical-align: middle;\n",
       "    }\n",
       "\n",
       "    .dataframe tbody tr th {\n",
       "        vertical-align: top;\n",
       "    }\n",
       "\n",
       "    .dataframe thead th {\n",
       "        text-align: right;\n",
       "    }\n",
       "</style>\n",
       "<table border=\"1\" class=\"dataframe\">\n",
       "  <thead>\n",
       "    <tr style=\"text-align: right;\">\n",
       "      <th></th>\n",
       "      <th>amt</th>\n",
       "      <th>is_fraud</th>\n",
       "      <th>age</th>\n",
       "      <th>distance</th>\n",
       "      <th>hol_month</th>\n",
       "      <th>is_weekend</th>\n",
       "      <th>lat_long_type</th>\n",
       "      <th>categ_type</th>\n",
       "      <th>gender_M</th>\n",
       "      <th>hour_type_midnight</th>\n",
       "      <th>recent_shopper_recent</th>\n",
       "    </tr>\n",
       "  </thead>\n",
       "  <tbody>\n",
       "    <tr>\n",
       "      <th>0</th>\n",
       "      <td>0.014344</td>\n",
       "      <td>1.0</td>\n",
       "      <td>0.987654</td>\n",
       "      <td>0.270223</td>\n",
       "      <td>0.0</td>\n",
       "      <td>0.0</td>\n",
       "      <td>0.0</td>\n",
       "      <td>1.0</td>\n",
       "      <td>0.0</td>\n",
       "      <td>1.0</td>\n",
       "      <td>0.0</td>\n",
       "    </tr>\n",
       "    <tr>\n",
       "      <th>1</th>\n",
       "      <td>0.039896</td>\n",
       "      <td>1.0</td>\n",
       "      <td>0.987654</td>\n",
       "      <td>0.077621</td>\n",
       "      <td>0.0</td>\n",
       "      <td>0.0</td>\n",
       "      <td>0.0</td>\n",
       "      <td>1.0</td>\n",
       "      <td>0.0</td>\n",
       "      <td>0.0</td>\n",
       "      <td>1.0</td>\n",
       "    </tr>\n",
       "  </tbody>\n",
       "</table>\n",
       "</div>"
      ],
      "text/plain": [
       "        amt  is_fraud       age  distance  hol_month  is_weekend  \\\n",
       "0  0.014344       1.0  0.987654  0.270223        0.0         0.0   \n",
       "1  0.039896       1.0  0.987654  0.077621        0.0         0.0   \n",
       "\n",
       "   lat_long_type  categ_type  gender_M  hour_type_midnight  \\\n",
       "0            0.0         1.0       0.0                 1.0   \n",
       "1            0.0         1.0       0.0                 0.0   \n",
       "\n",
       "   recent_shopper_recent  \n",
       "0                    0.0  \n",
       "1                    1.0  "
      ]
     },
     "execution_count": 622,
     "metadata": {},
     "output_type": "execute_result"
    }
   ],
   "source": [
    "df = df.iloc[: , 1:]\n",
    "df.head(2)"
   ]
  },
  {
   "cell_type": "code",
   "execution_count": 623,
   "id": "1e8a336f",
   "metadata": {
    "id": "1e8a336f"
   },
   "outputs": [],
   "source": [
    "# # assigning features to X and target to y\n",
    "\n",
    "# X = df[['city', 'city_pop', 'job', 'category', 'amt', 'merchant',\n",
    "#        'distance', 'year', 'month', 'day_of_month', 'is_weekend', 'hour',\n",
    "#        'gender_F', 'gender_M', 'age_category_adult', 'age_category_senior',\n",
    "#        'age_category_young', 'area_rural', 'area_urban']]\n",
    "\n",
    "# y = df.is_fraud"
   ]
  },
  {
   "cell_type": "code",
   "execution_count": 624,
   "id": "b08b1258",
   "metadata": {
    "colab": {
     "base_uri": "https://localhost:8080/"
    },
    "id": "b08b1258",
    "outputId": "2ea20b00-49a0-4a9b-ef7c-ffecc238a199"
   },
   "outputs": [
    {
     "name": "stdout",
     "output_type": "stream",
     "text": [
      "Training dataset : (14896, 11) (14896,)\n",
      "Testing dataset : (3724, 11), (3724,)\n"
     ]
    }
   ],
   "source": [
    "# splitting the dataset into training and testing set\n",
    "\n",
    "from sklearn.model_selection import train_test_split\n",
    "\n",
    "xtrain, xtest, ytrain, ytest = train_test_split(X, y, stratify=y,train_size=.80,shuffle = True, random_state= 42)\n",
    "\n",
    "print(f'Training dataset : {xtrain.shape} {ytrain.shape}') # dimension of train set\n",
    "print(f'Testing dataset : {xtest.shape}, {ytest.shape}') # dimension of test set"
   ]
  },
  {
   "cell_type": "markdown",
   "id": "8623eefe",
   "metadata": {
    "id": "8623eefe"
   },
   "source": [
    "#### IV.e. Dimentionality Reduction using PCA"
   ]
  },
  {
   "cell_type": "code",
   "execution_count": 625,
   "id": "027dcbad",
   "metadata": {
    "id": "027dcbad"
   },
   "outputs": [],
   "source": [
    "# # Plotting scree plot to decide the number of principle components required\n",
    "# # Experiment on whether standardization or normalization for PCA (mostly they use both, but need to read more)\n",
    "\n",
    "# pca = PCA(n_components=10)\n",
    "\n",
    "# #fit PCA model to data\n",
    "# pca_fit = pca.fit(xtrain)\n",
    "\n",
    "# PC_values = np.arange(pca.n_components_) + 1\n",
    "# plt.plot(PC_values, pca.explained_variance_ratio_, 'o-', linewidth=2, color='blue')\n",
    "# plt.title('Scree Plot')\n",
    "# plt.xlabel('Principal Component')\n",
    "# plt.ylabel('Variance Explained')\n",
    "# plt.show()"
   ]
  },
  {
   "cell_type": "code",
   "execution_count": 626,
   "id": "d770a8ff",
   "metadata": {
    "id": "d770a8ff"
   },
   "outputs": [],
   "source": [
    "# # 4 components are selected based on observation from screeplot\n",
    "# # This will consider 4 principle components from the dataframe which can further be used for modelling\n",
    "# pca = PCA(n_components=4)\n",
    "# X_train = pca.fit_transform(xtrain)\n",
    "# X_test = pca.transform(xtest)"
   ]
  },
  {
   "cell_type": "markdown",
   "id": "069450d8",
   "metadata": {
    "id": "069450d8"
   },
   "source": [
    "## IV. Modeling"
   ]
  },
  {
   "cell_type": "markdown",
   "id": "3fb45aeb",
   "metadata": {},
   "source": [
    "### Logistic Regression"
   ]
  },
  {
   "cell_type": "markdown",
   "id": "f6814c91",
   "metadata": {},
   "source": [
    "-Logistic regression is Supervised Machine Learning Classification Model\n",
    "\n",
    "-Binary Classifier to predict transaction as fraud/non-fraud\n",
    "\n",
    "-Uses Sigmoid function to predict the probabilities of each outcome based on the threshold\n",
    "\n",
    "-P(y = 1|X) = sigmoid(z) =  1/(1+e^(-z) )   Where z = β0 + β1x1 + β2x2 …….+ βnxn\n",
    "\n",
    "-Logistic function can be used to predict the probabilities of each outcome which in turn can predict the class fraud/non-fraud. We use a classification threshold, or decision boundary, to decide the predicted class based on the probability of each class given the feature values. A typical threshold is 0.5. When the result of the sigmoid function is greater than 0.5, we classify the label as class 1 or positive class or fraudulent transaction; if it’s less than 0.5, we can classify it as a negative class or 0 or non-fraudulent transaction. This threshold can be adjusted. "
   ]
  },
  {
   "cell_type": "code",
   "execution_count": 627,
   "id": "9a4cc4b3",
   "metadata": {},
   "outputs": [],
   "source": [
    "# importing the library\n",
    "from sklearn.linear_model import LogisticRegression\n",
    "import warnings\n",
    "warnings.filterwarnings('ignore')\n",
    "\n",
    "# Fit the logistic regression model\n",
    "logreg=LogisticRegression()\n",
    "\n",
    "# Train the model\n",
    "logreg.fit(xtrain,ytrain)\n",
    "\n",
    "# Get the predicted values for xtest\n",
    "y_pred=logreg.predict(xtest)"
   ]
  },
  {
   "cell_type": "markdown",
   "id": "8799957a",
   "metadata": {},
   "source": [
    "### Model Accuracy"
   ]
  },
  {
   "cell_type": "markdown",
   "id": "a1a76ee2",
   "metadata": {},
   "source": [
    "Accuracy = Correctly assigned categories/ total number of predictions\n",
    "\n",
    "Accuracy = (TP + TN)/( TP+ FN + FP + TN )"
   ]
  },
  {
   "cell_type": "code",
   "execution_count": 628,
   "id": "05349a3c",
   "metadata": {},
   "outputs": [
    {
     "name": "stdout",
     "output_type": "stream",
     "text": [
      "Logistic Regression model accuracy : 83.0% or 0.83\n"
     ]
    }
   ],
   "source": [
    "# import libraries from sklearn to calculate model accuracy\n",
    "from sklearn.metrics import accuracy_score\n",
    "from sklearn import linear_model\n",
    "\n",
    "\n",
    "model_accuracy = accuracy_score(ytest, y_pred)\n",
    "print(f'Logistic Regression model accuracy : {round(model_accuracy,2)*100}% or {round(model_accuracy,2)}')"
   ]
  },
  {
   "cell_type": "markdown",
   "id": "82e424ac",
   "metadata": {},
   "source": [
    "### Intercept and Coefficients of model"
   ]
  },
  {
   "cell_type": "code",
   "execution_count": 629,
   "id": "e35bdabb",
   "metadata": {},
   "outputs": [
    {
     "name": "stdout",
     "output_type": "stream",
     "text": [
      "\n",
      " sklearn bias(intercept) term : [-4.35088334]\n",
      "\n",
      " sklearn estimated coefficients : [[-5.17165951e-02  2.57754708e+01  1.06598462e+00 -3.25919934e-02\n",
      "   4.49804049e-01 -4.31749880e-01  7.44421238e-01  1.84732871e+00\n",
      "  -7.64770281e-03  2.64070154e+00  4.48509824e-01]]\n"
     ]
    }
   ],
   "source": [
    "print ('\\n sklearn bias(intercept) term :', logreg.intercept_)\n",
    "print ('\\n sklearn estimated coefficients :', logreg.coef_)"
   ]
  },
  {
   "cell_type": "markdown",
   "id": "15a13664",
   "metadata": {},
   "source": [
    "### Metrics - F1 Score, Recall Score, Precision Score"
   ]
  },
  {
   "cell_type": "code",
   "execution_count": 630,
   "id": "7aec8e24",
   "metadata": {},
   "outputs": [
    {
     "name": "stdout",
     "output_type": "stream",
     "text": [
      " F1-Score        :  0.8363\n",
      " Recall Score    :  0.8518\n",
      " Precision Score :  0.8213\n"
     ]
    }
   ],
   "source": [
    "from sklearn.metrics import f1_score\n",
    "from sklearn.metrics import recall_score\n",
    "from sklearn.metrics import precision_score\n",
    "print(\" F1-Score        : \" , round(f1_score(ytest,y_pred),4))\n",
    "print(\" Recall Score    : \" , round(recall_score(ytest,y_pred),4))\n",
    "print(\" Precision Score : \" , round(precision_score(ytest,y_pred),4))"
   ]
  },
  {
   "cell_type": "markdown",
   "id": "9277d80e",
   "metadata": {},
   "source": [
    "Trade off:\n",
    "Ideally, our model would have both perfect precision and perfect recall. However, in practice there often exists a tradeoff between the two. \n",
    "In case of fraud detection, False negative (FN) Can be dangerous. Because False Negatives result in dangerous consequences, our classification threshold would likely be set to optimize recall over precision)\n"
   ]
  },
  {
   "cell_type": "markdown",
   "id": "0fa6961c",
   "metadata": {},
   "source": [
    "### log loss or cost function"
   ]
  },
  {
   "cell_type": "markdown",
   "id": "b421240a",
   "metadata": {},
   "source": [
    "#### We use the loss function / cost function to determine how well our model fits the data. A loss function in logistic regression is called Log-Loss or binary cross entropy. Lower the loss function better is the model"
   ]
  },
  {
   "cell_type": "code",
   "execution_count": 631,
   "id": "0982b6e3",
   "metadata": {},
   "outputs": [
    {
     "name": "stdout",
     "output_type": "stream",
     "text": [
      " Log loss / Cost function : 5.76\n"
     ]
    }
   ],
   "source": [
    "# log loss or cost function\n",
    "from sklearn import metrics\n",
    "print(f' Log loss / Cost function : {round(metrics.log_loss(ytest, y_pred), 3)}')"
   ]
  },
  {
   "cell_type": "markdown",
   "id": "08072e2f",
   "metadata": {},
   "source": [
    "#### We can observe that the log loss value is 5.76 which is very less. Hence, the data points fit the model in a good shape."
   ]
  },
  {
   "cell_type": "markdown",
   "id": "7d81ee6a",
   "metadata": {},
   "source": [
    "### Confusion Matrix"
   ]
  },
  {
   "cell_type": "code",
   "execution_count": 632,
   "id": "625bcc66",
   "metadata": {},
   "outputs": [
    {
     "data": {
      "image/png": "[encoded data removed]",
      "text/plain": [
       "<Figure size 500x500 with 2 Axes>"
      ]
     },
     "metadata": {},
     "output_type": "display_data"
    }
   ],
   "source": [
    "from sklearn.metrics import confusion_matrix\n",
    "cm=confusion_matrix(ytest,y_pred)\n",
    "cm\n",
    "conf_matrix=pd.DataFrame(data=cm,columns=['Predicted: non-fraud','Predicted: fraud'],index=['Actual: non-fraud','Actual: fraud'])\n",
    "plt.figure(figsize = (5,5))\n",
    "sns.heatmap(conf_matrix, annot=True,fmt='d',cmap=\"YlGnBu\");"
   ]
  },
  {
   "cell_type": "code",
   "execution_count": 633,
   "id": "05ae12d1",
   "metadata": {},
   "outputs": [],
   "source": [
    "TN=cm[0,0]\n",
    "TP=cm[1,1]\n",
    "FN=cm[1,0]\n",
    "FP=cm[0,1]\n",
    "sensitivity=TP/float(TP+FN)\n",
    "specificity=TN/float(TN+FP)"
   ]
  },
  {
   "cell_type": "code",
   "execution_count": 634,
   "id": "09a96add",
   "metadata": {},
   "outputs": [
    {
     "name": "stdout",
     "output_type": "stream",
     "text": [
      " The acuuracy of the model = TP+TN/(TP+TN+FP+FN) =          0.8332 \n",
      " The Missclassification = 1-Accuracy =                      0.1668 \n",
      " Sensitivity or True Positive Rate = TP/(TP+FN) =           0.8518 \n",
      " Specificity or True Negative Rate = TN/(TN+FP) =           0.8147 \n",
      " Positive Predictive value = TP/(TP+FP) =                   0.8213 \n",
      " Negative predictive Value = TN/(TN+FN) =                   0.8461 \n",
      " Positive Likelihood Ratio = Sensitivity/(1-Specificity) =  4.5971 \n",
      " Negative likelihood Ratio = (1-Sensitivity)/Specificity =  0.18193803559657212\n"
     ]
    }
   ],
   "source": [
    "print(' The acuuracy of the model = TP+TN/(TP+TN+FP+FN) =         ',round((TP+TN)/float(TP+TN+FP+FN),4),'\\n',\n",
    "\n",
    "'The Missclassification = 1-Accuracy =                     ',round(1-((TP+TN)/float(TP+TN+FP+FN)),4),'\\n',\n",
    "\n",
    "'Sensitivity or True Positive Rate = TP/(TP+FN) =          ',round(TP/float(TP+FN),4),'\\n',\n",
    "\n",
    "'Specificity or True Negative Rate = TN/(TN+FP) =          ',round(TN/float(TN+FP),4),'\\n',\n",
    " \n",
    "'Positive Predictive value = TP/(TP+FP) =                  ',round(TP/float(TP+FP),4),'\\n',\n",
    "\n",
    "'Negative predictive Value = TN/(TN+FN) =                  ',round(TN/float(TN+FN),4),'\\n',\n",
    "\n",
    "'Positive Likelihood Ratio = Sensitivity/(1-Specificity) = ',round(sensitivity/(1-specificity),4),'\\n',\n",
    "\n",
    "'Negative likelihood Ratio = (1-Sensitivity)/Specificity = ', ((1-sensitivity)/specificity))\n"
   ]
  },
  {
   "cell_type": "markdown",
   "id": "fb8ee6e8",
   "metadata": {},
   "source": [
    "### Classification Report"
   ]
  },
  {
   "cell_type": "code",
   "execution_count": 635,
   "id": "e0cbeec2",
   "metadata": {},
   "outputs": [
    {
     "name": "stdout",
     "output_type": "stream",
     "text": [
      "Classification Report\n",
      "\n",
      "              precision    recall  f1-score   support\n",
      "\n",
      "   non-fraud       0.85      0.81      0.83      1862\n",
      "       fraud       0.82      0.85      0.84      1862\n",
      "\n",
      "    accuracy                           0.83      3724\n",
      "   macro avg       0.83      0.83      0.83      3724\n",
      "weighted avg       0.83      0.83      0.83      3724\n",
      "\n"
     ]
    }
   ],
   "source": [
    "from sklearn.metrics import classification_report\n",
    "target_names = ['non-fraud', 'fraud']\n",
    "print( \"Classification Report\")\n",
    "print()\n",
    "print(classification_report(ytest,y_pred,target_names=target_names))"
   ]
  },
  {
   "cell_type": "code",
   "execution_count": 636,
   "id": "3a3e9e02",
   "metadata": {},
   "outputs": [],
   "source": [
    "combined_df = pd.concat([xtest, ytest], axis=1) \n",
    "combined_df['ypred_best'] = y_pred.tolist()\n",
    "combined_df.head()\n",
    "combined_df.to_csv('LogisticRegression_pred.csv')"
   ]
  },
  {
   "cell_type": "markdown",
   "id": "86341949",
   "metadata": {},
   "source": [
    "### ROC Curve "
   ]
  },
  {
   "cell_type": "markdown",
   "id": "d87785f7",
   "metadata": {},
   "source": [
    "#### ROC curve (receiver operating characteristic curve) shows the performance of the classification model which plots TPR vs. FPR at different classification thresholds."
   ]
  },
  {
   "cell_type": "code",
   "execution_count": 637,
   "id": "3055cd12",
   "metadata": {},
   "outputs": [
    {
     "name": "stdout",
     "output_type": "stream",
     "text": [
      "\n"
     ]
    },
    {
     "data": {
      "image/png": "[encoded data removed]",
      "text/plain": [
       "<Figure size 400x400 with 1 Axes>"
      ]
     },
     "metadata": {},
     "output_type": "display_data"
    }
   ],
   "source": [
    "#define metrics\n",
    "from sklearn import metrics\n",
    "ns_probs = [0 for _ in range(len(ytest))]\n",
    "#ns_auc = roc_auc_score(y3test, ns_probs)\n",
    "y_pred_prob=logreg.predict_proba(xtest)[:,1]\n",
    "fpr, tpr, _ = metrics.roc_curve(ytest,  y_pred_prob)\n",
    "ns_fpr, ns_tpr, _ = metrics.roc_curve(ytest, ns_probs)\n",
    "#create ROC curve\n",
    "plt.figure(figsize =(4,4))\n",
    "#plt.plot(fpr,tpr)\n",
    "plt.plot(ns_fpr, ns_tpr, linestyle='--')\n",
    "plt.plot(fpr,tpr, color='orange', marker='.', linestyle='--',linewidth=2, markersize=1,label='logistic' )\n",
    "plt.title('ROC - Curve for Fraud Classifier')\n",
    "plt.legend()\n",
    "print()\n",
    "plt.ylabel('True Positive Rate')\n",
    "plt.xlabel('False Positive Rate')\n",
    "plt.show()\n"
   ]
  },
  {
   "cell_type": "markdown",
   "id": "1d4f1831",
   "metadata": {},
   "source": [
    "#### As we can see from the plot above,the ROC Curve is closer to the to the top left corner of the plot. Hence, we can say that the model is performing good towards calssifying the data point as fraud/non-fraud\n",
    "\n",
    "#### To quantify this, we can calculate the AUC(area under the curve) which is an indicator of how much of the plot is located under the curve."
   ]
  },
  {
   "cell_type": "markdown",
   "id": "5ad0103d",
   "metadata": {},
   "source": [
    "### AUC Curve"
   ]
  },
  {
   "cell_type": "markdown",
   "id": "97b60e14",
   "metadata": {},
   "source": [
    "#### AUC ( Area under the ROC curve) which provides an aggregate measure of performance across all possible classification thresholds. AUC Ranges from 0 to 1. If a model predicts everything incorrectly, then AUC is 0 else if it predicts everything correctly then AUC is 1."
   ]
  },
  {
   "cell_type": "code",
   "execution_count": 638,
   "id": "aaabb0c3",
   "metadata": {},
   "outputs": [
    {
     "data": {
      "image/png": "[encoded data removed]",
      "text/plain": [
       "<Figure size 400x400 with 1 Axes>"
      ]
     },
     "metadata": {},
     "output_type": "display_data"
    }
   ],
   "source": [
    "#define metrics\n",
    "\n",
    "fpr, tpr, _ = metrics.roc_curve(ytest,  y_pred_prob)\n",
    "auc = metrics.roc_auc_score(ytest, y_pred_prob)\n",
    "\n",
    "#create ROC curve\n",
    "plt.figure(figsize =(4,4))\n",
    "plt.title(' Logistic Calssifier:AUC Curve')\n",
    "plt.plot(fpr,tpr,label=\"AUC=\"+str(round(auc,4)),color='orange',  linestyle='dashed',linewidth=2, markersize=1)\n",
    "plt.ylabel('True Positive Rate')\n",
    "plt.xlabel('False Positive Rate')\n",
    "plt.legend(loc=4)\n",
    "plt.show()"
   ]
  },
  {
   "cell_type": "markdown",
   "id": "4fa34b44",
   "metadata": {},
   "source": [
    "#### We can observe that AUC value is quite high. The Higher the AUC, the better the model is at distinguishing between fraudulent and non-fraudulent transaction"
   ]
  },
  {
   "cell_type": "code",
   "execution_count": 639,
   "id": "7e7a5e42",
   "metadata": {},
   "outputs": [],
   "source": [
    "# #plotting ROC curve\n",
    "# fpr, tpr, threshold = roc_curve(ytest, y_pred_prob)\n",
    "# logistic_auc = roc_auc_score(ytest, y_pred_prob)\n",
    "# plot_roc_curve(fpr, tpr, 'AUC = %.3f' % logistic_auc)"
   ]
  },
  {
   "cell_type": "code",
   "execution_count": 640,
   "id": "9096851e",
   "metadata": {},
   "outputs": [],
   "source": [
    "# #defining roc curve\n",
    "# def plot_roc_curve(fpr, tpr, label=None):\n",
    "#     plt.figure(figsize=(4,4))\n",
    "#     plt.title('SVM classifier : ROC - AUC Curve')\n",
    "#     print()\n",
    "#     plt.plot([0, 1], [0, 1], 'k--')\n",
    "#     #plt.plot(fpr, tpr, linewidth=2, label=label,color='orange')\n",
    "#     plt.plot(fpr,tpr,label= \"AUC=\"+str(round(auc,4)),color='orange',linewidth=2, markersize=1)\n",
    "# #     plt.xticks(np.arange(0, 1, 0.05), rotation=90)\n",
    "# #     plt.xlabel('False Positive Rates', fontsize=15)\n",
    "# #     plt.ylabel('True Positive Rates', fontsize=15)\n",
    "# #     plt.legend(loc='best')\n",
    "#     plt.ylabel('True Positive Rate')\n",
    "#     plt.xlabel('False Positive Rate')\n",
    "#     plt.legend(loc='best')\n",
    "#     plt.show()\n",
    "    \n",
    "#     plt.show()"
   ]
  },
  {
   "cell_type": "markdown",
   "id": "69df857b",
   "metadata": {},
   "source": [
    "## Hyperparameters tuning with GridSearchCV to improve model accuracy"
   ]
  },
  {
   "cell_type": "markdown",
   "id": "e09ffc2e",
   "metadata": {},
   "source": [
    "#### The hyper parameters that we can tune for logistic regression are solver, penalty, and regularisation strength\n",
    "#### Solvers are algorithms used for optimisation and there are multiple solvers like 'newton-cg', 'lbfgs', 'liblinear', 'sag', 'saga'\n",
    "#### Penalty are 'none', 'l1','l2','elasticnet'\n",
    "#### C is a parameter that controls penalty strength which is Inverse of regularization strength.smaller values specify stronger regularization."
   ]
  },
  {
   "cell_type": "code",
   "execution_count": 641,
   "id": "9e092e78",
   "metadata": {},
   "outputs": [],
   "source": [
    "# import necessary libraries\n",
    "from sklearn.linear_model import LogisticRegression\n",
    "from sklearn.model_selection import GridSearchCV\n",
    "from sklearn.model_selection import KFold, StratifiedKFold"
   ]
  },
  {
   "cell_type": "code",
   "execution_count": 642,
   "id": "02395c69",
   "metadata": {},
   "outputs": [],
   "source": [
    "# create an instance of logistic regression\n",
    "lr=LogisticRegression()"
   ]
  },
  {
   "cell_type": "code",
   "execution_count": 643,
   "id": "ede1ff8a",
   "metadata": {},
   "outputs": [],
   "source": [
    "# defining the hyper parameters\n",
    "param= {'C': [0.01,0.1, 0.5, 1,10,15,20], 'penalty': ['l1', 'l2','none']}\n",
    "\n",
    "# create 5 folds for StratifiedKFold validation\n",
    "folds = StratifiedKFold(n_splits = 5, shuffle = True, random_state = 42)\n",
    "\n",
    "#Gridsearch for hyperparam tuning\n",
    "model= GridSearchCV(estimator= lr,param_grid=param,scoring=\"accuracy\",cv=folds,return_train_score=True)"
   ]
  },
  {
   "cell_type": "code",
   "execution_count": 644,
   "id": "81e59c8d",
   "metadata": {},
   "outputs": [
    {
     "data": {
      "text/html": [
       "<style>#sk-container-id-13 {color: black;background-color: white;}#sk-container-id-13 pre{padding: 0;}#sk-container-id-13 div.sk-toggleable {background-color: white;}#sk-container-id-13 label.sk-toggleable__label {cursor: pointer;display: block;width: 100%;margin-bottom: 0;padding: 0.3em;box-sizing: border-box;text-align: center;}#sk-container-id-13 label.sk-toggleable__label-arrow:before {content: \"▸\";float: left;margin-right: 0.25em;color: #696969;}#sk-container-id-13 label.sk-toggleable__label-arrow:hover:before {color: black;}#sk-container-id-13 div.sk-estimator:hover label.sk-toggleable__label-arrow:before {color: black;}#sk-container-id-13 div.sk-toggleable__content {max-height: 0;max-width: 0;overflow: hidden;text-align: left;background-color: #f0f8ff;}#sk-container-id-13 div.sk-toggleable__content pre {margin: 0.2em;color: black;border-radius: 0.25em;background-color: #f0f8ff;}#sk-container-id-13 input.sk-toggleable__control:checked~div.sk-toggleable__content {max-height: 200px;max-width: 100%;overflow: auto;}#sk-container-id-13 input.sk-toggleable__control:checked~label.sk-toggleable__label-arrow:before {content: \"▾\";}#sk-container-id-13 div.sk-estimator input.sk-toggleable__control:checked~label.sk-toggleable__label {background-color: #d4ebff;}#sk-container-id-13 div.sk-label input.sk-toggleable__control:checked~label.sk-toggleable__label {background-color: #d4ebff;}#sk-container-id-13 input.sk-hidden--visually {border: 0;clip: rect(1px 1px 1px 1px);clip: rect(1px, 1px, 1px, 1px);height: 1px;margin: -1px;overflow: hidden;padding: 0;position: absolute;width: 1px;}#sk-container-id-13 div.sk-estimator {font-family: monospace;background-color: #f0f8ff;border: 1px dotted black;border-radius: 0.25em;box-sizing: border-box;margin-bottom: 0.5em;}#sk-container-id-13 div.sk-estimator:hover {background-color: #d4ebff;}#sk-container-id-13 div.sk-parallel-item::after {content: \"\";width: 100%;border-bottom: 1px solid gray;flex-grow: 1;}#sk-container-id-13 div.sk-label:hover label.sk-toggleable__label {background-color: #d4ebff;}#sk-container-id-13 div.sk-serial::before {content: \"\";position: absolute;border-left: 1px solid gray;box-sizing: border-box;top: 0;bottom: 0;left: 50%;z-index: 0;}#sk-container-id-13 div.sk-serial {display: flex;flex-direction: column;align-items: center;background-color: white;padding-right: 0.2em;padding-left: 0.2em;position: relative;}#sk-container-id-13 div.sk-item {position: relative;z-index: 1;}#sk-container-id-13 div.sk-parallel {display: flex;align-items: stretch;justify-content: center;background-color: white;position: relative;}#sk-container-id-13 div.sk-item::before, #sk-container-id-13 div.sk-parallel-item::before {content: \"\";position: absolute;border-left: 1px solid gray;box-sizing: border-box;top: 0;bottom: 0;left: 50%;z-index: -1;}#sk-container-id-13 div.sk-parallel-item {display: flex;flex-direction: column;z-index: 1;position: relative;background-color: white;}#sk-container-id-13 div.sk-parallel-item:first-child::after {align-self: flex-end;width: 50%;}#sk-container-id-13 div.sk-parallel-item:last-child::after {align-self: flex-start;width: 50%;}#sk-container-id-13 div.sk-parallel-item:only-child::after {width: 0;}#sk-container-id-13 div.sk-dashed-wrapped {border: 1px dashed gray;margin: 0 0.4em 0.5em 0.4em;box-sizing: border-box;padding-bottom: 0.4em;background-color: white;}#sk-container-id-13 div.sk-label label {font-family: monospace;font-weight: bold;display: inline-block;line-height: 1.2em;}#sk-container-id-13 div.sk-label-container {text-align: center;}#sk-container-id-13 div.sk-container {/* jupyter's `normalize.less` sets `[hidden] { display: none; }` but bootstrap.min.css set `[hidden] { display: none !important; }` so we also need the `!important` here to be able to override the default hidden behavior on the sphinx rendered scikit-learn.org. See: https://github.com/scikit-learn/scikit-learn/issues/21755 */display: inline-block !important;position: relative;}#sk-container-id-13 div.sk-text-repr-fallback {display: none;}</style><div id=\"sk-container-id-13\" class=\"sk-top-container\"><div class=\"sk-text-repr-fallback\"><pre>GridSearchCV(cv=StratifiedKFold(n_splits=5, random_state=42, shuffle=True),\n",
       "             estimator=LogisticRegression(),\n",
       "             param_grid={&#x27;C&#x27;: [0.01, 0.1, 0.5, 1, 10, 15, 20],\n",
       "                         &#x27;penalty&#x27;: [&#x27;l1&#x27;, &#x27;l2&#x27;, &#x27;none&#x27;]},\n",
       "             return_train_score=True, scoring=&#x27;accuracy&#x27;)</pre><b>In a Jupyter environment, please rerun this cell to show the HTML representation or trust the notebook. <br />On GitHub, the HTML representation is unable to render, please try loading this page with nbviewer.org.</b></div><div class=\"sk-container\" hidden><div class=\"sk-item sk-dashed-wrapped\"><div class=\"sk-label-container\"><div class=\"sk-label sk-toggleable\"><input class=\"sk-toggleable__control sk-hidden--visually\" id=\"sk-estimator-id-25\" type=\"checkbox\" ><label for=\"sk-estimator-id-25\" class=\"sk-toggleable__label sk-toggleable__label-arrow\">GridSearchCV</label><div class=\"sk-toggleable__content\"><pre>GridSearchCV(cv=StratifiedKFold(n_splits=5, random_state=42, shuffle=True),\n",
       "             estimator=LogisticRegression(),\n",
       "             param_grid={&#x27;C&#x27;: [0.01, 0.1, 0.5, 1, 10, 15, 20],\n",
       "                         &#x27;penalty&#x27;: [&#x27;l1&#x27;, &#x27;l2&#x27;, &#x27;none&#x27;]},\n",
       "             return_train_score=True, scoring=&#x27;accuracy&#x27;)</pre></div></div></div><div class=\"sk-parallel\"><div class=\"sk-parallel-item\"><div class=\"sk-item\"><div class=\"sk-label-container\"><div class=\"sk-label sk-toggleable\"><input class=\"sk-toggleable__control sk-hidden--visually\" id=\"sk-estimator-id-26\" type=\"checkbox\" ><label for=\"sk-estimator-id-26\" class=\"sk-toggleable__label sk-toggleable__label-arrow\">estimator: LogisticRegression</label><div class=\"sk-toggleable__content\"><pre>LogisticRegression()</pre></div></div></div><div class=\"sk-serial\"><div class=\"sk-item\"><div class=\"sk-estimator sk-toggleable\"><input class=\"sk-toggleable__control sk-hidden--visually\" id=\"sk-estimator-id-27\" type=\"checkbox\" ><label for=\"sk-estimator-id-27\" class=\"sk-toggleable__label sk-toggleable__label-arrow\">LogisticRegression</label><div class=\"sk-toggleable__content\"><pre>LogisticRegression()</pre></div></div></div></div></div></div></div></div></div></div>"
      ],
      "text/plain": [
       "GridSearchCV(cv=StratifiedKFold(n_splits=5, random_state=42, shuffle=True),\n",
       "             estimator=LogisticRegression(),\n",
       "             param_grid={'C': [0.01, 0.1, 0.5, 1, 10, 15, 20],\n",
       "                         'penalty': ['l1', 'l2', 'none']},\n",
       "             return_train_score=True, scoring='accuracy')"
      ]
     },
     "execution_count": 644,
     "metadata": {},
     "output_type": "execute_result"
    }
   ],
   "source": [
    "#train model to learn relationships between x and y\n",
    "model.fit(xtrain,ytrain)"
   ]
  },
  {
   "cell_type": "code",
   "execution_count": 645,
   "id": "be52f79f",
   "metadata": {},
   "outputs": [
    {
     "name": "stdout",
     "output_type": "stream",
     "text": [
      "Best accuracy score:  0.8602318691691956\n",
      "Best hyperparameters:  {'C': 0.01, 'penalty': 'none'}\n"
     ]
    }
   ],
   "source": [
    "# print best hyperparameters\n",
    "print(\"Best accuracy score: \", model.best_score_)\n",
    "print(\"Best hyperparameters: \", model.best_params_)"
   ]
  },
  {
   "cell_type": "code",
   "execution_count": 646,
   "id": "489ab17e",
   "metadata": {},
   "outputs": [
    {
     "data": {
      "text/html": [
       "<style>#sk-container-id-14 {color: black;background-color: white;}#sk-container-id-14 pre{padding: 0;}#sk-container-id-14 div.sk-toggleable {background-color: white;}#sk-container-id-14 label.sk-toggleable__label {cursor: pointer;display: block;width: 100%;margin-bottom: 0;padding: 0.3em;box-sizing: border-box;text-align: center;}#sk-container-id-14 label.sk-toggleable__label-arrow:before {content: \"▸\";float: left;margin-right: 0.25em;color: #696969;}#sk-container-id-14 label.sk-toggleable__label-arrow:hover:before {color: black;}#sk-container-id-14 div.sk-estimator:hover label.sk-toggleable__label-arrow:before {color: black;}#sk-container-id-14 div.sk-toggleable__content {max-height: 0;max-width: 0;overflow: hidden;text-align: left;background-color: #f0f8ff;}#sk-container-id-14 div.sk-toggleable__content pre {margin: 0.2em;color: black;border-radius: 0.25em;background-color: #f0f8ff;}#sk-container-id-14 input.sk-toggleable__control:checked~div.sk-toggleable__content {max-height: 200px;max-width: 100%;overflow: auto;}#sk-container-id-14 input.sk-toggleable__control:checked~label.sk-toggleable__label-arrow:before {content: \"▾\";}#sk-container-id-14 div.sk-estimator input.sk-toggleable__control:checked~label.sk-toggleable__label {background-color: #d4ebff;}#sk-container-id-14 div.sk-label input.sk-toggleable__control:checked~label.sk-toggleable__label {background-color: #d4ebff;}#sk-container-id-14 input.sk-hidden--visually {border: 0;clip: rect(1px 1px 1px 1px);clip: rect(1px, 1px, 1px, 1px);height: 1px;margin: -1px;overflow: hidden;padding: 0;position: absolute;width: 1px;}#sk-container-id-14 div.sk-estimator {font-family: monospace;background-color: #f0f8ff;border: 1px dotted black;border-radius: 0.25em;box-sizing: border-box;margin-bottom: 0.5em;}#sk-container-id-14 div.sk-estimator:hover {background-color: #d4ebff;}#sk-container-id-14 div.sk-parallel-item::after {content: \"\";width: 100%;border-bottom: 1px solid gray;flex-grow: 1;}#sk-container-id-14 div.sk-label:hover label.sk-toggleable__label {background-color: #d4ebff;}#sk-container-id-14 div.sk-serial::before {content: \"\";position: absolute;border-left: 1px solid gray;box-sizing: border-box;top: 0;bottom: 0;left: 50%;z-index: 0;}#sk-container-id-14 div.sk-serial {display: flex;flex-direction: column;align-items: center;background-color: white;padding-right: 0.2em;padding-left: 0.2em;position: relative;}#sk-container-id-14 div.sk-item {position: relative;z-index: 1;}#sk-container-id-14 div.sk-parallel {display: flex;align-items: stretch;justify-content: center;background-color: white;position: relative;}#sk-container-id-14 div.sk-item::before, #sk-container-id-14 div.sk-parallel-item::before {content: \"\";position: absolute;border-left: 1px solid gray;box-sizing: border-box;top: 0;bottom: 0;left: 50%;z-index: -1;}#sk-container-id-14 div.sk-parallel-item {display: flex;flex-direction: column;z-index: 1;position: relative;background-color: white;}#sk-container-id-14 div.sk-parallel-item:first-child::after {align-self: flex-end;width: 50%;}#sk-container-id-14 div.sk-parallel-item:last-child::after {align-self: flex-start;width: 50%;}#sk-container-id-14 div.sk-parallel-item:only-child::after {width: 0;}#sk-container-id-14 div.sk-dashed-wrapped {border: 1px dashed gray;margin: 0 0.4em 0.5em 0.4em;box-sizing: border-box;padding-bottom: 0.4em;background-color: white;}#sk-container-id-14 div.sk-label label {font-family: monospace;font-weight: bold;display: inline-block;line-height: 1.2em;}#sk-container-id-14 div.sk-label-container {text-align: center;}#sk-container-id-14 div.sk-container {/* jupyter's `normalize.less` sets `[hidden] { display: none; }` but bootstrap.min.css set `[hidden] { display: none !important; }` so we also need the `!important` here to be able to override the default hidden behavior on the sphinx rendered scikit-learn.org. See: https://github.com/scikit-learn/scikit-learn/issues/21755 */display: inline-block !important;position: relative;}#sk-container-id-14 div.sk-text-repr-fallback {display: none;}</style><div id=\"sk-container-id-14\" class=\"sk-top-container\"><div class=\"sk-text-repr-fallback\"><pre>LogisticRegression(C=0.01, penalty=&#x27;none&#x27;)</pre><b>In a Jupyter environment, please rerun this cell to show the HTML representation or trust the notebook. <br />On GitHub, the HTML representation is unable to render, please try loading this page with nbviewer.org.</b></div><div class=\"sk-container\" hidden><div class=\"sk-item\"><div class=\"sk-estimator sk-toggleable\"><input class=\"sk-toggleable__control sk-hidden--visually\" id=\"sk-estimator-id-28\" type=\"checkbox\" checked><label for=\"sk-estimator-id-28\" class=\"sk-toggleable__label sk-toggleable__label-arrow\">LogisticRegression</label><div class=\"sk-toggleable__content\"><pre>LogisticRegression(C=0.01, penalty=&#x27;none&#x27;)</pre></div></div></div></div></div>"
      ],
      "text/plain": [
       "LogisticRegression(C=0.01, penalty='none')"
      ]
     },
     "execution_count": 646,
     "metadata": {},
     "output_type": "execute_result"
    }
   ],
   "source": [
    "#Building the model again with best params generated above\n",
    "\n",
    "lr2=LogisticRegression(C=0.01,penalty=\"none\")\n",
    "lr2.fit(xtrain,ytrain)"
   ]
  },
  {
   "cell_type": "code",
   "execution_count": 647,
   "id": "79548ed1",
   "metadata": {},
   "outputs": [],
   "source": [
    "#predict labels on test dataset\n",
    "y_pred_test = lr2.predict(xtest)"
   ]
  },
  {
   "cell_type": "code",
   "execution_count": 648,
   "id": "2cdc49ad",
   "metadata": {},
   "outputs": [
    {
     "name": "stdout",
     "output_type": "stream",
     "text": [
      "Logistic Regression Model accuracy after tuning : 86.0% or 0.86\n"
     ]
    }
   ],
   "source": [
    "from sklearn import metrics\n",
    "model_accuracy = metrics.accuracy_score(ytest, y_pred_test)\n",
    "print(f'Logistic Regression Model accuracy after tuning : {round(model_accuracy,2)*100}% or {round(model_accuracy,2)}')"
   ]
  },
  {
   "cell_type": "markdown",
   "id": "e31d885a",
   "metadata": {},
   "source": [
    "### We can observe that after hyper parameter tuning with best parameters, the accuracy of the model has improved by 3%"
   ]
  },
  {
   "cell_type": "code",
   "execution_count": 649,
   "id": "17a1dca6",
   "metadata": {},
   "outputs": [],
   "source": [
    "# combined_df = pd.concat([xtest, ytest], axis=1) \n",
    "# combined_df['ypred_best'] = y_pred.tolist()\n",
    "# combined_df.head()\n",
    "# combined_df.to_csv('LogisticRegression_pred.csv')"
   ]
  },
  {
   "cell_type": "code",
   "execution_count": 650,
   "id": "3cfcb18e",
   "metadata": {},
   "outputs": [
    {
     "name": "stdout",
     "output_type": "stream",
     "text": [
      " F1-Score        :  0.8614\n",
      " Recall Score    :  0.8528\n",
      " Precision Score :  0.8701\n"
     ]
    }
   ],
   "source": [
    "from sklearn.metrics import f1_score\n",
    "from sklearn.metrics import recall_score\n",
    "from sklearn.metrics import precision_score\n",
    "print(\" F1-Score        : \" , round(f1_score(ytest,y_pred_test),4))\n",
    "print(\" Recall Score    : \" , round(recall_score(ytest,y_pred_test),4))\n",
    "print(\" Precision Score : \" , round(precision_score(ytest,y_pred_test),4))"
   ]
  },
  {
   "cell_type": "markdown",
   "id": "783f3ac5",
   "metadata": {},
   "source": [
    "### There is improvement in precison and F1 score as well post tuning"
   ]
  },
  {
   "cell_type": "code",
   "execution_count": 651,
   "id": "eb22e20b",
   "metadata": {},
   "outputs": [
    {
     "name": "stdout",
     "output_type": "stream",
     "text": [
      "Classification Report\n",
      "\n",
      "              precision    recall  f1-score   support\n",
      "\n",
      "   non-fraud       0.86      0.87      0.86      1862\n",
      "       fraud       0.87      0.85      0.86      1862\n",
      "\n",
      "    accuracy                           0.86      3724\n",
      "   macro avg       0.86      0.86      0.86      3724\n",
      "weighted avg       0.86      0.86      0.86      3724\n",
      "\n"
     ]
    }
   ],
   "source": [
    "from sklearn.metrics import classification_report\n",
    "target_names = ['non-fraud', 'fraud']\n",
    "print( \"Classification Report\")\n",
    "print()\n",
    "print(classification_report(ytest,y_pred_test,target_names=target_names))"
   ]
  },
  {
   "cell_type": "markdown",
   "id": "7e2df301",
   "metadata": {},
   "source": [
    "### ROC Curve"
   ]
  },
  {
   "cell_type": "code",
   "execution_count": 652,
   "id": "5f99cbbd",
   "metadata": {},
   "outputs": [
    {
     "name": "stdout",
     "output_type": "stream",
     "text": [
      "\n"
     ]
    },
    {
     "data": {
      "image/png": "[encoded data removed]",
      "text/plain": [
       "<Figure size 400x400 with 1 Axes>"
      ]
     },
     "metadata": {},
     "output_type": "display_data"
    }
   ],
   "source": [
    "#define metrics\n",
    "ns_probs = [0 for _ in range(len(ytest))]\n",
    "#ns_auc = roc_auc_score(y3test, ns_probs)\n",
    "y_pred_prob=logreg.predict_proba(xtest)[:,1]\n",
    "fpr, tpr, _ = metrics.roc_curve(ytest,  y_pred_prob)\n",
    "ns_fpr, ns_tpr, _ = metrics.roc_curve(ytest, ns_probs)\n",
    "#create ROC curve\n",
    "plt.figure(figsize =(4,4))\n",
    "#plt.plot(fpr,tpr)\n",
    "plt.plot(ns_fpr, ns_tpr, linestyle='--')\n",
    "plt.plot(fpr,tpr, color='orange', marker='.', linestyle='--',linewidth=2, markersize=1,label='logistic' )\n",
    "plt.title('ROC - Curve for Fraud Classifier')\n",
    "plt.legend()\n",
    "print()\n",
    "plt.ylabel('True Positive Rate')\n",
    "plt.xlabel('False Positive Rate')\n",
    "plt.show()"
   ]
  },
  {
   "cell_type": "markdown",
   "id": "7fbba15e",
   "metadata": {},
   "source": [
    "### AUC Curve"
   ]
  },
  {
   "cell_type": "code",
   "execution_count": 653,
   "id": "563845db",
   "metadata": {},
   "outputs": [
    {
     "data": {
      "image/png": "[encoded data removed]",
      "text/plain": [
       "<Figure size 400x400 with 1 Axes>"
      ]
     },
     "metadata": {},
     "output_type": "display_data"
    }
   ],
   "source": [
    "#define metrics\n",
    "\n",
    "fpr, tpr, _ = metrics.roc_curve(ytest,  y_pred_prob)\n",
    "auc = metrics.roc_auc_score(ytest, y_pred_prob)\n",
    "\n",
    "#create ROC curve\n",
    "plt.figure(figsize =(4,4))\n",
    "plt.title('AUC')\n",
    "plt.plot(fpr,tpr,label=\"AUC=\"+str(round(auc,4)),color='orange',  linestyle='dashed',linewidth=2, markersize=1)\n",
    "plt.ylabel('True Positive Rate')\n",
    "plt.xlabel('False Positive Rate')\n",
    "plt.legend(loc=4)\n",
    "plt.show()"
   ]
  },
  {
   "cell_type": "code",
   "execution_count": 654,
   "id": "b2a72077",
   "metadata": {},
   "outputs": [],
   "source": [
    "# #plotting ROC curve\n",
    "# fpr, tpr, threshold = roc_curve(ytest, y_pred_prob)\n",
    "# logistic_auc = roc_auc_score(ytest, y_pred_prob)\n",
    "# plot_roc_curve(fpr, tpr, 'AUC = %.3f' % logistic_auc)"
   ]
  },
  {
   "cell_type": "markdown",
   "id": "30fe1f93",
   "metadata": {},
   "source": [
    "Comments and Analysis:"
   ]
  },
  {
   "cell_type": "markdown",
   "id": "046578e3",
   "metadata": {},
   "source": [
    "Overall, logistic regression is able to well clasiify the transactions as Fraud/non-fraud with tunes accracy of 86%"
   ]
  },
  {
   "cell_type": "markdown",
   "id": "2d01393c",
   "metadata": {},
   "source": [
    "## Support Vector machines ( SVM )"
   ]
  },
  {
   "cell_type": "markdown",
   "id": "32833052",
   "metadata": {},
   "source": [
    "#### Model Description:\n",
    "Supervised Machine Learning Classification and Regression model\n",
    "SVM aims to find the best hyperplane ( decision boundary ) which can separate 2 dimensional data into fraud/non-fraud class.\n"
   ]
  },
  {
   "cell_type": "code",
   "execution_count": 655,
   "id": "016ebeac",
   "metadata": {},
   "outputs": [
    {
     "data": {
      "text/html": [
       "<style>#sk-container-id-15 {color: black;background-color: white;}#sk-container-id-15 pre{padding: 0;}#sk-container-id-15 div.sk-toggleable {background-color: white;}#sk-container-id-15 label.sk-toggleable__label {cursor: pointer;display: block;width: 100%;margin-bottom: 0;padding: 0.3em;box-sizing: border-box;text-align: center;}#sk-container-id-15 label.sk-toggleable__label-arrow:before {content: \"▸\";float: left;margin-right: 0.25em;color: #696969;}#sk-container-id-15 label.sk-toggleable__label-arrow:hover:before {color: black;}#sk-container-id-15 div.sk-estimator:hover label.sk-toggleable__label-arrow:before {color: black;}#sk-container-id-15 div.sk-toggleable__content {max-height: 0;max-width: 0;overflow: hidden;text-align: left;background-color: #f0f8ff;}#sk-container-id-15 div.sk-toggleable__content pre {margin: 0.2em;color: black;border-radius: 0.25em;background-color: #f0f8ff;}#sk-container-id-15 input.sk-toggleable__control:checked~div.sk-toggleable__content {max-height: 200px;max-width: 100%;overflow: auto;}#sk-container-id-15 input.sk-toggleable__control:checked~label.sk-toggleable__label-arrow:before {content: \"▾\";}#sk-container-id-15 div.sk-estimator input.sk-toggleable__control:checked~label.sk-toggleable__label {background-color: #d4ebff;}#sk-container-id-15 div.sk-label input.sk-toggleable__control:checked~label.sk-toggleable__label {background-color: #d4ebff;}#sk-container-id-15 input.sk-hidden--visually {border: 0;clip: rect(1px 1px 1px 1px);clip: rect(1px, 1px, 1px, 1px);height: 1px;margin: -1px;overflow: hidden;padding: 0;position: absolute;width: 1px;}#sk-container-id-15 div.sk-estimator {font-family: monospace;background-color: #f0f8ff;border: 1px dotted black;border-radius: 0.25em;box-sizing: border-box;margin-bottom: 0.5em;}#sk-container-id-15 div.sk-estimator:hover {background-color: #d4ebff;}#sk-container-id-15 div.sk-parallel-item::after {content: \"\";width: 100%;border-bottom: 1px solid gray;flex-grow: 1;}#sk-container-id-15 div.sk-label:hover label.sk-toggleable__label {background-color: #d4ebff;}#sk-container-id-15 div.sk-serial::before {content: \"\";position: absolute;border-left: 1px solid gray;box-sizing: border-box;top: 0;bottom: 0;left: 50%;z-index: 0;}#sk-container-id-15 div.sk-serial {display: flex;flex-direction: column;align-items: center;background-color: white;padding-right: 0.2em;padding-left: 0.2em;position: relative;}#sk-container-id-15 div.sk-item {position: relative;z-index: 1;}#sk-container-id-15 div.sk-parallel {display: flex;align-items: stretch;justify-content: center;background-color: white;position: relative;}#sk-container-id-15 div.sk-item::before, #sk-container-id-15 div.sk-parallel-item::before {content: \"\";position: absolute;border-left: 1px solid gray;box-sizing: border-box;top: 0;bottom: 0;left: 50%;z-index: -1;}#sk-container-id-15 div.sk-parallel-item {display: flex;flex-direction: column;z-index: 1;position: relative;background-color: white;}#sk-container-id-15 div.sk-parallel-item:first-child::after {align-self: flex-end;width: 50%;}#sk-container-id-15 div.sk-parallel-item:last-child::after {align-self: flex-start;width: 50%;}#sk-container-id-15 div.sk-parallel-item:only-child::after {width: 0;}#sk-container-id-15 div.sk-dashed-wrapped {border: 1px dashed gray;margin: 0 0.4em 0.5em 0.4em;box-sizing: border-box;padding-bottom: 0.4em;background-color: white;}#sk-container-id-15 div.sk-label label {font-family: monospace;font-weight: bold;display: inline-block;line-height: 1.2em;}#sk-container-id-15 div.sk-label-container {text-align: center;}#sk-container-id-15 div.sk-container {/* jupyter's `normalize.less` sets `[hidden] { display: none; }` but bootstrap.min.css set `[hidden] { display: none !important; }` so we also need the `!important` here to be able to override the default hidden behavior on the sphinx rendered scikit-learn.org. See: https://github.com/scikit-learn/scikit-learn/issues/21755 */display: inline-block !important;position: relative;}#sk-container-id-15 div.sk-text-repr-fallback {display: none;}</style><div id=\"sk-container-id-15\" class=\"sk-top-container\"><div class=\"sk-text-repr-fallback\"><pre>SVC(probability=True)</pre><b>In a Jupyter environment, please rerun this cell to show the HTML representation or trust the notebook. <br />On GitHub, the HTML representation is unable to render, please try loading this page with nbviewer.org.</b></div><div class=\"sk-container\" hidden><div class=\"sk-item\"><div class=\"sk-estimator sk-toggleable\"><input class=\"sk-toggleable__control sk-hidden--visually\" id=\"sk-estimator-id-29\" type=\"checkbox\" checked><label for=\"sk-estimator-id-29\" class=\"sk-toggleable__label sk-toggleable__label-arrow\">SVC</label><div class=\"sk-toggleable__content\"><pre>SVC(probability=True)</pre></div></div></div></div></div>"
      ],
      "text/plain": [
       "SVC(probability=True)"
      ]
     },
     "execution_count": 655,
     "metadata": {},
     "output_type": "execute_result"
    }
   ],
   "source": [
    "## Fitting the model\n",
    "from sklearn import svm\n",
    "#svc = svm.SVC(kernel='linear', C=1,gamma=0).fit(X, y)\n",
    "from sklearn.svm import SVC\n",
    "clf = svm.SVC(probability=True)\n",
    "clf.fit(xtrain, ytrain)"
   ]
  },
  {
   "cell_type": "code",
   "execution_count": 656,
   "id": "8984af5c",
   "metadata": {},
   "outputs": [],
   "source": [
    "#Predict the response for test dataset\n",
    "y_pred = clf.predict(xtest)"
   ]
  },
  {
   "cell_type": "markdown",
   "id": "4ff12c44",
   "metadata": {},
   "source": [
    "### Model Accuracy"
   ]
  },
  {
   "cell_type": "code",
   "execution_count": 657,
   "id": "feab54e3",
   "metadata": {},
   "outputs": [
    {
     "name": "stdout",
     "output_type": "stream",
     "text": [
      "SVM model accuracy : 82.0% or 0.82\n"
     ]
    }
   ],
   "source": [
    "from sklearn import metrics\n",
    "model_accuracy = metrics.accuracy_score(ytest, y_pred)\n",
    "print(f'SVM model accuracy : {round(model_accuracy,2)*100}% or {round(model_accuracy,2)}')"
   ]
  },
  {
   "cell_type": "markdown",
   "id": "e4c717ad",
   "metadata": {},
   "source": [
    "### Metrics"
   ]
  },
  {
   "cell_type": "code",
   "execution_count": 658,
   "id": "a5019219",
   "metadata": {},
   "outputs": [
    {
     "name": "stdout",
     "output_type": "stream",
     "text": [
      " F1-Score        :  0.8253\n",
      " Recall Score    :  0.855\n",
      " Precision Score :  0.7976\n"
     ]
    }
   ],
   "source": [
    "from sklearn.metrics import f1_score\n",
    "from sklearn.metrics import recall_score\n",
    "from sklearn.metrics import precision_score\n",
    "print(\" F1-Score        : \" , round(f1_score(ytest,y_pred),4))\n",
    "print(\" Recall Score    : \" , round(recall_score(ytest,y_pred),4))\n",
    "print(\" Precision Score : \" , round(precision_score(ytest,y_pred),4))"
   ]
  },
  {
   "cell_type": "markdown",
   "id": "99b22afe",
   "metadata": {},
   "source": [
    "### Classification Report"
   ]
  },
  {
   "cell_type": "code",
   "execution_count": 659,
   "id": "8bd47dd2",
   "metadata": {},
   "outputs": [
    {
     "name": "stdout",
     "output_type": "stream",
     "text": [
      "Classification Report\n",
      "\n",
      "              precision    recall  f1-score   support\n",
      "\n",
      "   non-fraud       0.84      0.78      0.81      1862\n",
      "       fraud       0.80      0.85      0.83      1862\n",
      "\n",
      "    accuracy                           0.82      3724\n",
      "   macro avg       0.82      0.82      0.82      3724\n",
      "weighted avg       0.82      0.82      0.82      3724\n",
      "\n"
     ]
    }
   ],
   "source": [
    "from sklearn.metrics import classification_report\n",
    "target_names = ['non-fraud', 'fraud']\n",
    "print( \"Classification Report\")\n",
    "print()\n",
    "print(classification_report(ytest,y_pred,target_names=target_names))"
   ]
  },
  {
   "cell_type": "markdown",
   "id": "4d1151ca",
   "metadata": {},
   "source": [
    "### Log Loss Function"
   ]
  },
  {
   "cell_type": "code",
   "execution_count": 660,
   "id": "ae66f1c6",
   "metadata": {},
   "outputs": [
    {
     "name": "stdout",
     "output_type": "stream",
     "text": [
      " Log loss / Cost function : 6.251\n"
     ]
    }
   ],
   "source": [
    "# log loss of cost function\n",
    "from sklearn import metrics\n",
    "print(f' Log loss / Cost function : {round(metrics.log_loss(ytest, y_pred), 3)}')"
   ]
  },
  {
   "cell_type": "markdown",
   "id": "f6fbfc72",
   "metadata": {},
   "source": [
    "The loss is 6.25 which is less. In comparison SVM has higher loss than logistic indicating the slight performance decrease"
   ]
  },
  {
   "cell_type": "markdown",
   "id": "262a16c1",
   "metadata": {},
   "source": [
    "### Confusion Matrix"
   ]
  },
  {
   "cell_type": "code",
   "execution_count": 661,
   "id": "fcee3c80",
   "metadata": {},
   "outputs": [
    {
     "name": "stdout",
     "output_type": "stream",
     "text": [
      "\n"
     ]
    },
    {
     "data": {
      "image/png": "[encoded data removed]",
      "text/plain": [
       "<Figure size 500x500 with 2 Axes>"
      ]
     },
     "metadata": {},
     "output_type": "display_data"
    }
   ],
   "source": [
    "from sklearn.metrics import confusion_matrix\n",
    "cm=confusion_matrix(ytest,y_pred)\n",
    "cm\n",
    "conf_matrix=pd.DataFrame(data=cm,columns=['Predicted:0','Predicted:1'],index=['Actual:0','Actual:1'])\n",
    "\n",
    "plt.figure(figsize = (5,5))\n",
    "plt.title(\" Confusion Matrix \\n\")\n",
    "print()\n",
    "sns.heatmap(conf_matrix, annot=True,fmt='d',cmap=\"YlGnBu\");"
   ]
  },
  {
   "cell_type": "markdown",
   "id": "7d91523a",
   "metadata": {},
   "source": [
    "### ROC Curve"
   ]
  },
  {
   "cell_type": "code",
   "execution_count": 662,
   "id": "3b034e97",
   "metadata": {},
   "outputs": [
    {
     "name": "stdout",
     "output_type": "stream",
     "text": [
      "\n"
     ]
    },
    {
     "data": {
      "image/png": "[encoded data removed]",
      "text/plain": [
       "<Figure size 400x400 with 1 Axes>"
      ]
     },
     "metadata": {},
     "output_type": "display_data"
    }
   ],
   "source": [
    "#define metrics\n",
    "ns_probs = [0 for _ in range(len(ytest))]\n",
    "#ns_auc = roc_auc_score(y3test, ns_probs)\n",
    "y_pred_prob=clf.predict_proba(xtest)[:,1]\n",
    "fpr, tpr, _ = metrics.roc_curve(ytest,  y_pred_prob)\n",
    "ns_fpr, ns_tpr, _ = metrics.roc_curve(ytest, ns_probs)\n",
    "#create ROC curve\n",
    "plt.figure(figsize =(4,4))\n",
    "#plt.plot(fpr,tpr)\n",
    "plt.plot(ns_fpr, ns_tpr, linestyle='--')\n",
    "plt.plot(fpr,tpr, color='orange', marker='.', linestyle='--',linewidth=2, markersize=1,label='logistic' )\n",
    "plt.title('ROC - Curve for Fraud Classifier')\n",
    "plt.legend()\n",
    "print()\n",
    "plt.ylabel('True Positive Rate')\n",
    "plt.xlabel('False Positive Rate')\n",
    "plt.show()"
   ]
  },
  {
   "cell_type": "markdown",
   "id": "664f186f",
   "metadata": {},
   "source": [
    "### AUC Curve"
   ]
  },
  {
   "cell_type": "code",
   "execution_count": 663,
   "id": "fe5bbef4",
   "metadata": {},
   "outputs": [
    {
     "data": {
      "image/png": "[encoded data removed]",
      "text/plain": [
       "<Figure size 400x400 with 1 Axes>"
      ]
     },
     "metadata": {},
     "output_type": "display_data"
    }
   ],
   "source": [
    "#define metrics\n",
    "\n",
    "fpr, tpr, _ = metrics.roc_curve(ytest,  y_pred_prob)\n",
    "auc = metrics.roc_auc_score(ytest, y_pred_prob)\n",
    "\n",
    "#create ROC curve\n",
    "plt.figure(figsize =(4,4))\n",
    "plt.title('AUC')\n",
    "plt.plot(fpr,tpr,label=\"AUC=\"+str(round(auc,4)),color='orange',  linestyle='dashed',linewidth=2, markersize=1)\n",
    "plt.ylabel('True Positive Rate')\n",
    "plt.xlabel('False Positive Rate')\n",
    "plt.legend(loc=4)\n",
    "plt.show()"
   ]
  },
  {
   "cell_type": "markdown",
   "id": "cf988f3a",
   "metadata": {},
   "source": [
    "Comments:The AUC for SVM is closer to 1. Indicating model does a good job in predicting fraudulent transactions."
   ]
  },
  {
   "cell_type": "markdown",
   "id": "a8957cf8",
   "metadata": {},
   "source": [
    "## Hyper parameter tuning to improve SVMs model accuracy"
   ]
  },
  {
   "cell_type": "markdown",
   "id": "2725e199",
   "metadata": {},
   "source": [
    "Description:\n",
    "Tuning the parameters values for machine learning algorithms effectively improves model performance. Hence, here \n",
    "\n",
    "GridSearch CV is used to find the hyper parameters.The main idea behind it is to create a grid of hyper-parameters and just try all of their combinations to find the best parameter that the model can be fit on in order to improve the accuracy.The grid of parameters is defined as a dictionary, where the keys are the parameters and the values are the settings to be tested.\n",
    "\n",
    "SVM has some hyoer parameters like C, gamma"
   ]
  },
  {
   "cell_type": "code",
   "execution_count": 664,
   "id": "df8df85b",
   "metadata": {},
   "outputs": [],
   "source": [
    "from sklearn.model_selection import GridSearchCV\n"
   ]
  },
  {
   "cell_type": "code",
   "execution_count": 665,
   "id": "40075737",
   "metadata": {},
   "outputs": [],
   "source": [
    "# defining parameter range\n",
    "param_grid = {'C': [0.1, 1, 10, 100, 1000], \n",
    "              'gamma': [1, 0.1, 0.01, 0.001, 0.0001],\n",
    "              'kernel': ['rbf']} "
   ]
  },
  {
   "cell_type": "code",
   "execution_count": 666,
   "id": "72b91923",
   "metadata": {},
   "outputs": [],
   "source": [
    "grid = GridSearchCV(SVC(), param_grid, refit = True, verbose = 3)"
   ]
  },
  {
   "cell_type": "code",
   "execution_count": 667,
   "id": "0bcf49ad",
   "metadata": {},
   "outputs": [
    {
     "name": "stdout",
     "output_type": "stream",
     "text": [
      "Fitting 5 folds for each of 25 candidates, totalling 125 fits\n",
      "[CV 1/5] END ........C=0.1, gamma=1, kernel=rbf;, score=0.819 total time=  11.6s\n",
      "[CV 2/5] END ........C=0.1, gamma=1, kernel=rbf;, score=0.800 total time=   8.7s\n",
      "[CV 3/5] END ........C=0.1, gamma=1, kernel=rbf;, score=0.816 total time=   7.9s\n",
      "[CV 4/5] END ........C=0.1, gamma=1, kernel=rbf;, score=0.807 total time=   8.5s\n",
      "[CV 5/5] END ........C=0.1, gamma=1, kernel=rbf;, score=0.819 total time=   7.8s\n",
      "[CV 1/5] END ......C=0.1, gamma=0.1, kernel=rbf;, score=0.815 total time=   8.1s\n",
      "[CV 2/5] END ......C=0.1, gamma=0.1, kernel=rbf;, score=0.800 total time=   7.4s\n",
      "[CV 3/5] END ......C=0.1, gamma=0.1, kernel=rbf;, score=0.816 total time=  10.3s\n",
      "[CV 4/5] END ......C=0.1, gamma=0.1, kernel=rbf;, score=0.805 total time=   7.8s\n",
      "[CV 5/5] END ......C=0.1, gamma=0.1, kernel=rbf;, score=0.817 total time=   7.6s\n",
      "[CV 1/5] END .....C=0.1, gamma=0.01, kernel=rbf;, score=0.815 total time=   9.7s\n",
      "[CV 2/5] END .....C=0.1, gamma=0.01, kernel=rbf;, score=0.800 total time=  10.0s\n",
      "[CV 3/5] END .....C=0.1, gamma=0.01, kernel=rbf;, score=0.816 total time=   9.8s\n",
      "[CV 4/5] END .....C=0.1, gamma=0.01, kernel=rbf;, score=0.805 total time=  10.6s\n",
      "[CV 5/5] END .....C=0.1, gamma=0.01, kernel=rbf;, score=0.817 total time=  19.7s\n",
      "[CV 1/5] END ....C=0.1, gamma=0.001, kernel=rbf;, score=0.815 total time=  16.7s\n",
      "[CV 2/5] END ....C=0.1, gamma=0.001, kernel=rbf;, score=0.802 total time=  15.5s\n",
      "[CV 3/5] END ....C=0.1, gamma=0.001, kernel=rbf;, score=0.812 total time=  18.9s\n",
      "[CV 4/5] END ....C=0.1, gamma=0.001, kernel=rbf;, score=0.755 total time=  15.7s\n",
      "[CV 5/5] END ....C=0.1, gamma=0.001, kernel=rbf;, score=0.763 total time=  15.6s\n",
      "[CV 1/5] END ...C=0.1, gamma=0.0001, kernel=rbf;, score=0.815 total time=  15.4s\n",
      "[CV 2/5] END ...C=0.1, gamma=0.0001, kernel=rbf;, score=0.500 total time=  18.7s\n",
      "[CV 3/5] END ...C=0.1, gamma=0.0001, kernel=rbf;, score=0.500 total time=  17.3s\n",
      "[CV 4/5] END ...C=0.1, gamma=0.0001, kernel=rbf;, score=0.500 total time=  15.5s\n",
      "[CV 5/5] END ...C=0.1, gamma=0.0001, kernel=rbf;, score=0.500 total time=  19.4s\n",
      "[CV 1/5] END ..........C=1, gamma=1, kernel=rbf;, score=0.828 total time=   8.3s\n",
      "[CV 2/5] END ..........C=1, gamma=1, kernel=rbf;, score=0.809 total time=   7.9s\n",
      "[CV 3/5] END ..........C=1, gamma=1, kernel=rbf;, score=0.827 total time=   8.3s\n",
      "[CV 4/5] END ..........C=1, gamma=1, kernel=rbf;, score=0.818 total time=   7.9s\n",
      "[CV 5/5] END ..........C=1, gamma=1, kernel=rbf;, score=0.831 total time=   8.3s\n",
      "[CV 1/5] END ........C=1, gamma=0.1, kernel=rbf;, score=0.815 total time=   7.2s\n",
      "[CV 2/5] END ........C=1, gamma=0.1, kernel=rbf;, score=0.800 total time=  11.4s\n",
      "[CV 3/5] END ........C=1, gamma=0.1, kernel=rbf;, score=0.816 total time=   7.6s\n",
      "[CV 4/5] END ........C=1, gamma=0.1, kernel=rbf;, score=0.805 total time=   7.8s\n",
      "[CV 5/5] END ........C=1, gamma=0.1, kernel=rbf;, score=0.817 total time=   7.6s\n",
      "[CV 1/5] END .......C=1, gamma=0.01, kernel=rbf;, score=0.815 total time=   8.1s\n",
      "[CV 2/5] END .......C=1, gamma=0.01, kernel=rbf;, score=0.800 total time=   7.6s\n",
      "[CV 3/5] END .......C=1, gamma=0.01, kernel=rbf;, score=0.816 total time=   8.5s\n",
      "[CV 4/5] END .......C=1, gamma=0.01, kernel=rbf;, score=0.805 total time=  18.7s\n",
      "[CV 5/5] END .......C=1, gamma=0.01, kernel=rbf;, score=0.817 total time=   8.4s\n",
      "[CV 1/5] END ......C=1, gamma=0.001, kernel=rbf;, score=0.815 total time=   9.6s\n",
      "[CV 2/5] END ......C=1, gamma=0.001, kernel=rbf;, score=0.800 total time=   9.8s\n",
      "[CV 3/5] END ......C=1, gamma=0.001, kernel=rbf;, score=0.816 total time=   9.4s\n",
      "[CV 4/5] END ......C=1, gamma=0.001, kernel=rbf;, score=0.805 total time=  13.0s\n",
      "[CV 5/5] END ......C=1, gamma=0.001, kernel=rbf;, score=0.817 total time=  10.0s\n",
      "[CV 1/5] END .....C=1, gamma=0.0001, kernel=rbf;, score=0.815 total time=  15.5s\n",
      "[CV 2/5] END .....C=1, gamma=0.0001, kernel=rbf;, score=0.802 total time=  17.3s\n",
      "[CV 3/5] END .....C=1, gamma=0.0001, kernel=rbf;, score=0.813 total time=  19.1s\n",
      "[CV 4/5] END .....C=1, gamma=0.0001, kernel=rbf;, score=0.758 total time=  15.5s\n",
      "[CV 5/5] END .....C=1, gamma=0.0001, kernel=rbf;, score=0.765 total time=  17.4s\n",
      "[CV 1/5] END .........C=10, gamma=1, kernel=rbf;, score=0.862 total time=   8.6s\n",
      "[CV 2/5] END .........C=10, gamma=1, kernel=rbf;, score=0.844 total time=   8.1s\n",
      "[CV 3/5] END .........C=10, gamma=1, kernel=rbf;, score=0.859 total time=  12.5s\n",
      "[CV 4/5] END .........C=10, gamma=1, kernel=rbf;, score=0.856 total time=   8.3s\n",
      "[CV 5/5] END .........C=10, gamma=1, kernel=rbf;, score=0.854 total time=   8.8s\n",
      "[CV 1/5] END .......C=10, gamma=0.1, kernel=rbf;, score=0.853 total time=   7.3s\n",
      "[CV 2/5] END .......C=10, gamma=0.1, kernel=rbf;, score=0.843 total time=   7.5s\n",
      "[CV 3/5] END .......C=10, gamma=0.1, kernel=rbf;, score=0.857 total time=   7.1s\n",
      "[CV 4/5] END .......C=10, gamma=0.1, kernel=rbf;, score=0.849 total time=  12.0s\n",
      "[CV 5/5] END .......C=10, gamma=0.1, kernel=rbf;, score=0.855 total time=  12.2s\n",
      "[CV 1/5] END ......C=10, gamma=0.01, kernel=rbf;, score=0.815 total time=47.6min\n",
      "[CV 2/5] END ......C=10, gamma=0.01, kernel=rbf;, score=0.800 total time=   9.8s\n",
      "[CV 3/5] END ......C=10, gamma=0.01, kernel=rbf;, score=0.816 total time=  40.4s\n",
      "[CV 4/5] END ......C=10, gamma=0.01, kernel=rbf;, score=0.805 total time=  13.5s\n",
      "[CV 5/5] END ......C=10, gamma=0.01, kernel=rbf;, score=0.817 total time=   8.5s\n",
      "[CV 1/5] END .....C=10, gamma=0.001, kernel=rbf;, score=0.815 total time=   9.9s\n",
      "[CV 2/5] END .....C=10, gamma=0.001, kernel=rbf;, score=0.800 total time=   8.5s\n",
      "[CV 3/5] END .....C=10, gamma=0.001, kernel=rbf;, score=0.816 total time=   9.5s\n",
      "[CV 4/5] END .....C=10, gamma=0.001, kernel=rbf;, score=0.805 total time=   8.3s\n",
      "[CV 5/5] END .....C=10, gamma=0.001, kernel=rbf;, score=0.817 total time=   8.4s\n",
      "[CV 1/5] END ....C=10, gamma=0.0001, kernel=rbf;, score=0.815 total time=   9.8s\n",
      "[CV 2/5] END ....C=10, gamma=0.0001, kernel=rbf;, score=0.800 total time=  12.2s\n",
      "[CV 3/5] END ....C=10, gamma=0.0001, kernel=rbf;, score=0.816 total time=  12.8s\n",
      "[CV 4/5] END ....C=10, gamma=0.0001, kernel=rbf;, score=0.805 total time=  13.3s\n",
      "[CV 5/5] END ....C=10, gamma=0.0001, kernel=rbf;, score=0.817 total time=  17.0s\n",
      "[CV 1/5] END ........C=100, gamma=1, kernel=rbf;, score=0.862 total time=  15.0s\n",
      "[CV 2/5] END ........C=100, gamma=1, kernel=rbf;, score=0.856 total time=  15.1s\n",
      "[CV 3/5] END ........C=100, gamma=1, kernel=rbf;, score=0.854 total time=  21.8s\n",
      "[CV 4/5] END ........C=100, gamma=1, kernel=rbf;, score=0.864 total time=  26.6s\n",
      "[CV 5/5] END ........C=100, gamma=1, kernel=rbf;, score=0.862 total time=  13.3s\n",
      "[CV 1/5] END ......C=100, gamma=0.1, kernel=rbf;, score=0.872 total time=  10.8s\n",
      "[CV 2/5] END ......C=100, gamma=0.1, kernel=rbf;, score=0.861 total time=  11.8s\n",
      "[CV 3/5] END ......C=100, gamma=0.1, kernel=rbf;, score=0.870 total time=  13.4s\n",
      "[CV 4/5] END ......C=100, gamma=0.1, kernel=rbf;, score=0.867 total time=  16.5s\n",
      "[CV 5/5] END ......C=100, gamma=0.1, kernel=rbf;, score=0.868 total time=  32.9s\n",
      "[CV 1/5] END .....C=100, gamma=0.01, kernel=rbf;, score=0.858 total time=  22.4s\n",
      "[CV 2/5] END .....C=100, gamma=0.01, kernel=rbf;, score=0.847 total time=  17.6s\n",
      "[CV 3/5] END .....C=100, gamma=0.01, kernel=rbf;, score=0.860 total time=   9.2s\n",
      "[CV 4/5] END .....C=100, gamma=0.01, kernel=rbf;, score=0.852 total time=  14.2s\n",
      "[CV 5/5] END .....C=100, gamma=0.01, kernel=rbf;, score=0.854 total time=   9.4s\n",
      "[CV 1/5] END ....C=100, gamma=0.001, kernel=rbf;, score=0.815 total time=  10.0s\n",
      "[CV 2/5] END ....C=100, gamma=0.001, kernel=rbf;, score=0.800 total time=  12.0s\n",
      "[CV 3/5] END ....C=100, gamma=0.001, kernel=rbf;, score=0.816 total time=  10.7s\n",
      "[CV 4/5] END ....C=100, gamma=0.001, kernel=rbf;, score=0.805 total time=  15.3s\n",
      "[CV 5/5] END ....C=100, gamma=0.001, kernel=rbf;, score=0.817 total time=   8.2s\n",
      "[CV 1/5] END ...C=100, gamma=0.0001, kernel=rbf;, score=0.815 total time=  15.9s\n",
      "[CV 2/5] END ...C=100, gamma=0.0001, kernel=rbf;, score=0.800 total time=   9.3s\n",
      "[CV 3/5] END ...C=100, gamma=0.0001, kernel=rbf;, score=0.816 total time=   8.6s\n",
      "[CV 4/5] END ...C=100, gamma=0.0001, kernel=rbf;, score=0.805 total time=  12.7s\n",
      "[CV 5/5] END ...C=100, gamma=0.0001, kernel=rbf;, score=0.817 total time=  12.2s\n",
      "[CV 1/5] END .......C=1000, gamma=1, kernel=rbf;, score=0.860 total time=  45.0s\n"
     ]
    },
    {
     "name": "stdout",
     "output_type": "stream",
     "text": [
      "[CV 2/5] END .......C=1000, gamma=1, kernel=rbf;, score=0.848 total time=  44.9s\n",
      "[CV 3/5] END .......C=1000, gamma=1, kernel=rbf;, score=0.854 total time=  39.4s\n",
      "[CV 4/5] END .......C=1000, gamma=1, kernel=rbf;, score=0.860 total time= 1.1min\n",
      "[CV 5/5] END .......C=1000, gamma=1, kernel=rbf;, score=0.859 total time=  29.6s\n",
      "[CV 1/5] END .....C=1000, gamma=0.1, kernel=rbf;, score=0.872 total time=  15.4s\n",
      "[CV 2/5] END .....C=1000, gamma=0.1, kernel=rbf;, score=0.867 total time=  21.8s\n",
      "[CV 3/5] END .....C=1000, gamma=0.1, kernel=rbf;, score=0.873 total time=  14.6s\n",
      "[CV 4/5] END .....C=1000, gamma=0.1, kernel=rbf;, score=0.873 total time=  14.9s\n",
      "[CV 5/5] END .....C=1000, gamma=0.1, kernel=rbf;, score=0.872 total time=  14.4s\n",
      "[CV 1/5] END ....C=1000, gamma=0.01, kernel=rbf;, score=0.869 total time=  24.3s\n",
      "[CV 2/5] END ....C=1000, gamma=0.01, kernel=rbf;, score=0.854 total time=   9.1s\n",
      "[CV 3/5] END ....C=1000, gamma=0.01, kernel=rbf;, score=0.868 total time=   8.4s\n",
      "[CV 4/5] END ....C=1000, gamma=0.01, kernel=rbf;, score=0.860 total time=   8.3s\n",
      "[CV 5/5] END ....C=1000, gamma=0.01, kernel=rbf;, score=0.866 total time=  14.8s\n",
      "[CV 1/5] END ...C=1000, gamma=0.001, kernel=rbf;, score=0.853 total time=  13.1s\n",
      "[CV 2/5] END ...C=1000, gamma=0.001, kernel=rbf;, score=0.838 total time=   8.1s\n",
      "[CV 3/5] END ...C=1000, gamma=0.001, kernel=rbf;, score=0.858 total time=   8.1s\n",
      "[CV 4/5] END ...C=1000, gamma=0.001, kernel=rbf;, score=0.845 total time=   8.3s\n",
      "[CV 5/5] END ...C=1000, gamma=0.001, kernel=rbf;, score=0.851 total time=   7.3s\n",
      "[CV 1/5] END ..C=1000, gamma=0.0001, kernel=rbf;, score=0.815 total time=   8.1s\n",
      "[CV 2/5] END ..C=1000, gamma=0.0001, kernel=rbf;, score=0.800 total time=  18.6s\n",
      "[CV 3/5] END ..C=1000, gamma=0.0001, kernel=rbf;, score=0.816 total time=   9.2s\n",
      "[CV 4/5] END ..C=1000, gamma=0.0001, kernel=rbf;, score=0.805 total time=   8.2s\n",
      "[CV 5/5] END ..C=1000, gamma=0.0001, kernel=rbf;, score=0.817 total time=   8.2s\n"
     ]
    },
    {
     "data": {
      "text/html": [
       "<style>#sk-container-id-16 {color: black;background-color: white;}#sk-container-id-16 pre{padding: 0;}#sk-container-id-16 div.sk-toggleable {background-color: white;}#sk-container-id-16 label.sk-toggleable__label {cursor: pointer;display: block;width: 100%;margin-bottom: 0;padding: 0.3em;box-sizing: border-box;text-align: center;}#sk-container-id-16 label.sk-toggleable__label-arrow:before {content: \"▸\";float: left;margin-right: 0.25em;color: #696969;}#sk-container-id-16 label.sk-toggleable__label-arrow:hover:before {color: black;}#sk-container-id-16 div.sk-estimator:hover label.sk-toggleable__label-arrow:before {color: black;}#sk-container-id-16 div.sk-toggleable__content {max-height: 0;max-width: 0;overflow: hidden;text-align: left;background-color: #f0f8ff;}#sk-container-id-16 div.sk-toggleable__content pre {margin: 0.2em;color: black;border-radius: 0.25em;background-color: #f0f8ff;}#sk-container-id-16 input.sk-toggleable__control:checked~div.sk-toggleable__content {max-height: 200px;max-width: 100%;overflow: auto;}#sk-container-id-16 input.sk-toggleable__control:checked~label.sk-toggleable__label-arrow:before {content: \"▾\";}#sk-container-id-16 div.sk-estimator input.sk-toggleable__control:checked~label.sk-toggleable__label {background-color: #d4ebff;}#sk-container-id-16 div.sk-label input.sk-toggleable__control:checked~label.sk-toggleable__label {background-color: #d4ebff;}#sk-container-id-16 input.sk-hidden--visually {border: 0;clip: rect(1px 1px 1px 1px);clip: rect(1px, 1px, 1px, 1px);height: 1px;margin: -1px;overflow: hidden;padding: 0;position: absolute;width: 1px;}#sk-container-id-16 div.sk-estimator {font-family: monospace;background-color: #f0f8ff;border: 1px dotted black;border-radius: 0.25em;box-sizing: border-box;margin-bottom: 0.5em;}#sk-container-id-16 div.sk-estimator:hover {background-color: #d4ebff;}#sk-container-id-16 div.sk-parallel-item::after {content: \"\";width: 100%;border-bottom: 1px solid gray;flex-grow: 1;}#sk-container-id-16 div.sk-label:hover label.sk-toggleable__label {background-color: #d4ebff;}#sk-container-id-16 div.sk-serial::before {content: \"\";position: absolute;border-left: 1px solid gray;box-sizing: border-box;top: 0;bottom: 0;left: 50%;z-index: 0;}#sk-container-id-16 div.sk-serial {display: flex;flex-direction: column;align-items: center;background-color: white;padding-right: 0.2em;padding-left: 0.2em;position: relative;}#sk-container-id-16 div.sk-item {position: relative;z-index: 1;}#sk-container-id-16 div.sk-parallel {display: flex;align-items: stretch;justify-content: center;background-color: white;position: relative;}#sk-container-id-16 div.sk-item::before, #sk-container-id-16 div.sk-parallel-item::before {content: \"\";position: absolute;border-left: 1px solid gray;box-sizing: border-box;top: 0;bottom: 0;left: 50%;z-index: -1;}#sk-container-id-16 div.sk-parallel-item {display: flex;flex-direction: column;z-index: 1;position: relative;background-color: white;}#sk-container-id-16 div.sk-parallel-item:first-child::after {align-self: flex-end;width: 50%;}#sk-container-id-16 div.sk-parallel-item:last-child::after {align-self: flex-start;width: 50%;}#sk-container-id-16 div.sk-parallel-item:only-child::after {width: 0;}#sk-container-id-16 div.sk-dashed-wrapped {border: 1px dashed gray;margin: 0 0.4em 0.5em 0.4em;box-sizing: border-box;padding-bottom: 0.4em;background-color: white;}#sk-container-id-16 div.sk-label label {font-family: monospace;font-weight: bold;display: inline-block;line-height: 1.2em;}#sk-container-id-16 div.sk-label-container {text-align: center;}#sk-container-id-16 div.sk-container {/* jupyter's `normalize.less` sets `[hidden] { display: none; }` but bootstrap.min.css set `[hidden] { display: none !important; }` so we also need the `!important` here to be able to override the default hidden behavior on the sphinx rendered scikit-learn.org. See: https://github.com/scikit-learn/scikit-learn/issues/21755 */display: inline-block !important;position: relative;}#sk-container-id-16 div.sk-text-repr-fallback {display: none;}</style><div id=\"sk-container-id-16\" class=\"sk-top-container\"><div class=\"sk-text-repr-fallback\"><pre>GridSearchCV(estimator=SVC(),\n",
       "             param_grid={&#x27;C&#x27;: [0.1, 1, 10, 100, 1000],\n",
       "                         &#x27;gamma&#x27;: [1, 0.1, 0.01, 0.001, 0.0001],\n",
       "                         &#x27;kernel&#x27;: [&#x27;rbf&#x27;]},\n",
       "             verbose=3)</pre><b>In a Jupyter environment, please rerun this cell to show the HTML representation or trust the notebook. <br />On GitHub, the HTML representation is unable to render, please try loading this page with nbviewer.org.</b></div><div class=\"sk-container\" hidden><div class=\"sk-item sk-dashed-wrapped\"><div class=\"sk-label-container\"><div class=\"sk-label sk-toggleable\"><input class=\"sk-toggleable__control sk-hidden--visually\" id=\"sk-estimator-id-30\" type=\"checkbox\" ><label for=\"sk-estimator-id-30\" class=\"sk-toggleable__label sk-toggleable__label-arrow\">GridSearchCV</label><div class=\"sk-toggleable__content\"><pre>GridSearchCV(estimator=SVC(),\n",
       "             param_grid={&#x27;C&#x27;: [0.1, 1, 10, 100, 1000],\n",
       "                         &#x27;gamma&#x27;: [1, 0.1, 0.01, 0.001, 0.0001],\n",
       "                         &#x27;kernel&#x27;: [&#x27;rbf&#x27;]},\n",
       "             verbose=3)</pre></div></div></div><div class=\"sk-parallel\"><div class=\"sk-parallel-item\"><div class=\"sk-item\"><div class=\"sk-label-container\"><div class=\"sk-label sk-toggleable\"><input class=\"sk-toggleable__control sk-hidden--visually\" id=\"sk-estimator-id-31\" type=\"checkbox\" ><label for=\"sk-estimator-id-31\" class=\"sk-toggleable__label sk-toggleable__label-arrow\">estimator: SVC</label><div class=\"sk-toggleable__content\"><pre>SVC()</pre></div></div></div><div class=\"sk-serial\"><div class=\"sk-item\"><div class=\"sk-estimator sk-toggleable\"><input class=\"sk-toggleable__control sk-hidden--visually\" id=\"sk-estimator-id-32\" type=\"checkbox\" ><label for=\"sk-estimator-id-32\" class=\"sk-toggleable__label sk-toggleable__label-arrow\">SVC</label><div class=\"sk-toggleable__content\"><pre>SVC()</pre></div></div></div></div></div></div></div></div></div></div>"
      ],
      "text/plain": [
       "GridSearchCV(estimator=SVC(),\n",
       "             param_grid={'C': [0.1, 1, 10, 100, 1000],\n",
       "                         'gamma': [1, 0.1, 0.01, 0.001, 0.0001],\n",
       "                         'kernel': ['rbf']},\n",
       "             verbose=3)"
      ]
     },
     "execution_count": 667,
     "metadata": {},
     "output_type": "execute_result"
    }
   ],
   "source": [
    "# fitting the model for grid search\n",
    "grid.fit(xtrain, ytrain)"
   ]
  },
  {
   "cell_type": "code",
   "execution_count": 668,
   "id": "3aad9044",
   "metadata": {},
   "outputs": [
    {
     "name": "stdout",
     "output_type": "stream",
     "text": [
      "{'C': 1000, 'gamma': 0.1, 'kernel': 'rbf'}\n"
     ]
    }
   ],
   "source": [
    "# print best parameter after tuning\n",
    "print(grid.best_params_)"
   ]
  },
  {
   "cell_type": "code",
   "execution_count": 669,
   "id": "98f76be2",
   "metadata": {},
   "outputs": [
    {
     "name": "stdout",
     "output_type": "stream",
     "text": [
      "SVC(C=1000, gamma=0.1)\n"
     ]
    }
   ],
   "source": [
    "# print how our model looks after hyper-parameter tuning\n",
    "print(grid.best_estimator_)"
   ]
  },
  {
   "cell_type": "code",
   "execution_count": 670,
   "id": "170675af",
   "metadata": {},
   "outputs": [],
   "source": [
    "# calculate the predictions\n",
    "grid_predictions = grid.predict(xtest)"
   ]
  },
  {
   "cell_type": "code",
   "execution_count": 671,
   "id": "4a252b22",
   "metadata": {},
   "outputs": [],
   "source": [
    "combined_df = pd.concat([xtest, ytest], axis=1) \n",
    "combined_df['ypred_best'] = grid_predictions.tolist()\n",
    "combined_df.head()\n",
    "combined_df.to_csv('SVM_pred.csv')"
   ]
  },
  {
   "cell_type": "markdown",
   "id": "a292a0f4",
   "metadata": {},
   "source": [
    "### Model accuracy"
   ]
  },
  {
   "cell_type": "code",
   "execution_count": 672,
   "id": "15e1ee68",
   "metadata": {},
   "outputs": [
    {
     "name": "stdout",
     "output_type": "stream",
     "text": [
      "SVM model accuracy : 88.0% or 0.88\n"
     ]
    }
   ],
   "source": [
    "from sklearn import metrics\n",
    "model_accuracy = metrics.accuracy_score(ytest, grid_predictions)\n",
    "print(f'SVM model accuracy : {round(model_accuracy,2)*100}% or {round(model_accuracy,2)}')"
   ]
  },
  {
   "cell_type": "markdown",
   "id": "3784e29f",
   "metadata": {},
   "source": [
    "### The model accuracy has increased to 88% from 82% after hyper parameter tuning"
   ]
  },
  {
   "cell_type": "markdown",
   "id": "f969e967",
   "metadata": {},
   "source": [
    "### Metrics"
   ]
  },
  {
   "cell_type": "code",
   "execution_count": 673,
   "id": "c2ae5f78",
   "metadata": {},
   "outputs": [
    {
     "name": "stdout",
     "output_type": "stream",
     "text": [
      " F1-Score        :  0.8801\n",
      " Recall Score    :  0.8813\n",
      " Precision Score :  0.879\n"
     ]
    }
   ],
   "source": [
    "from sklearn.metrics import f1_score\n",
    "from sklearn.metrics import recall_score\n",
    "from sklearn.metrics import precision_score\n",
    "print(\" F1-Score        : \" , round(f1_score(ytest,grid_predictions),4))\n",
    "print(\" Recall Score    : \" , round(recall_score(ytest,grid_predictions),4))\n",
    "print(\" Precision Score : \" , round(precision_score(ytest,grid_predictions),4))"
   ]
  },
  {
   "cell_type": "markdown",
   "id": "5547d797",
   "metadata": {},
   "source": [
    "### F1 Score, recall, precision are aslo improved after tuning"
   ]
  },
  {
   "cell_type": "markdown",
   "id": "529fe95d",
   "metadata": {},
   "source": [
    "### Classification matrix"
   ]
  },
  {
   "cell_type": "code",
   "execution_count": 674,
   "id": "15ba7a8f",
   "metadata": {},
   "outputs": [
    {
     "name": "stdout",
     "output_type": "stream",
     "text": [
      "Classification Report\n",
      "\n",
      "              precision    recall  f1-score   support\n",
      "\n",
      "   non-fraud       0.88      0.88      0.88      1862\n",
      "       fraud       0.88      0.88      0.88      1862\n",
      "\n",
      "    accuracy                           0.88      3724\n",
      "   macro avg       0.88      0.88      0.88      3724\n",
      "weighted avg       0.88      0.88      0.88      3724\n",
      "\n"
     ]
    }
   ],
   "source": [
    "from sklearn.metrics import classification_report\n",
    "target_names = ['non-fraud', 'fraud']\n",
    "print( \"Classification Report\")\n",
    "print()\n",
    "print(classification_report(ytest,grid_predictions,target_names=target_names))"
   ]
  },
  {
   "cell_type": "code",
   "execution_count": 675,
   "id": "a7f63485",
   "metadata": {},
   "outputs": [
    {
     "name": "stdout",
     "output_type": "stream",
     "text": [
      " Log loss / Cost function : 4.146\n"
     ]
    }
   ],
   "source": [
    "# log loss of cost function\n",
    "from sklearn import metrics\n",
    "print(f' Log loss / Cost function : {round(metrics.log_loss(ytest, grid_predictions), 3)}')"
   ]
  },
  {
   "cell_type": "code",
   "execution_count": 676,
   "id": "6f152e2c",
   "metadata": {},
   "outputs": [
    {
     "name": "stdout",
     "output_type": "stream",
     "text": [
      "\n"
     ]
    },
    {
     "data": {
      "image/png": "[encoded data removed]",
      "text/plain": [
       "<Figure size 500x500 with 2 Axes>"
      ]
     },
     "metadata": {},
     "output_type": "display_data"
    }
   ],
   "source": [
    "from sklearn.metrics import confusion_matrix\n",
    "cm=confusion_matrix(ytest,grid_predictions)\n",
    "cm\n",
    "conf_matrix=pd.DataFrame(data=cm,columns=['Predicted:0','Predicted:1'],index=['Actual:0','Actual:1'])\n",
    "\n",
    "plt.figure(figsize = (5,5))\n",
    "plt.title(\" Confusion Matrix \\n\")\n",
    "print()\n",
    "sns.heatmap(conf_matrix, annot=True,fmt='d',cmap=\"YlGnBu\");"
   ]
  },
  {
   "cell_type": "markdown",
   "id": "f99340a8",
   "metadata": {},
   "source": [
    "### ROC Curve"
   ]
  },
  {
   "cell_type": "code",
   "execution_count": 677,
   "id": "75210b97",
   "metadata": {},
   "outputs": [
    {
     "name": "stdout",
     "output_type": "stream",
     "text": [
      "\n"
     ]
    },
    {
     "data": {
      "image/png": "[encoded data removed]",
      "text/plain": [
       "<Figure size 400x400 with 1 Axes>"
      ]
     },
     "metadata": {},
     "output_type": "display_data"
    }
   ],
   "source": [
    "#define metrics\n",
    "ns_probs = [0 for _ in range(len(ytest))]\n",
    "#ns_auc = roc_auc_score(y3test, ns_probs)\n",
    "y_pred_prob=clf.predict_proba(xtest)[:,1]\n",
    "fpr, tpr, _ = metrics.roc_curve(ytest,  y_pred_prob)\n",
    "ns_fpr, ns_tpr, _ = metrics.roc_curve(ytest, ns_probs)\n",
    "#create ROC curve\n",
    "plt.figure(figsize =(4,4))\n",
    "#plt.plot(fpr,tpr)\n",
    "plt.plot(ns_fpr, ns_tpr, linestyle='--')\n",
    "plt.plot(fpr,tpr, color='orange', marker='.', linestyle='--',linewidth=2, markersize=1,label='logistic' )\n",
    "plt.title('ROC - Curve for Fraud Classifier')\n",
    "plt.legend()\n",
    "print()\n",
    "plt.ylabel('True Positive Rate')\n",
    "plt.xlabel('False Positive Rate')\n",
    "plt.show()"
   ]
  },
  {
   "cell_type": "markdown",
   "id": "a287b961",
   "metadata": {},
   "source": [
    "### AUC Curve"
   ]
  },
  {
   "cell_type": "code",
   "execution_count": 678,
   "id": "0417d3ea",
   "metadata": {},
   "outputs": [
    {
     "data": {
      "image/png": "[encoded data removed]",
      "text/plain": [
       "<Figure size 400x400 with 1 Axes>"
      ]
     },
     "metadata": {},
     "output_type": "display_data"
    }
   ],
   "source": [
    "#define metrics\n",
    "\n",
    "fpr, tpr, _ = metrics.roc_curve(ytest,  y_pred_prob)\n",
    "auc = metrics.roc_auc_score(ytest, y_pred_prob)\n",
    "\n",
    "#create ROC curve\n",
    "plt.figure(figsize =(4,4))\n",
    "plt.title('AUC')\n",
    "plt.plot(fpr,tpr,label=\"AUC=\"+str(round(auc,4)),color='orange',  linestyle='dashed',linewidth=2, markersize=1)\n",
    "plt.ylabel('True Positive Rate')\n",
    "plt.xlabel('False Positive Rate')\n",
    "plt.legend(loc=4)\n",
    "plt.show()"
   ]
  },
  {
   "cell_type": "markdown",
   "id": "e08769e9",
   "metadata": {},
   "source": [
    "### Overall,the model has given better accuracy after hyper parameter tuning."
   ]
  }
 ],
 "metadata": {
  "colab": {
   "provenance": []
  },
  "kernelspec": {
   "display_name": "Python 3 (ipykernel)",
   "language": "python",
   "name": "python3"
  },
  "language_info": {
   "codemirror_mode": {
    "name": "ipython",
    "version": 3
   },
   "file_extension": ".py",
   "mimetype": "text/x-python",
   "name": "python",
   "nbconvert_exporter": "python",
   "pygments_lexer": "ipython3",
   "version": "3.9.12"
  }
 },
 "nbformat": 4,
 "nbformat_minor": 5
}
